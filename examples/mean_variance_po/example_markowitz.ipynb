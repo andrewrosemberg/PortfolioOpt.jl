{
 "cells": [
  {
   "cell_type": "markdown",
   "id": "5b2c0c4f",
   "metadata": {},
   "source": [
    "# Example Markowitz"
   ]
  },
  {
   "cell_type": "markdown",
   "id": "49b5f070",
   "metadata": {},
   "source": [
    "## Empirical Forecast\n",
    "### Example of backtest with Mean-Variance strategy with a simple empirical forecaster"
   ]
  },
  {
   "cell_type": "code",
   "execution_count": 1,
   "id": "96716b1f",
   "metadata": {},
   "outputs": [
    {
     "name": "stderr",
     "output_type": "stream",
     "text": [
      "\u001b[32m\u001b[1m  Activating\u001b[22m\u001b[39m project at `~/Workspace/PortfolioOpt/examples/mean_variance_po`\n"
     ]
    }
   ],
   "source": [
    "using Pkg\n",
    "Pkg.activate(@__DIR__)"
   ]
  },
  {
   "cell_type": "code",
   "execution_count": 2,
   "id": "7bc7a4eb",
   "metadata": {},
   "outputs": [],
   "source": [
    "using COSMO\n",
    "using Distributions\n",
    "using Plots\n",
    "using Plots.PlotMeasures\n",
    "using PortfolioOpt\n",
    "using PortfolioOpt.TestUtils"
   ]
  },
  {
   "cell_type": "code",
   "execution_count": null,
   "id": "74e4e0e2",
   "metadata": {},
   "outputs": [],
   "source": [
    "# Read Prices\n",
    "prices = get_test_data();\n",
    "numD, numA = size(prices) # A: Assets    D: Days\n",
    "\n",
    "# Calculating returns\n",
    "returns_series = percentchange(prices);\n",
    "\n",
    "day2float(day) = float(parse(Int, (replace(replace(string(day), \" day\" => \"\"), \"s\" => \"\"))))\n",
    "\n",
    "plot_dates = timestamp(returns_series)[1:120];\n",
    "train_dates = plot_dates[1:99];\n",
    "test_dates = plot_dates[100:end];\n",
    "all_days = plot_dates - minimum(plot_dates);\n",
    "x_plot = day2float.(all_days);\n",
    "x_train = x_plot[1:99];\n",
    "x_test = x_plot[100:end];\n",
    "y_train = values(returns_series[plot_dates[1:99]]);\n",
    "y_test = values(returns_series[plot_dates[100:end]]);\n",
    "\n",
    "# normalise the observations\n",
    "ymean = mean(y_train);\n",
    "ystd = std(y_train);\n",
    "y_train_norm = (y_train .- ymean) ./ ystd;\n",
    "\n",
    "# Backtest Parameters\n",
    "DEFAULT_SOLVER = optimizer_with_attributes(\n",
    "    COSMO.Optimizer, \"verbose\" => false, \"max_iter\" => 900000\n",
    ")\n",
    "\n",
    "date_range = timestamp(returns_series)[100:end];\n",
    "\n",
    "# Backtest\n",
    "backtest_results = Dict()\n",
    "backtest_results[\"EP_markowitz_limit_var\"], _ = sequential_backtest_market(\n",
    "    VolumeMarketHistory(returns_series), date_range,\n",
    ") do market, past_returns, ext\n",
    "\n",
    "    # println(\"backtest day \", ext[:date])\n",
    "\n",
    "    # Parameters\n",
    "    max_std = 0.003 / market_budget(market)\n",
    "    k_back = 60\n",
    "\n",
    "    # Prep\n",
    "    numD, numA = size(past_returns)\n",
    "    returns = values(past_returns)\n",
    "\n",
    "    # Forecast\n",
    "    Σ, r̄ = mean_variance(returns[(end - k_back):end, :])\n",
    "    d = MvNormal(r̄, Σ)\n",
    "\n",
    "    # PO Formulation\n",
    "    formulation = PortfolioFormulation(MAX_SENSE,\n",
    "        ObjectiveTerm(ExpectedReturn(d)),\n",
    "        RiskConstraint(SqrtVariance(d), LessThan(max_std)),\n",
    "    )\n",
    "\n",
    "    pointers = change_bids!(market, formulation, DEFAULT_SOLVER)\n",
    "    return pointers\n",
    "end;"
   ]
  },
  {
   "cell_type": "markdown",
   "id": "c80fcb6c",
   "metadata": {},
   "source": [
    "## GP Forecast\n",
    "### First we train the forecaster offline\n",
    "Note that the chosen kernel is not well suited to this task, so this is not really a fair comparison"
   ]
  },
  {
   "cell_type": "code",
   "execution_count": null,
   "id": "c607f472",
   "metadata": {},
   "outputs": [],
   "source": [
    "# Load our GP-related packages.\n",
    "using AbstractGPs\n",
    "using KernelFunctions\n",
    "using LinearMixingModels\n",
    "using LinearAlgebra\n",
    "using KernelFunctions: MOInputIsotopicByOutputs\n",
    "using Optim # Standard optimisation algorithms.\n",
    "using ParameterHandling # Helper functionality for dealing with model parameters.\n",
    "# using Zygote # Algorithmic Differentiation\n",
    "using ForwardDiff\n",
    "using ParameterHandling: flatten\n",
    "using PrincipledRisk\n",
    "using FactorisedDistributions\n",
    "using Flux\n",
    "\n",
    "\n",
    "# Prep forecaster\n",
    "num_latent_variables = 3\n",
    "U, S, _ = svd(rand(numA, num_latent_variables));\n",
    "\n",
    "period = 7.0  # assume weekly periodicity\n",
    "len_init = period * 5.0\n",
    "period_len_init = 0.5\n",
    "\n",
    "flat_initial_params, unflatten = flatten((\n",
    "    len = positive(len_init),\n",
    "    period_len = positive(period_len_init),  # bound this param to prevent numerical errors\n",
    "    var_noise = positive(0.1),\n",
    "    H = Matrix(Orthogonal(U, Diagonal(S)))\n",
    "))\n",
    "\n",
    "# Construct a function to unpack flattened parameters and pull out the raw values.\n",
    "unpack = ParameterHandling.value ∘ unflatten\n",
    "params = unpack(flat_initial_params)\n",
    "\n",
    "# TODO: our desired kernel doesn't work with LinearMixingModels, raise an issue\n",
    "function build_gp(θ)\n",
    "    k_maper = compose(MAPeriodicKernel(; r=[θ.period_len]), ScaleTransform(1 / period))\n",
    "    k_rq = with_lengthscale(RationalQuadraticKernel(), θ.len)\n",
    "    sogp = GP(k_rq * k_maper)\n",
    "    latent_gp = independent_mogp([sogp for _ in 1:num_latent_variables]);\n",
    "    return ILMM(latent_gp, θ.H);\n",
    "end\n",
    "\n",
    "x_train_gp = MOInputIsotopicByOutputs(x_train, numA);\n",
    "y_train_gp = vec(y_train_norm);\n",
    "\n",
    "function objective(θ)\n",
    "    ilmm = build_gp(θ)\n",
    "    return -logpdf(ilmm(x_train_gp, θ.var_noise), y_train_gp)\n",
    "end\n",
    "\n",
    "objective(params)\n",
    "\n",
    "# Optimise using Optim.\n",
    "training_results = Optim.optimize(\n",
    "    objective ∘ unpack,\n",
    "    # θ -> only(Zygote.gradient(objective ∘ unpack, θ)),\n",
    "    θ -> ForwardDiff.gradient(objective ∘ unpack, θ),\n",
    "    flat_initial_params,\n",
    "    BFGS(\n",
    "        alphaguess = Optim.LineSearches.InitialStatic(scaled=true),\n",
    "        linesearch = Optim.LineSearches.BackTracking(),\n",
    "    ),\n",
    "    Optim.Options(show_trace = true, iterations=50);\n",
    "    inplace=false,\n",
    ")\n",
    "\n",
    "# Extracting the final values of the parameters.\n",
    "# Should be close to truth.\n",
    "final_params = unpack(training_results.minimizer);\n",
    "\n",
    "# Test Predict\n",
    "x_plot_gp = MOInputIsotopicByOutputs(x_plot, numA);\n",
    "# x_test_gp = MOInputIsotopicByOutputs(x_test, numA);\n",
    "\n",
    "ilmm = build_gp(final_params);\n",
    "# TODO: it is unclear whether var_noise should be included at both steps here\n",
    "ilmmx = ilmm(x_train_gp, final_params.var_noise);\n",
    "p_ilmmx = posterior(ilmmx, y_train_gp);\n",
    "p_i = p_ilmmx(x_plot_gp, final_params.var_noise);  # TODO: check whether obs noise needs to be injected here\n",
    "marg_pi = marginals(p_i);\n",
    "\n",
    "# un-normalise the predictions\n",
    "marg_pi_unnorm = marg_pi .* ystd .+ ymean;"
   ]
  },
  {
   "cell_type": "code",
   "execution_count": null,
   "id": "e4933d12",
   "metadata": {},
   "outputs": [],
   "source": [
    "xmin = minimum(plot_dates);\n",
    "xmax = maximum(plot_dates);\n",
    "num_plot = length(plot_dates);\n",
    "plt = Array{Any}(undef, numA);\n",
    "for i=1:numA\n",
    "    plt[i] = scatter(train_dates, y_train[:, i]; label = \"Train Data $i\", size=(900, 700), Title=\"Asset $i\");\n",
    "    plot!(plt[i], plot_dates, mean.(marg_pi_unnorm[num_plot*(i-1)+1:num_plot*(i)]); ribbon=std.(marg_pi_unnorm[num_plot*(i-1)+1:num_plot*(i)]), label = \"Forecast $i\", xlims=(xmin, xmax));\n",
    "    scatter!(plt[i], test_dates, y_test[:, i]; label = \"Test Data $i\")\n",
    "end\n",
    "plot(plt..., size=(950, 600), xrotation = 15)"
   ]
  },
  {
   "cell_type": "markdown",
   "id": "2f82ee03",
   "metadata": {},
   "source": [
    "### Now we run a backtest"
   ]
  },
  {
   "cell_type": "code",
   "execution_count": null,
   "id": "76eb29c9",
   "metadata": {},
   "outputs": [],
   "source": [
    "backtest_results[\"GP_markowitz_limit_var\"], _ = sequential_backtest_market(\n",
    "    VolumeMarketHistory(returns_series), date_range,\n",
    ") do market, past_returns, ext\n",
    "\n",
    "    # println(\"backtest day \", ext[:date])\n",
    "\n",
    "    # Parameters\n",
    "    max_std = 0.003 / market_budget(market)\n",
    "    k_back = 60\n",
    "\n",
    "    # Prep\n",
    "    numD, numA = size(past_returns)\n",
    "\n",
    "    # Forecast\n",
    "    dates_for_training = timestamp(past_returns)[end-k_back:end]\n",
    "    days_for_training = dates_for_training - minimum(dates_for_training)\n",
    "    day_for_test = ext[:date] - minimum(dates_for_training)\n",
    "    x_train_gp = MOInputIsotopicByOutputs(day2float.(days_for_training), numA)\n",
    "    x_test_gp = MOInputIsotopicByOutputs([day2float(day_for_test)], numA)\n",
    "    y_train = values(past_returns[dates_for_training])\n",
    "    y_train_gp = vec((y_train .- ymean) ./ ystd)  # normalise the observations\n",
    "\n",
    "    ilmm = build_gp(final_params)\n",
    "    # TODO: it is unclear whether var_noise should be included at both steps here\n",
    "    ilmmx = ilmm(x_train_gp, final_params.var_noise)\n",
    "    p_ilmmx = posterior(ilmmx, y_train_gp)\n",
    "    d = p_ilmmx(x_test_gp, final_params.var_noise)\n",
    "    # un-normalise the predictions\n",
    "    r̄ = mean(d) .* ystd .+ ymean\n",
    "    Σ = cov(d) .* ystd^2\n",
    "    d = MvNormal(r̄, Σ)\n",
    "\n",
    "    # # PO Formulation\n",
    "    formulation = PortfolioFormulation(MAX_SENSE,\n",
    "        ObjectiveTerm(ExpectedReturn(d)),\n",
    "        RiskConstraint(SqrtVariance(d), LessThan(max_std)),\n",
    "    )\n",
    "\n",
    "    pointers = change_bids!(market, formulation, DEFAULT_SOLVER)\n",
    "    return pointers\n",
    "end;"
   ]
  },
  {
   "cell_type": "markdown",
   "id": "61182706",
   "metadata": {},
   "source": [
    "## GPRN Forecast\n",
    "### First we train the forecaster offline"
   ]
  },
  {
   "cell_type": "code",
   "execution_count": null,
   "id": "422edeb8",
   "metadata": {},
   "outputs": [],
   "source": [
    "num_latents = num_latent_variables + numA * num_latent_variables;\n",
    "num_weights = num_latents-num_latent_variables;\n",
    "\n",
    "# define the likelihood model:\n",
    "likelihood(θ) = GPRNLikelihood(numA, num_latent_variables, θ.output_noise_scale, θ.latent_noise_scale)\n",
    "\n",
    "# TODO: how should we initialise?\n",
    "len_latent_init = period * 5.0\n",
    "len_weight_init = period * 10.0  # the mixing weights should vary more slowly\n",
    "period_len_latent_init = 0.5\n",
    "period_len_weight_init = 2.0\n",
    "\n",
    "θ_latents = (;  # hyperparameters for the GP prior latent factors\n",
    "    len=positive(len_latent_init),\n",
    "    period_len=positive(period_len_latent_init),\n",
    ");\n",
    "\n",
    "θ_weights = (;  # hyperparameters for the GP prior weight factors\n",
    "    len=positive(len_weight_init),\n",
    "    period_len=positive(period_len_weight_init),\n",
    ");\n",
    "\n",
    "θ_lik = (;  # hyperparameters for the likelihood model\n",
    "    output_noise_scale=positive.(0.1ones(numA)),\n",
    "    latent_noise_scale=positive.(0.25ones(num_latent_variables)),\n",
    ");\n",
    "\n",
    "θ_init = (;  # all hyperparameters\n",
    "    factors = vcat(\n",
    "        repeat([θ_latents], num_latent_variables),\n",
    "        repeat([θ_weights], num_weights),\n",
    "    ),\n",
    "    lik = θ_lik\n",
    ");\n",
    "\n",
    "\n",
    "function kernel(θ)\n",
    "    k_maper = compose(MAPeriodicKernel(; r=[θ.period_len]), ScaleTransform(1 / period))\n",
    "    k_rq = with_lengthscale(RationalQuadraticKernel(), θ.len)\n",
    "    return k_rq * k_maper\n",
    "end\n",
    "\n",
    "gp_model = UnevaluatedLatentFactorisedGP(\n",
    "    repeat([UnevaluatedGP(kernel)], num_latents),\n",
    "    likelihood\n",
    ")\n",
    "\n",
    "\n",
    "function hyperprior(θ)\n",
    "    \"\"\" a Gaussian prior over the kernel lengthscales \"\"\"\n",
    "    lens = map(f -> f.len, θ.factors)\n",
    "    period_lens = map(f -> f.period_len, θ.factors)\n",
    "    lprior = MvNormal(\n",
    "        vcat(len_latent_init*ones(num_latent_variables), len_weight_init*ones(num_weights)),\n",
    "        Diagonal(vcat(20.0ones(num_latent_variables), 40.0ones(num_weights)))\n",
    "        )\n",
    "    plprior = MvNormal(\n",
    "        vcat(period_len_latent_init*ones(num_latent_variables), period_len_weight_init*ones(num_weights)),\n",
    "        Diagonal(vcat(1.0ones(num_latent_variables), 1.0ones(num_weights)))\n",
    "        )\n",
    "    return logpdf(lprior, lens) + logpdf(plprior, period_lens)\n",
    "end\n",
    "\n",
    "y_train_gprn = RowVecs(y_train_norm);\n",
    "\n",
    "println(\"training model...\")\n",
    "lr_newton = 0.3;\n",
    "lr_adam = 0.05;\n",
    "num_iters = 50;\n",
    "opt = ADAM(lr_adam);\n",
    "cubature = Unscented3rdOrder(num_latents);\n",
    "post, θ_opt = train(\n",
    "    x_train,\n",
    "    y_train_gprn,\n",
    "    gp_model,\n",
    "    θ_init,\n",
    "    num_iters,\n",
    "    lr_newton,\n",
    "    opt,\n",
    "    cubature,\n",
    "    hyperprior\n",
    ");\n",
    "# println(ParameterHandling.value(θ))\n",
    "\n",
    "marginal_posterior_predictive = predict_in_data_space(post, x_plot, cubature);\n",
    "marg_mean = vecvec_to_matrix(mean.(marginal_posterior_predictive));\n",
    "marg_std = vecvec_to_matrix((diag.(cov.(marginal_posterior_predictive)))) .^ 0.5;\n",
    "\n",
    "# un-normalise the predictions\n",
    "marg_mean_unnorm = marg_mean .* ystd .+ ymean;\n",
    "marg_std_unnorm = marg_std .* ystd;"
   ]
  },
  {
   "cell_type": "code",
   "execution_count": null,
   "id": "3677bcf1",
   "metadata": {},
   "outputs": [],
   "source": [
    "plt = Array{Any}(undef, numA);\n",
    "for i=1:numA\n",
    "    plt[i] = scatter(train_dates, y_train[:, i]; label = \"Train Data $i\", size=(900, 700), Title=\"Asset $i\");\n",
    "    plot!(plt[i], plot_dates, marg_mean_unnorm[:, i]; ribbon=marg_std_unnorm[:, i], label = \"Forecast $i\", xlims=(xmin, xmax));\n",
    "    scatter!(plt[i], test_dates, y_test[:, i]; label = \"Test Data $i\")\n",
    "end\n",
    "plot(plt..., size=(950, 600), xrotation = 15)"
   ]
  },
  {
   "cell_type": "markdown",
   "id": "c16844cb",
   "metadata": {},
   "source": [
    "### We can also measure the uncertainty in the noise covariance"
   ]
  },
  {
   "cell_type": "code",
   "execution_count": null,
   "id": "48c6874c",
   "metadata": {},
   "outputs": [],
   "source": [
    "# function sample_noise_cov(p, latent_prediction::AbstractMvNormal, num_samps)\n",
    "#     predsamp = rand.(repeat([latent_prediction], num_samps))\n",
    "#     moments = conditional_moments.((p.prior.lik, ), predsamp)\n",
    "#     secondmoment = map(m -> m[3], moments)\n",
    "#     return secondmoment\n",
    "# end\n",
    "\n",
    "# sample_noise_cov(p, latent_prediction::AbstractVector{<:AbstractMvNormal}, num_samps) = sample_noise_cov.((p, ), latent_prediction, (num_samps, ))\n",
    "\n",
    "function sample_cov(p, latent_prediction::AbstractMvNormal, num_samps)\n",
    "    l = p.prior.lik\n",
    "    predsamp = rand.(repeat([latent_prediction], num_samps))\n",
    "    # the following is based on the specific form of the GPRNLikelihood from PrincipledRisk.jl\n",
    "    F_cov = cov(latent_prediction)[1:l.latent_dim, 1:l.latent_dim] + Diagonal(l.latent_noise_scale)\n",
    "    W_samp = map(p -> p[l.latent_dim+1:end] .+ l.additive_const, predsamp)  # sample the weights\n",
    "    W_samp = reshape.(W_samp, l.output_dim, l.latent_dim)\n",
    "    sample_cov = W_samp .* (F_cov, ) .* transpose.(W_samp) .+ (Diagonal(l.output_noise_scale), )\n",
    "    return sample_cov\n",
    "end\n",
    "\n",
    "sample_cov(p, latent_prediction::AbstractVector{<:AbstractMvNormal}, num_samps) = sample_cov.((p, ), latent_prediction, (num_samps, ))\n",
    "\n",
    "\n",
    "# measure the uncertainty in the noise covariance at a single test point\n",
    "test_pred = predict_in_data_space(post, x_test[1:1], cubature);\n",
    "testcov_unnorm = cov(only(test_pred)) .* ystd^2;\n",
    "latent_predict = predict(post, x_test[1:1]);\n",
    "s_cov = sample_cov(post, latent_predict, 5000);\n",
    "s_cov_unnorm = s_cov .* ystd^2;\n",
    "# cov_mean = mean.(s_cov_unnorm);\n",
    "cov_std = std.(s_cov_unnorm);\n",
    "\n",
    "Matisless(cov_1,cov_2) = minimum(eigvals(cov_2 .- cov_1))>=0\n",
    "λ2 = (1:0.1:20)[findfirst((λ) -> all([Matisless(cov_aux, testcov_unnorm * λ) for cov_aux in s_cov_unnorm[1]]), 1:0.1:20)]\n",
    "biggest_cov = testcov_unnorm * λ2\n",
    "\n",
    "p1 = heatmap(testcov_unnorm, title=\"Predictive Covariance\");\n",
    "p2 = heatmap(only(cov_std), title=\"std of Predictive Covariance\");\n",
    "p3 = heatmap(biggest_cov, title=\"SDP UB of Predictive Covariance\");\n",
    "plot(p1, p2, p3, size=(900, 350))"
   ]
  },
  {
   "cell_type": "markdown",
   "id": "44ac0135",
   "metadata": {},
   "source": [
    "### Now run a backtest with the GPRN forecaster\n",
    "This involves re-fitting the variational parameters every time, so takes longer than the previous backtests"
   ]
  },
  {
   "cell_type": "code",
   "execution_count": 40,
   "id": "44a8794e",
   "metadata": {},
   "outputs": [
    {
     "name": "stderr",
     "output_type": "stream",
     "text": [
      "\r\u001b[32mComputing...   1%|▍                                      |  ETA: 0:19:35\u001b[39m\u001b[K"
     ]
    },
    {
     "name": "stderr",
     "output_type": "stream",
     "text": [
      "\r\u001b[32mComputing...   1%|▌                                      |  ETA: 0:18:40\u001b[39m\u001b[K"
     ]
    },
    {
     "name": "stderr",
     "output_type": "stream",
     "text": [
      "\r\u001b[32mComputing...   2%|▊                                      |  ETA: 0:18:17\u001b[39m\u001b[K"
     ]
    },
    {
     "name": "stderr",
     "output_type": "stream",
     "text": [
      "\r\u001b[32mComputing...   2%|▉                                      |  ETA: 0:18:03\u001b[39m\u001b[K"
     ]
    },
    {
     "name": "stderr",
     "output_type": "stream",
     "text": [
      "\r\u001b[32mComputing...   3%|█▏                                     |  ETA: 0:18:01\u001b[39m\u001b[K"
     ]
    },
    {
     "name": "stderr",
     "output_type": "stream",
     "text": [
      "\r\u001b[32mComputing...   3%|█▎                                     |  ETA: 0:17:50\u001b[39m\u001b[K"
     ]
    },
    {
     "name": "stderr",
     "output_type": "stream",
     "text": [
      "\r\u001b[32mComputing...   4%|█▌                                     |  ETA: 0:17:38\u001b[39m\u001b[K"
     ]
    },
    {
     "name": "stderr",
     "output_type": "stream",
     "text": [
      "\r\u001b[32mComputing...   4%|█▋                                     |  ETA: 0:17:27\u001b[39m\u001b[K"
     ]
    },
    {
     "name": "stderr",
     "output_type": "stream",
     "text": [
      "\r\u001b[32mComputing...   5%|█▊                                     |  ETA: 0:17:16\u001b[39m\u001b[K"
     ]
    },
    {
     "name": "stderr",
     "output_type": "stream",
     "text": [
      "\r\u001b[32mComputing...   5%|██                                     |  ETA: 0:17:03\u001b[39m\u001b[K"
     ]
    },
    {
     "name": "stderr",
     "output_type": "stream",
     "text": [
      "\r\u001b[32mComputing...   6%|██▏                                    |  ETA: 0:16:52\u001b[39m\u001b[K"
     ]
    },
    {
     "name": "stderr",
     "output_type": "stream",
     "text": [
      "\r\u001b[32mComputing...   6%|██▍                                    |  ETA: 0:16:42\u001b[39m\u001b[K"
     ]
    },
    {
     "name": "stderr",
     "output_type": "stream",
     "text": [
      "\r\u001b[32mComputing...   6%|██▌                                    |  ETA: 0:16:36\u001b[39m\u001b[K"
     ]
    },
    {
     "name": "stderr",
     "output_type": "stream",
     "text": [
      "\r\u001b[32mComputing...   7%|██▊                                    |  ETA: 0:16:31\u001b[39m\u001b[K"
     ]
    },
    {
     "name": "stderr",
     "output_type": "stream",
     "text": [
      "\r\u001b[32mComputing...   7%|██▉                                    |  ETA: 0:16:26\u001b[39m\u001b[K"
     ]
    },
    {
     "name": "stderr",
     "output_type": "stream",
     "text": [
      "\r\u001b[32mComputing...   8%|███▏                                   |  ETA: 0:16:20\u001b[39m\u001b[K"
     ]
    },
    {
     "name": "stderr",
     "output_type": "stream",
     "text": [
      "\r\u001b[32mComputing...   8%|███▎                                   |  ETA: 0:16:13\u001b[39m\u001b[K"
     ]
    },
    {
     "name": "stderr",
     "output_type": "stream",
     "text": [
      "\r\u001b[32mComputing...   9%|███▍                                   |  ETA: 0:16:06\u001b[39m\u001b[K"
     ]
    },
    {
     "name": "stderr",
     "output_type": "stream",
     "text": [
      "\r\u001b[32mComputing...   9%|███▋                                   |  ETA: 0:15:59\u001b[39m\u001b[K"
     ]
    },
    {
     "name": "stderr",
     "output_type": "stream",
     "text": [
      "\r\u001b[32mComputing...  10%|███▊                                   |  ETA: 0:15:52\u001b[39m\u001b[K"
     ]
    },
    {
     "name": "stderr",
     "output_type": "stream",
     "text": [
      "\r\u001b[32mComputing...  10%|████                                   |  ETA: 0:15:44\u001b[39m\u001b[K"
     ]
    },
    {
     "name": "stderr",
     "output_type": "stream",
     "text": [
      "\r\u001b[32mComputing...  11%|████▏                                  |  ETA: 0:15:36\u001b[39m\u001b[K"
     ]
    },
    {
     "name": "stderr",
     "output_type": "stream",
     "text": [
      "\r\u001b[32mComputing...  11%|████▍                                  |  ETA: 0:15:29\u001b[39m\u001b[K"
     ]
    },
    {
     "name": "stderr",
     "output_type": "stream",
     "text": [
      "\r\u001b[32mComputing...  12%|████▌                                  |  ETA: 0:15:29\u001b[39m\u001b[K"
     ]
    },
    {
     "name": "stderr",
     "output_type": "stream",
     "text": [
      "\r\u001b[32mComputing...  12%|████▊                                  |  ETA: 0:15:21\u001b[39m\u001b[K"
     ]
    },
    {
     "name": "stderr",
     "output_type": "stream",
     "text": [
      "\r\u001b[32mComputing...  12%|████▉                                  |  ETA: 0:15:13\u001b[39m\u001b[K"
     ]
    },
    {
     "name": "stderr",
     "output_type": "stream",
     "text": [
      "\r\u001b[32mComputing...  13%|█████                                  |  ETA: 0:15:06\u001b[39m\u001b[K"
     ]
    },
    {
     "name": "stderr",
     "output_type": "stream",
     "text": [
      "\r\u001b[32mComputing...  13%|█████▎                                 |  ETA: 0:14:59\u001b[39m\u001b[K"
     ]
    },
    {
     "name": "stderr",
     "output_type": "stream",
     "text": [
      "\r\u001b[32mComputing...  14%|█████▍                                 |  ETA: 0:14:52\u001b[39m\u001b[K"
     ]
    },
    {
     "name": "stderr",
     "output_type": "stream",
     "text": [
      "\r\u001b[32mComputing...  14%|█████▋                                 |  ETA: 0:14:45\u001b[39m\u001b[K"
     ]
    },
    {
     "name": "stderr",
     "output_type": "stream",
     "text": [
      "\r\u001b[32mComputing...  15%|█████▊                                 |  ETA: 0:14:39\u001b[39m\u001b[K"
     ]
    },
    {
     "name": "stderr",
     "output_type": "stream",
     "text": [
      "\r\u001b[32mComputing...  15%|██████                                 |  ETA: 0:14:32\u001b[39m\u001b[K"
     ]
    },
    {
     "name": "stderr",
     "output_type": "stream",
     "text": [
      "\r\u001b[32mComputing...  16%|██████▏                                |  ETA: 0:14:26\u001b[39m\u001b[K"
     ]
    },
    {
     "name": "stderr",
     "output_type": "stream",
     "text": [
      "\r\u001b[32mComputing...  16%|██████▍                                |  ETA: 0:14:22\u001b[39m\u001b[K"
     ]
    },
    {
     "name": "stderr",
     "output_type": "stream",
     "text": [
      "\r\u001b[32mComputing...  17%|██████▌                                |  ETA: 0:14:16\u001b[39m\u001b[K"
     ]
    },
    {
     "name": "stderr",
     "output_type": "stream",
     "text": [
      "\r\u001b[32mComputing...  17%|██████▋                                |  ETA: 0:14:09\u001b[39m\u001b[K"
     ]
    },
    {
     "name": "stderr",
     "output_type": "stream",
     "text": [
      "\r\u001b[32mComputing...  18%|██████▉                                |  ETA: 0:14:04\u001b[39m\u001b[K"
     ]
    },
    {
     "name": "stderr",
     "output_type": "stream",
     "text": [
      "\r\u001b[32mComputing...  18%|███████                                |  ETA: 0:13:58\u001b[39m\u001b[K"
     ]
    },
    {
     "name": "stderr",
     "output_type": "stream",
     "text": [
      "\r\u001b[32mComputing...  19%|███████▎                               |  ETA: 0:13:53\u001b[39m\u001b[K"
     ]
    },
    {
     "name": "stderr",
     "output_type": "stream",
     "text": [
      "\r\u001b[32mComputing...  19%|███████▍                               |  ETA: 0:13:48\u001b[39m\u001b[K"
     ]
    },
    {
     "name": "stderr",
     "output_type": "stream",
     "text": [
      "\r\u001b[32mComputing...  19%|███████▋                               |  ETA: 0:13:42\u001b[39m\u001b[K"
     ]
    },
    {
     "name": "stderr",
     "output_type": "stream",
     "text": [
      "\r\u001b[32mComputing...  20%|███████▊                               |  ETA: 0:13:36\u001b[39m\u001b[K"
     ]
    },
    {
     "name": "stderr",
     "output_type": "stream",
     "text": [
      "\r\u001b[32mComputing...  20%|████████                               |  ETA: 0:13:31\u001b[39m\u001b[K"
     ]
    },
    {
     "name": "stderr",
     "output_type": "stream",
     "text": [
      "\r\u001b[32mComputing...  21%|████████▏                              |  ETA: 0:13:25\u001b[39m\u001b[K"
     ]
    },
    {
     "name": "stderr",
     "output_type": "stream",
     "text": [
      "\r\u001b[32mComputing...  21%|████████▎                              |  ETA: 0:13:20\u001b[39m\u001b[K"
     ]
    },
    {
     "name": "stderr",
     "output_type": "stream",
     "text": [
      "\r\u001b[32mComputing...  22%|████████▌                              |  ETA: 0:13:14\u001b[39m\u001b[K"
     ]
    },
    {
     "name": "stderr",
     "output_type": "stream",
     "text": [
      "\r\u001b[32mComputing...  22%|████████▋                              |  ETA: 0:13:09\u001b[39m\u001b[K"
     ]
    },
    {
     "name": "stderr",
     "output_type": "stream",
     "text": [
      "\r\u001b[32mComputing...  23%|████████▉                              |  ETA: 0:13:03\u001b[39m\u001b[K"
     ]
    },
    {
     "name": "stderr",
     "output_type": "stream",
     "text": [
      "\r\u001b[32mComputing...  23%|█████████                              |  ETA: 0:12:57\u001b[39m\u001b[K"
     ]
    },
    {
     "name": "stderr",
     "output_type": "stream",
     "text": [
      "\r\u001b[32mComputing...  24%|█████████▎                             |  ETA: 0:12:52\u001b[39m\u001b[K"
     ]
    },
    {
     "name": "stderr",
     "output_type": "stream",
     "text": [
      "\r\u001b[32mComputing...  24%|█████████▍                             |  ETA: 0:12:46\u001b[39m\u001b[K"
     ]
    },
    {
     "name": "stderr",
     "output_type": "stream",
     "text": [
      "\r\u001b[32mComputing...  25%|█████████▋                             |  ETA: 0:12:41\u001b[39m\u001b[K"
     ]
    },
    {
     "name": "stderr",
     "output_type": "stream",
     "text": [
      "\r\u001b[32mComputing...  25%|█████████▊                             |  ETA: 0:12:36\u001b[39m\u001b[K"
     ]
    },
    {
     "name": "stderr",
     "output_type": "stream",
     "text": [
      "\r\u001b[32mComputing...  25%|█████████▉                             |  ETA: 0:12:31\u001b[39m\u001b[K"
     ]
    },
    {
     "name": "stderr",
     "output_type": "stream",
     "text": [
      "\r\u001b[32mComputing...  26%|██████████▏                            |  ETA: 0:12:25\u001b[39m\u001b[K"
     ]
    },
    {
     "name": "stderr",
     "output_type": "stream",
     "text": [
      "\r\u001b[32mComputing...  26%|██████████▎                            |  ETA: 0:12:22\u001b[39m\u001b[K"
     ]
    },
    {
     "name": "stderr",
     "output_type": "stream",
     "text": [
      "\r\u001b[32mComputing...  27%|██████████▌                            |  ETA: 0:12:17\u001b[39m\u001b[K"
     ]
    },
    {
     "name": "stdout",
     "output_type": "stream",
     "text": [
      "iter  1, NLML: 1117.2868 \n",
      "iter  2, NLML: 900.0973 \n",
      "iter  3, NLML: 842.1541 \n",
      "iter  4, NLML: 822.5863 \n",
      "iter  5, NLML: 813.7325 \n",
      "iter  6, NLML: 808.9230 \n",
      "iter  7, NLML: 806.2133 \n",
      "iter  1, NLML: 1123.6149 \n",
      "iter  2, NLML: 904.9475 \n",
      "iter  3, NLML: 845.5904 \n",
      "iter  4, NLML: 825.9491 \n",
      "iter  5, NLML: 817.0696 \n",
      "iter  6, NLML: 812.2320 \n",
      "iter  7, NLML: 809.5217 \n",
      "iter  1, NLML: 1147.9439 \n",
      "iter  2, NLML: 950.5387 \n",
      "iter  3, NLML: 901.1320 \n",
      "iter  4, NLML: 879.1130 \n",
      "iter  5, NLML: 865.9601 \n",
      "iter  6, NLML: 859.4632 \n",
      "iter  7, NLML: 856.7268 \n",
      "iter  1, NLML: 1139.5234 \n",
      "iter  2, NLML: 985.6672 \n",
      "iter  3, NLML: 955.3409 \n",
      "iter  4, NLML: 936.6770 \n",
      "iter  5, NLML: 922.7813 \n",
      "iter  6, NLML: 910.9671 \n",
      "iter  7, NLML: 900.9914 \n",
      "iter  1, NLML: 1140.4111 \n",
      "iter  2, NLML: 989.6850 \n",
      "iter  3, NLML: 957.5314 \n",
      "iter  4, NLML: 936.0481 \n",
      "iter  5, NLML: 918.3079 \n",
      "iter  6, NLML: 904.1810 \n",
      "iter  7, NLML: 895.0298 \n",
      "iter  1, NLML: 1107.4087 \n",
      "iter  2, NLML: 962.8439 \n",
      "iter  3, NLML: 931.2575 \n",
      "iter  4, NLML: 910.0262 \n",
      "iter  5, NLML: 892.8836 \n",
      "iter  6, NLML: 879.8824 \n",
      "iter  7, NLML: 871.8831 \n",
      "iter  1, NLML: 1104.8659 \n",
      "iter  2, NLML: 956.9018 \n",
      "iter  3, NLML: 924.5027 \n",
      "iter  4, NLML: 902.7211 \n",
      "iter  5, NLML: 885.5300 \n",
      "iter  6, NLML: 873.0533 \n",
      "iter  7, NLML: 865.8477 \n",
      "iter  1, NLML: 1105.3192 \n",
      "iter  2, NLML: 954.8516 \n",
      "iter  3, NLML: 921.4513 \n",
      "iter  4, NLML: 900.0473 \n",
      "iter  5, NLML: 884.1977 \n",
      "iter  6, NLML: 872.9820 \n",
      "iter  7, NLML: 866.0709 \n",
      "iter  1, NLML: 1150.7932 \n",
      "iter  2, NLML: 970.1851 \n",
      "iter  3, NLML: 938.7892 \n",
      "iter  4, NLML: 924.0662 \n",
      "iter  5, NLML: 914.8711 \n",
      "iter  6, NLML: 908.3672 \n",
      "iter  7, NLML: 903.4785 \n",
      "iter  1, NLML: 1140.6968 \n",
      "iter  2, NLML: 960.9475 \n",
      "iter  3, NLML: 930.1889 \n",
      "iter  4, NLML: 916.5503 \n",
      "iter  5, NLML: 908.1463 \n",
      "iter  6, NLML: 902.2238 \n",
      "iter  7, NLML: 897.7998 \n",
      "iter  1, NLML: 1071.4010 \n",
      "iter  2, NLML: 941.8380 \n",
      "iter  3, NLML: 919.5202 \n",
      "iter  4, NLML: 908.5805 \n",
      "iter  5, NLML: 901.4344 \n",
      "iter  6, NLML: 896.1904 \n",
      "iter  7, NLML: 892.1751 \n",
      "iter  1, NLML: 1082.7460 \n",
      "iter  2, NLML: 953.1817 \n",
      "iter  3, NLML: 931.7331 \n",
      "iter  4, NLML: 921.3443 \n",
      "iter  5, NLML: 914.4604 \n",
      "iter  6, NLML: 909.2830 \n",
      "iter  7, NLML: 905.2091 \n",
      "iter  1, NLML: 1089.6200 \n",
      "iter  2, NLML: 957.3898 \n",
      "iter  3, NLML: 936.1138 \n",
      "iter  4, NLML: 926.2691 \n",
      "iter  5, NLML: 919.9871 \n",
      "iter  6, NLML: 915.3099 \n",
      "iter  7, NLML: 911.5952 \n",
      "iter  1, NLML: 1080.2765 \n",
      "iter  2, NLML: 963.6300 \n",
      "iter  3, NLML: 942.4897 \n",
      "iter  4, NLML: 933.2650 \n",
      "iter  5, NLML: 927.5035 \n",
      "iter  6, NLML: 923.2397 \n",
      "iter  7, NLML: 919.8147 \n",
      "iter  1, NLML: 1053.9191 \n",
      "iter  2, NLML: 945.7068 \n",
      "iter  3, NLML: 930.6311 \n",
      "iter  4, NLML: 924.4077 \n",
      "iter  5, NLML: 920.2661 \n",
      "iter  6, NLML: 916.9853 \n",
      "iter  7, NLML: 914.2400 \n",
      "iter  1, NLML: 1033.7288 \n",
      "iter  2, NLML: 932.9707 \n",
      "iter  3, NLML: 917.8271 \n",
      "iter  4, NLML: 911.2532 \n",
      "iter  5, NLML: 906.8709 \n",
      "iter  6, NLML: 903.4754 \n",
      "iter  7, NLML: 900.7402 \n",
      "iter  1, NLML: 1028.0754 \n",
      "iter  2, NLML: 924.3264 \n",
      "iter  3, NLML: 909.0896 \n",
      "iter  4, NLML: 902.3143 \n",
      "iter  5, NLML: 897.7407 \n",
      "iter  6, NLML: 894.2120 \n",
      "iter  7, NLML: 891.4639 \n",
      "iter  1, NLML: 1018.8408 \n",
      "iter  2, NLML: 923.1421 \n",
      "iter  3, NLML: 909.2224 \n",
      "iter  4, NLML: 902.6997 \n",
      "iter  5, NLML: 898.2288 \n",
      "iter  6, NLML: 894.8276 \n",
      "iter  7, NLML: 892.2205 \n",
      "iter  1, NLML: 1039.0442 \n",
      "iter  2, NLML: 952.1518 \n",
      "iter  3, NLML: 940.3335 \n",
      "iter  4, NLML: 934.1435 \n",
      "iter  5, NLML: 929.4991 \n",
      "iter  6, NLML: 925.8795 \n",
      "iter  7, NLML: 923.0849 \n",
      "iter  1, NLML: 1013.8136 \n",
      "iter  2, NLML: 938.0452 \n",
      "iter  3, NLML: 925.9457 \n",
      "iter  4, NLML: 919.0055 \n",
      "iter  5, NLML: 913.5896 \n",
      "iter  6, NLML: 909.1712 \n",
      "iter  7, NLML: 905.6608 \n",
      "iter  1, NLML: 1023.8922 \n",
      "iter  2, NLML: 947.3737 \n",
      "iter  3, NLML: 934.9406 \n",
      "iter  4, NLML: 928.1123 \n",
      "iter  5, NLML: 922.8215 \n",
      "iter  6, NLML: 918.5112 \n",
      "iter  7, NLML: 915.0422 \n",
      "iter  1, NLML: 1016.9384 \n",
      "iter  2, NLML: 940.2055 \n",
      "iter  3, NLML: 927.5460 \n",
      "iter  4, NLML: 920.7086 \n",
      "iter  5, NLML: 915.6173 \n",
      "iter  6, NLML: 911.5743 \n",
      "iter  7, NLML: 908.3482 \n",
      "iter  1, NLML: 1012.3957 \n",
      "iter  2, NLML: 937.7091 \n",
      "iter  3, NLML: 925.6192 \n",
      "iter  4, NLML: 918.8456 \n",
      "iter  5, NLML: 913.7349 \n",
      "iter  6, NLML: 909.6673 \n",
      "iter  7, NLML: 906.4396 \n",
      "iter  1, NLML: 1003.8785 \n",
      "iter  2, NLML: 932.8145 \n",
      "iter  3, NLML: 919.9881 \n",
      "iter  4, NLML: 912.8913 \n",
      "iter  5, NLML: 907.7434 \n",
      "iter  6, NLML: 903.8097 \n",
      "iter  7, NLML: 900.8063 \n",
      "iter  1, NLML: 1012.9744 \n",
      "iter  2, NLML: 927.1864 \n",
      "iter  3, NLML: 914.6893 \n",
      "iter  4, NLML: 908.5116 \n",
      "iter  5, NLML: 904.1624 \n",
      "iter  6, NLML: 900.8658 \n",
      "iter  7, NLML: 898.3400 \n",
      "iter  1, NLML: 1004.2989 \n",
      "iter  2, NLML: 920.5234 \n",
      "iter  3, NLML: 906.9933 \n",
      "iter  4, NLML: 900.4185 \n",
      "iter  5, NLML: 895.8137 \n",
      "iter  6, NLML: 892.2462 \n",
      "iter  7, NLML: 889.4764 \n",
      "iter  1, NLML: 1014.2534 \n",
      "iter  2, NLML: 932.5206 \n",
      "iter  3, NLML: 919.7788 \n",
      "iter  4, NLML: 913.4331 \n",
      "iter  5, NLML: 908.8286 \n",
      "iter  6, NLML: 905.1524 \n",
      "iter  7, NLML: 902.2099 \n",
      "iter  1, NLML: 1012.4822 \n",
      "iter  2, NLML: 932.6518 \n",
      "iter  3, NLML: 920.0966 \n",
      "iter  4, NLML: 913.7148 \n",
      "iter  5, NLML: 909.0459 \n",
      "iter  6, NLML: 905.3277 \n",
      "iter  7, NLML: 902.3158 \n",
      "iter  1, NLML: 1016.4540 \n",
      "iter  2, NLML: 942.0393 \n",
      "iter  3, NLML: 930.3288 \n",
      "iter  4, NLML: 924.3999 \n",
      "iter  5, NLML: 920.0980 \n",
      "iter  6, NLML: 916.5996 \n",
      "iter  7, NLML: 913.6961 \n",
      "iter  1, NLML: 1003.5358 \n",
      "iter  2, NLML: 935.6823 \n",
      "iter  3, NLML: 924.7478 \n",
      "iter  4, NLML: 918.7318 \n",
      "iter  5, NLML: 914.2669 \n",
      "iter  6, NLML: 910.6217 \n",
      "iter  7, NLML: 907.5557 \n",
      "iter  1, NLML: 993.2854 \n",
      "iter  2, NLML: 920.9793 \n",
      "iter  3, NLML: 911.0505 \n",
      "iter  4, NLML: 906.4533 \n",
      "iter  5, NLML: 903.2899 \n",
      "iter  6, NLML: 900.8043 \n",
      "iter  7, NLML: 898.7372 \n",
      "iter  1, NLML: 984.3620 \n",
      "iter  2, NLML: 914.1820 \n",
      "iter  3, NLML: 903.8965 \n",
      "iter  4, NLML: 898.6252 \n",
      "iter  5, NLML: 894.5370 \n",
      "iter  6, NLML: 891.0694 \n",
      "iter  7, NLML: 888.1781 \n",
      "iter  1, NLML: 978.9199 \n",
      "iter  2, NLML: 908.1021 \n",
      "iter  3, NLML: 898.3445 \n",
      "iter  4, NLML: 893.5220 \n",
      "iter  5, NLML: 889.7369 \n",
      "iter  6, NLML: 886.4641 \n",
      "iter  7, NLML: 883.6730 \n",
      "iter  1, NLML: 988.8943 \n",
      "iter  2, NLML: 918.8904 \n",
      "iter  3, NLML: 909.1005 \n",
      "iter  4, NLML: 904.0437 \n",
      "iter  5, NLML: 900.0282 \n",
      "iter  6, NLML: 896.5629 \n",
      "iter  7, NLML: 893.6466 \n",
      "iter  1, NLML: 991.1086 \n",
      "iter  2, NLML: 923.9194 \n",
      "iter  3, NLML: 913.7766 \n",
      "iter  4, NLML: 908.4080 \n",
      "iter  5, NLML: 904.1984 \n",
      "iter  6, NLML: 900.6164 \n",
      "iter  7, NLML: 897.6363 \n",
      "iter  1, NLML: 983.7512 \n",
      "iter  2, NLML: 919.2361 \n",
      "iter  3, NLML: 908.8119 \n",
      "iter  4, NLML: 902.7711 \n",
      "iter  5, NLML: 897.8395 \n",
      "iter  6, NLML: 893.5319 \n",
      "iter  7, NLML: 889.9089 \n",
      "iter  1, NLML: 998.2200 \n",
      "iter  2, NLML: 927.0273 \n",
      "iter  3, NLML: 916.4970 \n",
      "iter  4, NLML: 910.8251 \n",
      "iter  5, NLML: 906.3418 \n",
      "iter  6, NLML: 902.4515 \n",
      "iter  7, NLML: 899.1188 \n",
      "iter  1, NLML: 1004.4540 \n",
      "iter  2, NLML: 935.7849 \n",
      "iter  3, NLML: 925.9660 \n",
      "iter  4, NLML: 920.6326 \n",
      "iter  5, NLML: 916.2298 \n",
      "iter  6, NLML: 912.2640 \n",
      "iter  7, NLML: 908.7892 \n",
      "iter  1, NLML: 999.9151 \n",
      "iter  2, NLML: 926.9508 \n",
      "iter  3, NLML: 915.5501 \n",
      "iter  4, NLML: 909.1806 \n",
      "iter  5, NLML: 904.4402 \n",
      "iter  6, NLML: 900.6765 \n",
      "iter  7, NLML: 897.7042 \n",
      "iter  1, NLML: 1002.7514 \n",
      "iter  2, NLML: 926.8245 \n",
      "iter  3, NLML: 914.8593 \n",
      "iter  4, NLML: 908.5107 \n",
      "iter  5, NLML: 904.0120 \n",
      "iter  6, NLML: 900.5291 \n",
      "iter  7, NLML: 897.7663 \n",
      "iter  1, NLML: 1013.7591 \n",
      "iter  2, NLML: 933.5193 \n",
      "iter  3, NLML: 921.9200 \n",
      "iter  4, NLML: 915.4593 \n",
      "iter  5, NLML: 910.8676 \n",
      "iter  6, NLML: 907.4688 \n",
      "iter  7, NLML: 904.8583 \n",
      "iter  1, NLML: 1005.2028 \n",
      "iter  2, NLML: 921.5660 \n",
      "iter  3, NLML: 903.8202 \n",
      "iter  4, NLML: 892.0110 \n",
      "iter  5, NLML: 884.3155 \n",
      "iter  6, NLML: 879.4778 \n",
      "iter  7, NLML: 876.4792 \n",
      "iter  1, NLML: 1002.7963 \n",
      "iter  2, NLML: 915.9442 \n",
      "iter  3, NLML: 896.7168 \n",
      "iter  4, NLML: 883.3551 \n",
      "iter  5, NLML: 874.7921 \n",
      "iter  6, NLML: 869.8791 \n",
      "iter  7, NLML: 866.9756 \n",
      "iter  1, NLML: 1009.1943 \n",
      "iter  2, NLML: 916.0297 \n",
      "iter  3, NLML: 895.5230 \n",
      "iter  4, NLML: 881.6444 \n",
      "iter  5, NLML: 872.8903 \n",
      "iter  6, NLML: 867.8812 \n",
      "iter  7, NLML: 864.9215 \n",
      "iter  1, NLML: 1017.5166 \n",
      "iter  2, NLML: 918.0516 \n",
      "iter  3, NLML: 897.0631 \n",
      "iter  4, NLML: 883.1709 \n",
      "iter  5, NLML: 874.5493 \n",
      "iter  6, NLML: 869.7604 \n",
      "iter  7, NLML: 866.9576 \n",
      "iter  1, NLML: 1014.6477 \n",
      "iter  2, NLML: 912.2079 \n",
      "iter  3, NLML: 891.9952 \n",
      "iter  4, NLML: 879.1174 \n",
      "iter  5, NLML: 871.4444 \n",
      "iter  6, NLML: 867.3189 \n",
      "iter  7, NLML: 864.9019 \n",
      "iter  1, NLML: 1013.7459 \n",
      "iter  2, NLML: 908.9107 \n",
      "iter  3, NLML: 886.6208 \n",
      "iter  4, NLML: 873.8983 \n",
      "iter  5, NLML: 866.6156 \n",
      "iter  6, NLML: 862.1541 \n",
      "iter  7, NLML: 859.1316 \n",
      "iter  1, NLML: 998.1686 \n",
      "iter  2, NLML: 899.4789 \n",
      "iter  3, NLML: 876.7382 \n",
      "iter  4, NLML: 863.5154 \n",
      "iter  5, NLML: 855.6843 \n",
      "iter  6, NLML: 850.6860 \n",
      "iter  7, NLML: 847.2601 \n",
      "iter  1, NLML: 972.3866 \n",
      "iter  2, NLML: 886.8556 \n",
      "iter  3, NLML: 866.3596 \n",
      "iter  4, NLML: 852.4230 \n",
      "iter  5, NLML: 843.1399 \n",
      "iter  6, NLML: 837.0629 \n",
      "iter  7, NLML: 832.9776 \n",
      "iter  1, NLML: 952.7470 \n",
      "iter  2, NLML: 869.4638 \n",
      "iter  3, NLML: 853.7887 \n",
      "iter  4, NLML: 844.3518 \n",
      "iter  5, NLML: 837.6896 \n",
      "iter  6, NLML: 832.6926 \n",
      "iter  7, NLML: 828.9871 \n",
      "iter  1, NLML: 943.4688 \n",
      "iter  2, NLML: 855.5922 \n",
      "iter  3, NLML: 841.5589 \n",
      "iter  4, NLML: 833.1822 \n",
      "iter  5, NLML: 827.0731 \n",
      "iter  6, NLML: 822.2950 \n",
      "iter  7, NLML: 818.4272 \n",
      "iter  1, NLML: 965.2581 \n",
      "iter  2, NLML: 866.1595 \n",
      "iter  3, NLML: 849.2925 \n",
      "iter  4, NLML: 838.6216 \n",
      "iter  5, NLML: 829.9400 \n",
      "iter  6, NLML: 823.5429 \n",
      "iter  7, NLML: 818.9652 \n",
      "iter  1, NLML: 930.9871 \n",
      "iter  2, NLML: 839.4174 \n",
      "iter  3, NLML: 823.8585 \n",
      "iter  4, NLML: 813.6729 \n",
      "iter  5, NLML: 806.1793 \n",
      "iter  6, NLML: 801.0396 \n",
      "iter  7, NLML: 797.1774 \n",
      "iter  1, NLML: 925.7805 \n",
      "iter  2, NLML: 833.2814 \n",
      "iter  3, NLML: 817.7894 \n",
      "iter  4, NLML: 807.6144 \n",
      "iter  5, NLML: 800.2888 \n",
      "iter  6, NLML: 795.2406 \n",
      "iter  7, NLML: 791.4334 \n",
      "iter  1, NLML: 922.0354 \n",
      "iter  2, NLML: 829.3287 \n",
      "iter  3, NLML: 813.7361 \n",
      "iter  4, NLML: 803.5365 \n",
      "iter  5, NLML: 796.0132 \n",
      "iter  6, NLML: 790.7606 \n",
      "iter  7, NLML: 786.7121 \n",
      "iter  1, NLML: 930.1193 \n",
      "iter  2, NLML: 835.9312 \n",
      "iter  3, NLML: 815.8225 \n",
      "iter  4, NLML: 803.6402 \n",
      "iter  5, NLML: 795.6024 \n",
      "iter  6, NLML: 789.6586 \n",
      "iter  7, NLML: 784.8431 \n",
      "iter  1, NLML: 967.0945 \n",
      "iter  2, NLML: 856.7690 \n",
      "iter  3, NLML: 825.0538 \n",
      "iter  4, NLML: 808.1961 \n",
      "iter  5, NLML: 797.4973 \n",
      "iter  6, NLML: 789.7226 \n",
      "iter  7, NLML: 783.6345 \n",
      "iter  1, NLML: 957.9487 \n",
      "iter  2, NLML: 846.2585 \n",
      "iter  3, NLML: 814.3919 \n",
      "iter  4, NLML: 796.9663 \n",
      "iter  5, NLML: 785.7579 \n",
      "iter  6, NLML: 777.6746 \n",
      "iter  7, NLML: 771.3152 \n",
      "iter  1, NLML: 939.5801 \n",
      "iter  2, NLML: 823.0452 \n",
      "iter  3, NLML: 785.0673 \n",
      "iter  4, NLML: 761.5158 \n"
     ]
    },
    {
     "name": "stderr",
     "output_type": "stream",
     "text": [
      "\r\u001b[32mComputing...  27%|██████████▋                            |  ETA: 0:12:13\u001b[39m\u001b[K"
     ]
    },
    {
     "name": "stderr",
     "output_type": "stream",
     "text": [
      "\r\u001b[32mComputing...  28%|██████████▉                            |  ETA: 0:12:08\u001b[39m\u001b[K"
     ]
    },
    {
     "name": "stderr",
     "output_type": "stream",
     "text": [
      "\r\u001b[32mComputing...  28%|███████████                            |  ETA: 0:12:02\u001b[39m\u001b[K"
     ]
    },
    {
     "name": "stderr",
     "output_type": "stream",
     "text": [
      "\r\u001b[32mComputing...  29%|███████████▎                           |  ETA: 0:11:57\u001b[39m\u001b[K"
     ]
    },
    {
     "name": "stderr",
     "output_type": "stream",
     "text": [
      "\r\u001b[32mComputing...  29%|███████████▍                           |  ETA: 0:11:52\u001b[39m\u001b[K"
     ]
    },
    {
     "name": "stderr",
     "output_type": "stream",
     "text": [
      "\r\u001b[32mComputing...  30%|███████████▌                           |  ETA: 0:11:47\u001b[39m\u001b[K"
     ]
    },
    {
     "name": "stderr",
     "output_type": "stream",
     "text": [
      "\r\u001b[32mComputing...  30%|███████████▊                           |  ETA: 0:11:42\u001b[39m\u001b[K"
     ]
    },
    {
     "name": "stderr",
     "output_type": "stream",
     "text": [
      "\r\u001b[32mComputing...  31%|███████████▉                           |  ETA: 0:11:37\u001b[39m\u001b[K"
     ]
    },
    {
     "name": "stderr",
     "output_type": "stream",
     "text": [
      "\r\u001b[32mComputing...  31%|████████████▏                          |  ETA: 0:11:31\u001b[39m\u001b[K"
     ]
    },
    {
     "name": "stderr",
     "output_type": "stream",
     "text": [
      "\r\u001b[32mComputing...  31%|████████████▎                          |  ETA: 0:11:26\u001b[39m\u001b[K"
     ]
    },
    {
     "name": "stderr",
     "output_type": "stream",
     "text": [
      "\r\u001b[32mComputing...  32%|████████████▌                          |  ETA: 0:11:21\u001b[39m\u001b[K"
     ]
    },
    {
     "name": "stderr",
     "output_type": "stream",
     "text": [
      "\r\u001b[32mComputing...  32%|████████████▋                          |  ETA: 0:11:16\u001b[39m\u001b[K"
     ]
    },
    {
     "name": "stderr",
     "output_type": "stream",
     "text": [
      "\r\u001b[32mComputing...  33%|████████████▉                          |  ETA: 0:11:11\u001b[39m\u001b[K"
     ]
    },
    {
     "name": "stderr",
     "output_type": "stream",
     "text": [
      "\r\u001b[32mComputing...  33%|█████████████                          |  ETA: 0:11:06\u001b[39m\u001b[K"
     ]
    },
    {
     "name": "stderr",
     "output_type": "stream",
     "text": [
      "\r\u001b[32mComputing...  34%|█████████████▏                         |  ETA: 0:11:01\u001b[39m\u001b[K"
     ]
    },
    {
     "name": "stderr",
     "output_type": "stream",
     "text": [
      "\r\u001b[32mComputing...  34%|█████████████▍                         |  ETA: 0:10:56\u001b[39m\u001b[K"
     ]
    },
    {
     "name": "stderr",
     "output_type": "stream",
     "text": [
      "\r\u001b[32mComputing...  35%|█████████████▌                         |  ETA: 0:10:51\u001b[39m\u001b[K"
     ]
    },
    {
     "name": "stderr",
     "output_type": "stream",
     "text": [
      "\r\u001b[32mComputing...  35%|█████████████▊                         |  ETA: 0:10:46\u001b[39m\u001b[K"
     ]
    },
    {
     "name": "stderr",
     "output_type": "stream",
     "text": [
      "\r\u001b[32mComputing...  36%|█████████████▉                         |  ETA: 0:10:41\u001b[39m\u001b[K"
     ]
    },
    {
     "name": "stderr",
     "output_type": "stream",
     "text": [
      "\r\u001b[32mComputing...  36%|██████████████▏                        |  ETA: 0:10:36\u001b[39m\u001b[K"
     ]
    },
    {
     "name": "stderr",
     "output_type": "stream",
     "text": [
      "\r\u001b[32mComputing...  37%|██████████████▎                        |  ETA: 0:10:31\u001b[39m\u001b[K"
     ]
    },
    {
     "name": "stderr",
     "output_type": "stream",
     "text": [
      "\r\u001b[32mComputing...  37%|██████████████▌                        |  ETA: 0:10:26\u001b[39m\u001b[K"
     ]
    },
    {
     "name": "stderr",
     "output_type": "stream",
     "text": [
      "\r\u001b[32mComputing...  38%|██████████████▋                        |  ETA: 0:10:21\u001b[39m\u001b[K"
     ]
    },
    {
     "name": "stderr",
     "output_type": "stream",
     "text": [
      "\r\u001b[32mComputing...  38%|██████████████▊                        |  ETA: 0:10:16\u001b[39m\u001b[K"
     ]
    },
    {
     "name": "stderr",
     "output_type": "stream",
     "text": [
      "\r\u001b[32mComputing...  38%|███████████████                        |  ETA: 0:10:12\u001b[39m\u001b[K"
     ]
    },
    {
     "name": "stderr",
     "output_type": "stream",
     "text": [
      "\r\u001b[32mComputing...  39%|███████████████▏                       |  ETA: 0:10:07\u001b[39m\u001b[K"
     ]
    },
    {
     "name": "stderr",
     "output_type": "stream",
     "text": [
      "\r\u001b[32mComputing...  39%|███████████████▍                       |  ETA: 0:10:02\u001b[39m\u001b[K"
     ]
    },
    {
     "name": "stderr",
     "output_type": "stream",
     "text": [
      "\r\u001b[32mComputing...  40%|███████████████▌                       |  ETA: 0:09:58\u001b[39m\u001b[K"
     ]
    },
    {
     "name": "stderr",
     "output_type": "stream",
     "text": [
      "\r\u001b[32mComputing...  40%|███████████████▊                       |  ETA: 0:09:53\u001b[39m\u001b[K"
     ]
    },
    {
     "name": "stderr",
     "output_type": "stream",
     "text": [
      "\r\u001b[32mComputing...  41%|███████████████▉                       |  ETA: 0:09:49\u001b[39m\u001b[K"
     ]
    },
    {
     "name": "stderr",
     "output_type": "stream",
     "text": [
      "\r\u001b[32mComputing...  41%|████████████████▏                      |  ETA: 0:09:44\u001b[39m\u001b[K"
     ]
    },
    {
     "name": "stderr",
     "output_type": "stream",
     "text": [
      "\r\u001b[32mComputing...  42%|████████████████▎                      |  ETA: 0:09:41\u001b[39m\u001b[K"
     ]
    },
    {
     "name": "stderr",
     "output_type": "stream",
     "text": [
      "\r\u001b[32mComputing...  42%|████████████████▍                      |  ETA: 0:09:36\u001b[39m\u001b[K"
     ]
    },
    {
     "name": "stderr",
     "output_type": "stream",
     "text": [
      "\r\u001b[32mComputing...  43%|████████████████▋                      |  ETA: 0:09:31\u001b[39m\u001b[K"
     ]
    },
    {
     "name": "stderr",
     "output_type": "stream",
     "text": [
      "\r\u001b[32mComputing...  43%|████████████████▊                      |  ETA: 0:09:27\u001b[39m\u001b[K"
     ]
    },
    {
     "name": "stderr",
     "output_type": "stream",
     "text": [
      "\r\u001b[32mComputing...  44%|█████████████████                      |  ETA: 0:09:22\u001b[39m\u001b[K"
     ]
    },
    {
     "name": "stderr",
     "output_type": "stream",
     "text": [
      "\r\u001b[32mComputing...  44%|█████████████████▏                     |  ETA: 0:09:18\u001b[39m\u001b[K"
     ]
    },
    {
     "name": "stderr",
     "output_type": "stream",
     "text": [
      "\r\u001b[32mComputing...  44%|█████████████████▍                     |  ETA: 0:09:13\u001b[39m\u001b[K"
     ]
    },
    {
     "name": "stderr",
     "output_type": "stream",
     "text": [
      "\r\u001b[32mComputing...  45%|█████████████████▌                     |  ETA: 0:09:08\u001b[39m\u001b[K"
     ]
    },
    {
     "name": "stderr",
     "output_type": "stream",
     "text": [
      "\r\u001b[32mComputing...  45%|█████████████████▊                     |  ETA: 0:09:04\u001b[39m\u001b[K"
     ]
    },
    {
     "name": "stderr",
     "output_type": "stream",
     "text": [
      "\r\u001b[32mComputing...  46%|█████████████████▉                     |  ETA: 0:08:59\u001b[39m\u001b[K"
     ]
    },
    {
     "name": "stderr",
     "output_type": "stream",
     "text": [
      "\r\u001b[32mComputing...  46%|██████████████████                     |  ETA: 0:08:54\u001b[39m\u001b[K"
     ]
    },
    {
     "name": "stderr",
     "output_type": "stream",
     "text": [
      "\r\u001b[32mComputing...  47%|██████████████████▎                    |  ETA: 0:08:49\u001b[39m\u001b[K"
     ]
    },
    {
     "name": "stderr",
     "output_type": "stream",
     "text": [
      "\r\u001b[32mComputing...  47%|██████████████████▍                    |  ETA: 0:08:45\u001b[39m\u001b[K"
     ]
    },
    {
     "name": "stderr",
     "output_type": "stream",
     "text": [
      "\r\u001b[32mComputing...  48%|██████████████████▋                    |  ETA: 0:08:40\u001b[39m\u001b[K"
     ]
    },
    {
     "name": "stderr",
     "output_type": "stream",
     "text": [
      "\r\u001b[32mComputing...  48%|██████████████████▊                    |  ETA: 0:08:35\u001b[39m\u001b[K"
     ]
    },
    {
     "name": "stderr",
     "output_type": "stream",
     "text": [
      "\r\u001b[32mComputing...  49%|███████████████████                    |  ETA: 0:08:30\u001b[39m\u001b[K"
     ]
    },
    {
     "name": "stderr",
     "output_type": "stream",
     "text": [
      "\r\u001b[32mComputing...  49%|███████████████████▏                   |  ETA: 0:08:26\u001b[39m\u001b[K"
     ]
    },
    {
     "name": "stderr",
     "output_type": "stream",
     "text": [
      "\r\u001b[32mComputing...  50%|███████████████████▍                   |  ETA: 0:08:21\u001b[39m\u001b[K"
     ]
    },
    {
     "name": "stderr",
     "output_type": "stream",
     "text": [
      "\r\u001b[32mComputing...  50%|███████████████████▌                   |  ETA: 0:08:16\u001b[39m\u001b[K"
     ]
    },
    {
     "name": "stderr",
     "output_type": "stream",
     "text": [
      "\r\u001b[32mComputing...  50%|███████████████████▋                   |  ETA: 0:08:11\u001b[39m\u001b[K"
     ]
    },
    {
     "name": "stderr",
     "output_type": "stream",
     "text": [
      "\r\u001b[32mComputing...  51%|███████████████████▉                   |  ETA: 0:08:07\u001b[39m\u001b[K"
     ]
    },
    {
     "name": "stderr",
     "output_type": "stream",
     "text": [
      "\r\u001b[32mComputing...  51%|████████████████████                   |  ETA: 0:08:02\u001b[39m\u001b[K"
     ]
    },
    {
     "name": "stderr",
     "output_type": "stream",
     "text": [
      "\r\u001b[32mComputing...  52%|████████████████████▎                  |  ETA: 0:07:57\u001b[39m\u001b[K"
     ]
    },
    {
     "name": "stderr",
     "output_type": "stream",
     "text": [
      "\r\u001b[32mComputing...  52%|████████████████████▍                  |  ETA: 0:07:53\u001b[39m\u001b[K"
     ]
    },
    {
     "name": "stderr",
     "output_type": "stream",
     "text": [
      "\r\u001b[32mComputing...  53%|████████████████████▋                  |  ETA: 0:07:48\u001b[39m\u001b[K"
     ]
    },
    {
     "name": "stderr",
     "output_type": "stream",
     "text": [
      "\r\u001b[32mComputing...  53%|████████████████████▊                  |  ETA: 0:07:43\u001b[39m\u001b[K"
     ]
    },
    {
     "name": "stderr",
     "output_type": "stream",
     "text": [
      "\r\u001b[32mComputing...  54%|█████████████████████                  |  ETA: 0:07:39\u001b[39m\u001b[K"
     ]
    },
    {
     "name": "stdout",
     "output_type": "stream",
     "text": [
      "iter  5, NLML: 745.8453 \n",
      "iter  6, NLML: 734.8885 \n",
      "iter  7, NLML: 726.9336 \n",
      "iter  1, NLML: 849.6367 \n",
      "iter  2, NLML: 734.1701 \n",
      "iter  3, NLML: 697.4060 \n",
      "iter  4, NLML: 675.8023 \n",
      "iter  5, NLML: 662.2826 \n",
      "iter  6, NLML: 653.7109 \n",
      "iter  7, NLML: 648.3030 \n",
      "iter  1, NLML: 763.3911 \n",
      "iter  2, NLML: 701.4447 \n",
      "iter  3, NLML: 682.1033 \n",
      "iter  4, NLML: 673.1506 \n",
      "iter  5, NLML: 668.8187 \n",
      "iter  6, NLML: 666.4259 \n",
      "iter  7, NLML: 664.9160 \n",
      "iter  1, NLML: 798.0414 \n",
      "iter  2, NLML: 732.4561 \n",
      "iter  3, NLML: 693.0985 \n",
      "iter  4, NLML: 682.8768 \n",
      "iter  5, NLML: 679.5527 \n",
      "iter  6, NLML: 678.0289 \n",
      "iter  7, NLML: 677.2196 \n",
      "iter  1, NLML: 795.1214 \n",
      "iter  2, NLML: 722.4040 \n",
      "iter  3, NLML: 685.9965 \n",
      "iter  4, NLML: 677.4099 \n",
      "iter  5, NLML: 674.0646 \n",
      "iter  6, NLML: 672.4528 \n",
      "iter  7, NLML: 671.5899 \n",
      "iter  1, NLML: 758.8151 \n",
      "iter  2, NLML: 693.1573 \n",
      "iter  3, NLML: 662.3783 \n",
      "iter  4, NLML: 656.0526 \n",
      "iter  5, NLML: 653.7852 \n",
      "iter  6, NLML: 652.5835 \n",
      "iter  7, NLML: 651.7969 \n",
      "iter  1, NLML: 775.5241 \n",
      "iter  2, NLML: 715.7625 \n",
      "iter  3, NLML: 686.5887 \n",
      "iter  4, NLML: 673.8121 \n",
      "iter  5, NLML: 669.8977 \n",
      "iter  6, NLML: 667.9292 \n",
      "iter  7, NLML: 666.7473 \n",
      "iter  1, NLML: 764.1087 \n",
      "iter  2, NLML: 708.7088 \n",
      "iter  3, NLML: 680.3058 \n",
      "iter  4, NLML: 669.8216 \n",
      "iter  5, NLML: 666.1246 \n",
      "iter  6, NLML: 663.9657 \n",
      "iter  7, NLML: 662.4613 \n",
      "iter  1, NLML: 763.9106 \n",
      "iter  2, NLML: 709.2232 \n",
      "iter  3, NLML: 692.7257 \n",
      "iter  4, NLML: 683.5142 \n",
      "iter  5, NLML: 678.7227 \n",
      "iter  6, NLML: 675.8687 \n",
      "iter  7, NLML: 673.8374 \n",
      "iter  1, NLML: 771.7645 \n",
      "iter  2, NLML: 711.7767 \n",
      "iter  3, NLML: 695.5306 \n",
      "iter  4, NLML: 686.3054 \n",
      "iter  5, NLML: 680.9356 \n",
      "iter  6, NLML: 677.7527 \n",
      "iter  7, NLML: 675.6478 \n",
      "iter  1, NLML: 772.1355 \n",
      "iter  2, NLML: 713.4802 \n",
      "iter  3, NLML: 697.3986 \n",
      "iter  4, NLML: 688.9371 \n",
      "iter  5, NLML: 684.3477 \n",
      "iter  6, NLML: 681.6825 \n",
      "iter  7, NLML: 679.8763 \n",
      "iter  1, NLML: 787.9841 \n",
      "iter  2, NLML: 711.3111 \n",
      "iter  3, NLML: 688.3660 \n",
      "iter  4, NLML: 677.6806 \n",
      "iter  5, NLML: 671.8812 \n",
      "iter  6, NLML: 668.3036 \n",
      "iter  7, NLML: 665.7972 \n",
      "iter  1, NLML: 792.1577 \n",
      "iter  2, NLML: 713.1365 \n",
      "iter  3, NLML: 689.0808 \n",
      "iter  4, NLML: 678.6270 \n",
      "iter  5, NLML: 672.9402 \n",
      "iter  6, NLML: 669.4320 \n",
      "iter  7, NLML: 666.9969 \n",
      "iter  1, NLML: 823.6799 \n",
      "iter  2, NLML: 728.0178 \n",
      "iter  3, NLML: 702.5461 \n",
      "iter  4, NLML: 692.5407 \n",
      "iter  5, NLML: 687.0278 \n",
      "iter  6, NLML: 683.2778 \n",
      "iter  7, NLML: 680.4635 \n",
      "iter  1, NLML: 812.8141 \n",
      "iter  2, NLML: 711.1628 \n",
      "iter  3, NLML: 686.9348 \n",
      "iter  4, NLML: 677.4761 \n",
      "iter  5, NLML: 672.2833 \n",
      "iter  6, NLML: 668.7851 \n",
      "iter  7, NLML: 666.1817 \n",
      "iter  1, NLML: 984.5550 \n",
      "iter  2, NLML: 790.3696 \n",
      "iter  3, NLML: 730.3422 \n",
      "iter  4, NLML: 705.5344 \n",
      "iter  5, NLML: 693.2211 \n",
      "iter  6, NLML: 685.6834 \n",
      "iter  7, NLML: 680.5313 \n",
      "iter  1, NLML: 937.7617 \n",
      "iter  2, NLML: 760.9446 \n",
      "iter  3, NLML: 708.5434 \n",
      "iter  4, NLML: 687.1215 \n",
      "iter  5, NLML: 675.7969 \n",
      "iter  6, NLML: 668.4641 \n",
      "iter  7, NLML: 663.2907 \n",
      "iter  1, NLML: 947.0495 \n",
      "iter  2, NLML: 766.7461 \n",
      "iter  3, NLML: 708.9338 \n",
      "iter  4, NLML: 684.5233 \n",
      "iter  5, NLML: 672.1564 \n",
      "iter  6, NLML: 664.8128 \n",
      "iter  7, NLML: 660.0357 \n",
      "iter  1, NLML: 940.9793 \n",
      "iter  2, NLML: 748.1011 \n",
      "iter  3, NLML: 691.0872 \n",
      "iter  4, NLML: 668.0169 \n",
      "iter  5, NLML: 656.6026 \n",
      "iter  6, NLML: 649.9392 \n",
      "iter  7, NLML: 645.6486 \n",
      "iter  1, NLML: 967.1052 \n",
      "iter  2, NLML: 752.6145 \n",
      "iter  3, NLML: 693.2426 \n",
      "iter  4, NLML: 669.6514 \n",
      "iter  5, NLML: 658.0522 \n",
      "iter  6, NLML: 651.2405 \n",
      "iter  7, NLML: 646.8290 \n",
      "iter  1, NLML: 957.8972 \n",
      "iter  2, NLML: 746.9623 \n",
      "iter  3, NLML: 684.6622 \n",
      "iter  4, NLML: 659.4921 \n",
      "iter  5, NLML: 648.9215 \n",
      "iter  6, NLML: 643.7675 \n",
      "iter  7, NLML: 641.0290 \n",
      "iter  1, NLML: 886.3135 \n",
      "iter  2, NLML: 688.0092 \n",
      "iter  3, NLML: 639.4158 \n",
      "iter  4, NLML: 620.6548 \n",
      "iter  5, NLML: 612.1073 \n",
      "iter  6, NLML: 607.7034 \n",
      "iter  7, NLML: 605.1836 \n",
      "iter  1, NLML: 874.2565 \n",
      "iter  2, NLML: 686.0397 \n",
      "iter  3, NLML: 641.3493 \n",
      "iter  4, NLML: 626.0836 \n",
      "iter  5, NLML: 618.9590 \n",
      "iter  6, NLML: 615.2079 \n",
      "iter  7, NLML: 613.0060 \n",
      "iter  1, NLML: 981.6802 \n",
      "iter  2, NLML: 731.3985 \n",
      "iter  3, NLML: 666.2314 \n",
      "iter  4, NLML: 639.2408 \n",
      "iter  5, NLML: 626.6452 \n",
      "iter  6, NLML: 619.6820 \n",
      "iter  7, NLML: 615.4480 \n",
      "iter  1, NLML: 1043.9767 \n",
      "iter  2, NLML: 800.1607 \n",
      "iter  3, NLML: 732.8212 \n",
      "iter  4, NLML: 703.3448 \n",
      "iter  5, NLML: 689.2922 \n",
      "iter  6, NLML: 681.8283 \n",
      "iter  7, NLML: 677.3835 \n",
      "iter  1, NLML: 1028.4957 \n",
      "iter  2, NLML: 801.3869 \n",
      "iter  3, NLML: 741.3478 \n",
      "iter  4, NLML: 714.1289 \n",
      "iter  5, NLML: 700.3226 \n",
      "iter  6, NLML: 692.5442 \n",
      "iter  7, NLML: 687.7426 \n",
      "iter  1, NLML: 999.9650 \n",
      "iter  2, NLML: 785.8635 \n",
      "iter  3, NLML: 733.4128 \n",
      "iter  4, NLML: 710.3280 \n",
      "iter  5, NLML: 698.4141 \n",
      "iter  6, NLML: 691.6363 \n",
      "iter  7, NLML: 687.4214 \n",
      "iter  1, NLML: 1003.2558 \n",
      "iter  2, NLML: 781.3627 \n",
      "iter  3, NLML: 727.6018 \n",
      "iter  4, NLML: 706.7176 \n",
      "iter  5, NLML: 695.9475 \n",
      "iter  6, NLML: 689.5092 \n",
      "iter  7, NLML: 685.3446 \n",
      "iter  1, NLML: 1060.4645 \n",
      "iter  2, NLML: 824.1482 \n",
      "iter  3, NLML: 751.0790 \n",
      "iter  4, NLML: 720.9584 \n",
      "iter  5, NLML: 706.7144 \n",
      "iter  6, NLML: 698.5509 \n",
      "iter  7, NLML: 693.3248 \n",
      "iter  1, NLML: 1075.6756 \n",
      "iter  2, NLML: 834.2772 \n",
      "iter  3, NLML: 759.0668 \n",
      "iter  4, NLML: 727.0234 \n",
      "iter  5, NLML: 711.9464 \n",
      "iter  6, NLML: 703.2802 \n",
      "iter  7, NLML: 697.7055 \n",
      "iter  1, NLML: 1102.1598 \n",
      "iter  2, NLML: 845.5687 \n",
      "iter  3, NLML: 766.4454 \n",
      "iter  4, NLML: 732.4127 \n",
      "iter  5, NLML: 716.7402 \n",
      "iter  6, NLML: 707.9571 \n",
      "iter  7, NLML: 702.4038 \n",
      "iter  1, NLML: 1104.4940 \n",
      "iter  2, NLML: 854.4084 \n",
      "iter  3, NLML: 756.3115 \n",
      "iter  4, NLML: 719.2399 \n",
      "iter  5, NLML: 702.3383 \n",
      "iter  6, NLML: 692.8992 \n",
      "iter  7, NLML: 686.9286 \n",
      "iter  1, NLML: 995.6286 \n",
      "iter  2, NLML: 798.3763 \n",
      "iter  3, NLML: 748.3037 \n",
      "iter  4, NLML: 728.3823 \n",
      "iter  5, NLML: 718.6909 \n",
      "iter  6, NLML: 712.9647 \n",
      "iter  7, NLML: 709.1981 \n",
      "iter  1, NLML: 1091.9177 \n",
      "iter  2, NLML: 845.7442 \n",
      "iter  3, NLML: 779.3979 \n",
      "iter  4, NLML: 749.6812 \n",
      "iter  5, NLML: 735.3364 \n",
      "iter  6, NLML: 727.6572 \n",
      "iter  7, NLML: 723.0184 \n",
      "iter  1, NLML: 1133.7086 \n",
      "iter  2, NLML: 870.3959 \n",
      "iter  3, NLML: 789.0951 \n",
      "iter  4, NLML: 751.4334 \n",
      "iter  5, NLML: 733.6990 \n",
      "iter  6, NLML: 724.6250 \n",
      "iter  7, NLML: 719.3535 \n",
      "iter  1, NLML: 1127.7054 \n",
      "iter  2, NLML: 867.0504 \n",
      "iter  3, NLML: 788.9261 \n",
      "iter  4, NLML: 754.3966 \n",
      "iter  5, NLML: 738.3594 \n",
      "iter  6, NLML: 730.1080 \n",
      "iter  7, NLML: 725.2673 \n",
      "iter  1, NLML: 1137.0928 \n",
      "iter  2, NLML: 874.7510 \n",
      "iter  3, NLML: 794.8138 \n",
      "iter  4, NLML: 760.3478 \n",
      "iter  5, NLML: 744.4013 \n",
      "iter  6, NLML: 736.0273 \n",
      "iter  7, NLML: 730.9733 \n",
      "iter  1, NLML: 1131.1441 \n",
      "iter  2, NLML: 874.6162 \n",
      "iter  3, NLML: 796.2174 \n",
      "iter  4, NLML: 762.0045 \n",
      "iter  5, NLML: 745.5756 \n",
      "iter  6, NLML: 737.0129 \n",
      "iter  7, NLML: 731.9853 \n",
      "iter  1, NLML: 1059.7255 \n",
      "iter  2, NLML: 838.6687 \n",
      "iter  3, NLML: 777.5399 \n",
      "iter  4, NLML: 751.6094 \n",
      "iter  5, NLML: 739.3265 \n",
      "iter  6, NLML: 732.7028 \n",
      "iter  7, NLML: 728.6693 \n",
      "iter  1, NLML: 1038.9493 \n",
      "iter  2, NLML: 824.4811 \n",
      "iter  3, NLML: 769.7931 \n",
      "iter  4, NLML: 748.8012 \n",
      "iter  5, NLML: 739.1425 \n",
      "iter  6, NLML: 733.8668 \n",
      "iter  7, NLML: 730.5785 \n",
      "iter  1, NLML: 1039.4861 \n",
      "iter  2, NLML: 839.6777 \n",
      "iter  3, NLML: 783.2471 \n",
      "iter  4, NLML: 761.3549 \n",
      "iter  5, NLML: 751.4102 \n",
      "iter  6, NLML: 746.0290 \n",
      "iter  7, NLML: 742.6503 \n",
      "iter  1, NLML: 1046.2615 \n",
      "iter  2, NLML: 852.7943 \n",
      "iter  3, NLML: 794.6430 \n",
      "iter  4, NLML: 771.8722 \n",
      "iter  5, NLML: 761.2677 \n",
      "iter  6, NLML: 755.3403 \n",
      "iter  7, NLML: 751.5497 \n",
      "iter  1, NLML: 1032.6464 \n",
      "iter  2, NLML: 842.4446 \n",
      "iter  3, NLML: 784.8698 \n",
      "iter  4, NLML: 762.2021 \n",
      "iter  5, NLML: 751.9988 \n",
      "iter  6, NLML: 746.2911 \n",
      "iter  7, NLML: 742.6105 \n",
      "iter  1, NLML: 1012.8824 \n",
      "iter  2, NLML: 830.8446 \n",
      "iter  3, NLML: 774.0466 \n",
      "iter  4, NLML: 751.1850 \n",
      "iter  5, NLML: 740.6177 \n",
      "iter  6, NLML: 734.5048 \n",
      "iter  7, NLML: 730.5021 \n",
      "iter  1, NLML: 1003.3907 \n",
      "iter  2, NLML: 823.5313 \n",
      "iter  3, NLML: 771.2593 \n",
      "iter  4, NLML: 750.9093 \n",
      "iter  5, NLML: 741.2595 \n",
      "iter  6, NLML: 735.5823 \n",
      "iter  7, NLML: 731.8184 \n",
      "iter  1, NLML: 1010.1090 \n",
      "iter  2, NLML: 826.5995 \n",
      "iter  3, NLML: 774.3085 \n",
      "iter  4, NLML: 754.1503 \n",
      "iter  5, NLML: 744.6234 \n",
      "iter  6, NLML: 739.0532 \n",
      "iter  7, NLML: 735.3836 \n",
      "iter  1, NLML: 1017.7548 \n",
      "iter  2, NLML: 831.5258 \n",
      "iter  3, NLML: 778.9426 \n",
      "iter  4, NLML: 758.6585 \n",
      "iter  5, NLML: 749.1153 \n",
      "iter  6, NLML: 743.5907 \n",
      "iter  7, NLML: 739.9795 \n",
      "iter  1, NLML: 1033.9178 \n",
      "iter  2, NLML: 840.2051 \n",
      "iter  3, NLML: 786.4552 \n",
      "iter  4, NLML: 766.6103 \n",
      "iter  5, NLML: 757.4244 \n",
      "iter  6, NLML: 752.1444 \n",
      "iter  7, NLML: 748.7192 \n",
      "iter  1, NLML: 1034.8340 \n",
      "iter  2, NLML: 842.2724 \n",
      "iter  3, NLML: 788.3335 \n",
      "iter  4, NLML: 768.1706 \n",
      "iter  5, NLML: 758.6060 \n",
      "iter  6, NLML: 753.0174 \n",
      "iter  7, NLML: 749.3642 \n",
      "iter  1, NLML: 1029.4650 \n",
      "iter  2, NLML: 838.1852 \n",
      "iter  3, NLML: 785.2669 \n",
      "iter  4, NLML: 764.9559 \n",
      "iter  5, NLML: 754.6884 \n",
      "iter  6, NLML: 748.5466 \n",
      "iter  7, NLML: 744.5447 \n",
      "iter  1, NLML: 1124.1483 \n",
      "iter  2, NLML: 877.6597 \n",
      "iter  3, NLML: 809.9785 \n",
      "iter  4, NLML: 783.6219 \n",
      "iter  5, NLML: 770.9999 \n",
      "iter  6, NLML: 764.0162 \n",
      "iter  7, NLML: 759.6659 \n",
      "iter  1, NLML: 1125.3843 \n",
      "iter  2, NLML: 879.5429 \n",
      "iter  3, NLML: 811.7977 \n",
      "iter  4, NLML: 785.5069 \n",
      "iter  5, NLML: 772.8042 \n",
      "iter  6, NLML: 765.6623 \n",
      "iter  7, NLML: 761.1904 \n",
      "iter  1, NLML: 1148.6661 \n",
      "iter  2, NLML: 900.0838 \n",
      "iter  3, NLML: 830.6044 \n",
      "iter  4, NLML: 803.8180 \n",
      "iter  5, NLML: 791.0457 \n",
      "iter  6, NLML: 783.8798 \n",
      "iter  7, NLML: 779.3872 \n",
      "iter  1, NLML: 1149.4717 \n",
      "iter  2, NLML: 896.6535 \n",
      "iter  3, NLML: 827.1684 \n",
      "iter  4, NLML: 800.9741 \n",
      "iter  5, NLML: 788.6943 \n",
      "iter  6, NLML: 781.8496 \n",
      "iter  7, NLML: 777.5851 \n",
      "iter  1, NLML: 1129.2049 \n",
      "iter  2, NLML: 891.9636 \n",
      "iter  3, NLML: 824.6153 \n",
      "iter  4, NLML: 799.9932 \n",
      "iter  5, NLML: 788.7334 \n",
      "iter  6, NLML: 782.4161 \n",
      "iter  7, NLML: 778.4308 \n",
      "iter  1, NLML: 1136.4067 \n",
      "iter  2, NLML: 895.3075 \n",
      "iter  3, NLML: 827.1201 \n",
      "iter  4, NLML: 802.8310 \n",
      "iter  5, NLML: 792.3195 \n",
      "iter  6, NLML: 786.6753 \n",
      "iter  7, NLML: 783.2001 \n",
      "iter  1, NLML: 1134.5530 \n",
      "iter  2, NLML: 898.0727 \n",
      "iter  3, NLML: 830.9741 \n",
      "iter  4, NLML: 805.5308 \n",
      "iter  5, NLML: 794.3389 \n",
      "iter  6, NLML: 788.4086 \n",
      "iter  7, NLML: 784.8001 \n",
      "iter  1, NLML: 1141.6371 \n",
      "iter  2, NLML: 907.3707 \n",
      "iter  3, NLML: 837.2459 \n",
      "iter  4, NLML: 809.6132 \n",
      "iter  5, NLML: 797.7532 \n",
      "iter  6, NLML: 791.6909 \n",
      "iter  7, NLML: 788.0542 \n",
      "iter  1, NLML: 1116.5227 \n",
      "iter  2, NLML: 884.8460 \n",
      "iter  3, NLML: 819.1488 \n",
      "iter  4, NLML: 793.0725 \n",
      "iter  5, NLML: 781.5251 \n",
      "iter  6, NLML: 775.5618 \n",
      "iter  7, NLML: 771.9816 \n"
     ]
    },
    {
     "name": "stderr",
     "output_type": "stream",
     "text": [
      "\r\u001b[32mComputing...  54%|█████████████████████▏                 |  ETA: 0:07:34\u001b[39m\u001b[K"
     ]
    },
    {
     "name": "stderr",
     "output_type": "stream",
     "text": [
      "\r\u001b[32mComputing...  55%|█████████████████████▎                 |  ETA: 0:07:29\u001b[39m\u001b[K"
     ]
    },
    {
     "name": "stderr",
     "output_type": "stream",
     "text": [
      "\r\u001b[32mComputing...  55%|█████████████████████▌                 |  ETA: 0:07:25\u001b[39m\u001b[K"
     ]
    },
    {
     "name": "stderr",
     "output_type": "stream",
     "text": [
      "\r\u001b[32mComputing...  56%|█████████████████████▋                 |  ETA: 0:07:20\u001b[39m\u001b[K"
     ]
    },
    {
     "name": "stderr",
     "output_type": "stream",
     "text": [
      "\r\u001b[32mComputing...  56%|█████████████████████▉                 |  ETA: 0:07:15\u001b[39m\u001b[K"
     ]
    },
    {
     "name": "stderr",
     "output_type": "stream",
     "text": [
      "\r\u001b[32mComputing...  56%|██████████████████████                 |  ETA: 0:07:10\u001b[39m\u001b[K"
     ]
    },
    {
     "name": "stderr",
     "output_type": "stream",
     "text": [
      "\r\u001b[32mComputing...  57%|██████████████████████▎                |  ETA: 0:07:06\u001b[39m\u001b[K"
     ]
    },
    {
     "name": "stderr",
     "output_type": "stream",
     "text": [
      "\r\u001b[32mComputing...  57%|██████████████████████▍                |  ETA: 0:07:02\u001b[39m\u001b[K"
     ]
    },
    {
     "name": "stderr",
     "output_type": "stream",
     "text": [
      "\r\u001b[32mComputing...  58%|██████████████████████▋                |  ETA: 0:06:57\u001b[39m\u001b[K"
     ]
    },
    {
     "name": "stderr",
     "output_type": "stream",
     "text": [
      "\r\u001b[32mComputing...  58%|██████████████████████▊                |  ETA: 0:06:52\u001b[39m\u001b[K"
     ]
    },
    {
     "name": "stderr",
     "output_type": "stream",
     "text": [
      "\r\u001b[32mComputing...  59%|██████████████████████▉                |  ETA: 0:06:48\u001b[39m\u001b[K"
     ]
    },
    {
     "name": "stderr",
     "output_type": "stream",
     "text": [
      "\r\u001b[32mComputing...  59%|███████████████████████▏               |  ETA: 0:06:43\u001b[39m\u001b[K"
     ]
    },
    {
     "name": "stderr",
     "output_type": "stream",
     "text": [
      "\r\u001b[32mComputing...  60%|███████████████████████▎               |  ETA: 0:06:39\u001b[39m\u001b[K"
     ]
    },
    {
     "name": "stderr",
     "output_type": "stream",
     "text": [
      "\r\u001b[32mComputing...  60%|███████████████████████▌               |  ETA: 0:06:34\u001b[39m\u001b[K"
     ]
    },
    {
     "name": "stderr",
     "output_type": "stream",
     "text": [
      "\r\u001b[32mComputing...  61%|███████████████████████▋               |  ETA: 0:06:29\u001b[39m\u001b[K"
     ]
    },
    {
     "name": "stderr",
     "output_type": "stream",
     "text": [
      "\r\u001b[32mComputing...  61%|███████████████████████▉               |  ETA: 0:06:25\u001b[39m\u001b[K"
     ]
    },
    {
     "name": "stderr",
     "output_type": "stream",
     "text": [
      "\r\u001b[32mComputing...  62%|████████████████████████               |  ETA: 0:06:20\u001b[39m\u001b[K"
     ]
    },
    {
     "name": "stderr",
     "output_type": "stream",
     "text": [
      "\r\u001b[32mComputing...  62%|████████████████████████▎              |  ETA: 0:06:16\u001b[39m\u001b[K"
     ]
    },
    {
     "name": "stderr",
     "output_type": "stream",
     "text": [
      "\r\u001b[32mComputing...  62%|████████████████████████▍              |  ETA: 0:06:11\u001b[39m\u001b[K"
     ]
    },
    {
     "name": "stderr",
     "output_type": "stream",
     "text": [
      "\r\u001b[32mComputing...  63%|████████████████████████▌              |  ETA: 0:06:06\u001b[39m\u001b[K"
     ]
    },
    {
     "name": "stderr",
     "output_type": "stream",
     "text": [
      "\r\u001b[32mComputing...  63%|████████████████████████▊              |  ETA: 0:06:02\u001b[39m\u001b[K"
     ]
    },
    {
     "name": "stderr",
     "output_type": "stream",
     "text": [
      "\r\u001b[32mComputing...  64%|████████████████████████▉              |  ETA: 0:05:57\u001b[39m\u001b[K"
     ]
    },
    {
     "name": "stderr",
     "output_type": "stream",
     "text": [
      "\r\u001b[32mComputing...  64%|█████████████████████████▏             |  ETA: 0:05:52\u001b[39m\u001b[K"
     ]
    },
    {
     "name": "stderr",
     "output_type": "stream",
     "text": [
      "\r\u001b[32mComputing...  65%|█████████████████████████▎             |  ETA: 0:05:48\u001b[39m\u001b[K"
     ]
    },
    {
     "name": "stderr",
     "output_type": "stream",
     "text": [
      "\r\u001b[32mComputing...  65%|█████████████████████████▌             |  ETA: 0:05:43\u001b[39m\u001b[K"
     ]
    },
    {
     "name": "stderr",
     "output_type": "stream",
     "text": [
      "\r\u001b[32mComputing...  66%|█████████████████████████▋             |  ETA: 0:05:38\u001b[39m\u001b[K"
     ]
    },
    {
     "name": "stderr",
     "output_type": "stream",
     "text": [
      "\r\u001b[32mComputing...  66%|█████████████████████████▉             |  ETA: 0:05:34\u001b[39m\u001b[K"
     ]
    },
    {
     "name": "stderr",
     "output_type": "stream",
     "text": [
      "\r\u001b[32mComputing...  67%|██████████████████████████             |  ETA: 0:05:29\u001b[39m\u001b[K"
     ]
    },
    {
     "name": "stderr",
     "output_type": "stream",
     "text": [
      "\r\u001b[32mComputing...  67%|██████████████████████████▏            |  ETA: 0:05:25\u001b[39m\u001b[K"
     ]
    },
    {
     "name": "stderr",
     "output_type": "stream",
     "text": [
      "\r\u001b[32mComputing...  68%|██████████████████████████▍            |  ETA: 0:05:20\u001b[39m\u001b[K"
     ]
    },
    {
     "name": "stderr",
     "output_type": "stream",
     "text": [
      "\r\u001b[32mComputing...  68%|██████████████████████████▌            |  ETA: 0:05:15\u001b[39m\u001b[K"
     ]
    },
    {
     "name": "stderr",
     "output_type": "stream",
     "text": [
      "\r\u001b[32mComputing...  69%|██████████████████████████▊            |  ETA: 0:05:11\u001b[39m\u001b[K"
     ]
    },
    {
     "name": "stderr",
     "output_type": "stream",
     "text": [
      "\r\u001b[32mComputing...  69%|██████████████████████████▉            |  ETA: 0:05:06\u001b[39m\u001b[K"
     ]
    },
    {
     "name": "stderr",
     "output_type": "stream",
     "text": [
      "\r\u001b[32mComputing...  69%|███████████████████████████▏           |  ETA: 0:05:01\u001b[39m\u001b[K"
     ]
    },
    {
     "name": "stderr",
     "output_type": "stream",
     "text": [
      "\r\u001b[32mComputing...  70%|███████████████████████████▎           |  ETA: 0:04:57\u001b[39m\u001b[K"
     ]
    },
    {
     "name": "stderr",
     "output_type": "stream",
     "text": [
      "\r\u001b[32mComputing...  70%|███████████████████████████▌           |  ETA: 0:04:52\u001b[39m\u001b[K"
     ]
    },
    {
     "name": "stderr",
     "output_type": "stream",
     "text": [
      "\r\u001b[32mComputing...  71%|███████████████████████████▋           |  ETA: 0:04:48\u001b[39m\u001b[K"
     ]
    },
    {
     "name": "stderr",
     "output_type": "stream",
     "text": [
      "\r\u001b[32mComputing...  71%|███████████████████████████▊           |  ETA: 0:04:43\u001b[39m\u001b[K"
     ]
    },
    {
     "name": "stderr",
     "output_type": "stream",
     "text": [
      "\r\u001b[32mComputing...  72%|████████████████████████████           |  ETA: 0:04:38\u001b[39m\u001b[K"
     ]
    },
    {
     "name": "stderr",
     "output_type": "stream",
     "text": [
      "\r\u001b[32mComputing...  72%|████████████████████████████▏          |  ETA: 0:04:34\u001b[39m\u001b[K"
     ]
    },
    {
     "name": "stderr",
     "output_type": "stream",
     "text": [
      "\r\u001b[32mComputing...  73%|████████████████████████████▍          |  ETA: 0:04:29\u001b[39m\u001b[K"
     ]
    },
    {
     "name": "stderr",
     "output_type": "stream",
     "text": [
      "\r\u001b[32mComputing...  73%|████████████████████████████▌          |  ETA: 0:04:24\u001b[39m\u001b[K"
     ]
    },
    {
     "name": "stderr",
     "output_type": "stream",
     "text": [
      "\r\u001b[32mComputing...  74%|████████████████████████████▊          |  ETA: 0:04:20\u001b[39m\u001b[K"
     ]
    },
    {
     "name": "stderr",
     "output_type": "stream",
     "text": [
      "\r\u001b[32mComputing...  74%|████████████████████████████▉          |  ETA: 0:04:16\u001b[39m\u001b[K"
     ]
    },
    {
     "name": "stderr",
     "output_type": "stream",
     "text": [
      "\r\u001b[32mComputing...  75%|█████████████████████████████▏         |  ETA: 0:04:11\u001b[39m\u001b[K"
     ]
    },
    {
     "name": "stderr",
     "output_type": "stream",
     "text": [
      "\r\u001b[32mComputing...  75%|█████████████████████████████▎         |  ETA: 0:04:07\u001b[39m\u001b[K"
     ]
    },
    {
     "name": "stderr",
     "output_type": "stream",
     "text": [
      "\r\u001b[32mComputing...  75%|█████████████████████████████▍         |  ETA: 0:04:02\u001b[39m\u001b[K"
     ]
    },
    {
     "name": "stderr",
     "output_type": "stream",
     "text": [
      "\r\u001b[32mComputing...  76%|█████████████████████████████▋         |  ETA: 0:03:57\u001b[39m\u001b[K"
     ]
    },
    {
     "name": "stderr",
     "output_type": "stream",
     "text": [
      "\r\u001b[32mComputing...  76%|█████████████████████████████▊         |  ETA: 0:03:53\u001b[39m\u001b[K"
     ]
    },
    {
     "name": "stderr",
     "output_type": "stream",
     "text": [
      "\r\u001b[32mComputing...  77%|██████████████████████████████         |  ETA: 0:03:48\u001b[39m\u001b[K"
     ]
    },
    {
     "name": "stderr",
     "output_type": "stream",
     "text": [
      "\r\u001b[32mComputing...  77%|██████████████████████████████▏        |  ETA: 0:03:44\u001b[39m\u001b[K"
     ]
    },
    {
     "name": "stderr",
     "output_type": "stream",
     "text": [
      "\r\u001b[32mComputing...  78%|██████████████████████████████▍        |  ETA: 0:03:39\u001b[39m\u001b[K"
     ]
    },
    {
     "name": "stderr",
     "output_type": "stream",
     "text": [
      "\r\u001b[32mComputing...  78%|██████████████████████████████▌        |  ETA: 0:03:35\u001b[39m\u001b[K"
     ]
    },
    {
     "name": "stderr",
     "output_type": "stream",
     "text": [
      "\r\u001b[32mComputing...  79%|██████████████████████████████▊        |  ETA: 0:03:30\u001b[39m\u001b[K"
     ]
    },
    {
     "name": "stderr",
     "output_type": "stream",
     "text": [
      "\r\u001b[32mComputing...  79%|██████████████████████████████▉        |  ETA: 0:03:26\u001b[39m\u001b[K"
     ]
    },
    {
     "name": "stderr",
     "output_type": "stream",
     "text": [
      "\r\u001b[32mComputing...  80%|███████████████████████████████        |  ETA: 0:03:21\u001b[39m\u001b[K"
     ]
    },
    {
     "name": "stderr",
     "output_type": "stream",
     "text": [
      "\r\u001b[32mComputing...  80%|███████████████████████████████▎       |  ETA: 0:03:16\u001b[39m\u001b[K"
     ]
    },
    {
     "name": "stderr",
     "output_type": "stream",
     "text": [
      "\r\u001b[32mComputing...  81%|███████████████████████████████▍       |  ETA: 0:03:12\u001b[39m\u001b[K"
     ]
    },
    {
     "name": "stderr",
     "output_type": "stream",
     "text": [
      "\r\u001b[32mComputing...  81%|███████████████████████████████▋       |  ETA: 0:03:07\u001b[39m\u001b[K"
     ]
    },
    {
     "name": "stdout",
     "output_type": "stream",
     "text": [
      "iter  1, NLML: 1125.1399 \n",
      "iter  2, NLML: 904.9492 \n",
      "iter  3, NLML: 843.1873 \n",
      "iter  4, NLML: 817.6604 \n",
      "iter  5, NLML: 805.8997 \n",
      "iter  6, NLML: 799.6595 \n",
      "iter  7, NLML: 795.8718 \n",
      "iter  1, NLML: 1116.3663 \n",
      "iter  2, NLML: 903.8334 \n",
      "iter  3, NLML: 842.9287 \n",
      "iter  4, NLML: 817.5292 \n",
      "iter  5, NLML: 805.6774 \n",
      "iter  6, NLML: 799.3046 \n",
      "iter  7, NLML: 795.3832 \n",
      "iter  1, NLML: 1165.4831 \n",
      "iter  2, NLML: 929.8098 \n",
      "iter  3, NLML: 856.6266 \n",
      "iter  4, NLML: 825.6952 \n",
      "iter  5, NLML: 810.9573 \n",
      "iter  6, NLML: 802.9000 \n",
      "iter  7, NLML: 798.0595 \n",
      "iter  1, NLML: 1202.6686 \n",
      "iter  2, NLML: 940.6409 \n",
      "iter  3, NLML: 857.7441 \n",
      "iter  4, NLML: 825.3414 \n",
      "iter  5, NLML: 810.6388 \n",
      "iter  6, NLML: 802.8473 \n",
      "iter  7, NLML: 798.2941 \n",
      "iter  1, NLML: 1202.5222 \n",
      "iter  2, NLML: 936.7761 \n",
      "iter  3, NLML: 849.5551 \n",
      "iter  4, NLML: 813.7217 \n",
      "iter  5, NLML: 797.9285 \n",
      "iter  6, NLML: 789.9114 \n",
      "iter  7, NLML: 785.4278 \n",
      "iter  1, NLML: 1222.5386 \n",
      "iter  2, NLML: 931.9723 \n",
      "iter  3, NLML: 827.9822 \n",
      "iter  4, NLML: 784.2082 \n",
      "iter  5, NLML: 765.5570 \n",
      "iter  6, NLML: 756.4186 \n",
      "iter  7, NLML: 751.4281 \n",
      "iter  1, NLML: 1243.3564 \n",
      "iter  2, NLML: 949.3906 \n",
      "iter  3, NLML: 841.8171 \n",
      "iter  4, NLML: 793.8021 \n",
      "iter  5, NLML: 772.4353 \n",
      "iter  6, NLML: 761.9411 \n",
      "iter  7, NLML: 756.2583 \n",
      "iter  1, NLML: 1240.8502 \n",
      "iter  2, NLML: 944.9026 \n",
      "iter  3, NLML: 836.2429 \n",
      "iter  4, NLML: 785.9469 \n",
      "iter  5, NLML: 763.2361 \n",
      "iter  6, NLML: 752.1625 \n",
      "iter  7, NLML: 746.2467 \n",
      "iter  1, NLML: 1168.5471 \n",
      "iter  2, NLML: 907.8896 \n",
      "iter  3, NLML: 818.3778 \n",
      "iter  4, NLML: 780.4706 \n",
      "iter  5, NLML: 763.0046 \n",
      "iter  6, NLML: 754.0928 \n",
      "iter  7, NLML: 749.0837 \n",
      "iter  1, NLML: 1161.6714 \n",
      "iter  2, NLML: 905.3958 \n",
      "iter  3, NLML: 816.9999 \n",
      "iter  4, NLML: 778.5434 \n",
      "iter  5, NLML: 760.5834 \n",
      "iter  6, NLML: 751.4266 \n",
      "iter  7, NLML: 746.3254 \n",
      "iter  1, NLML: 1176.3645 \n",
      "iter  2, NLML: 905.7076 \n",
      "iter  3, NLML: 817.7353 \n",
      "iter  4, NLML: 780.3517 \n",
      "iter  5, NLML: 763.1404 \n",
      "iter  6, NLML: 754.3035 \n",
      "iter  7, NLML: 749.2953 \n",
      "iter  1, NLML: 1110.5896 \n",
      "iter  2, NLML: 879.9491 \n",
      "iter  3, NLML: 805.2790 \n",
      "iter  4, NLML: 774.6141 \n",
      "iter  5, NLML: 759.9406 \n",
      "iter  6, NLML: 751.9209 \n",
      "iter  7, NLML: 747.1154 \n",
      "iter  1, NLML: 1104.0960 \n",
      "iter  2, NLML: 883.1039 \n",
      "iter  3, NLML: 809.0565 \n",
      "iter  4, NLML: 777.9657 \n",
      "iter  5, NLML: 763.3092 \n",
      "iter  6, NLML: 755.6392 \n",
      "iter  7, NLML: 751.1308 \n",
      "iter  1, NLML: 1067.5131 \n",
      "iter  2, NLML: 870.3163 \n",
      "iter  3, NLML: 803.9942 \n",
      "iter  4, NLML: 774.9606 \n",
      "iter  5, NLML: 760.3506 \n",
      "iter  6, NLML: 752.2744 \n",
      "iter  7, NLML: 747.4059 \n",
      "iter  1, NLML: 1050.0435 \n",
      "iter  2, NLML: 863.2796 \n",
      "iter  3, NLML: 801.2052 \n",
      "iter  4, NLML: 773.1649 \n",
      "iter  5, NLML: 758.8608 \n",
      "iter  6, NLML: 750.9357 \n",
      "iter  7, NLML: 746.1297 \n",
      "iter  1, NLML: 981.0353 \n",
      "iter  2, NLML: 830.0811 \n",
      "iter  3, NLML: 781.8046 \n",
      "iter  4, NLML: 760.6624 \n",
      "iter  5, NLML: 750.0215 \n",
      "iter  6, NLML: 744.1366 \n",
      "iter  7, NLML: 740.5493 \n",
      "iter  1, NLML: 999.4016 \n",
      "iter  2, NLML: 850.4518 \n",
      "iter  3, NLML: 792.6056 \n",
      "iter  4, NLML: 764.7229 \n",
      "iter  5, NLML: 750.4278 \n",
      "iter  6, NLML: 742.6374 \n",
      "iter  7, NLML: 737.9918 \n",
      "iter  1, NLML: 904.6803 \n",
      "iter  2, NLML: 785.4281 \n",
      "iter  3, NLML: 750.1166 \n",
      "iter  4, NLML: 735.3704 \n",
      "iter  5, NLML: 728.0029 \n",
      "iter  6, NLML: 723.6152 \n",
      "iter  7, NLML: 720.6301 \n",
      "iter  1, NLML: 904.6603 \n",
      "iter  2, NLML: 787.8688 \n",
      "iter  3, NLML: 752.9979 \n",
      "iter  4, NLML: 737.8884 \n",
      "iter  5, NLML: 730.1649 \n",
      "iter  6, NLML: 725.4770 \n",
      "iter  7, NLML: 722.2380 \n",
      "iter  1, NLML: 905.0390 \n",
      "iter  2, NLML: 790.1637 \n",
      "iter  3, NLML: 756.8117 \n",
      "iter  4, NLML: 742.2357 \n",
      "iter  5, NLML: 734.5753 \n",
      "iter  6, NLML: 729.8091 \n",
      "iter  7, NLML: 726.4643 \n",
      "iter  1, NLML: 906.3927 \n",
      "iter  2, NLML: 795.4461 \n",
      "iter  3, NLML: 762.4704 \n",
      "iter  4, NLML: 747.4429 \n",
      "iter  5, NLML: 739.4774 \n",
      "iter  6, NLML: 734.5693 \n",
      "iter  7, NLML: 731.1682 \n",
      "iter  1, NLML: 895.9202 \n",
      "iter  2, NLML: 789.1929 \n",
      "iter  3, NLML: 759.8182 \n",
      "iter  4, NLML: 746.9486 \n",
      "iter  5, NLML: 739.9182 \n",
      "iter  6, NLML: 735.3785 \n",
      "iter  7, NLML: 732.1065 \n",
      "iter  1, NLML: 902.3278 \n",
      "iter  2, NLML: 794.9956 \n",
      "iter  3, NLML: 765.0451 \n",
      "iter  4, NLML: 751.8883 \n",
      "iter  5, NLML: 744.7338 \n",
      "iter  6, NLML: 740.1433 \n",
      "iter  7, NLML: 736.8548 \n",
      "iter  1, NLML: 905.0546 \n",
      "iter  2, NLML: 795.1699 \n",
      "iter  3, NLML: 763.9834 \n",
      "iter  4, NLML: 750.6200 \n",
      "iter  5, NLML: 743.4724 \n",
      "iter  6, NLML: 738.8756 \n",
      "iter  7, NLML: 735.5528 \n",
      "iter  1, NLML: 922.0432 \n",
      "iter  2, NLML: 800.0725 \n",
      "iter  3, NLML: 765.0456 \n",
      "iter  4, NLML: 751.1982 \n",
      "iter  5, NLML: 743.8909 \n",
      "iter  6, NLML: 739.2201 \n",
      "iter  7, NLML: 735.8498 \n",
      "iter  1, NLML: 864.3685 \n",
      "iter  2, NLML: 763.9444 \n",
      "iter  3, NLML: 742.3278 \n",
      "iter  4, NLML: 733.0323 \n",
      "iter  5, NLML: 727.6256 \n",
      "iter  6, NLML: 723.8180 \n",
      "iter  7, NLML: 720.8923 \n",
      "iter  1, NLML: 796.2129 \n",
      "iter  2, NLML: 701.0812 \n",
      "iter  3, NLML: 682.2034 \n",
      "iter  4, NLML: 674.9806 \n",
      "iter  5, NLML: 671.0210 \n",
      "iter  6, NLML: 668.2765 \n",
      "iter  7, NLML: 666.1600 \n",
      "iter  1, NLML: 795.7530 \n",
      "iter  2, NLML: 697.9681 \n",
      "iter  3, NLML: 678.9166 \n",
      "iter  4, NLML: 672.2797 \n",
      "iter  5, NLML: 668.8575 \n",
      "iter  6, NLML: 666.5396 \n",
      "iter  7, NLML: 664.7690 \n",
      "iter  1, NLML: 835.0405 \n",
      "iter  2, NLML: 710.6079 \n",
      "iter  3, NLML: 683.4818 \n",
      "iter  4, NLML: 674.3753 \n",
      "iter  5, NLML: 669.7968 \n",
      "iter  6, NLML: 666.8101 \n",
      "iter  7, NLML: 664.6021 \n",
      "iter  1, NLML: 842.1188 \n",
      "iter  2, NLML: 706.9887 \n",
      "iter  3, NLML: 678.0277 \n",
      "iter  4, NLML: 668.8428 \n",
      "iter  5, NLML: 664.3516 \n",
      "iter  6, NLML: 661.5279 \n",
      "iter  7, NLML: 659.4995 \n",
      "iter  1, NLML: 811.7834 \n",
      "iter  2, NLML: 691.7822 \n",
      "iter  3, NLML: 666.1312 \n",
      "iter  4, NLML: 657.9315 \n",
      "iter  5, NLML: 653.8316 \n",
      "iter  6, NLML: 651.1767 \n",
      "iter  7, NLML: 649.2224 \n",
      "iter  1, NLML: 804.3028 \n",
      "iter  2, NLML: 689.5828 \n",
      "iter  3, NLML: 663.8794 \n",
      "iter  4, NLML: 655.5643 \n",
      "iter  5, NLML: 651.3516 \n",
      "iter  6, NLML: 648.6118 \n",
      "iter  7, NLML: 646.5831 \n",
      "iter  1, NLML: 792.8211 \n",
      "iter  2, NLML: 688.4677 \n",
      "iter  3, NLML: 663.9967 \n",
      "iter  4, NLML: 655.1637 \n",
      "iter  5, NLML: 650.6956 \n",
      "iter  6, NLML: 647.8338 \n",
      "iter  7, NLML: 645.7244 \n",
      "iter  1, NLML: 781.4953 \n",
      "iter  2, NLML: 680.4975 \n",
      "iter  3, NLML: 656.5865 \n",
      "iter  4, NLML: 647.9283 \n",
      "iter  5, NLML: 643.5941 \n",
      "iter  6, NLML: 640.8072 \n",
      "iter  7, NLML: 638.7295 \n",
      "iter  1, NLML: 763.9502 \n",
      "iter  2, NLML: 660.9908 \n",
      "iter  3, NLML: 637.0831 \n",
      "iter  4, NLML: 628.3241 \n",
      "iter  5, NLML: 624.1020 \n",
      "iter  6, NLML: 621.5092 \n",
      "iter  7, NLML: 619.6319 \n",
      "iter  1, NLML: 741.9507 \n",
      "iter  2, NLML: 652.2284 \n",
      "iter  3, NLML: 633.5696 \n",
      "iter  4, NLML: 626.3951 \n",
      "iter  5, NLML: 622.5924 \n",
      "iter  6, NLML: 620.0414 \n",
      "iter  7, NLML: 618.0880 \n",
      "iter  1, NLML: 729.3860 \n",
      "iter  2, NLML: 655.8617 \n",
      "iter  3, NLML: 636.9991 \n",
      "iter  4, NLML: 629.3261 \n",
      "iter  5, NLML: 625.1924 \n",
      "iter  6, NLML: 622.4154 \n",
      "iter  7, NLML: 620.3124 \n",
      "iter  1, NLML: 753.1646 \n",
      "iter  2, NLML: 659.5487 \n",
      "iter  3, NLML: 635.2419 \n",
      "iter  4, NLML: 625.6614 \n",
      "iter  5, NLML: 620.4162 \n",
      "iter  6, NLML: 616.9299 \n",
      "iter  7, NLML: 614.3543 \n",
      "iter  1, NLML: 758.1517 \n",
      "iter  2, NLML: 655.3451 \n",
      "iter  3, NLML: 629.1762 \n",
      "iter  4, NLML: 619.3122 \n",
      "iter  5, NLML: 614.0425 \n",
      "iter  6, NLML: 610.5863 \n",
      "iter  7, NLML: 608.0480 \n",
      "iter  1, NLML: 745.3111 \n",
      "iter  2, NLML: 640.3217 \n",
      "iter  3, NLML: 615.2025 \n",
      "iter  4, NLML: 605.3941 \n",
      "iter  5, NLML: 600.1638 \n",
      "iter  6, NLML: 596.7751 \n",
      "iter  7, NLML: 594.3223 \n",
      "iter  1, NLML: 750.0730 \n",
      "iter  2, NLML: 643.8723 \n",
      "iter  3, NLML: 618.0446 \n",
      "iter  4, NLML: 608.3608 \n",
      "iter  5, NLML: 603.3528 \n",
      "iter  6, NLML: 600.1859 \n",
      "iter  7, NLML: 597.9228 \n",
      "iter  1, NLML: 746.5124 \n",
      "iter  2, NLML: 641.5876 \n",
      "iter  3, NLML: 615.5982 \n",
      "iter  4, NLML: 605.7089 \n",
      "iter  5, NLML: 600.5445 \n",
      "iter  6, NLML: 597.2621 \n",
      "iter  7, NLML: 594.9042 \n",
      "iter  1, NLML: 699.6813 \n",
      "iter  2, NLML: 616.0691 \n",
      "iter  3, NLML: 598.4103 \n",
      "iter  4, NLML: 592.0585 \n",
      "iter  5, NLML: 588.7351 \n",
      "iter  6, NLML: 586.4595 \n",
      "iter  7, NLML: 584.7041 \n",
      "iter  1, NLML: 702.5442 \n",
      "iter  2, NLML: 614.3554 \n",
      "iter  3, NLML: 593.5279 \n",
      "iter  4, NLML: 585.8006 \n",
      "iter  5, NLML: 581.7937 \n",
      "iter  6, NLML: 579.0740 \n",
      "iter  7, NLML: 576.9885 \n",
      "iter  1, NLML: 702.1051 \n",
      "iter  2, NLML: 613.5270 \n",
      "iter  3, NLML: 592.3949 \n",
      "iter  4, NLML: 584.4117 \n",
      "iter  5, NLML: 580.2782 \n",
      "iter  6, NLML: 577.4904 \n",
      "iter  7, NLML: 575.3668 \n",
      "iter  1, NLML: 710.2053 \n",
      "iter  2, NLML: 615.3653 \n",
      "iter  3, NLML: 591.9957 \n",
      "iter  4, NLML: 583.5184 \n",
      "iter  5, NLML: 579.2190 \n",
      "iter  6, NLML: 576.3281 \n",
      "iter  7, NLML: 574.1199 \n",
      "iter  1, NLML: 736.4066 \n",
      "iter  2, NLML: 629.4167 \n",
      "iter  3, NLML: 601.5327 \n",
      "iter  4, NLML: 592.3289 \n",
      "iter  5, NLML: 588.0489 \n",
      "iter  6, NLML: 585.3682 \n",
      "iter  7, NLML: 583.4044 \n",
      "iter  1, NLML: 703.2538 \n",
      "iter  2, NLML: 616.3163 \n",
      "iter  3, NLML: 593.5726 \n",
      "iter  4, NLML: 586.1464 \n",
      "iter  5, NLML: 582.3358 \n",
      "iter  6, NLML: 579.8672 \n",
      "iter  7, NLML: 578.0812 \n",
      "iter  1, NLML: 712.6701 \n",
      "iter  2, NLML: 620.2622 \n",
      "iter  3, NLML: 594.1231 \n",
      "iter  4, NLML: 584.8972 \n",
      "iter  5, NLML: 580.3171 \n",
      "iter  6, NLML: 577.4916 \n",
      "iter  7, NLML: 575.5134 \n",
      "iter  1, NLML: 692.1386 \n",
      "iter  2, NLML: 605.5555 \n",
      "iter  3, NLML: 580.8523 \n",
      "iter  4, NLML: 572.1082 \n",
      "iter  5, NLML: 567.7248 \n",
      "iter  6, NLML: 564.9692 \n",
      "iter  7, NLML: 563.0056 \n",
      "iter  1, NLML: 723.4689 \n",
      "iter  2, NLML: 619.0330 \n",
      "iter  3, NLML: 584.1172 \n",
      "iter  4, NLML: 573.0820 \n",
      "iter  5, NLML: 568.1693 \n",
      "iter  6, NLML: 565.1971 \n",
      "iter  7, NLML: 563.1292 \n",
      "iter  1, NLML: 718.4758 \n",
      "iter  2, NLML: 619.3124 \n",
      "iter  3, NLML: 588.7441 \n",
      "iter  4, NLML: 576.9681 \n",
      "iter  5, NLML: 570.8687 \n",
      "iter  6, NLML: 567.0188 \n",
      "iter  7, NLML: 564.3125 \n",
      "iter  1, NLML: 630.0927 \n",
      "iter  2, NLML: 568.6645 \n",
      "iter  3, NLML: 553.4532 \n",
      "iter  4, NLML: 549.3633 \n",
      "iter  5, NLML: 547.4422 \n",
      "iter  6, NLML: 546.0537 \n",
      "iter  7, NLML: 544.9007 \n",
      "iter  1, NLML: 621.0042 \n",
      "iter  2, NLML: 559.9708 \n",
      "iter  3, NLML: 544.7390 \n",
      "iter  4, NLML: 540.2652 \n",
      "iter  5, NLML: 537.9551 \n",
      "iter  6, NLML: 536.2468 \n",
      "iter  7, NLML: 534.8421 \n",
      "iter  1, NLML: 604.9370 \n",
      "iter  2, NLML: 542.9928 \n",
      "iter  3, NLML: 527.7528 \n",
      "iter  4, NLML: 523.1915 \n",
      "iter  5, NLML: 520.8574 \n",
      "iter  6, NLML: 519.1559 \n",
      "iter  7, NLML: 517.7692 \n",
      "iter  1, NLML: 598.1260 \n",
      "iter  2, NLML: 543.8302 \n",
      "iter  3, NLML: 531.8441 \n",
      "iter  4, NLML: 527.9103 \n",
      "iter  5, NLML: 525.7168 \n",
      "iter  6, NLML: 524.0802 \n",
      "iter  7, NLML: 522.7388 \n",
      "iter  1, NLML: 607.3042 \n",
      "iter  2, NLML: 550.6560 \n",
      "iter  3, NLML: 537.5435 \n",
      "iter  4, NLML: 532.9270 \n",
      "iter  5, NLML: 530.3306 \n",
      "iter  6, NLML: 528.4416 \n",
      "iter  7, NLML: 526.9263 \n",
      "iter  1, NLML: 572.0127 \n",
      "iter  2, NLML: 533.3249 \n",
      "iter  3, NLML: 525.3693 \n",
      "iter  4, NLML: 522.3532 \n",
      "iter  5, NLML: 520.3678 \n",
      "iter  6, NLML: 518.7687 \n",
      "iter  7, NLML: 517.3937 \n",
      "iter  1, NLML: 595.9054 \n",
      "iter  2, NLML: 546.0641 \n",
      "iter  3, NLML: 535.7386 \n",
      "iter  4, NLML: 532.4087 \n"
     ]
    },
    {
     "name": "stderr",
     "output_type": "stream",
     "text": [
      "\r\u001b[32mComputing...  81%|███████████████████████████████▊       |  ETA: 0:03:03\u001b[39m\u001b[K"
     ]
    },
    {
     "name": "stderr",
     "output_type": "stream",
     "text": [
      "\r\u001b[32mComputing...  82%|████████████████████████████████       |  ETA: 0:02:58\u001b[39m\u001b[K"
     ]
    },
    {
     "name": "stderr",
     "output_type": "stream",
     "text": [
      "\r\u001b[32mComputing...  82%|████████████████████████████████▏      |  ETA: 0:02:54\u001b[39m\u001b[K"
     ]
    },
    {
     "name": "stderr",
     "output_type": "stream",
     "text": [
      "\r\u001b[32mComputing...  83%|████████████████████████████████▍      |  ETA: 0:02:49\u001b[39m\u001b[K"
     ]
    },
    {
     "name": "stderr",
     "output_type": "stream",
     "text": [
      "\r\u001b[32mComputing...  83%|████████████████████████████████▌      |  ETA: 0:02:44\u001b[39m\u001b[K"
     ]
    },
    {
     "name": "stderr",
     "output_type": "stream",
     "text": [
      "\r\u001b[32mComputing...  84%|████████████████████████████████▋      |  ETA: 0:02:40\u001b[39m\u001b[K"
     ]
    },
    {
     "name": "stderr",
     "output_type": "stream",
     "text": [
      "\r\u001b[32mComputing...  84%|████████████████████████████████▉      |  ETA: 0:02:35\u001b[39m\u001b[K"
     ]
    },
    {
     "name": "stderr",
     "output_type": "stream",
     "text": [
      "\r\u001b[32mComputing...  85%|█████████████████████████████████      |  ETA: 0:02:31\u001b[39m\u001b[K"
     ]
    },
    {
     "name": "stderr",
     "output_type": "stream",
     "text": [
      "\r\u001b[32mComputing...  85%|█████████████████████████████████▎     |  ETA: 0:02:26\u001b[39m\u001b[K"
     ]
    },
    {
     "name": "stderr",
     "output_type": "stream",
     "text": [
      "\r\u001b[32mComputing...  86%|█████████████████████████████████▍     |  ETA: 0:02:21\u001b[39m\u001b[K"
     ]
    },
    {
     "name": "stderr",
     "output_type": "stream",
     "text": [
      "\r\u001b[32mComputing...  86%|█████████████████████████████████▋     |  ETA: 0:02:17\u001b[39m\u001b[K"
     ]
    },
    {
     "name": "stderr",
     "output_type": "stream",
     "text": [
      "\r\u001b[32mComputing...  87%|█████████████████████████████████▊     |  ETA: 0:02:12\u001b[39m\u001b[K"
     ]
    },
    {
     "name": "stderr",
     "output_type": "stream",
     "text": [
      "\r\u001b[32mComputing...  87%|██████████████████████████████████     |  ETA: 0:02:08\u001b[39m\u001b[K"
     ]
    },
    {
     "name": "stderr",
     "output_type": "stream",
     "text": [
      "\r\u001b[32mComputing...  88%|██████████████████████████████████▏    |  ETA: 0:02:03\u001b[39m\u001b[K"
     ]
    },
    {
     "name": "stderr",
     "output_type": "stream",
     "text": [
      "\r\u001b[32mComputing...  88%|██████████████████████████████████▎    |  ETA: 0:01:59\u001b[39m\u001b[K"
     ]
    },
    {
     "name": "stderr",
     "output_type": "stream",
     "text": [
      "\r\u001b[32mComputing...  88%|██████████████████████████████████▌    |  ETA: 0:01:54\u001b[39m\u001b[K"
     ]
    },
    {
     "name": "stderr",
     "output_type": "stream",
     "text": [
      "\r\u001b[32mComputing...  89%|██████████████████████████████████▋    |  ETA: 0:01:49\u001b[39m\u001b[K"
     ]
    },
    {
     "name": "stderr",
     "output_type": "stream",
     "text": [
      "\r\u001b[32mComputing...  89%|██████████████████████████████████▉    |  ETA: 0:01:45\u001b[39m\u001b[K"
     ]
    },
    {
     "name": "stderr",
     "output_type": "stream",
     "text": [
      "\r\u001b[32mComputing...  90%|███████████████████████████████████    |  ETA: 0:01:40\u001b[39m\u001b[K"
     ]
    },
    {
     "name": "stderr",
     "output_type": "stream",
     "text": [
      "\r\u001b[32mComputing...  90%|███████████████████████████████████▎   |  ETA: 0:01:36\u001b[39m\u001b[K"
     ]
    },
    {
     "name": "stderr",
     "output_type": "stream",
     "text": [
      "\r\u001b[32mComputing...  91%|███████████████████████████████████▍   |  ETA: 0:01:31\u001b[39m\u001b[K"
     ]
    },
    {
     "name": "stderr",
     "output_type": "stream",
     "text": [
      "\r\u001b[32mComputing...  91%|███████████████████████████████████▋   |  ETA: 0:01:27\u001b[39m\u001b[K"
     ]
    },
    {
     "name": "stderr",
     "output_type": "stream",
     "text": [
      "\r\u001b[32mComputing...  92%|███████████████████████████████████▊   |  ETA: 0:01:22\u001b[39m\u001b[K"
     ]
    },
    {
     "name": "stderr",
     "output_type": "stream",
     "text": [
      "\r\u001b[32mComputing...  92%|███████████████████████████████████▉   |  ETA: 0:01:18\u001b[39m\u001b[K"
     ]
    },
    {
     "name": "stderr",
     "output_type": "stream",
     "text": [
      "\r\u001b[32mComputing...  93%|████████████████████████████████████▏  |  ETA: 0:01:13\u001b[39m\u001b[K"
     ]
    },
    {
     "name": "stderr",
     "output_type": "stream",
     "text": [
      "\r\u001b[32mComputing...  93%|████████████████████████████████████▎  |  ETA: 0:01:08\u001b[39m\u001b[K"
     ]
    },
    {
     "name": "stderr",
     "output_type": "stream",
     "text": [
      "\r\u001b[32mComputing...  94%|████████████████████████████████████▌  |  ETA: 0:01:04\u001b[39m\u001b[K"
     ]
    },
    {
     "name": "stderr",
     "output_type": "stream",
     "text": [
      "\r\u001b[32mComputing...  94%|████████████████████████████████████▋  |  ETA: 0:00:59\u001b[39m\u001b[K"
     ]
    },
    {
     "name": "stderr",
     "output_type": "stream",
     "text": [
      "\r\u001b[32mComputing...  94%|████████████████████████████████████▉  |  ETA: 0:00:55\u001b[39m\u001b[K"
     ]
    },
    {
     "name": "stderr",
     "output_type": "stream",
     "text": [
      "\r\u001b[32mComputing...  95%|█████████████████████████████████████  |  ETA: 0:00:50\u001b[39m\u001b[K"
     ]
    },
    {
     "name": "stderr",
     "output_type": "stream",
     "text": [
      "\r\u001b[32mComputing...  95%|█████████████████████████████████████▎ |  ETA: 0:00:46\u001b[39m\u001b[K"
     ]
    },
    {
     "name": "stderr",
     "output_type": "stream",
     "text": [
      "\r\u001b[32mComputing...  96%|█████████████████████████████████████▍ |  ETA: 0:00:41\u001b[39m\u001b[K"
     ]
    },
    {
     "name": "stderr",
     "output_type": "stream",
     "text": [
      "\r\u001b[32mComputing...  96%|█████████████████████████████████████▌ |  ETA: 0:00:36\u001b[39m\u001b[K"
     ]
    },
    {
     "name": "stderr",
     "output_type": "stream",
     "text": [
      "\r\u001b[32mComputing...  97%|█████████████████████████████████████▊ |  ETA: 0:00:32\u001b[39m\u001b[K"
     ]
    },
    {
     "name": "stderr",
     "output_type": "stream",
     "text": [
      "\r\u001b[32mComputing...  97%|█████████████████████████████████████▉ |  ETA: 0:00:27\u001b[39m\u001b[K"
     ]
    },
    {
     "name": "stderr",
     "output_type": "stream",
     "text": [
      "\r\u001b[32mComputing...  98%|██████████████████████████████████████▏|  ETA: 0:00:23\u001b[39m\u001b[K"
     ]
    },
    {
     "name": "stderr",
     "output_type": "stream",
     "text": [
      "\r\u001b[32mComputing...  98%|██████████████████████████████████████▎|  ETA: 0:00:18\u001b[39m\u001b[K"
     ]
    },
    {
     "name": "stderr",
     "output_type": "stream",
     "text": [
      "\r\u001b[32mComputing...  99%|██████████████████████████████████████▌|  ETA: 0:00:14\u001b[39m\u001b[K"
     ]
    },
    {
     "name": "stderr",
     "output_type": "stream",
     "text": [
      "\r\u001b[32mComputing...  99%|██████████████████████████████████████▋|  ETA: 0:00:09\u001b[39m\u001b[K"
     ]
    },
    {
     "name": "stderr",
     "output_type": "stream",
     "text": [
      "\r\u001b[32mComputing... 100%|██████████████████████████████████████▉|  ETA: 0:00:05\u001b[39m\u001b[K"
     ]
    },
    {
     "name": "stderr",
     "output_type": "stream",
     "text": [
      "\r\u001b[32mComputing... 100%|███████████████████████████████████████| Time: 0:16:25\u001b[39m\u001b[K\n"
     ]
    },
    {
     "name": "stdout",
     "output_type": "stream",
     "text": [
      "iter  5, NLML: 530.5345 \n",
      "iter  6, NLML: 529.1260 \n",
      "iter  7, NLML: 527.9545 \n",
      "iter  1, NLML: 596.1605 \n",
      "iter  2, NLML: 549.6709 \n",
      "iter  3, NLML: 539.5786 \n",
      "iter  4, NLML: 536.2715 \n",
      "iter  5, NLML: 534.3388 \n",
      "iter  6, NLML: 532.8773 \n",
      "iter  7, NLML: 531.6654 \n",
      "iter  1, NLML: 592.5131 \n",
      "iter  2, NLML: 545.1602 \n",
      "iter  3, NLML: 535.0438 \n",
      "iter  4, NLML: 531.7808 \n",
      "iter  5, NLML: 529.9053 \n",
      "iter  6, NLML: 528.5077 \n",
      "iter  7, NLML: 527.3582 \n",
      "iter  1, NLML: 579.3577 \n",
      "iter  2, NLML: 533.9982 \n",
      "iter  3, NLML: 524.5073 \n",
      "iter  4, NLML: 521.3372 \n",
      "iter  5, NLML: 519.3112 \n",
      "iter  6, NLML: 517.6703 \n",
      "iter  7, NLML: 516.2417 \n",
      "iter  1, NLML: 584.3903 \n",
      "iter  2, NLML: 537.0958 \n",
      "iter  3, NLML: 527.1018 \n",
      "iter  4, NLML: 523.7581 \n",
      "iter  5, NLML: 521.6634 \n",
      "iter  6, NLML: 519.9792 \n",
      "iter  7, NLML: 518.5250 \n",
      "iter  1, NLML: 596.1149 \n",
      "iter  2, NLML: 542.4778 \n",
      "iter  3, NLML: 528.9352 \n",
      "iter  4, NLML: 524.4055 \n",
      "iter  5, NLML: 521.9315 \n",
      "iter  6, NLML: 520.1095 \n",
      "iter  7, NLML: 518.6121 \n",
      "iter  1, NLML: 555.9907 \n",
      "iter  2, NLML: 524.1557 \n",
      "iter  3, NLML: 517.5219 \n",
      "iter  4, NLML: 514.7582 \n",
      "iter  5, NLML: 512.9518 \n",
      "iter  6, NLML: 511.3950 \n",
      "iter  7, NLML: 509.9687 \n",
      "iter  1, NLML: 552.5587 \n",
      "iter  2, NLML: 518.9570 \n",
      "iter  3, NLML: 512.2602 \n",
      "iter  4, NLML: 509.4704 \n",
      "iter  5, NLML: 507.5465 \n",
      "iter  6, NLML: 505.8497 \n",
      "iter  7, NLML: 504.2883 \n",
      "iter  1, NLML: 547.3423 \n",
      "iter  2, NLML: 511.5722 \n",
      "iter  3, NLML: 504.1617 \n",
      "iter  4, NLML: 501.1478 \n",
      "iter  5, NLML: 499.3133 \n",
      "iter  6, NLML: 497.8177 \n",
      "iter  7, NLML: 496.4796 \n",
      "iter  1, NLML: 557.7879 \n",
      "iter  2, NLML: 522.9618 \n",
      "iter  3, NLML: 514.9085 \n",
      "iter  4, NLML: 511.5759 \n",
      "iter  5, NLML: 509.5299 \n",
      "iter  6, NLML: 507.8913 \n",
      "iter  7, NLML: 506.4583 \n",
      "iter  1, NLML: 543.7416 \n",
      "iter  2, NLML: 515.5836 \n",
      "iter  3, NLML: 508.4030 \n",
      "iter  4, NLML: 504.2686 \n",
      "iter  5, NLML: 501.6015 \n",
      "iter  6, NLML: 499.5769 \n",
      "iter  7, NLML: 497.8488 \n",
      "iter  1, NLML: 555.4656 \n",
      "iter  2, NLML: 530.1149 \n",
      "iter  3, NLML: 523.9301 \n",
      "iter  4, NLML: 520.0078 \n",
      "iter  5, NLML: 516.9868 \n",
      "iter  6, NLML: 514.5497 \n",
      "iter  7, NLML: 512.5193 \n",
      "iter  1, NLML: 564.2761 \n",
      "iter  2, NLML: 539.6402 \n",
      "iter  3, NLML: 534.0536 \n",
      "iter  4, NLML: 530.3003 \n",
      "iter  5, NLML: 527.2424 \n",
      "iter  6, NLML: 524.6780 \n",
      "iter  7, NLML: 522.5042 \n",
      "iter  1, NLML: 587.7452 \n",
      "iter  2, NLML: 551.4435 \n",
      "iter  3, NLML: 544.9595 \n",
      "iter  4, NLML: 541.4111 \n",
      "iter  5, NLML: 538.7084 \n",
      "iter  6, NLML: 536.5262 \n",
      "iter  7, NLML: 534.7179 \n",
      "iter  1, NLML: 593.9327 \n",
      "iter  2, NLML: 557.7278 \n",
      "iter  3, NLML: 550.7313 \n",
      "iter  4, NLML: 547.0689 \n",
      "iter  5, NLML: 544.3252 \n",
      "iter  6, NLML: 542.1433 \n",
      "iter  7, NLML: 540.3558 \n",
      "iter  1, NLML: 586.6786 \n",
      "iter  2, NLML: 550.3301 \n",
      "iter  3, NLML: 544.0998 \n",
      "iter  4, NLML: 540.9968 \n",
      "iter  5, NLML: 538.3075 \n",
      "iter  6, NLML: 535.7741 \n",
      "iter  7, NLML: 533.4591 \n",
      "iter  1, NLML: 594.6187 \n",
      "iter  2, NLML: 558.3210 \n",
      "iter  3, NLML: 551.7426 \n",
      "iter  4, NLML: 548.4518 \n",
      "iter  5, NLML: 545.5877 \n",
      "iter  6, NLML: 542.9070 \n",
      "iter  7, NLML: 540.5056 \n",
      "iter  1, NLML: 593.8804 \n",
      "iter  2, NLML: 557.5110 \n",
      "iter  3, NLML: 550.6168 \n",
      "iter  4, NLML: 547.1773 \n",
      "iter  5, NLML: 544.1490 \n",
      "iter  6, NLML: 541.3452 \n",
      "iter  7, NLML: 538.9027 \n",
      "iter  1, NLML: 594.3503 \n",
      "iter  2, NLML: 553.7897 \n",
      "iter  3, NLML: 546.8309 \n",
      "iter  4, NLML: 543.2910 \n",
      "iter  5, NLML: 540.2406 \n",
      "iter  6, NLML: 537.4098 \n",
      "iter  7, NLML: 534.9472 \n",
      "iter  1, NLML: 596.1904 \n",
      "iter  2, NLML: 553.1622 \n",
      "iter  3, NLML: 545.9080 \n",
      "iter  4, NLML: 542.3230 \n",
      "iter  5, NLML: 539.4470 \n",
      "iter  6, NLML: 536.8707 \n",
      "iter  7, NLML: 534.6506 \n",
      "iter  1, NLML: 596.4658 \n",
      "iter  2, NLML: 552.9470 \n",
      "iter  3, NLML: 546.1384 \n",
      "iter  4, NLML: 543.4086 \n",
      "iter  5, NLML: 541.5281 \n",
      "iter  6, NLML: 539.9619 \n",
      "iter  7, NLML: 538.5550 \n",
      "iter  1, NLML: 599.6168 \n",
      "iter  2, NLML: 556.0695 \n",
      "iter  3, NLML: 548.9963 \n",
      "iter  4, NLML: 545.9953 \n",
      "iter  5, NLML: 543.7097 \n",
      "iter  6, NLML: 541.5443 \n",
      "iter  7, NLML: 539.3194 \n",
      "iter  1, NLML: 607.7754 \n",
      "iter  2, NLML: 564.1339 \n",
      "iter  3, NLML: 557.7540 \n",
      "iter  4, NLML: 555.2966 \n",
      "iter  5, NLML: 553.8349 \n",
      "iter  6, NLML: 552.7333 \n",
      "iter  7, NLML: 551.7743 \n",
      "iter  1, NLML: 626.8675 \n",
      "iter  2, NLML: 589.8043 \n",
      "iter  3, NLML: 583.9870 \n",
      "iter  4, NLML: 581.3064 \n",
      "iter  5, NLML: 579.4959 \n",
      "iter  6, NLML: 578.0513 \n",
      "iter  7, NLML: 576.8183 \n",
      "iter  1, NLML: 619.0769 \n",
      "iter  2, NLML: 589.1763 \n",
      "iter  3, NLML: 585.6330 \n",
      "iter  4, NLML: 583.6801 \n",
      "iter  5, NLML: 582.0153 \n",
      "iter  6, NLML: 580.4643 \n",
      "iter  7, NLML: 579.0150 \n",
      "iter  1, NLML: 618.2635 \n",
      "iter  2, NLML: 588.5689 \n",
      "iter  3, NLML: 583.9637 \n",
      "iter  4, NLML: 581.3851 \n",
      "iter  5, NLML: 579.5790 \n",
      "iter  6, NLML: 578.1182 \n",
      "iter  7, NLML: 576.8436 \n",
      "iter  1, NLML: 618.4935 \n",
      "iter  2, NLML: 588.4833 \n",
      "iter  3, NLML: 584.5070 \n",
      "iter  4, NLML: 582.1873 \n",
      "iter  5, NLML: 580.3605 \n",
      "iter  6, NLML: 578.8193 \n",
      "iter  7, NLML: 577.4933 \n",
      "iter  1, NLML: 623.2629 \n",
      "iter  2, NLML: 589.1701 \n",
      "iter  3, NLML: 584.2124 \n",
      "iter  4, NLML: 581.8809 \n",
      "iter  5, NLML: 580.2904 \n",
      "iter  6, NLML: 579.0043 \n",
      "iter  7, NLML: 577.8954 \n",
      "iter  1, NLML: 644.7495 \n",
      "iter  2, NLML: 612.1986 \n",
      "iter  3, NLML: 606.8783 \n",
      "iter  4, NLML: 604.1361 \n",
      "iter  5, NLML: 602.1998 \n",
      "iter  6, NLML: 600.7173 \n",
      "iter  7, NLML: 599.5008 \n",
      "iter  1, NLML: 652.0088 \n",
      "iter  2, NLML: 619.9502 \n",
      "iter  3, NLML: 614.4160 \n",
      "iter  4, NLML: 611.6215 \n",
      "iter  5, NLML: 609.3728 \n",
      "iter  6, NLML: 607.3096 \n",
      "iter  7, NLML: 605.4811 \n",
      "iter  1, NLML: 653.8481 \n",
      "iter  2, NLML: 620.0430 \n",
      "iter  3, NLML: 615.8283 \n",
      "iter  4, NLML: 614.1635 \n",
      "iter  5, NLML: 612.9632 \n",
      "iter  6, NLML: 611.8796 \n",
      "iter  7, NLML: 610.8597 \n",
      "iter  1, NLML: 655.2888 \n",
      "iter  2, NLML: 620.0907 \n",
      "iter  3, NLML: 615.7615 \n",
      "iter  4, NLML: 614.2271 \n",
      "iter  5, NLML: 613.2028 \n",
      "iter  6, NLML: 612.2901 \n",
      "iter  7, NLML: 611.4263 \n",
      "iter  1, NLML: 654.3590 \n",
      "iter  2, NLML: 620.0004 \n",
      "iter  3, NLML: 615.6313 \n",
      "iter  4, NLML: 614.0024 \n",
      "iter  5, NLML: 612.8229 \n",
      "iter  6, NLML: 611.7216 \n",
      "iter  7, NLML: 610.6560 \n",
      "iter  1, NLML: 683.8798 \n",
      "iter  2, NLML: 652.8932 \n",
      "iter  3, NLML: 647.0172 \n",
      "iter  4, NLML: 643.9255 \n",
      "iter  5, NLML: 641.5456 \n",
      "iter  6, NLML: 639.4752 \n",
      "iter  7, NLML: 637.6401 \n",
      "iter  1, NLML: 689.7032 \n",
      "iter  2, NLML: 656.3948 \n",
      "iter  3, NLML: 650.5031 \n",
      "iter  4, NLML: 647.4488 \n",
      "iter  5, NLML: 645.0925 \n",
      "iter  6, NLML: 643.0492 \n",
      "iter  7, NLML: 641.2422 \n",
      "iter  1, NLML: 690.4677 \n",
      "iter  2, NLML: 656.3059 \n",
      "iter  3, NLML: 650.2115 \n",
      "iter  4, NLML: 647.2498 \n",
      "iter  5, NLML: 644.9568 \n",
      "iter  6, NLML: 642.9468 \n",
      "iter  7, NLML: 641.1418 \n",
      "iter  1, NLML: 690.3457 \n",
      "iter  2, NLML: 653.3004 \n",
      "iter  3, NLML: 647.1183 \n",
      "iter  4, NLML: 644.0857 \n",
      "iter  5, NLML: 641.7057 \n",
      "iter  6, NLML: 639.5678 \n",
      "iter  7, NLML: 637.6118 \n",
      "iter  1, NLML: 692.4839 \n",
      "iter  2, NLML: 657.4993 \n",
      "iter  3, NLML: 652.7211 \n",
      "iter  4, NLML: 650.0510 \n",
      "iter  5, NLML: 647.8669 \n",
      "iter  6, NLML: 645.8745 \n",
      "iter  7, NLML: 644.0290 \n",
      "iter  1, NLML: 688.8113 \n",
      "iter  2, NLML: 653.6841 \n",
      "iter  3, NLML: 648.8270 \n",
      "iter  4, NLML: 646.0847 \n",
      "iter  5, NLML: 643.8143 \n",
      "iter  6, NLML: 641.7327 \n",
      "iter  7, NLML: 639.7995 \n",
      "iter  1, NLML: 685.0811 \n",
      "iter  2, NLML: 654.6538 \n",
      "iter  3, NLML: 649.4886 \n",
      "iter  4, NLML: 646.2224 \n",
      "iter  5, NLML: 643.5636 \n",
      "iter  6, NLML: 641.2953 \n",
      "iter  7, NLML: 639.3229 \n",
      "iter  1, NLML: 690.9737 \n",
      "iter  2, NLML: 665.3157 \n",
      "iter  3, NLML: 660.2728 \n",
      "iter  4, NLML: 656.7456 \n",
      "iter  5, NLML: 653.8025 \n",
      "iter  6, NLML: 651.3023 \n",
      "iter  7, NLML: 649.1526 \n"
     ]
    }
   ],
   "source": [
    "backtest_results[\"GPRN_markowitz_limit_var\"], _ = sequential_backtest_market(\n",
    "    VolumeMarketHistory(returns_series), date_range,\n",
    ") do market, past_returns, ext\n",
    "\n",
    "    # println(\"backtest day \", ext[:date])\n",
    "\n",
    "    # Parameters\n",
    "    max_std = 0.003 / market_budget(market)\n",
    "    k_back = 60\n",
    "\n",
    "    # Prep\n",
    "    numD, numA = size(past_returns)\n",
    "\n",
    "    # Forecast\n",
    "    dates_for_training = timestamp(past_returns)[end-k_back:end]\n",
    "    days_for_training = dates_for_training - minimum(dates_for_training)\n",
    "    day_for_test = ext[:date] - minimum(dates_for_training)\n",
    "    x_train_gprn = day2float.(days_for_training)\n",
    "    x_test_gprn = [day2float(day_for_test)]\n",
    "    y_train = values(past_returns[dates_for_training])\n",
    "    y_train_gprn = RowVecs((y_train .- ymean) ./ ystd)  # normalise the observations\n",
    "\n",
    "    # need to re-fit the variational parameters\n",
    "    num_iters_backtest = 7\n",
    "    opt_backtest = ADAM(0.0)  # don't change the hyperparameters\n",
    "    post, θ_opt = train(\n",
    "        x_train_gprn,\n",
    "        y_train_gprn,\n",
    "        gp_model,\n",
    "        θ_init,\n",
    "        num_iters_backtest,\n",
    "        lr_newton,\n",
    "        opt_backtest,\n",
    "        cubature,\n",
    "        hyperprior\n",
    "    )\n",
    "\n",
    "    pred = only(predict_in_data_space(post, x_test_gprn, cubature))\n",
    "    # un-normalise the predictions\n",
    "    r̄ = mean(pred) .* ystd .+ ymean\n",
    "    Σ = cov(pred) .* ystd^2\n",
    "    d = MvNormal(r̄, Σ)\n",
    "\n",
    "    # PO Formulation\n",
    "    formulation = PortfolioFormulation(MAX_SENSE,\n",
    "        ObjectiveTerm(ExpectedReturn(d)),\n",
    "        RiskConstraint(SqrtVariance(d), LessThan(max_std)),\n",
    "    )\n",
    "\n",
    "    pointers = change_bids!(market, formulation, DEFAULT_SOLVER)\n",
    "    return pointers\n",
    "end;"
   ]
  },
  {
   "cell_type": "code",
   "execution_count": 43,
   "id": "55fbbf25",
   "metadata": {},
   "outputs": [
    {
     "name": "stderr",
     "output_type": "stream",
     "text": [
      "\r\u001b[32mComputing...   1%|▍                                      |  ETA: 0:17:22\u001b[39m\u001b[K"
     ]
    },
    {
     "name": "stderr",
     "output_type": "stream",
     "text": [
      "\r\u001b[32mComputing...   1%|▌                                      |  ETA: 0:18:08\u001b[39m\u001b[K"
     ]
    },
    {
     "name": "stderr",
     "output_type": "stream",
     "text": [
      "\r\u001b[32mComputing...   2%|▊                                      |  ETA: 0:17:48\u001b[39m\u001b[K"
     ]
    },
    {
     "name": "stderr",
     "output_type": "stream",
     "text": [
      "\r\u001b[32mComputing...   2%|▉                                      |  ETA: 0:17:34\u001b[39m\u001b[K"
     ]
    },
    {
     "name": "stderr",
     "output_type": "stream",
     "text": [
      "\r\u001b[32mComputing...   3%|█▏                                     |  ETA: 0:17:25\u001b[39m\u001b[K"
     ]
    },
    {
     "name": "stderr",
     "output_type": "stream",
     "text": [
      "\r\u001b[32mComputing...   3%|█▎                                     |  ETA: 0:17:12\u001b[39m\u001b[K"
     ]
    },
    {
     "name": "stderr",
     "output_type": "stream",
     "text": [
      "┌ Warning: Did not find an optimal solution: status=ITERATION_LIMIT\n",
      "└ @ PortfolioOpt /Users/andrewrosemberg/Workspace/PortfolioOpt/src/VolumeMarket.jl:113\n",
      "\r\u001b[32mComputing...   4%|█▌                                     |  ETA: 0:29:31\u001b[39m\u001b[K"
     ]
    },
    {
     "name": "stderr",
     "output_type": "stream",
     "text": [
      "\r\u001b[32mComputing...   4%|█▋                                     |  ETA: 0:28:00\u001b[39m\u001b[K"
     ]
    },
    {
     "name": "stderr",
     "output_type": "stream",
     "text": [
      "\r\u001b[32mComputing...   5%|█▊                                     |  ETA: 0:26:48\u001b[39m\u001b[K"
     ]
    },
    {
     "name": "stderr",
     "output_type": "stream",
     "text": [
      "\r\u001b[32mComputing...   5%|██                                     |  ETA: 0:25:45\u001b[39m\u001b[K"
     ]
    },
    {
     "name": "stderr",
     "output_type": "stream",
     "text": [
      "\r\u001b[32mComputing...   6%|██▏                                    |  ETA: 0:24:51\u001b[39m\u001b[K"
     ]
    },
    {
     "name": "stderr",
     "output_type": "stream",
     "text": [
      "\r\u001b[32mComputing...   6%|██▍                                    |  ETA: 0:24:02\u001b[39m\u001b[K"
     ]
    },
    {
     "name": "stderr",
     "output_type": "stream",
     "text": [
      "\r\u001b[32mComputing...   6%|██▌                                    |  ETA: 0:23:21\u001b[39m\u001b[K"
     ]
    },
    {
     "name": "stderr",
     "output_type": "stream",
     "text": [
      "\r\u001b[32mComputing...   7%|██▊                                    |  ETA: 0:22:45\u001b[39m\u001b[K"
     ]
    },
    {
     "name": "stderr",
     "output_type": "stream",
     "text": [
      "\r\u001b[32mComputing...   7%|██▉                                    |  ETA: 0:22:16\u001b[39m\u001b[K"
     ]
    },
    {
     "name": "stderr",
     "output_type": "stream",
     "text": [
      "\r\u001b[32mComputing...   8%|███▏                                   |  ETA: 0:21:47\u001b[39m\u001b[K"
     ]
    },
    {
     "name": "stderr",
     "output_type": "stream",
     "text": [
      "\r\u001b[32mComputing...   8%|███▎                                   |  ETA: 0:21:21\u001b[39m\u001b[K"
     ]
    },
    {
     "name": "stderr",
     "output_type": "stream",
     "text": [
      "\r\u001b[32mComputing...   9%|███▍                                   |  ETA: 0:20:59\u001b[39m\u001b[K"
     ]
    },
    {
     "name": "stderr",
     "output_type": "stream",
     "text": [
      "\r\u001b[32mComputing...   9%|███▋                                   |  ETA: 0:20:37\u001b[39m\u001b[K"
     ]
    },
    {
     "name": "stderr",
     "output_type": "stream",
     "text": [
      "\r\u001b[32mComputing...  10%|███▊                                   |  ETA: 0:20:17\u001b[39m\u001b[K"
     ]
    },
    {
     "name": "stderr",
     "output_type": "stream",
     "text": [
      "\r\u001b[32mComputing...  10%|████                                   |  ETA: 0:19:58\u001b[39m\u001b[K"
     ]
    },
    {
     "name": "stderr",
     "output_type": "stream",
     "text": [
      "\r\u001b[32mComputing...  11%|████▏                                  |  ETA: 0:19:41\u001b[39m\u001b[K"
     ]
    },
    {
     "name": "stderr",
     "output_type": "stream",
     "text": [
      "\r\u001b[32mComputing...  11%|████▍                                  |  ETA: 0:19:24\u001b[39m\u001b[K"
     ]
    },
    {
     "name": "stderr",
     "output_type": "stream",
     "text": [
      "\r\u001b[32mComputing...  12%|████▌                                  |  ETA: 0:19:08\u001b[39m\u001b[K"
     ]
    },
    {
     "name": "stderr",
     "output_type": "stream",
     "text": [
      "\r\u001b[32mComputing...  12%|████▊                                  |  ETA: 0:18:52\u001b[39m\u001b[K"
     ]
    },
    {
     "name": "stderr",
     "output_type": "stream",
     "text": [
      "\r\u001b[32mComputing...  12%|████▉                                  |  ETA: 0:18:38\u001b[39m\u001b[K"
     ]
    },
    {
     "name": "stderr",
     "output_type": "stream",
     "text": [
      "\r\u001b[32mComputing...  13%|█████                                  |  ETA: 0:18:24\u001b[39m\u001b[K"
     ]
    },
    {
     "name": "stderr",
     "output_type": "stream",
     "text": [
      "┌ Warning: Did not find an optimal solution: status=ITERATION_LIMIT\n",
      "└ @ PortfolioOpt /Users/andrewrosemberg/Workspace/PortfolioOpt/src/VolumeMarket.jl:113\n",
      "\r\u001b[32mComputing...  13%|█████▎                                 |  ETA: 0:21:02\u001b[39m\u001b[K"
     ]
    },
    {
     "name": "stderr",
     "output_type": "stream",
     "text": [
      "\r\u001b[32mComputing...  14%|█████▍                                 |  ETA: 0:20:43\u001b[39m\u001b[K"
     ]
    },
    {
     "name": "stderr",
     "output_type": "stream",
     "text": [
      "\r\u001b[32mComputing...  14%|█████▋                                 |  ETA: 0:20:24\u001b[39m\u001b[K"
     ]
    },
    {
     "name": "stderr",
     "output_type": "stream",
     "text": [
      "\r\u001b[32mComputing...  15%|█████▊                                 |  ETA: 0:20:06\u001b[39m\u001b[K"
     ]
    },
    {
     "name": "stderr",
     "output_type": "stream",
     "text": [
      "\r\u001b[32mComputing...  15%|██████                                 |  ETA: 0:19:49\u001b[39m\u001b[K"
     ]
    },
    {
     "name": "stderr",
     "output_type": "stream",
     "text": [
      "\r\u001b[32mComputing...  16%|██████▏                                |  ETA: 0:19:32\u001b[39m\u001b[K"
     ]
    },
    {
     "name": "stderr",
     "output_type": "stream",
     "text": [
      "\r\u001b[32mComputing...  16%|██████▍                                |  ETA: 0:19:16\u001b[39m\u001b[K"
     ]
    },
    {
     "name": "stderr",
     "output_type": "stream",
     "text": [
      "\r\u001b[32mComputing...  17%|██████▌                                |  ETA: 0:19:01\u001b[39m\u001b[K"
     ]
    },
    {
     "name": "stderr",
     "output_type": "stream",
     "text": [
      "\r\u001b[32mComputing...  17%|██████▋                                |  ETA: 0:18:47\u001b[39m\u001b[K"
     ]
    },
    {
     "name": "stderr",
     "output_type": "stream",
     "text": [
      "\r\u001b[32mComputing...  18%|██████▉                                |  ETA: 0:18:33\u001b[39m\u001b[K"
     ]
    },
    {
     "name": "stderr",
     "output_type": "stream",
     "text": [
      "\r\u001b[32mComputing...  18%|███████                                |  ETA: 0:18:19\u001b[39m\u001b[K"
     ]
    },
    {
     "name": "stderr",
     "output_type": "stream",
     "text": [
      "\r\u001b[32mComputing...  19%|███████▎                               |  ETA: 0:18:06\u001b[39m\u001b[K"
     ]
    },
    {
     "name": "stderr",
     "output_type": "stream",
     "text": [
      "┌ Warning: Did not find an optimal solution: status=ITERATION_LIMIT\n",
      "└ @ PortfolioOpt /Users/andrewrosemberg/Workspace/PortfolioOpt/src/VolumeMarket.jl:113\n",
      "\r\u001b[32mComputing...  19%|███████▍                               |  ETA: 0:19:54\u001b[39m\u001b[K"
     ]
    },
    {
     "name": "stderr",
     "output_type": "stream",
     "text": [
      "\r\u001b[32mComputing...  19%|███████▋                               |  ETA: 0:19:38\u001b[39m\u001b[K"
     ]
    },
    {
     "name": "stderr",
     "output_type": "stream",
     "text": [
      "\r\u001b[32mComputing...  20%|███████▊                               |  ETA: 0:19:22\u001b[39m\u001b[K"
     ]
    },
    {
     "name": "stderr",
     "output_type": "stream",
     "text": [
      "┌ Warning: Did not find an optimal solution: status=ITERATION_LIMIT\n",
      "└ @ PortfolioOpt /Users/andrewrosemberg/Workspace/PortfolioOpt/src/VolumeMarket.jl:113\n",
      "\r\u001b[32mComputing...  20%|████████                               |  ETA: 0:20:56\u001b[39m\u001b[K"
     ]
    },
    {
     "name": "stderr",
     "output_type": "stream",
     "text": [
      "\r\u001b[32mComputing...  21%|████████▏                              |  ETA: 0:20:47\u001b[39m\u001b[K"
     ]
    },
    {
     "name": "stderr",
     "output_type": "stream",
     "text": [
      "\r\u001b[32mComputing...  21%|████████▎                              |  ETA: 0:20:29\u001b[39m\u001b[K"
     ]
    },
    {
     "name": "stderr",
     "output_type": "stream",
     "text": [
      "\r\u001b[32mComputing...  22%|████████▌                              |  ETA: 0:20:19\u001b[39m\u001b[K"
     ]
    },
    {
     "name": "stderr",
     "output_type": "stream",
     "text": [
      "\r\u001b[32mComputing...  22%|████████▋                              |  ETA: 0:20:04\u001b[39m\u001b[K"
     ]
    },
    {
     "name": "stderr",
     "output_type": "stream",
     "text": [
      "┌ Warning: Did not find an optimal solution: status=ITERATION_LIMIT\n",
      "└ @ PortfolioOpt /Users/andrewrosemberg/Workspace/PortfolioOpt/src/VolumeMarket.jl:113\n",
      "\r\u001b[32mComputing...  23%|████████▉                              |  ETA: 0:21:29\u001b[39m\u001b[K"
     ]
    },
    {
     "name": "stderr",
     "output_type": "stream",
     "text": [
      "\r\u001b[32mComputing...  23%|█████████                              |  ETA: 0:21:12\u001b[39m\u001b[K"
     ]
    },
    {
     "name": "stderr",
     "output_type": "stream",
     "text": [
      "\r\u001b[32mComputing...  24%|█████████▎                             |  ETA: 0:20:55\u001b[39m\u001b[K"
     ]
    },
    {
     "name": "stderr",
     "output_type": "stream",
     "text": [
      "\r\u001b[32mComputing...  24%|█████████▍                             |  ETA: 0:20:39\u001b[39m\u001b[K"
     ]
    },
    {
     "name": "stderr",
     "output_type": "stream",
     "text": [
      "\r\u001b[32mComputing...  25%|█████████▋                             |  ETA: 0:20:23\u001b[39m\u001b[K"
     ]
    },
    {
     "name": "stderr",
     "output_type": "stream",
     "text": [
      "┌ Warning: Did not find an optimal solution: status=ITERATION_LIMIT\n",
      "└ @ PortfolioOpt /Users/andrewrosemberg/Workspace/PortfolioOpt/src/VolumeMarket.jl:113\n",
      "\r\u001b[32mComputing...  25%|█████████▊                             |  ETA: 0:21:41\u001b[39m\u001b[K"
     ]
    },
    {
     "name": "stderr",
     "output_type": "stream",
     "text": [
      "\r\u001b[32mComputing...  25%|█████████▉                             |  ETA: 0:21:23\u001b[39m\u001b[K"
     ]
    },
    {
     "name": "stderr",
     "output_type": "stream",
     "text": [
      "\r\u001b[32mComputing...  26%|██████████▏                            |  ETA: 0:21:06\u001b[39m\u001b[K"
     ]
    },
    {
     "name": "stderr",
     "output_type": "stream",
     "text": [
      "\r\u001b[32mComputing...  26%|██████████▎                            |  ETA: 0:20:50\u001b[39m\u001b[K"
     ]
    },
    {
     "name": "stderr",
     "output_type": "stream",
     "text": [
      "\r\u001b[32mComputing...  27%|██████████▌                            |  ETA: 0:20:34\u001b[39m\u001b[K"
     ]
    },
    {
     "name": "stdout",
     "output_type": "stream",
     "text": [
      "iter  1, NLML: 1117.2868 \n",
      "iter  2, NLML: 900.0973 \n",
      "iter  3, NLML: 842.1541 \n",
      "iter  4, NLML: 822.5863 \n",
      "iter  5, NLML: 813.7325 \n",
      "iter  6, NLML: 808.9230 \n",
      "iter  7, NLML: 806.2133 \n",
      "iter  1, NLML: 1123.6149 \n",
      "iter  2, NLML: 904.9475 \n",
      "iter  3, NLML: 845.5904 \n",
      "iter  4, NLML: 825.9491 \n",
      "iter  5, NLML: 817.0696 \n",
      "iter  6, NLML: 812.2320 \n",
      "iter  7, NLML: 809.5217 \n",
      "iter  1, NLML: 1147.9439 \n",
      "iter  2, NLML: 950.5387 \n",
      "iter  3, NLML: 901.1320 \n",
      "iter  4, NLML: 879.1130 \n",
      "iter  5, NLML: 865.9601 \n",
      "iter  6, NLML: 859.4632 \n",
      "iter  7, NLML: 856.7268 \n",
      "iter  1, NLML: 1139.5234 \n",
      "iter  2, NLML: 985.6672 \n",
      "iter  3, NLML: 955.3409 \n",
      "iter  4, NLML: 936.6770 \n",
      "iter  5, NLML: 922.7813 \n",
      "iter  6, NLML: 910.9671 \n",
      "iter  7, NLML: 900.9914 \n",
      "iter  1, NLML: 1140.4111 \n",
      "iter  2, NLML: 989.6850 \n",
      "iter  3, NLML: 957.5314 \n",
      "iter  4, NLML: 936.0481 \n",
      "iter  5, NLML: 918.3079 \n",
      "iter  6, NLML: 904.1810 \n",
      "iter  7, NLML: 895.0298 \n",
      "iter  1, NLML: 1107.4087 \n",
      "iter  2, NLML: 962.8439 \n",
      "iter  3, NLML: 931.2575 \n",
      "iter  4, NLML: 910.0262 \n",
      "iter  5, NLML: 892.8836 \n",
      "iter  6, NLML: 879.8824 \n",
      "iter  7, NLML: 871.8831 \n",
      "iter  1, NLML: 1104.8659 \n",
      "iter  2, NLML: 956.9018 \n",
      "iter  3, NLML: 924.5027 \n",
      "iter  4, NLML: 902.7211 \n",
      "iter  5, NLML: 885.5300 \n",
      "iter  6, NLML: 873.0533 \n",
      "iter  7, NLML: 865.8477 \n",
      "iter  1, NLML: 1105.3192 \n",
      "iter  2, NLML: 954.8516 \n",
      "iter  3, NLML: 921.4513 \n",
      "iter  4, NLML: 900.0473 \n",
      "iter  5, NLML: 884.1977 \n",
      "iter  6, NLML: 872.9820 \n",
      "iter  7, NLML: 866.0709 \n",
      "iter  1, NLML: 1150.7932 \n",
      "iter  2, NLML: 970.1851 \n",
      "iter  3, NLML: 938.7892 \n",
      "iter  4, NLML: 924.0662 \n",
      "iter  5, NLML: 914.8711 \n",
      "iter  6, NLML: 908.3672 \n",
      "iter  7, NLML: 903.4785 \n",
      "iter  1, NLML: 1140.6968 \n",
      "iter  2, NLML: 960.9475 \n",
      "iter  3, NLML: 930.1889 \n",
      "iter  4, NLML: 916.5503 \n",
      "iter  5, NLML: 908.1463 \n",
      "iter  6, NLML: 902.2238 \n",
      "iter  7, NLML: 897.7998 \n",
      "iter  1, NLML: 1071.4010 \n",
      "iter  2, NLML: 941.8380 \n",
      "iter  3, NLML: 919.5202 \n",
      "iter  4, NLML: 908.5805 \n",
      "iter  5, NLML: 901.4344 \n",
      "iter  6, NLML: 896.1904 \n",
      "iter  7, NLML: 892.1751 \n",
      "iter  1, NLML: 1082.7460 \n",
      "iter  2, NLML: 953.1817 \n",
      "iter  3, NLML: 931.7331 \n",
      "iter  4, NLML: 921.3443 \n",
      "iter  5, NLML: 914.4604 \n",
      "iter  6, NLML: 909.2830 \n",
      "iter  7, NLML: 905.2091 \n",
      "iter  1, NLML: 1089.6200 \n",
      "iter  2, NLML: 957.3898 \n",
      "iter  3, NLML: 936.1138 \n",
      "iter  4, NLML: 926.2691 \n",
      "iter  5, NLML: 919.9871 \n",
      "iter  6, NLML: 915.3099 \n",
      "iter  7, NLML: 911.5952 \n",
      "iter  1, NLML: 1080.2765 \n",
      "iter  2, NLML: 963.6300 \n",
      "iter  3, NLML: 942.4897 \n",
      "iter  4, NLML: 933.2650 \n",
      "iter  5, NLML: 927.5035 \n",
      "iter  6, NLML: 923.2397 \n",
      "iter  7, NLML: 919.8147 \n",
      "iter  1, NLML: 1053.9191 \n",
      "iter  2, NLML: 945.7068 \n",
      "iter  3, NLML: 930.6311 \n",
      "iter  4, NLML: 924.4077 \n",
      "iter  5, NLML: 920.2661 \n",
      "iter  6, NLML: 916.9853 \n",
      "iter  7, NLML: 914.2400 \n",
      "iter  1, NLML: 1033.7288 \n",
      "iter  2, NLML: 932.9707 \n",
      "iter  3, NLML: 917.8271 \n",
      "iter  4, NLML: 911.2532 \n",
      "iter  5, NLML: 906.8709 \n",
      "iter  6, NLML: 903.4754 \n",
      "iter  7, NLML: 900.7402 \n",
      "iter  1, NLML: 1028.0754 \n",
      "iter  2, NLML: 924.3264 \n",
      "iter  3, NLML: 909.0896 \n",
      "iter  4, NLML: 902.3143 \n",
      "iter  5, NLML: 897.7407 \n",
      "iter  6, NLML: 894.2120 \n",
      "iter  7, NLML: 891.4639 \n",
      "iter  1, NLML: 1018.8408 \n",
      "iter  2, NLML: 923.1421 \n",
      "iter  3, NLML: 909.2224 \n",
      "iter  4, NLML: 902.6997 \n",
      "iter  5, NLML: 898.2288 \n",
      "iter  6, NLML: 894.8276 \n",
      "iter  7, NLML: 892.2205 \n",
      "iter  1, NLML: 1039.0442 \n",
      "iter  2, NLML: 952.1518 \n",
      "iter  3, NLML: 940.3335 \n",
      "iter  4, NLML: 934.1435 \n",
      "iter  5, NLML: 929.4991 \n",
      "iter  6, NLML: 925.8795 \n",
      "iter  7, NLML: 923.0849 \n",
      "iter  1, NLML: 1013.8136 \n",
      "iter  2, NLML: 938.0452 \n",
      "iter  3, NLML: 925.9457 \n",
      "iter  4, NLML: 919.0055 \n",
      "iter  5, NLML: 913.5896 \n",
      "iter  6, NLML: 909.1712 \n",
      "iter  7, NLML: 905.6608 \n",
      "iter  1, NLML: 1023.8922 \n",
      "iter  2, NLML: 947.3737 \n",
      "iter  3, NLML: 934.9406 \n",
      "iter  4, NLML: 928.1123 \n",
      "iter  5, NLML: 922.8215 \n",
      "iter  6, NLML: 918.5112 \n",
      "iter  7, NLML: 915.0422 \n",
      "iter  1, NLML: 1016.9384 \n",
      "iter  2, NLML: 940.2055 \n",
      "iter  3, NLML: 927.5460 \n",
      "iter  4, NLML: 920.7086 \n",
      "iter  5, NLML: 915.6173 \n",
      "iter  6, NLML: 911.5743 \n",
      "iter  7, NLML: 908.3482 \n",
      "iter  1, NLML: 1012.3957 \n",
      "iter  2, NLML: 937.7091 \n",
      "iter  3, NLML: 925.6192 \n",
      "iter  4, NLML: 918.8456 \n",
      "iter  5, NLML: 913.7349 \n",
      "iter  6, NLML: 909.6673 \n",
      "iter  7, NLML: 906.4396 \n",
      "iter  1, NLML: 1003.8785 \n",
      "iter  2, NLML: 932.8145 \n",
      "iter  3, NLML: 919.9881 \n",
      "iter  4, NLML: 912.8913 \n",
      "iter  5, NLML: 907.7434 \n",
      "iter  6, NLML: 903.8097 \n",
      "iter  7, NLML: 900.8063 \n",
      "iter  1, NLML: 1012.9744 \n",
      "iter  2, NLML: 927.1864 \n",
      "iter  3, NLML: 914.6893 \n",
      "iter  4, NLML: 908.5116 \n",
      "iter  5, NLML: 904.1624 \n",
      "iter  6, NLML: 900.8658 \n",
      "iter  7, NLML: 898.3400 \n",
      "iter  1, NLML: 1004.2989 \n",
      "iter  2, NLML: 920.5234 \n",
      "iter  3, NLML: 906.9933 \n",
      "iter  4, NLML: 900.4185 \n",
      "iter  5, NLML: 895.8137 \n",
      "iter  6, NLML: 892.2462 \n",
      "iter  7, NLML: 889.4764 \n",
      "iter  1, NLML: 1014.2534 \n",
      "iter  2, NLML: 932.5206 \n",
      "iter  3, NLML: 919.7788 \n",
      "iter  4, NLML: 913.4331 \n",
      "iter  5, NLML: 908.8286 \n",
      "iter  6, NLML: 905.1524 \n",
      "iter  7, NLML: 902.2099 \n",
      "iter  1, NLML: 1012.4822 \n",
      "iter  2, NLML: 932.6518 \n",
      "iter  3, NLML: 920.0966 \n",
      "iter  4, NLML: 913.7148 \n",
      "iter  5, NLML: 909.0459 \n",
      "iter  6, NLML: 905.3277 \n",
      "iter  7, NLML: 902.3158 \n",
      "iter  1, NLML: 1016.4540 \n",
      "iter  2, NLML: 942.0393 \n",
      "iter  3, NLML: 930.3288 \n",
      "iter  4, NLML: 924.3999 \n",
      "iter  5, NLML: 920.0980 \n",
      "iter  6, NLML: 916.5996 \n",
      "iter  7, NLML: 913.6961 \n",
      "iter  1, NLML: 1003.5358 \n",
      "iter  2, NLML: 935.6823 \n",
      "iter  3, NLML: 924.7478 \n",
      "iter  4, NLML: 918.7318 \n",
      "iter  5, NLML: 914.2669 \n",
      "iter  6, NLML: 910.6217 \n",
      "iter  7, NLML: 907.5557 \n",
      "iter  1, NLML: 993.2854 \n",
      "iter  2, NLML: 920.9793 \n",
      "iter  3, NLML: 911.0505 \n",
      "iter  4, NLML: 906.4533 \n",
      "iter  5, NLML: 903.2899 \n",
      "iter  6, NLML: 900.8043 \n",
      "iter  7, NLML: 898.7372 \n",
      "iter  1, NLML: 984.3620 \n",
      "iter  2, NLML: 914.1820 \n",
      "iter  3, NLML: 903.8965 \n",
      "iter  4, NLML: 898.6252 \n",
      "iter  5, NLML: 894.5370 \n",
      "iter  6, NLML: 891.0694 \n",
      "iter  7, NLML: 888.1781 \n",
      "iter  1, NLML: 978.9199 \n",
      "iter  2, NLML: 908.1021 \n",
      "iter  3, NLML: 898.3445 \n",
      "iter  4, NLML: 893.5220 \n",
      "iter  5, NLML: 889.7369 \n",
      "iter  6, NLML: 886.4641 \n",
      "iter  7, NLML: 883.6730 \n",
      "iter  1, NLML: 988.8943 \n",
      "iter  2, NLML: 918.8904 \n",
      "iter  3, NLML: 909.1005 \n",
      "iter  4, NLML: 904.0437 \n",
      "iter  5, NLML: 900.0282 \n",
      "iter  6, NLML: 896.5629 \n",
      "iter  7, NLML: 893.6466 \n",
      "iter  1, NLML: 991.1086 \n",
      "iter  2, NLML: 923.9194 \n",
      "iter  3, NLML: 913.7766 \n",
      "iter  4, NLML: 908.4080 \n",
      "iter  5, NLML: 904.1984 \n",
      "iter  6, NLML: 900.6164 \n",
      "iter  7, NLML: 897.6363 \n",
      "iter  1, NLML: 983.7512 \n",
      "iter  2, NLML: 919.2361 \n",
      "iter  3, NLML: 908.8119 \n",
      "iter  4, NLML: 902.7711 \n",
      "iter  5, NLML: 897.8395 \n",
      "iter  6, NLML: 893.5319 \n",
      "iter  7, NLML: 889.9089 \n",
      "iter  1, NLML: 998.2200 \n",
      "iter  2, NLML: 927.0273 \n",
      "iter  3, NLML: 916.4970 \n",
      "iter  4, NLML: 910.8251 \n",
      "iter  5, NLML: 906.3418 \n",
      "iter  6, NLML: 902.4515 \n",
      "iter  7, NLML: 899.1188 \n",
      "iter  1, NLML: 1004.4540 \n",
      "iter  2, NLML: 935.7849 \n",
      "iter  3, NLML: 925.9660 \n",
      "iter  4, NLML: 920.6326 \n",
      "iter  5, NLML: 916.2298 \n",
      "iter  6, NLML: 912.2640 \n",
      "iter  7, NLML: 908.7892 \n",
      "iter  1, NLML: 999.9151 \n",
      "iter  2, NLML: 926.9508 \n",
      "iter  3, NLML: 915.5501 \n",
      "iter  4, NLML: 909.1806 \n",
      "iter  5, NLML: 904.4402 \n",
      "iter  6, NLML: 900.6765 \n",
      "iter  7, NLML: 897.7042 \n",
      "iter  1, NLML: 1002.7514 \n",
      "iter  2, NLML: 926.8245 \n",
      "iter  3, NLML: 914.8593 \n",
      "iter  4, NLML: 908.5107 \n",
      "iter  5, NLML: 904.0120 \n",
      "iter  6, NLML: 900.5291 \n",
      "iter  7, NLML: 897.7663 \n",
      "iter  1, NLML: 1013.7591 \n",
      "iter  2, NLML: 933.5193 \n",
      "iter  3, NLML: 921.9200 \n",
      "iter  4, NLML: 915.4593 \n",
      "iter  5, NLML: 910.8676 \n",
      "iter  6, NLML: 907.4688 \n",
      "iter  7, NLML: 904.8583 \n",
      "iter  1, NLML: 1005.2028 \n",
      "iter  2, NLML: 921.5660 \n",
      "iter  3, NLML: 903.8202 \n",
      "iter  4, NLML: 892.0110 \n",
      "iter  5, NLML: 884.3155 \n",
      "iter  6, NLML: 879.4778 \n",
      "iter  7, NLML: 876.4792 \n",
      "iter  1, NLML: 1002.7963 \n",
      "iter  2, NLML: 915.9442 \n",
      "iter  3, NLML: 896.7168 \n",
      "iter  4, NLML: 883.3551 \n",
      "iter  5, NLML: 874.7921 \n",
      "iter  6, NLML: 869.8791 \n",
      "iter  7, NLML: 866.9756 \n",
      "iter  1, NLML: 1009.1943 \n",
      "iter  2, NLML: 916.0297 \n",
      "iter  3, NLML: 895.5230 \n",
      "iter  4, NLML: 881.6444 \n",
      "iter  5, NLML: 872.8903 \n",
      "iter  6, NLML: 867.8812 \n",
      "iter  7, NLML: 864.9215 \n",
      "iter  1, NLML: 1017.5166 \n",
      "iter  2, NLML: 918.0516 \n",
      "iter  3, NLML: 897.0631 \n",
      "iter  4, NLML: 883.1709 \n",
      "iter  5, NLML: 874.5493 \n",
      "iter  6, NLML: 869.7604 \n",
      "iter  7, NLML: 866.9576 \n",
      "iter  1, NLML: 1014.6477 \n",
      "iter  2, NLML: 912.2079 \n",
      "iter  3, NLML: 891.9952 \n",
      "iter  4, NLML: 879.1174 \n",
      "iter  5, NLML: 871.4444 \n",
      "iter  6, NLML: 867.3189 \n",
      "iter  7, NLML: 864.9019 \n",
      "iter  1, NLML: 1013.7459 \n",
      "iter  2, NLML: 908.9107 \n",
      "iter  3, NLML: 886.6208 \n",
      "iter  4, NLML: 873.8983 \n",
      "iter  5, NLML: 866.6156 \n",
      "iter  6, NLML: 862.1541 \n",
      "iter  7, NLML: 859.1316 \n",
      "iter  1, NLML: 998.1686 \n",
      "iter  2, NLML: 899.4789 \n",
      "iter  3, NLML: 876.7382 \n",
      "iter  4, NLML: 863.5154 \n",
      "iter  5, NLML: 855.6843 \n",
      "iter  6, NLML: 850.6860 \n",
      "iter  7, NLML: 847.2601 \n",
      "iter  1, NLML: 972.3866 \n",
      "iter  2, NLML: 886.8556 \n",
      "iter  3, NLML: 866.3596 \n",
      "iter  4, NLML: 852.4230 \n",
      "iter  5, NLML: 843.1399 \n",
      "iter  6, NLML: 837.0629 \n",
      "iter  7, NLML: 832.9776 \n",
      "iter  1, NLML: 952.7470 \n",
      "iter  2, NLML: 869.4638 \n",
      "iter  3, NLML: 853.7887 \n",
      "iter  4, NLML: 844.3518 \n",
      "iter  5, NLML: 837.6896 \n",
      "iter  6, NLML: 832.6926 \n",
      "iter  7, NLML: 828.9871 \n",
      "iter  1, NLML: 943.4688 \n",
      "iter  2, NLML: 855.5922 \n",
      "iter  3, NLML: 841.5589 \n",
      "iter  4, NLML: 833.1822 \n",
      "iter  5, NLML: 827.0731 \n",
      "iter  6, NLML: 822.2950 \n",
      "iter  7, NLML: 818.4272 \n",
      "iter  1, NLML: 965.2581 \n",
      "iter  2, NLML: 866.1595 \n",
      "iter  3, NLML: 849.2925 \n",
      "iter  4, NLML: 838.6216 \n",
      "iter  5, NLML: 829.9400 \n",
      "iter  6, NLML: 823.5429 \n",
      "iter  7, NLML: 818.9652 \n",
      "iter  1, NLML: 930.9871 \n",
      "iter  2, NLML: 839.4174 \n",
      "iter  3, NLML: 823.8585 \n",
      "iter  4, NLML: 813.6729 \n",
      "iter  5, NLML: 806.1793 \n",
      "iter  6, NLML: 801.0396 \n",
      "iter  7, NLML: 797.1774 \n",
      "iter  1, NLML: 925.7805 \n",
      "iter  2, NLML: 833.2814 \n",
      "iter  3, NLML: 817.7894 \n",
      "iter  4, NLML: 807.6144 \n",
      "iter  5, NLML: 800.2888 \n",
      "iter  6, NLML: 795.2406 \n",
      "iter  7, NLML: 791.4334 \n",
      "iter  1, NLML: 922.0354 \n",
      "iter  2, NLML: 829.3287 \n",
      "iter  3, NLML: 813.7361 \n",
      "iter  4, NLML: 803.5365 \n",
      "iter  5, NLML: 796.0132 \n",
      "iter  6, NLML: 790.7606 \n",
      "iter  7, NLML: 786.7121 \n",
      "iter  1, NLML: 930.1193 \n",
      "iter  2, NLML: 835.9312 \n",
      "iter  3, NLML: 815.8225 \n",
      "iter  4, NLML: 803.6402 \n",
      "iter  5, NLML: 795.6024 \n",
      "iter  6, NLML: 789.6586 \n",
      "iter  7, NLML: 784.8431 \n",
      "iter  1, NLML: 967.0945 \n",
      "iter  2, NLML: 856.7690 \n",
      "iter  3, NLML: 825.0538 \n",
      "iter  4, NLML: 808.1961 \n",
      "iter  5, NLML: 797.4973 \n",
      "iter  6, NLML: 789.7226 \n",
      "iter  7, NLML: 783.6345 \n",
      "iter  1, NLML: 957.9487 \n",
      "iter  2, NLML: 846.2585 \n",
      "iter  3, NLML: 814.3919 \n",
      "iter  4, NLML: 796.9663 \n",
      "iter  5, NLML: 785.7579 \n",
      "iter  6, NLML: 777.6746 \n",
      "iter  7, NLML: 771.3152 \n",
      "iter  1, NLML: 939.5801 \n",
      "iter  2, NLML: 823.0452 \n",
      "iter  3, NLML: 785.0673 \n",
      "iter  4, NLML: 761.5158 \n"
     ]
    },
    {
     "name": "stderr",
     "output_type": "stream",
     "text": [
      "\r\u001b[32mComputing...  27%|██████████▋                            |  ETA: 0:20:18\u001b[39m\u001b[K"
     ]
    },
    {
     "name": "stderr",
     "output_type": "stream",
     "text": [
      "\r\u001b[32mComputing...  28%|██████████▉                            |  ETA: 0:20:03\u001b[39m\u001b[K"
     ]
    },
    {
     "name": "stderr",
     "output_type": "stream",
     "text": [
      "\r\u001b[32mComputing...  28%|███████████                            |  ETA: 0:19:48\u001b[39m\u001b[K"
     ]
    },
    {
     "name": "stderr",
     "output_type": "stream",
     "text": [
      "\r\u001b[32mComputing...  29%|███████████▎                           |  ETA: 0:19:33\u001b[39m\u001b[K"
     ]
    },
    {
     "name": "stderr",
     "output_type": "stream",
     "text": [
      "\r\u001b[32mComputing...  29%|███████████▍                           |  ETA: 0:19:19\u001b[39m\u001b[K"
     ]
    },
    {
     "name": "stderr",
     "output_type": "stream",
     "text": [
      "\r\u001b[32mComputing...  30%|███████████▌                           |  ETA: 0:19:05\u001b[39m\u001b[K"
     ]
    },
    {
     "name": "stderr",
     "output_type": "stream",
     "text": [
      "\r\u001b[32mComputing...  30%|███████████▊                           |  ETA: 0:18:51\u001b[39m\u001b[K"
     ]
    },
    {
     "name": "stderr",
     "output_type": "stream",
     "text": [
      "\r\u001b[32mComputing...  31%|███████████▉                           |  ETA: 0:18:37\u001b[39m\u001b[K"
     ]
    },
    {
     "name": "stderr",
     "output_type": "stream",
     "text": [
      "\r\u001b[32mComputing...  31%|████████████▏                          |  ETA: 0:18:24\u001b[39m\u001b[K"
     ]
    },
    {
     "name": "stderr",
     "output_type": "stream",
     "text": [
      "\r\u001b[32mComputing...  31%|████████████▎                          |  ETA: 0:18:11\u001b[39m\u001b[K"
     ]
    },
    {
     "name": "stderr",
     "output_type": "stream",
     "text": [
      "\r\u001b[32mComputing...  32%|████████████▌                          |  ETA: 0:17:58\u001b[39m\u001b[K"
     ]
    },
    {
     "name": "stderr",
     "output_type": "stream",
     "text": [
      "\r\u001b[32mComputing...  32%|████████████▋                          |  ETA: 0:17:45\u001b[39m\u001b[K"
     ]
    },
    {
     "name": "stderr",
     "output_type": "stream",
     "text": [
      "\r\u001b[32mComputing...  33%|████████████▉                          |  ETA: 0:17:33\u001b[39m\u001b[K"
     ]
    },
    {
     "name": "stderr",
     "output_type": "stream",
     "text": [
      "\r\u001b[32mComputing...  33%|█████████████                          |  ETA: 0:17:21\u001b[39m\u001b[K"
     ]
    },
    {
     "name": "stderr",
     "output_type": "stream",
     "text": [
      "\r\u001b[32mComputing...  34%|█████████████▏                         |  ETA: 0:17:09\u001b[39m\u001b[K"
     ]
    },
    {
     "name": "stderr",
     "output_type": "stream",
     "text": [
      "\r\u001b[32mComputing...  34%|█████████████▍                         |  ETA: 0:16:57\u001b[39m\u001b[K"
     ]
    },
    {
     "name": "stderr",
     "output_type": "stream",
     "text": [
      "\r\u001b[32mComputing...  35%|█████████████▌                         |  ETA: 0:16:46\u001b[39m\u001b[K"
     ]
    },
    {
     "name": "stderr",
     "output_type": "stream",
     "text": [
      "\r\u001b[32mComputing...  35%|█████████████▊                         |  ETA: 0:16:35\u001b[39m\u001b[K"
     ]
    },
    {
     "name": "stderr",
     "output_type": "stream",
     "text": [
      "\r\u001b[32mComputing...  36%|█████████████▉                         |  ETA: 0:16:24\u001b[39m\u001b[K"
     ]
    },
    {
     "name": "stderr",
     "output_type": "stream",
     "text": [
      "\r\u001b[32mComputing...  36%|██████████████▏                        |  ETA: 0:16:16\u001b[39m\u001b[K"
     ]
    },
    {
     "name": "stderr",
     "output_type": "stream",
     "text": [
      "\r\u001b[32mComputing...  37%|██████████████▎                        |  ETA: 0:16:04\u001b[39m\u001b[K"
     ]
    },
    {
     "name": "stderr",
     "output_type": "stream",
     "text": [
      "\r\u001b[32mComputing...  37%|██████████████▌                        |  ETA: 0:15:53\u001b[39m\u001b[K"
     ]
    },
    {
     "name": "stderr",
     "output_type": "stream",
     "text": [
      "\r\u001b[32mComputing...  38%|██████████████▋                        |  ETA: 0:15:42\u001b[39m\u001b[K"
     ]
    },
    {
     "name": "stderr",
     "output_type": "stream",
     "text": [
      "\r\u001b[32mComputing...  38%|██████████████▊                        |  ETA: 0:15:32\u001b[39m\u001b[K"
     ]
    },
    {
     "name": "stderr",
     "output_type": "stream",
     "text": [
      "\r\u001b[32mComputing...  38%|███████████████                        |  ETA: 0:15:21\u001b[39m\u001b[K"
     ]
    },
    {
     "name": "stderr",
     "output_type": "stream",
     "text": [
      "\r\u001b[32mComputing...  39%|███████████████▏                       |  ETA: 0:15:11\u001b[39m\u001b[K"
     ]
    },
    {
     "name": "stderr",
     "output_type": "stream",
     "text": [
      "\r\u001b[32mComputing...  39%|███████████████▍                       |  ETA: 0:15:00\u001b[39m\u001b[K"
     ]
    },
    {
     "name": "stderr",
     "output_type": "stream",
     "text": [
      "\r\u001b[32mComputing...  40%|███████████████▌                       |  ETA: 0:14:50\u001b[39m\u001b[K"
     ]
    },
    {
     "name": "stderr",
     "output_type": "stream",
     "text": [
      "\r\u001b[32mComputing...  40%|███████████████▊                       |  ETA: 0:14:40\u001b[39m\u001b[K"
     ]
    },
    {
     "name": "stderr",
     "output_type": "stream",
     "text": [
      "\r\u001b[32mComputing...  41%|███████████████▉                       |  ETA: 0:14:30\u001b[39m\u001b[K"
     ]
    },
    {
     "name": "stderr",
     "output_type": "stream",
     "text": [
      "\r\u001b[32mComputing...  41%|████████████████▏                      |  ETA: 0:14:20\u001b[39m\u001b[K"
     ]
    },
    {
     "name": "stderr",
     "output_type": "stream",
     "text": [
      "\r\u001b[32mComputing...  42%|████████████████▎                      |  ETA: 0:14:10\u001b[39m\u001b[K"
     ]
    },
    {
     "name": "stderr",
     "output_type": "stream",
     "text": [
      "\r\u001b[32mComputing...  42%|████████████████▍                      |  ETA: 0:14:01\u001b[39m\u001b[K"
     ]
    },
    {
     "name": "stderr",
     "output_type": "stream",
     "text": [
      "\r\u001b[32mComputing...  43%|████████████████▋                      |  ETA: 0:13:52\u001b[39m\u001b[K"
     ]
    },
    {
     "name": "stderr",
     "output_type": "stream",
     "text": [
      "\r\u001b[32mComputing...  43%|████████████████▊                      |  ETA: 0:13:44\u001b[39m\u001b[K"
     ]
    },
    {
     "name": "stderr",
     "output_type": "stream",
     "text": [
      "\r\u001b[32mComputing...  44%|█████████████████                      |  ETA: 0:13:35\u001b[39m\u001b[K"
     ]
    },
    {
     "name": "stderr",
     "output_type": "stream",
     "text": [
      "\r\u001b[32mComputing...  44%|█████████████████▏                     |  ETA: 0:13:26\u001b[39m\u001b[K"
     ]
    },
    {
     "name": "stderr",
     "output_type": "stream",
     "text": [
      "\r\u001b[32mComputing...  44%|█████████████████▍                     |  ETA: 0:13:17\u001b[39m\u001b[K"
     ]
    },
    {
     "name": "stderr",
     "output_type": "stream",
     "text": [
      "\r\u001b[32mComputing...  45%|█████████████████▌                     |  ETA: 0:13:08\u001b[39m\u001b[K"
     ]
    },
    {
     "name": "stderr",
     "output_type": "stream",
     "text": [
      "\r\u001b[32mComputing...  45%|█████████████████▊                     |  ETA: 0:12:59\u001b[39m\u001b[K"
     ]
    },
    {
     "name": "stderr",
     "output_type": "stream",
     "text": [
      "\r\u001b[32mComputing...  46%|█████████████████▉                     |  ETA: 0:12:50\u001b[39m\u001b[K"
     ]
    },
    {
     "name": "stderr",
     "output_type": "stream",
     "text": [
      "\r\u001b[32mComputing...  46%|██████████████████                     |  ETA: 0:12:42\u001b[39m\u001b[K"
     ]
    },
    {
     "name": "stderr",
     "output_type": "stream",
     "text": [
      "\r\u001b[32mComputing...  47%|██████████████████▎                    |  ETA: 0:12:33\u001b[39m\u001b[K"
     ]
    },
    {
     "name": "stderr",
     "output_type": "stream",
     "text": [
      "\r\u001b[32mComputing...  47%|██████████████████▍                    |  ETA: 0:12:25\u001b[39m\u001b[K"
     ]
    },
    {
     "name": "stderr",
     "output_type": "stream",
     "text": [
      "┌ Warning: Did not find an optimal solution: status=ITERATION_LIMIT\n",
      "└ @ PortfolioOpt /Users/andrewrosemberg/Workspace/PortfolioOpt/src/VolumeMarket.jl:113\n",
      "\r\u001b[32mComputing...  48%|██████████████████▋                    |  ETA: 0:12:50\u001b[39m\u001b[K"
     ]
    },
    {
     "name": "stderr",
     "output_type": "stream",
     "text": [
      "\r\u001b[32mComputing...  48%|██████████████████▊                    |  ETA: 0:12:42\u001b[39m\u001b[K"
     ]
    },
    {
     "name": "stderr",
     "output_type": "stream",
     "text": [
      "\r\u001b[32mComputing...  49%|███████████████████                    |  ETA: 0:12:33\u001b[39m\u001b[K"
     ]
    },
    {
     "name": "stderr",
     "output_type": "stream",
     "text": [
      "\r\u001b[32mComputing...  49%|███████████████████▏                   |  ETA: 0:12:24\u001b[39m\u001b[K"
     ]
    },
    {
     "name": "stderr",
     "output_type": "stream",
     "text": [
      "\r\u001b[32mComputing...  50%|███████████████████▍                   |  ETA: 0:12:15\u001b[39m\u001b[K"
     ]
    },
    {
     "name": "stderr",
     "output_type": "stream",
     "text": [
      "\r\u001b[32mComputing...  50%|███████████████████▌                   |  ETA: 0:12:06\u001b[39m\u001b[K"
     ]
    },
    {
     "name": "stderr",
     "output_type": "stream",
     "text": [
      "\r\u001b[32mComputing...  50%|███████████████████▋                   |  ETA: 0:11:58\u001b[39m\u001b[K"
     ]
    },
    {
     "name": "stderr",
     "output_type": "stream",
     "text": [
      "\r\u001b[32mComputing...  51%|███████████████████▉                   |  ETA: 0:11:49\u001b[39m\u001b[K"
     ]
    },
    {
     "name": "stderr",
     "output_type": "stream",
     "text": [
      "\r\u001b[32mComputing...  51%|████████████████████                   |  ETA: 0:11:41\u001b[39m\u001b[K"
     ]
    },
    {
     "name": "stderr",
     "output_type": "stream",
     "text": [
      "\r\u001b[32mComputing...  52%|████████████████████▎                  |  ETA: 0:11:32\u001b[39m\u001b[K"
     ]
    },
    {
     "name": "stderr",
     "output_type": "stream",
     "text": [
      "\r\u001b[32mComputing...  52%|████████████████████▍                  |  ETA: 0:11:24\u001b[39m\u001b[K"
     ]
    },
    {
     "name": "stderr",
     "output_type": "stream",
     "text": [
      "\r\u001b[32mComputing...  53%|████████████████████▋                  |  ETA: 0:11:15\u001b[39m\u001b[K"
     ]
    },
    {
     "name": "stderr",
     "output_type": "stream",
     "text": [
      "\r\u001b[32mComputing...  53%|████████████████████▊                  |  ETA: 0:11:07\u001b[39m\u001b[K"
     ]
    },
    {
     "name": "stderr",
     "output_type": "stream",
     "text": [
      "┌ Warning: Did not find an optimal solution: status=ITERATION_LIMIT\n",
      "└ @ PortfolioOpt /Users/andrewrosemberg/Workspace/PortfolioOpt/src/VolumeMarket.jl:113\n",
      "\r\u001b[32mComputing...  54%|█████████████████████                  |  ETA: 0:11:25\u001b[39m\u001b[K"
     ]
    },
    {
     "name": "stdout",
     "output_type": "stream",
     "text": [
      "iter  5, NLML: 745.8453 \n",
      "iter  6, NLML: 734.8885 \n",
      "iter  7, NLML: 726.9336 \n",
      "iter  1, NLML: 849.6367 \n",
      "iter  2, NLML: 734.1701 \n",
      "iter  3, NLML: 697.4060 \n",
      "iter  4, NLML: 675.8023 \n",
      "iter  5, NLML: 662.2826 \n",
      "iter  6, NLML: 653.7109 \n",
      "iter  7, NLML: 648.3030 \n",
      "iter  1, NLML: 763.3911 \n",
      "iter  2, NLML: 701.4447 \n",
      "iter  3, NLML: 682.1033 \n",
      "iter  4, NLML: 673.1506 \n",
      "iter  5, NLML: 668.8187 \n",
      "iter  6, NLML: 666.4259 \n",
      "iter  7, NLML: 664.9160 \n",
      "iter  1, NLML: 798.0414 \n",
      "iter  2, NLML: 732.4561 \n",
      "iter  3, NLML: 693.0985 \n",
      "iter  4, NLML: 682.8768 \n",
      "iter  5, NLML: 679.5527 \n",
      "iter  6, NLML: 678.0289 \n",
      "iter  7, NLML: 677.2196 \n",
      "iter  1, NLML: 795.1214 \n",
      "iter  2, NLML: 722.4040 \n",
      "iter  3, NLML: 685.9965 \n",
      "iter  4, NLML: 677.4099 \n",
      "iter  5, NLML: 674.0646 \n",
      "iter  6, NLML: 672.4528 \n",
      "iter  7, NLML: 671.5899 \n",
      "iter  1, NLML: 758.8151 \n",
      "iter  2, NLML: 693.1573 \n",
      "iter  3, NLML: 662.3783 \n",
      "iter  4, NLML: 656.0526 \n",
      "iter  5, NLML: 653.7852 \n",
      "iter  6, NLML: 652.5835 \n",
      "iter  7, NLML: 651.7969 \n",
      "iter  1, NLML: 775.5241 \n",
      "iter  2, NLML: 715.7625 \n",
      "iter  3, NLML: 686.5887 \n",
      "iter  4, NLML: 673.8121 \n",
      "iter  5, NLML: 669.8977 \n",
      "iter  6, NLML: 667.9292 \n",
      "iter  7, NLML: 666.7473 \n",
      "iter  1, NLML: 764.1087 \n",
      "iter  2, NLML: 708.7088 \n",
      "iter  3, NLML: 680.3058 \n",
      "iter  4, NLML: 669.8216 \n",
      "iter  5, NLML: 666.1246 \n",
      "iter  6, NLML: 663.9657 \n",
      "iter  7, NLML: 662.4613 \n",
      "iter  1, NLML: 763.9106 \n",
      "iter  2, NLML: 709.2232 \n",
      "iter  3, NLML: 692.7257 \n",
      "iter  4, NLML: 683.5142 \n",
      "iter  5, NLML: 678.7227 \n",
      "iter  6, NLML: 675.8687 \n",
      "iter  7, NLML: 673.8374 \n",
      "iter  1, NLML: 771.7645 \n",
      "iter  2, NLML: 711.7767 \n",
      "iter  3, NLML: 695.5306 \n",
      "iter  4, NLML: 686.3054 \n",
      "iter  5, NLML: 680.9356 \n",
      "iter  6, NLML: 677.7527 \n",
      "iter  7, NLML: 675.6478 \n",
      "iter  1, NLML: 772.1355 \n",
      "iter  2, NLML: 713.4802 \n",
      "iter  3, NLML: 697.3986 \n",
      "iter  4, NLML: 688.9371 \n",
      "iter  5, NLML: 684.3477 \n",
      "iter  6, NLML: 681.6825 \n",
      "iter  7, NLML: 679.8763 \n",
      "iter  1, NLML: 787.9841 \n",
      "iter  2, NLML: 711.3111 \n",
      "iter  3, NLML: 688.3660 \n",
      "iter  4, NLML: 677.6806 \n",
      "iter  5, NLML: 671.8812 \n",
      "iter  6, NLML: 668.3036 \n",
      "iter  7, NLML: 665.7972 \n",
      "iter  1, NLML: 792.1577 \n",
      "iter  2, NLML: 713.1365 \n",
      "iter  3, NLML: 689.0808 \n",
      "iter  4, NLML: 678.6270 \n",
      "iter  5, NLML: 672.9402 \n",
      "iter  6, NLML: 669.4320 \n",
      "iter  7, NLML: 666.9969 \n",
      "iter  1, NLML: 823.6799 \n",
      "iter  2, NLML: 728.0178 \n",
      "iter  3, NLML: 702.5461 \n",
      "iter  4, NLML: 692.5407 \n",
      "iter  5, NLML: 687.0278 \n",
      "iter  6, NLML: 683.2778 \n",
      "iter  7, NLML: 680.4635 \n",
      "iter  1, NLML: 812.8141 \n",
      "iter  2, NLML: 711.1628 \n",
      "iter  3, NLML: 686.9348 \n",
      "iter  4, NLML: 677.4761 \n",
      "iter  5, NLML: 672.2833 \n",
      "iter  6, NLML: 668.7851 \n",
      "iter  7, NLML: 666.1817 \n",
      "iter  1, NLML: 984.5550 \n",
      "iter  2, NLML: 790.3696 \n",
      "iter  3, NLML: 730.3422 \n",
      "iter  4, NLML: 705.5344 \n",
      "iter  5, NLML: 693.2211 \n",
      "iter  6, NLML: 685.6834 \n",
      "iter  7, NLML: 680.5313 \n",
      "iter  1, NLML: 937.7617 \n",
      "iter  2, NLML: 760.9446 \n",
      "iter  3, NLML: 708.5434 \n",
      "iter  4, NLML: 687.1215 \n",
      "iter  5, NLML: 675.7969 \n",
      "iter  6, NLML: 668.4641 \n",
      "iter  7, NLML: 663.2907 \n",
      "iter  1, NLML: 947.0495 \n",
      "iter  2, NLML: 766.7461 \n",
      "iter  3, NLML: 708.9338 \n",
      "iter  4, NLML: 684.5233 \n",
      "iter  5, NLML: 672.1564 \n",
      "iter  6, NLML: 664.8128 \n",
      "iter  7, NLML: 660.0357 \n",
      "iter  1, NLML: 940.9793 \n",
      "iter  2, NLML: 748.1011 \n",
      "iter  3, NLML: 691.0872 \n",
      "iter  4, NLML: 668.0169 \n",
      "iter  5, NLML: 656.6026 \n",
      "iter  6, NLML: 649.9392 \n",
      "iter  7, NLML: 645.6486 \n",
      "iter  1, NLML: 967.1052 \n",
      "iter  2, NLML: 752.6145 \n",
      "iter  3, NLML: 693.2426 \n",
      "iter  4, NLML: 669.6514 \n",
      "iter  5, NLML: 658.0522 \n",
      "iter  6, NLML: 651.2405 \n",
      "iter  7, NLML: 646.8290 \n",
      "iter  1, NLML: 957.8972 \n",
      "iter  2, NLML: 746.9623 \n",
      "iter  3, NLML: 684.6622 \n",
      "iter  4, NLML: 659.4921 \n",
      "iter  5, NLML: 648.9215 \n",
      "iter  6, NLML: 643.7675 \n",
      "iter  7, NLML: 641.0290 \n",
      "iter  1, NLML: 886.3135 \n",
      "iter  2, NLML: 688.0092 \n",
      "iter  3, NLML: 639.4158 \n",
      "iter  4, NLML: 620.6548 \n",
      "iter  5, NLML: 612.1073 \n",
      "iter  6, NLML: 607.7034 \n",
      "iter  7, NLML: 605.1836 \n",
      "iter  1, NLML: 874.2565 \n",
      "iter  2, NLML: 686.0397 \n",
      "iter  3, NLML: 641.3493 \n",
      "iter  4, NLML: 626.0836 \n",
      "iter  5, NLML: 618.9590 \n",
      "iter  6, NLML: 615.2079 \n",
      "iter  7, NLML: 613.0060 \n",
      "iter  1, NLML: 981.6802 \n",
      "iter  2, NLML: 731.3985 \n",
      "iter  3, NLML: 666.2314 \n",
      "iter  4, NLML: 639.2408 \n",
      "iter  5, NLML: 626.6452 \n",
      "iter  6, NLML: 619.6820 \n",
      "iter  7, NLML: 615.4480 \n",
      "iter  1, NLML: 1043.9767 \n",
      "iter  2, NLML: 800.1607 \n",
      "iter  3, NLML: 732.8212 \n",
      "iter  4, NLML: 703.3448 \n",
      "iter  5, NLML: 689.2922 \n",
      "iter  6, NLML: 681.8283 \n",
      "iter  7, NLML: 677.3835 \n",
      "iter  1, NLML: 1028.4957 \n",
      "iter  2, NLML: 801.3869 \n",
      "iter  3, NLML: 741.3478 \n",
      "iter  4, NLML: 714.1289 \n",
      "iter  5, NLML: 700.3226 \n",
      "iter  6, NLML: 692.5442 \n",
      "iter  7, NLML: 687.7426 \n",
      "iter  1, NLML: 999.9650 \n",
      "iter  2, NLML: 785.8635 \n",
      "iter  3, NLML: 733.4128 \n",
      "iter  4, NLML: 710.3280 \n",
      "iter  5, NLML: 698.4141 \n",
      "iter  6, NLML: 691.6363 \n",
      "iter  7, NLML: 687.4214 \n",
      "iter  1, NLML: 1003.2558 \n",
      "iter  2, NLML: 781.3627 \n",
      "iter  3, NLML: 727.6018 \n",
      "iter  4, NLML: 706.7176 \n",
      "iter  5, NLML: 695.9475 \n",
      "iter  6, NLML: 689.5092 \n",
      "iter  7, NLML: 685.3446 \n",
      "iter  1, NLML: 1060.4645 \n",
      "iter  2, NLML: 824.1482 \n",
      "iter  3, NLML: 751.0790 \n",
      "iter  4, NLML: 720.9584 \n",
      "iter  5, NLML: 706.7144 \n",
      "iter  6, NLML: 698.5509 \n",
      "iter  7, NLML: 693.3248 \n",
      "iter  1, NLML: 1075.6756 \n",
      "iter  2, NLML: 834.2772 \n",
      "iter  3, NLML: 759.0668 \n",
      "iter  4, NLML: 727.0234 \n",
      "iter  5, NLML: 711.9464 \n",
      "iter  6, NLML: 703.2802 \n",
      "iter  7, NLML: 697.7055 \n",
      "iter  1, NLML: 1102.1598 \n",
      "iter  2, NLML: 845.5687 \n",
      "iter  3, NLML: 766.4454 \n",
      "iter  4, NLML: 732.4127 \n",
      "iter  5, NLML: 716.7402 \n",
      "iter  6, NLML: 707.9571 \n",
      "iter  7, NLML: 702.4038 \n",
      "iter  1, NLML: 1104.4940 \n",
      "iter  2, NLML: 854.4084 \n",
      "iter  3, NLML: 756.3115 \n",
      "iter  4, NLML: 719.2399 \n",
      "iter  5, NLML: 702.3383 \n",
      "iter  6, NLML: 692.8992 \n",
      "iter  7, NLML: 686.9286 \n",
      "iter  1, NLML: 995.6286 \n",
      "iter  2, NLML: 798.3763 \n",
      "iter  3, NLML: 748.3037 \n",
      "iter  4, NLML: 728.3823 \n",
      "iter  5, NLML: 718.6909 \n",
      "iter  6, NLML: 712.9647 \n",
      "iter  7, NLML: 709.1981 \n",
      "iter  1, NLML: 1091.9177 \n",
      "iter  2, NLML: 845.7442 \n",
      "iter  3, NLML: 779.3979 \n",
      "iter  4, NLML: 749.6812 \n",
      "iter  5, NLML: 735.3364 \n",
      "iter  6, NLML: 727.6572 \n",
      "iter  7, NLML: 723.0184 \n",
      "iter  1, NLML: 1133.7086 \n",
      "iter  2, NLML: 870.3959 \n",
      "iter  3, NLML: 789.0951 \n",
      "iter  4, NLML: 751.4334 \n",
      "iter  5, NLML: 733.6990 \n",
      "iter  6, NLML: 724.6250 \n",
      "iter  7, NLML: 719.3535 \n",
      "iter  1, NLML: 1127.7054 \n",
      "iter  2, NLML: 867.0504 \n",
      "iter  3, NLML: 788.9261 \n",
      "iter  4, NLML: 754.3966 \n",
      "iter  5, NLML: 738.3594 \n",
      "iter  6, NLML: 730.1080 \n",
      "iter  7, NLML: 725.2673 \n",
      "iter  1, NLML: 1137.0928 \n",
      "iter  2, NLML: 874.7510 \n",
      "iter  3, NLML: 794.8138 \n",
      "iter  4, NLML: 760.3478 \n",
      "iter  5, NLML: 744.4013 \n",
      "iter  6, NLML: 736.0273 \n",
      "iter  7, NLML: 730.9733 \n",
      "iter  1, NLML: 1131.1441 \n",
      "iter  2, NLML: 874.6162 \n",
      "iter  3, NLML: 796.2174 \n",
      "iter  4, NLML: 762.0045 \n",
      "iter  5, NLML: 745.5756 \n",
      "iter  6, NLML: 737.0129 \n",
      "iter  7, NLML: 731.9853 \n",
      "iter  1, NLML: 1059.7255 \n",
      "iter  2, NLML: 838.6687 \n",
      "iter  3, NLML: 777.5399 \n",
      "iter  4, NLML: 751.6094 \n",
      "iter  5, NLML: 739.3265 \n",
      "iter  6, NLML: 732.7028 \n",
      "iter  7, NLML: 728.6693 \n",
      "iter  1, NLML: 1038.9493 \n",
      "iter  2, NLML: 824.4811 \n",
      "iter  3, NLML: 769.7931 \n",
      "iter  4, NLML: 748.8012 \n",
      "iter  5, NLML: 739.1425 \n",
      "iter  6, NLML: 733.8668 \n",
      "iter  7, NLML: 730.5785 \n",
      "iter  1, NLML: 1039.4861 \n",
      "iter  2, NLML: 839.6777 \n",
      "iter  3, NLML: 783.2471 \n",
      "iter  4, NLML: 761.3549 \n",
      "iter  5, NLML: 751.4102 \n",
      "iter  6, NLML: 746.0290 \n",
      "iter  7, NLML: 742.6503 \n",
      "iter  1, NLML: 1046.2615 \n",
      "iter  2, NLML: 852.7943 \n",
      "iter  3, NLML: 794.6430 \n",
      "iter  4, NLML: 771.8722 \n",
      "iter  5, NLML: 761.2677 \n",
      "iter  6, NLML: 755.3403 \n",
      "iter  7, NLML: 751.5497 \n",
      "iter  1, NLML: 1032.6464 \n",
      "iter  2, NLML: 842.4446 \n",
      "iter  3, NLML: 784.8698 \n",
      "iter  4, NLML: 762.2021 \n",
      "iter  5, NLML: 751.9988 \n",
      "iter  6, NLML: 746.2911 \n",
      "iter  7, NLML: 742.6105 \n",
      "iter  1, NLML: 1012.8824 \n",
      "iter  2, NLML: 830.8446 \n",
      "iter  3, NLML: 774.0466 \n",
      "iter  4, NLML: 751.1850 \n",
      "iter  5, NLML: 740.6177 \n",
      "iter  6, NLML: 734.5048 \n",
      "iter  7, NLML: 730.5021 \n",
      "iter  1, NLML: 1003.3907 \n",
      "iter  2, NLML: 823.5313 \n",
      "iter  3, NLML: 771.2593 \n",
      "iter  4, NLML: 750.9093 \n",
      "iter  5, NLML: 741.2595 \n",
      "iter  6, NLML: 735.5823 \n",
      "iter  7, NLML: 731.8184 \n",
      "iter  1, NLML: 1010.1090 \n",
      "iter  2, NLML: 826.5995 \n",
      "iter  3, NLML: 774.3085 \n",
      "iter  4, NLML: 754.1503 \n",
      "iter  5, NLML: 744.6234 \n",
      "iter  6, NLML: 739.0532 \n",
      "iter  7, NLML: 735.3836 \n",
      "iter  1, NLML: 1017.7548 \n",
      "iter  2, NLML: 831.5258 \n",
      "iter  3, NLML: 778.9426 \n",
      "iter  4, NLML: 758.6585 \n",
      "iter  5, NLML: 749.1153 \n",
      "iter  6, NLML: 743.5907 \n",
      "iter  7, NLML: 739.9795 \n",
      "iter  1, NLML: 1033.9178 \n",
      "iter  2, NLML: 840.2051 \n",
      "iter  3, NLML: 786.4552 \n",
      "iter  4, NLML: 766.6103 \n",
      "iter  5, NLML: 757.4244 \n",
      "iter  6, NLML: 752.1444 \n",
      "iter  7, NLML: 748.7192 \n",
      "iter  1, NLML: 1034.8340 \n",
      "iter  2, NLML: 842.2724 \n",
      "iter  3, NLML: 788.3335 \n",
      "iter  4, NLML: 768.1706 \n",
      "iter  5, NLML: 758.6060 \n",
      "iter  6, NLML: 753.0174 \n",
      "iter  7, NLML: 749.3642 \n",
      "iter  1, NLML: 1029.4650 \n",
      "iter  2, NLML: 838.1852 \n",
      "iter  3, NLML: 785.2669 \n",
      "iter  4, NLML: 764.9559 \n",
      "iter  5, NLML: 754.6884 \n",
      "iter  6, NLML: 748.5466 \n",
      "iter  7, NLML: 744.5447 \n",
      "iter  1, NLML: 1124.1483 \n",
      "iter  2, NLML: 877.6597 \n",
      "iter  3, NLML: 809.9785 \n",
      "iter  4, NLML: 783.6219 \n",
      "iter  5, NLML: 770.9999 \n",
      "iter  6, NLML: 764.0162 \n",
      "iter  7, NLML: 759.6659 \n",
      "iter  1, NLML: 1125.3843 \n",
      "iter  2, NLML: 879.5429 \n",
      "iter  3, NLML: 811.7977 \n",
      "iter  4, NLML: 785.5069 \n",
      "iter  5, NLML: 772.8042 \n",
      "iter  6, NLML: 765.6623 \n",
      "iter  7, NLML: 761.1904 \n",
      "iter  1, NLML: 1148.6661 \n",
      "iter  2, NLML: 900.0838 \n",
      "iter  3, NLML: 830.6044 \n",
      "iter  4, NLML: 803.8180 \n",
      "iter  5, NLML: 791.0457 \n",
      "iter  6, NLML: 783.8798 \n",
      "iter  7, NLML: 779.3872 \n",
      "iter  1, NLML: 1149.4717 \n",
      "iter  2, NLML: 896.6535 \n",
      "iter  3, NLML: 827.1684 \n",
      "iter  4, NLML: 800.9741 \n",
      "iter  5, NLML: 788.6943 \n",
      "iter  6, NLML: 781.8496 \n",
      "iter  7, NLML: 777.5851 \n",
      "iter  1, NLML: 1129.2049 \n",
      "iter  2, NLML: 891.9636 \n",
      "iter  3, NLML: 824.6153 \n",
      "iter  4, NLML: 799.9932 \n",
      "iter  5, NLML: 788.7334 \n",
      "iter  6, NLML: 782.4161 \n",
      "iter  7, NLML: 778.4308 \n",
      "iter  1, NLML: 1136.4067 \n",
      "iter  2, NLML: 895.3075 \n",
      "iter  3, NLML: 827.1201 \n",
      "iter  4, NLML: 802.8310 \n",
      "iter  5, NLML: 792.3195 \n",
      "iter  6, NLML: 786.6753 \n",
      "iter  7, NLML: 783.2001 \n",
      "iter  1, NLML: 1134.5530 \n",
      "iter  2, NLML: 898.0727 \n",
      "iter  3, NLML: 830.9741 \n",
      "iter  4, NLML: 805.5308 \n",
      "iter  5, NLML: 794.3389 \n",
      "iter  6, NLML: 788.4086 \n",
      "iter  7, NLML: 784.8001 \n",
      "iter  1, NLML: 1141.6371 \n",
      "iter  2, NLML: 907.3707 \n",
      "iter  3, NLML: 837.2459 \n",
      "iter  4, NLML: 809.6132 \n",
      "iter  5, NLML: 797.7532 \n",
      "iter  6, NLML: 791.6909 \n",
      "iter  7, NLML: 788.0542 \n",
      "iter  1, NLML: 1116.5227 \n",
      "iter  2, NLML: 884.8460 \n",
      "iter  3, NLML: 819.1488 \n",
      "iter  4, NLML: 793.0725 \n",
      "iter  5, NLML: 781.5251 \n",
      "iter  6, NLML: 775.5618 \n",
      "iter  7, NLML: 771.9816 \n"
     ]
    },
    {
     "name": "stderr",
     "output_type": "stream",
     "text": [
      "\r\u001b[32mComputing...  54%|█████████████████████▏                 |  ETA: 0:11:16\u001b[39m\u001b[K"
     ]
    },
    {
     "name": "stderr",
     "output_type": "stream",
     "text": [
      "\r\u001b[32mComputing...  55%|█████████████████████▎                 |  ETA: 0:11:08\u001b[39m\u001b[K"
     ]
    },
    {
     "name": "stderr",
     "output_type": "stream",
     "text": [
      "\r\u001b[32mComputing...  55%|█████████████████████▌                 |  ETA: 0:10:59\u001b[39m\u001b[K"
     ]
    },
    {
     "name": "stderr",
     "output_type": "stream",
     "text": [
      "\r\u001b[32mComputing...  56%|█████████████████████▋                 |  ETA: 0:10:51\u001b[39m\u001b[K"
     ]
    },
    {
     "name": "stderr",
     "output_type": "stream",
     "text": [
      "\r\u001b[32mComputing...  56%|█████████████████████▉                 |  ETA: 0:10:42\u001b[39m\u001b[K"
     ]
    },
    {
     "name": "stderr",
     "output_type": "stream",
     "text": [
      "\r\u001b[32mComputing...  56%|██████████████████████                 |  ETA: 0:10:34\u001b[39m\u001b[K"
     ]
    },
    {
     "name": "stderr",
     "output_type": "stream",
     "text": [
      "\r\u001b[32mComputing...  57%|██████████████████████▎                |  ETA: 0:10:26\u001b[39m\u001b[K"
     ]
    },
    {
     "name": "stderr",
     "output_type": "stream",
     "text": [
      "\r\u001b[32mComputing...  57%|██████████████████████▍                |  ETA: 0:10:18\u001b[39m\u001b[K"
     ]
    },
    {
     "name": "stderr",
     "output_type": "stream",
     "text": [
      "\r\u001b[32mComputing...  58%|██████████████████████▋                |  ETA: 0:10:09\u001b[39m\u001b[K"
     ]
    },
    {
     "name": "stderr",
     "output_type": "stream",
     "text": [
      "\r\u001b[32mComputing...  58%|██████████████████████▊                |  ETA: 0:10:01\u001b[39m\u001b[K"
     ]
    },
    {
     "name": "stderr",
     "output_type": "stream",
     "text": [
      "┌ Warning: Did not find an optimal solution: status=ITERATION_LIMIT\n",
      "└ @ PortfolioOpt /Users/andrewrosemberg/Workspace/PortfolioOpt/src/VolumeMarket.jl:113\n",
      "\r\u001b[32mComputing...  59%|██████████████████████▉                |  ETA: 0:10:13\u001b[39m\u001b[K"
     ]
    },
    {
     "name": "stderr",
     "output_type": "stream",
     "text": [
      "\r\u001b[32mComputing...  59%|███████████████████████▏               |  ETA: 0:10:04\u001b[39m\u001b[K"
     ]
    },
    {
     "name": "stderr",
     "output_type": "stream",
     "text": [
      "\r\u001b[32mComputing...  60%|███████████████████████▎               |  ETA: 0:09:56\u001b[39m\u001b[K"
     ]
    },
    {
     "name": "stderr",
     "output_type": "stream",
     "text": [
      "\r\u001b[32mComputing...  60%|███████████████████████▌               |  ETA: 0:09:47\u001b[39m\u001b[K"
     ]
    },
    {
     "name": "stderr",
     "output_type": "stream",
     "text": [
      "\r\u001b[32mComputing...  61%|███████████████████████▋               |  ETA: 0:09:39\u001b[39m\u001b[K"
     ]
    },
    {
     "name": "stderr",
     "output_type": "stream",
     "text": [
      "\r\u001b[32mComputing...  61%|███████████████████████▉               |  ETA: 0:09:31\u001b[39m\u001b[K"
     ]
    },
    {
     "name": "stderr",
     "output_type": "stream",
     "text": [
      "\r\u001b[32mComputing...  62%|████████████████████████               |  ETA: 0:09:23\u001b[39m\u001b[K"
     ]
    },
    {
     "name": "stderr",
     "output_type": "stream",
     "text": [
      "\r\u001b[32mComputing...  62%|████████████████████████▎              |  ETA: 0:09:15\u001b[39m\u001b[K"
     ]
    },
    {
     "name": "stderr",
     "output_type": "stream",
     "text": [
      "\r\u001b[32mComputing...  62%|████████████████████████▍              |  ETA: 0:09:07\u001b[39m\u001b[K"
     ]
    },
    {
     "name": "stderr",
     "output_type": "stream",
     "text": [
      "\r\u001b[32mComputing...  63%|████████████████████████▌              |  ETA: 0:08:59\u001b[39m\u001b[K"
     ]
    },
    {
     "name": "stderr",
     "output_type": "stream",
     "text": [
      "\r\u001b[32mComputing...  63%|████████████████████████▊              |  ETA: 0:08:51\u001b[39m\u001b[K"
     ]
    },
    {
     "name": "stderr",
     "output_type": "stream",
     "text": [
      "\r\u001b[32mComputing...  64%|████████████████████████▉              |  ETA: 0:08:43\u001b[39m\u001b[K"
     ]
    },
    {
     "name": "stderr",
     "output_type": "stream",
     "text": [
      "\r\u001b[32mComputing...  64%|█████████████████████████▏             |  ETA: 0:08:35\u001b[39m\u001b[K"
     ]
    },
    {
     "name": "stderr",
     "output_type": "stream",
     "text": [
      "\r\u001b[32mComputing...  65%|█████████████████████████▎             |  ETA: 0:08:28\u001b[39m\u001b[K"
     ]
    },
    {
     "name": "stderr",
     "output_type": "stream",
     "text": [
      "\r\u001b[32mComputing...  65%|█████████████████████████▌             |  ETA: 0:08:20\u001b[39m\u001b[K"
     ]
    },
    {
     "name": "stderr",
     "output_type": "stream",
     "text": [
      "\r\u001b[32mComputing...  66%|█████████████████████████▋             |  ETA: 0:08:13\u001b[39m\u001b[K"
     ]
    },
    {
     "name": "stderr",
     "output_type": "stream",
     "text": [
      "\r\u001b[32mComputing...  66%|█████████████████████████▉             |  ETA: 0:08:05\u001b[39m\u001b[K"
     ]
    },
    {
     "name": "stderr",
     "output_type": "stream",
     "text": [
      "\r\u001b[32mComputing...  67%|██████████████████████████             |  ETA: 0:07:58\u001b[39m\u001b[K"
     ]
    },
    {
     "name": "stderr",
     "output_type": "stream",
     "text": [
      "\r\u001b[32mComputing...  67%|██████████████████████████▏            |  ETA: 0:07:50\u001b[39m\u001b[K"
     ]
    },
    {
     "name": "stderr",
     "output_type": "stream",
     "text": [
      "\r\u001b[32mComputing...  68%|██████████████████████████▍            |  ETA: 0:07:43\u001b[39m\u001b[K"
     ]
    },
    {
     "name": "stderr",
     "output_type": "stream",
     "text": [
      "\r\u001b[32mComputing...  68%|██████████████████████████▌            |  ETA: 0:07:36\u001b[39m\u001b[K"
     ]
    },
    {
     "name": "stderr",
     "output_type": "stream",
     "text": [
      "┌ Warning: Did not find an optimal solution: status=ITERATION_LIMIT\n",
      "└ @ PortfolioOpt /Users/andrewrosemberg/Workspace/PortfolioOpt/src/VolumeMarket.jl:113\n",
      "\r\u001b[32mComputing...  69%|██████████████████████████▊            |  ETA: 0:07:42\u001b[39m\u001b[K"
     ]
    },
    {
     "name": "stderr",
     "output_type": "stream",
     "text": [
      "\r\u001b[32mComputing...  69%|██████████████████████████▉            |  ETA: 0:07:34\u001b[39m\u001b[K"
     ]
    },
    {
     "name": "stderr",
     "output_type": "stream",
     "text": [
      "\r\u001b[32mComputing...  69%|███████████████████████████▏           |  ETA: 0:07:27\u001b[39m\u001b[K"
     ]
    },
    {
     "name": "stderr",
     "output_type": "stream",
     "text": [
      "┌ Warning: Did not find an optimal solution: status=ITERATION_LIMIT\n",
      "└ @ PortfolioOpt /Users/andrewrosemberg/Workspace/PortfolioOpt/src/VolumeMarket.jl:113\n",
      "\r\u001b[32mComputing...  70%|███████████████████████████▎           |  ETA: 0:07:32\u001b[39m\u001b[K"
     ]
    },
    {
     "name": "stderr",
     "output_type": "stream",
     "text": [
      "┌ Warning: Did not find an optimal solution: status=ITERATION_LIMIT\n",
      "└ @ PortfolioOpt /Users/andrewrosemberg/Workspace/PortfolioOpt/src/VolumeMarket.jl:113\n",
      "\r\u001b[32mComputing...  70%|███████████████████████████▌           |  ETA: 0:07:38\u001b[39m\u001b[K"
     ]
    },
    {
     "name": "stderr",
     "output_type": "stream",
     "text": [
      "┌ Warning: Did not find an optimal solution: status=ITERATION_LIMIT\n",
      "└ @ PortfolioOpt /Users/andrewrosemberg/Workspace/PortfolioOpt/src/VolumeMarket.jl:113\n",
      "\r\u001b[32mComputing...  71%|███████████████████████████▋           |  ETA: 0:07:42\u001b[39m\u001b[K"
     ]
    },
    {
     "name": "stderr",
     "output_type": "stream",
     "text": [
      "\r\u001b[32mComputing...  71%|███████████████████████████▊           |  ETA: 0:07:34\u001b[39m\u001b[K"
     ]
    },
    {
     "name": "stderr",
     "output_type": "stream",
     "text": [
      "\r\u001b[32mComputing...  72%|████████████████████████████           |  ETA: 0:07:25\u001b[39m\u001b[K"
     ]
    },
    {
     "name": "stderr",
     "output_type": "stream",
     "text": [
      "\r\u001b[32mComputing...  72%|████████████████████████████▏          |  ETA: 0:07:17\u001b[39m\u001b[K"
     ]
    },
    {
     "name": "stderr",
     "output_type": "stream",
     "text": [
      "\r\u001b[32mComputing...  73%|████████████████████████████▍          |  ETA: 0:07:11\u001b[39m\u001b[K"
     ]
    },
    {
     "name": "stderr",
     "output_type": "stream",
     "text": [
      "\r\u001b[32mComputing...  73%|████████████████████████████▌          |  ETA: 0:07:02\u001b[39m\u001b[K"
     ]
    },
    {
     "name": "stderr",
     "output_type": "stream",
     "text": [
      "\r\u001b[32mComputing...  74%|████████████████████████████▊          |  ETA: 0:06:54\u001b[39m\u001b[K"
     ]
    },
    {
     "name": "stderr",
     "output_type": "stream",
     "text": [
      "\r\u001b[32mComputing...  74%|████████████████████████████▉          |  ETA: 0:06:46\u001b[39m\u001b[K"
     ]
    },
    {
     "name": "stderr",
     "output_type": "stream",
     "text": [
      "\r\u001b[32mComputing...  75%|█████████████████████████████▏         |  ETA: 0:06:38\u001b[39m\u001b[K"
     ]
    },
    {
     "name": "stderr",
     "output_type": "stream",
     "text": [
      "\r\u001b[32mComputing...  75%|█████████████████████████████▎         |  ETA: 0:06:30\u001b[39m\u001b[K"
     ]
    },
    {
     "name": "stderr",
     "output_type": "stream",
     "text": [
      "\r\u001b[32mComputing...  75%|█████████████████████████████▍         |  ETA: 0:06:22\u001b[39m\u001b[K"
     ]
    },
    {
     "name": "stderr",
     "output_type": "stream",
     "text": [
      "\r\u001b[32mComputing...  76%|█████████████████████████████▋         |  ETA: 0:06:14\u001b[39m\u001b[K"
     ]
    },
    {
     "name": "stderr",
     "output_type": "stream",
     "text": [
      "\r\u001b[32mComputing...  76%|█████████████████████████████▊         |  ETA: 0:06:06\u001b[39m\u001b[K"
     ]
    },
    {
     "name": "stderr",
     "output_type": "stream",
     "text": [
      "\r\u001b[32mComputing...  77%|██████████████████████████████         |  ETA: 0:05:58\u001b[39m\u001b[K"
     ]
    },
    {
     "name": "stderr",
     "output_type": "stream",
     "text": [
      "\r\u001b[32mComputing...  77%|██████████████████████████████▏        |  ETA: 0:05:50\u001b[39m\u001b[K"
     ]
    },
    {
     "name": "stderr",
     "output_type": "stream",
     "text": [
      "\r\u001b[32mComputing...  78%|██████████████████████████████▍        |  ETA: 0:05:43\u001b[39m\u001b[K"
     ]
    },
    {
     "name": "stderr",
     "output_type": "stream",
     "text": [
      "\r\u001b[32mComputing...  78%|██████████████████████████████▌        |  ETA: 0:05:35\u001b[39m\u001b[K"
     ]
    },
    {
     "name": "stderr",
     "output_type": "stream",
     "text": [
      "\r\u001b[32mComputing...  79%|██████████████████████████████▊        |  ETA: 0:05:27\u001b[39m\u001b[K"
     ]
    },
    {
     "name": "stderr",
     "output_type": "stream",
     "text": [
      "\r\u001b[32mComputing...  79%|██████████████████████████████▉        |  ETA: 0:05:19\u001b[39m\u001b[K"
     ]
    },
    {
     "name": "stderr",
     "output_type": "stream",
     "text": [
      "\r\u001b[32mComputing...  80%|███████████████████████████████        |  ETA: 0:05:12\u001b[39m\u001b[K"
     ]
    },
    {
     "name": "stderr",
     "output_type": "stream",
     "text": [
      "\r\u001b[32mComputing...  80%|███████████████████████████████▎       |  ETA: 0:05:04\u001b[39m\u001b[K"
     ]
    },
    {
     "name": "stderr",
     "output_type": "stream",
     "text": [
      "┌ Warning: Did not find an optimal solution: status=ITERATION_LIMIT\n",
      "└ @ PortfolioOpt /Users/andrewrosemberg/Workspace/PortfolioOpt/src/VolumeMarket.jl:113\n",
      "\r\u001b[32mComputing...  81%|███████████████████████████████▍       |  ETA: 0:05:04\u001b[39m\u001b[K"
     ]
    },
    {
     "name": "stderr",
     "output_type": "stream",
     "text": [
      "\r\u001b[32mComputing...  81%|███████████████████████████████▋       |  ETA: 0:04:56\u001b[39m\u001b[K"
     ]
    },
    {
     "name": "stdout",
     "output_type": "stream",
     "text": [
      "iter  1, NLML: 1125.1399 \n",
      "iter  2, NLML: 904.9492 \n",
      "iter  3, NLML: 843.1873 \n",
      "iter  4, NLML: 817.6604 \n",
      "iter  5, NLML: 805.8997 \n",
      "iter  6, NLML: 799.6595 \n",
      "iter  7, NLML: 795.8718 \n",
      "iter  1, NLML: 1116.3663 \n",
      "iter  2, NLML: 903.8334 \n",
      "iter  3, NLML: 842.9287 \n",
      "iter  4, NLML: 817.5292 \n",
      "iter  5, NLML: 805.6774 \n",
      "iter  6, NLML: 799.3046 \n",
      "iter  7, NLML: 795.3832 \n",
      "iter  1, NLML: 1165.4831 \n",
      "iter  2, NLML: 929.8098 \n",
      "iter  3, NLML: 856.6266 \n",
      "iter  4, NLML: 825.6952 \n",
      "iter  5, NLML: 810.9573 \n",
      "iter  6, NLML: 802.9000 \n",
      "iter  7, NLML: 798.0595 \n",
      "iter  1, NLML: 1202.6686 \n",
      "iter  2, NLML: 940.6409 \n",
      "iter  3, NLML: 857.7441 \n",
      "iter  4, NLML: 825.3414 \n",
      "iter  5, NLML: 810.6388 \n",
      "iter  6, NLML: 802.8473 \n",
      "iter  7, NLML: 798.2941 \n",
      "iter  1, NLML: 1202.5222 \n",
      "iter  2, NLML: 936.7761 \n",
      "iter  3, NLML: 849.5551 \n",
      "iter  4, NLML: 813.7217 \n",
      "iter  5, NLML: 797.9285 \n",
      "iter  6, NLML: 789.9114 \n",
      "iter  7, NLML: 785.4278 \n",
      "iter  1, NLML: 1222.5386 \n",
      "iter  2, NLML: 931.9723 \n",
      "iter  3, NLML: 827.9822 \n",
      "iter  4, NLML: 784.2082 \n",
      "iter  5, NLML: 765.5570 \n",
      "iter  6, NLML: 756.4186 \n",
      "iter  7, NLML: 751.4281 \n",
      "iter  1, NLML: 1243.3564 \n",
      "iter  2, NLML: 949.3906 \n",
      "iter  3, NLML: 841.8171 \n",
      "iter  4, NLML: 793.8021 \n",
      "iter  5, NLML: 772.4353 \n",
      "iter  6, NLML: 761.9411 \n",
      "iter  7, NLML: 756.2583 \n",
      "iter  1, NLML: 1240.8502 \n",
      "iter  2, NLML: 944.9026 \n",
      "iter  3, NLML: 836.2429 \n",
      "iter  4, NLML: 785.9469 \n",
      "iter  5, NLML: 763.2361 \n",
      "iter  6, NLML: 752.1625 \n",
      "iter  7, NLML: 746.2467 \n",
      "iter  1, NLML: 1168.5471 \n",
      "iter  2, NLML: 907.8896 \n",
      "iter  3, NLML: 818.3778 \n",
      "iter  4, NLML: 780.4706 \n",
      "iter  5, NLML: 763.0046 \n",
      "iter  6, NLML: 754.0928 \n",
      "iter  7, NLML: 749.0837 \n",
      "iter  1, NLML: 1161.6714 \n",
      "iter  2, NLML: 905.3958 \n",
      "iter  3, NLML: 816.9999 \n",
      "iter  4, NLML: 778.5434 \n",
      "iter  5, NLML: 760.5834 \n",
      "iter  6, NLML: 751.4266 \n",
      "iter  7, NLML: 746.3254 \n",
      "iter  1, NLML: 1176.3645 \n",
      "iter  2, NLML: 905.7076 \n",
      "iter  3, NLML: 817.7353 \n",
      "iter  4, NLML: 780.3517 \n",
      "iter  5, NLML: 763.1404 \n",
      "iter  6, NLML: 754.3035 \n",
      "iter  7, NLML: 749.2953 \n",
      "iter  1, NLML: 1110.5896 \n",
      "iter  2, NLML: 879.9491 \n",
      "iter  3, NLML: 805.2790 \n",
      "iter  4, NLML: 774.6141 \n",
      "iter  5, NLML: 759.9406 \n",
      "iter  6, NLML: 751.9209 \n",
      "iter  7, NLML: 747.1154 \n",
      "iter  1, NLML: 1104.0960 \n",
      "iter  2, NLML: 883.1039 \n",
      "iter  3, NLML: 809.0565 \n",
      "iter  4, NLML: 777.9657 \n",
      "iter  5, NLML: 763.3092 \n",
      "iter  6, NLML: 755.6392 \n",
      "iter  7, NLML: 751.1308 \n",
      "iter  1, NLML: 1067.5131 \n",
      "iter  2, NLML: 870.3163 \n",
      "iter  3, NLML: 803.9942 \n",
      "iter  4, NLML: 774.9606 \n",
      "iter  5, NLML: 760.3506 \n",
      "iter  6, NLML: 752.2744 \n",
      "iter  7, NLML: 747.4059 \n",
      "iter  1, NLML: 1050.0435 \n",
      "iter  2, NLML: 863.2796 \n",
      "iter  3, NLML: 801.2052 \n",
      "iter  4, NLML: 773.1649 \n",
      "iter  5, NLML: 758.8608 \n",
      "iter  6, NLML: 750.9357 \n",
      "iter  7, NLML: 746.1297 \n",
      "iter  1, NLML: 981.0353 \n",
      "iter  2, NLML: 830.0811 \n",
      "iter  3, NLML: 781.8046 \n",
      "iter  4, NLML: 760.6624 \n",
      "iter  5, NLML: 750.0215 \n",
      "iter  6, NLML: 744.1366 \n",
      "iter  7, NLML: 740.5493 \n",
      "iter  1, NLML: 999.4016 \n",
      "iter  2, NLML: 850.4518 \n",
      "iter  3, NLML: 792.6056 \n",
      "iter  4, NLML: 764.7229 \n",
      "iter  5, NLML: 750.4278 \n",
      "iter  6, NLML: 742.6374 \n",
      "iter  7, NLML: 737.9918 \n",
      "iter  1, NLML: 904.6803 \n",
      "iter  2, NLML: 785.4281 \n",
      "iter  3, NLML: 750.1166 \n",
      "iter  4, NLML: 735.3704 \n",
      "iter  5, NLML: 728.0029 \n",
      "iter  6, NLML: 723.6152 \n",
      "iter  7, NLML: 720.6301 \n",
      "iter  1, NLML: 904.6603 \n",
      "iter  2, NLML: 787.8688 \n",
      "iter  3, NLML: 752.9979 \n",
      "iter  4, NLML: 737.8884 \n",
      "iter  5, NLML: 730.1649 \n",
      "iter  6, NLML: 725.4770 \n",
      "iter  7, NLML: 722.2380 \n",
      "iter  1, NLML: 905.0390 \n",
      "iter  2, NLML: 790.1637 \n",
      "iter  3, NLML: 756.8117 \n",
      "iter  4, NLML: 742.2357 \n",
      "iter  5, NLML: 734.5753 \n",
      "iter  6, NLML: 729.8091 \n",
      "iter  7, NLML: 726.4643 \n",
      "iter  1, NLML: 906.3927 \n",
      "iter  2, NLML: 795.4461 \n",
      "iter  3, NLML: 762.4704 \n",
      "iter  4, NLML: 747.4429 \n",
      "iter  5, NLML: 739.4774 \n",
      "iter  6, NLML: 734.5693 \n",
      "iter  7, NLML: 731.1682 \n",
      "iter  1, NLML: 895.9202 \n",
      "iter  2, NLML: 789.1929 \n",
      "iter  3, NLML: 759.8182 \n",
      "iter  4, NLML: 746.9486 \n",
      "iter  5, NLML: 739.9182 \n",
      "iter  6, NLML: 735.3785 \n",
      "iter  7, NLML: 732.1065 \n",
      "iter  1, NLML: 902.3278 \n",
      "iter  2, NLML: 794.9956 \n",
      "iter  3, NLML: 765.0451 \n",
      "iter  4, NLML: 751.8883 \n",
      "iter  5, NLML: 744.7338 \n",
      "iter  6, NLML: 740.1433 \n",
      "iter  7, NLML: 736.8548 \n",
      "iter  1, NLML: 905.0546 \n",
      "iter  2, NLML: 795.1699 \n",
      "iter  3, NLML: 763.9834 \n",
      "iter  4, NLML: 750.6200 \n",
      "iter  5, NLML: 743.4724 \n",
      "iter  6, NLML: 738.8756 \n",
      "iter  7, NLML: 735.5528 \n",
      "iter  1, NLML: 922.0432 \n",
      "iter  2, NLML: 800.0725 \n",
      "iter  3, NLML: 765.0456 \n",
      "iter  4, NLML: 751.1982 \n",
      "iter  5, NLML: 743.8909 \n",
      "iter  6, NLML: 739.2201 \n",
      "iter  7, NLML: 735.8498 \n",
      "iter  1, NLML: 864.3685 \n",
      "iter  2, NLML: 763.9444 \n",
      "iter  3, NLML: 742.3278 \n",
      "iter  4, NLML: 733.0323 \n",
      "iter  5, NLML: 727.6256 \n",
      "iter  6, NLML: 723.8180 \n",
      "iter  7, NLML: 720.8923 \n",
      "iter  1, NLML: 796.2129 \n",
      "iter  2, NLML: 701.0812 \n",
      "iter  3, NLML: 682.2034 \n",
      "iter  4, NLML: 674.9806 \n",
      "iter  5, NLML: 671.0210 \n",
      "iter  6, NLML: 668.2765 \n",
      "iter  7, NLML: 666.1600 \n",
      "iter  1, NLML: 795.7530 \n",
      "iter  2, NLML: 697.9681 \n",
      "iter  3, NLML: 678.9166 \n",
      "iter  4, NLML: 672.2797 \n",
      "iter  5, NLML: 668.8575 \n",
      "iter  6, NLML: 666.5396 \n",
      "iter  7, NLML: 664.7690 \n",
      "iter  1, NLML: 835.0405 \n",
      "iter  2, NLML: 710.6079 \n",
      "iter  3, NLML: 683.4818 \n",
      "iter  4, NLML: 674.3753 \n",
      "iter  5, NLML: 669.7968 \n",
      "iter  6, NLML: 666.8101 \n",
      "iter  7, NLML: 664.6021 \n",
      "iter  1, NLML: 842.1188 \n",
      "iter  2, NLML: 706.9887 \n",
      "iter  3, NLML: 678.0277 \n",
      "iter  4, NLML: 668.8428 \n",
      "iter  5, NLML: 664.3516 \n",
      "iter  6, NLML: 661.5279 \n",
      "iter  7, NLML: 659.4995 \n",
      "iter  1, NLML: 811.7834 \n",
      "iter  2, NLML: 691.7822 \n",
      "iter  3, NLML: 666.1312 \n",
      "iter  4, NLML: 657.9315 \n",
      "iter  5, NLML: 653.8316 \n",
      "iter  6, NLML: 651.1767 \n",
      "iter  7, NLML: 649.2224 \n",
      "iter  1, NLML: 804.3028 \n",
      "iter  2, NLML: 689.5828 \n",
      "iter  3, NLML: 663.8794 \n",
      "iter  4, NLML: 655.5643 \n",
      "iter  5, NLML: 651.3516 \n",
      "iter  6, NLML: 648.6118 \n",
      "iter  7, NLML: 646.5831 \n",
      "iter  1, NLML: 792.8211 \n",
      "iter  2, NLML: 688.4677 \n",
      "iter  3, NLML: 663.9967 \n",
      "iter  4, NLML: 655.1637 \n",
      "iter  5, NLML: 650.6956 \n",
      "iter  6, NLML: 647.8338 \n",
      "iter  7, NLML: 645.7244 \n",
      "iter  1, NLML: 781.4953 \n",
      "iter  2, NLML: 680.4975 \n",
      "iter  3, NLML: 656.5865 \n",
      "iter  4, NLML: 647.9283 \n",
      "iter  5, NLML: 643.5941 \n",
      "iter  6, NLML: 640.8072 \n",
      "iter  7, NLML: 638.7295 \n",
      "iter  1, NLML: 763.9502 \n",
      "iter  2, NLML: 660.9908 \n",
      "iter  3, NLML: 637.0831 \n",
      "iter  4, NLML: 628.3241 \n",
      "iter  5, NLML: 624.1020 \n",
      "iter  6, NLML: 621.5092 \n",
      "iter  7, NLML: 619.6319 \n",
      "iter  1, NLML: 741.9507 \n",
      "iter  2, NLML: 652.2284 \n",
      "iter  3, NLML: 633.5696 \n",
      "iter  4, NLML: 626.3951 \n",
      "iter  5, NLML: 622.5924 \n",
      "iter  6, NLML: 620.0414 \n",
      "iter  7, NLML: 618.0880 \n",
      "iter  1, NLML: 729.3860 \n",
      "iter  2, NLML: 655.8617 \n",
      "iter  3, NLML: 636.9991 \n",
      "iter  4, NLML: 629.3261 \n",
      "iter  5, NLML: 625.1924 \n",
      "iter  6, NLML: 622.4154 \n",
      "iter  7, NLML: 620.3124 \n",
      "iter  1, NLML: 753.1646 \n",
      "iter  2, NLML: 659.5487 \n",
      "iter  3, NLML: 635.2419 \n",
      "iter  4, NLML: 625.6614 \n",
      "iter  5, NLML: 620.4162 \n",
      "iter  6, NLML: 616.9299 \n",
      "iter  7, NLML: 614.3543 \n",
      "iter  1, NLML: 758.1517 \n",
      "iter  2, NLML: 655.3451 \n",
      "iter  3, NLML: 629.1762 \n",
      "iter  4, NLML: 619.3122 \n",
      "iter  5, NLML: 614.0425 \n",
      "iter  6, NLML: 610.5863 \n",
      "iter  7, NLML: 608.0480 \n",
      "iter  1, NLML: 745.3111 \n",
      "iter  2, NLML: 640.3217 \n",
      "iter  3, NLML: 615.2025 \n",
      "iter  4, NLML: 605.3941 \n",
      "iter  5, NLML: 600.1638 \n",
      "iter  6, NLML: 596.7751 \n",
      "iter  7, NLML: 594.3223 \n",
      "iter  1, NLML: 750.0730 \n",
      "iter  2, NLML: 643.8723 \n",
      "iter  3, NLML: 618.0446 \n",
      "iter  4, NLML: 608.3608 \n",
      "iter  5, NLML: 603.3528 \n",
      "iter  6, NLML: 600.1859 \n",
      "iter  7, NLML: 597.9228 \n",
      "iter  1, NLML: 746.5124 \n",
      "iter  2, NLML: 641.5876 \n",
      "iter  3, NLML: 615.5982 \n",
      "iter  4, NLML: 605.7089 \n",
      "iter  5, NLML: 600.5445 \n",
      "iter  6, NLML: 597.2621 \n",
      "iter  7, NLML: 594.9042 \n",
      "iter  1, NLML: 699.6813 \n",
      "iter  2, NLML: 616.0691 \n",
      "iter  3, NLML: 598.4103 \n",
      "iter  4, NLML: 592.0585 \n",
      "iter  5, NLML: 588.7351 \n",
      "iter  6, NLML: 586.4595 \n",
      "iter  7, NLML: 584.7041 \n",
      "iter  1, NLML: 702.5442 \n",
      "iter  2, NLML: 614.3554 \n",
      "iter  3, NLML: 593.5279 \n",
      "iter  4, NLML: 585.8006 \n",
      "iter  5, NLML: 581.7937 \n",
      "iter  6, NLML: 579.0740 \n",
      "iter  7, NLML: 576.9885 \n",
      "iter  1, NLML: 702.1051 \n",
      "iter  2, NLML: 613.5270 \n",
      "iter  3, NLML: 592.3949 \n",
      "iter  4, NLML: 584.4117 \n",
      "iter  5, NLML: 580.2782 \n",
      "iter  6, NLML: 577.4904 \n",
      "iter  7, NLML: 575.3668 \n",
      "iter  1, NLML: 710.2053 \n",
      "iter  2, NLML: 615.3653 \n",
      "iter  3, NLML: 591.9957 \n",
      "iter  4, NLML: 583.5184 \n",
      "iter  5, NLML: 579.2190 \n",
      "iter  6, NLML: 576.3281 \n",
      "iter  7, NLML: 574.1199 \n",
      "iter  1, NLML: 736.4066 \n",
      "iter  2, NLML: 629.4167 \n",
      "iter  3, NLML: 601.5327 \n",
      "iter  4, NLML: 592.3289 \n",
      "iter  5, NLML: 588.0489 \n",
      "iter  6, NLML: 585.3682 \n",
      "iter  7, NLML: 583.4044 \n",
      "iter  1, NLML: 703.2538 \n",
      "iter  2, NLML: 616.3163 \n",
      "iter  3, NLML: 593.5726 \n",
      "iter  4, NLML: 586.1464 \n",
      "iter  5, NLML: 582.3358 \n",
      "iter  6, NLML: 579.8672 \n",
      "iter  7, NLML: 578.0812 \n",
      "iter  1, NLML: 712.6701 \n",
      "iter  2, NLML: 620.2622 \n",
      "iter  3, NLML: 594.1231 \n",
      "iter  4, NLML: 584.8972 \n",
      "iter  5, NLML: 580.3171 \n",
      "iter  6, NLML: 577.4916 \n",
      "iter  7, NLML: 575.5134 \n",
      "iter  1, NLML: 692.1386 \n",
      "iter  2, NLML: 605.5555 \n",
      "iter  3, NLML: 580.8523 \n",
      "iter  4, NLML: 572.1082 \n",
      "iter  5, NLML: 567.7248 \n",
      "iter  6, NLML: 564.9692 \n",
      "iter  7, NLML: 563.0056 \n",
      "iter  1, NLML: 723.4689 \n",
      "iter  2, NLML: 619.0330 \n",
      "iter  3, NLML: 584.1172 \n",
      "iter  4, NLML: 573.0820 \n",
      "iter  5, NLML: 568.1693 \n",
      "iter  6, NLML: 565.1971 \n",
      "iter  7, NLML: 563.1292 \n",
      "iter  1, NLML: 718.4758 \n",
      "iter  2, NLML: 619.3124 \n",
      "iter  3, NLML: 588.7441 \n",
      "iter  4, NLML: 576.9681 \n",
      "iter  5, NLML: 570.8687 \n",
      "iter  6, NLML: 567.0188 \n",
      "iter  7, NLML: 564.3125 \n",
      "iter  1, NLML: 630.0927 \n",
      "iter  2, NLML: 568.6645 \n",
      "iter  3, NLML: 553.4532 \n",
      "iter  4, NLML: 549.3633 \n",
      "iter  5, NLML: 547.4422 \n",
      "iter  6, NLML: 546.0537 \n",
      "iter  7, NLML: 544.9007 \n",
      "iter  1, NLML: 621.0042 \n",
      "iter  2, NLML: 559.9708 \n",
      "iter  3, NLML: 544.7390 \n",
      "iter  4, NLML: 540.2652 \n",
      "iter  5, NLML: 537.9551 \n",
      "iter  6, NLML: 536.2468 \n",
      "iter  7, NLML: 534.8421 \n",
      "iter  1, NLML: 604.9370 \n",
      "iter  2, NLML: 542.9928 \n",
      "iter  3, NLML: 527.7528 \n",
      "iter  4, NLML: 523.1915 \n",
      "iter  5, NLML: 520.8574 \n",
      "iter  6, NLML: 519.1559 \n",
      "iter  7, NLML: 517.7692 \n",
      "iter  1, NLML: 598.1260 \n",
      "iter  2, NLML: 543.8302 \n",
      "iter  3, NLML: 531.8441 \n",
      "iter  4, NLML: 527.9103 \n",
      "iter  5, NLML: 525.7168 \n",
      "iter  6, NLML: 524.0802 \n",
      "iter  7, NLML: 522.7388 \n",
      "iter  1, NLML: 607.3042 \n",
      "iter  2, NLML: 550.6560 \n",
      "iter  3, NLML: 537.5435 \n",
      "iter  4, NLML: 532.9270 \n",
      "iter  5, NLML: 530.3306 \n",
      "iter  6, NLML: 528.4416 \n",
      "iter  7, NLML: 526.9263 \n",
      "iter  1, NLML: 572.0127 \n",
      "iter  2, NLML: 533.3249 \n",
      "iter  3, NLML: 525.3693 \n",
      "iter  4, NLML: 522.3532 \n",
      "iter  5, NLML: 520.3678 \n",
      "iter  6, NLML: 518.7687 \n",
      "iter  7, NLML: 517.3937 \n",
      "iter  1, NLML: 595.9054 \n",
      "iter  2, NLML: 546.0641 \n",
      "iter  3, NLML: 535.7386 \n",
      "iter  4, NLML: 532.4087 \n"
     ]
    },
    {
     "name": "stderr",
     "output_type": "stream",
     "text": [
      "\r\u001b[32mComputing...  81%|███████████████████████████████▊       |  ETA: 0:04:48\u001b[39m\u001b[K"
     ]
    },
    {
     "name": "stderr",
     "output_type": "stream",
     "text": [
      "\r\u001b[32mComputing...  82%|████████████████████████████████       |  ETA: 0:04:41\u001b[39m\u001b[K"
     ]
    },
    {
     "name": "stderr",
     "output_type": "stream",
     "text": [
      "\r\u001b[32mComputing...  82%|████████████████████████████████▏      |  ETA: 0:04:33\u001b[39m\u001b[K"
     ]
    },
    {
     "name": "stderr",
     "output_type": "stream",
     "text": [
      "\r\u001b[32mComputing...  83%|████████████████████████████████▍      |  ETA: 0:04:25\u001b[39m\u001b[K"
     ]
    },
    {
     "name": "stderr",
     "output_type": "stream",
     "text": [
      "\r\u001b[32mComputing...  83%|████████████████████████████████▌      |  ETA: 0:04:17\u001b[39m\u001b[K"
     ]
    },
    {
     "name": "stderr",
     "output_type": "stream",
     "text": [
      "\r\u001b[32mComputing...  84%|████████████████████████████████▋      |  ETA: 0:04:10\u001b[39m\u001b[K"
     ]
    },
    {
     "name": "stderr",
     "output_type": "stream",
     "text": [
      "\r\u001b[32mComputing...  84%|████████████████████████████████▉      |  ETA: 0:04:02\u001b[39m\u001b[K"
     ]
    },
    {
     "name": "stderr",
     "output_type": "stream",
     "text": [
      "\r\u001b[32mComputing...  85%|█████████████████████████████████      |  ETA: 0:03:55\u001b[39m\u001b[K"
     ]
    },
    {
     "name": "stderr",
     "output_type": "stream",
     "text": [
      "\r\u001b[32mComputing...  85%|█████████████████████████████████▎     |  ETA: 0:03:47\u001b[39m\u001b[K"
     ]
    },
    {
     "name": "stderr",
     "output_type": "stream",
     "text": [
      "\r\u001b[32mComputing...  86%|█████████████████████████████████▍     |  ETA: 0:03:40\u001b[39m\u001b[K"
     ]
    },
    {
     "name": "stderr",
     "output_type": "stream",
     "text": [
      "┌ Warning: Did not find an optimal solution: status=ITERATION_LIMIT\n",
      "└ @ PortfolioOpt /Users/andrewrosemberg/Workspace/PortfolioOpt/src/VolumeMarket.jl:113\n",
      "\r\u001b[32mComputing...  86%|█████████████████████████████████▋     |  ETA: 0:03:37\u001b[39m\u001b[K"
     ]
    },
    {
     "name": "stderr",
     "output_type": "stream",
     "text": [
      "\r\u001b[32mComputing...  87%|█████████████████████████████████▊     |  ETA: 0:03:30\u001b[39m\u001b[K"
     ]
    },
    {
     "name": "stderr",
     "output_type": "stream",
     "text": [
      "\r\u001b[32mComputing...  87%|██████████████████████████████████     |  ETA: 0:03:22\u001b[39m\u001b[K"
     ]
    },
    {
     "name": "stderr",
     "output_type": "stream",
     "text": [
      "┌ Warning: Did not find an optimal solution: status=ITERATION_LIMIT\n",
      "└ @ PortfolioOpt /Users/andrewrosemberg/Workspace/PortfolioOpt/src/VolumeMarket.jl:113\n",
      "\r\u001b[32mComputing...  88%|██████████████████████████████████▏    |  ETA: 0:03:19\u001b[39m\u001b[K"
     ]
    },
    {
     "name": "stderr",
     "output_type": "stream",
     "text": [
      "\r\u001b[32mComputing...  88%|██████████████████████████████████▎    |  ETA: 0:03:11\u001b[39m\u001b[K"
     ]
    },
    {
     "name": "stderr",
     "output_type": "stream",
     "text": [
      "\r\u001b[32mComputing...  88%|██████████████████████████████████▌    |  ETA: 0:03:03\u001b[39m\u001b[K"
     ]
    },
    {
     "name": "stderr",
     "output_type": "stream",
     "text": [
      "\r\u001b[32mComputing...  89%|██████████████████████████████████▋    |  ETA: 0:02:56\u001b[39m\u001b[K"
     ]
    },
    {
     "name": "stderr",
     "output_type": "stream",
     "text": [
      "\r\u001b[32mComputing...  89%|██████████████████████████████████▉    |  ETA: 0:02:48\u001b[39m\u001b[K"
     ]
    },
    {
     "name": "stderr",
     "output_type": "stream",
     "text": [
      "\r\u001b[32mComputing...  90%|███████████████████████████████████    |  ETA: 0:02:40\u001b[39m\u001b[K"
     ]
    },
    {
     "name": "stderr",
     "output_type": "stream",
     "text": [
      "\r\u001b[32mComputing...  90%|███████████████████████████████████▎   |  ETA: 0:02:33\u001b[39m\u001b[K"
     ]
    },
    {
     "name": "stderr",
     "output_type": "stream",
     "text": [
      "\r\u001b[32mComputing...  91%|███████████████████████████████████▍   |  ETA: 0:02:25\u001b[39m\u001b[K"
     ]
    },
    {
     "name": "stderr",
     "output_type": "stream",
     "text": [
      "\r\u001b[32mComputing...  91%|███████████████████████████████████▋   |  ETA: 0:02:18\u001b[39m\u001b[K"
     ]
    },
    {
     "name": "stderr",
     "output_type": "stream",
     "text": [
      "\r\u001b[32mComputing...  92%|███████████████████████████████████▊   |  ETA: 0:02:10\u001b[39m\u001b[K"
     ]
    },
    {
     "name": "stderr",
     "output_type": "stream",
     "text": [
      "\r\u001b[32mComputing...  92%|███████████████████████████████████▉   |  ETA: 0:02:03\u001b[39m\u001b[K"
     ]
    },
    {
     "name": "stderr",
     "output_type": "stream",
     "text": [
      "\r\u001b[32mComputing...  93%|████████████████████████████████████▏  |  ETA: 0:01:56\u001b[39m\u001b[K"
     ]
    },
    {
     "name": "stderr",
     "output_type": "stream",
     "text": [
      "\r\u001b[32mComputing...  93%|████████████████████████████████████▎  |  ETA: 0:01:48\u001b[39m\u001b[K"
     ]
    },
    {
     "name": "stderr",
     "output_type": "stream",
     "text": [
      "\r\u001b[32mComputing...  94%|████████████████████████████████████▌  |  ETA: 0:01:41\u001b[39m\u001b[K"
     ]
    },
    {
     "name": "stderr",
     "output_type": "stream",
     "text": [
      "\r\u001b[32mComputing...  94%|████████████████████████████████████▋  |  ETA: 0:01:33\u001b[39m\u001b[K"
     ]
    },
    {
     "name": "stderr",
     "output_type": "stream",
     "text": [
      "\r\u001b[32mComputing...  94%|████████████████████████████████████▉  |  ETA: 0:01:26\u001b[39m\u001b[K"
     ]
    },
    {
     "name": "stderr",
     "output_type": "stream",
     "text": [
      "\r\u001b[32mComputing...  95%|█████████████████████████████████████  |  ETA: 0:01:19\u001b[39m\u001b[K"
     ]
    },
    {
     "name": "stderr",
     "output_type": "stream",
     "text": [
      "\r\u001b[32mComputing...  95%|█████████████████████████████████████▎ |  ETA: 0:01:11\u001b[39m\u001b[K"
     ]
    },
    {
     "name": "stderr",
     "output_type": "stream",
     "text": [
      "\r\u001b[32mComputing...  96%|█████████████████████████████████████▍ |  ETA: 0:01:04\u001b[39m\u001b[K"
     ]
    },
    {
     "name": "stderr",
     "output_type": "stream",
     "text": [
      "\r\u001b[32mComputing...  96%|█████████████████████████████████████▌ |  ETA: 0:00:57\u001b[39m\u001b[K"
     ]
    },
    {
     "name": "stderr",
     "output_type": "stream",
     "text": [
      "\r\u001b[32mComputing...  97%|█████████████████████████████████████▊ |  ETA: 0:00:50\u001b[39m\u001b[K"
     ]
    },
    {
     "name": "stderr",
     "output_type": "stream",
     "text": [
      "\r\u001b[32mComputing...  97%|█████████████████████████████████████▉ |  ETA: 0:00:43\u001b[39m\u001b[K"
     ]
    },
    {
     "name": "stderr",
     "output_type": "stream",
     "text": [
      "\r\u001b[32mComputing...  98%|██████████████████████████████████████▏|  ETA: 0:00:36\u001b[39m\u001b[K"
     ]
    },
    {
     "name": "stderr",
     "output_type": "stream",
     "text": [
      "┌ Warning: Did not find an optimal solution: status=ITERATION_LIMIT\n",
      "└ @ PortfolioOpt /Users/andrewrosemberg/Workspace/PortfolioOpt/src/VolumeMarket.jl:113\n",
      "\r\u001b[32mComputing...  98%|██████████████████████████████████████▎|  ETA: 0:00:29\u001b[39m\u001b[K"
     ]
    },
    {
     "name": "stderr",
     "output_type": "stream",
     "text": [
      "┌ Warning: Did not find an optimal solution: status=NUMERICAL_ERROR\n",
      "└ @ PortfolioOpt /Users/andrewrosemberg/Workspace/PortfolioOpt/src/VolumeMarket.jl:113\n",
      "\r\u001b[32mComputing...  99%|██████████████████████████████████████▌|  ETA: 0:00:22\u001b[39m\u001b[K"
     ]
    },
    {
     "name": "stderr",
     "output_type": "stream",
     "text": [
      "\r\u001b[32mComputing...  99%|██████████████████████████████████████▋|  ETA: 0:00:15\u001b[39m\u001b[K"
     ]
    },
    {
     "name": "stderr",
     "output_type": "stream",
     "text": [
      "\r\u001b[32mComputing... 100%|██████████████████████████████████████▉|  ETA: 0:00:07\u001b[39m\u001b[K"
     ]
    },
    {
     "name": "stderr",
     "output_type": "stream",
     "text": [
      "\r\u001b[32mComputing... 100%|███████████████████████████████████████| Time: 0:26:26\u001b[39m\u001b[K\n"
     ]
    },
    {
     "name": "stdout",
     "output_type": "stream",
     "text": [
      "iter  5, NLML: 530.5345 \n",
      "iter  6, NLML: 529.1260 \n",
      "iter  7, NLML: 527.9545 \n",
      "iter  1, NLML: 596.1605 \n",
      "iter  2, NLML: 549.6709 \n",
      "iter  3, NLML: 539.5786 \n",
      "iter  4, NLML: 536.2715 \n",
      "iter  5, NLML: 534.3388 \n",
      "iter  6, NLML: 532.8773 \n",
      "iter  7, NLML: 531.6654 \n",
      "iter  1, NLML: 592.5131 \n",
      "iter  2, NLML: 545.1602 \n",
      "iter  3, NLML: 535.0438 \n",
      "iter  4, NLML: 531.7808 \n",
      "iter  5, NLML: 529.9053 \n",
      "iter  6, NLML: 528.5077 \n",
      "iter  7, NLML: 527.3582 \n",
      "iter  1, NLML: 579.3577 \n",
      "iter  2, NLML: 533.9982 \n",
      "iter  3, NLML: 524.5073 \n",
      "iter  4, NLML: 521.3372 \n",
      "iter  5, NLML: 519.3112 \n",
      "iter  6, NLML: 517.6703 \n",
      "iter  7, NLML: 516.2417 \n",
      "iter  1, NLML: 584.3903 \n",
      "iter  2, NLML: 537.0958 \n",
      "iter  3, NLML: 527.1018 \n",
      "iter  4, NLML: 523.7581 \n",
      "iter  5, NLML: 521.6634 \n",
      "iter  6, NLML: 519.9792 \n",
      "iter  7, NLML: 518.5250 \n",
      "iter  1, NLML: 596.1149 \n",
      "iter  2, NLML: 542.4778 \n",
      "iter  3, NLML: 528.9352 \n",
      "iter  4, NLML: 524.4055 \n",
      "iter  5, NLML: 521.9315 \n",
      "iter  6, NLML: 520.1095 \n",
      "iter  7, NLML: 518.6121 \n",
      "iter  1, NLML: 555.9907 \n",
      "iter  2, NLML: 524.1557 \n",
      "iter  3, NLML: 517.5219 \n",
      "iter  4, NLML: 514.7582 \n",
      "iter  5, NLML: 512.9518 \n",
      "iter  6, NLML: 511.3950 \n",
      "iter  7, NLML: 509.9687 \n",
      "iter  1, NLML: 552.5587 \n",
      "iter  2, NLML: 518.9570 \n",
      "iter  3, NLML: 512.2602 \n",
      "iter  4, NLML: 509.4704 \n",
      "iter  5, NLML: 507.5465 \n",
      "iter  6, NLML: 505.8497 \n",
      "iter  7, NLML: 504.2883 \n",
      "iter  1, NLML: 547.3423 \n",
      "iter  2, NLML: 511.5722 \n",
      "iter  3, NLML: 504.1617 \n",
      "iter  4, NLML: 501.1478 \n",
      "iter  5, NLML: 499.3133 \n",
      "iter  6, NLML: 497.8177 \n",
      "iter  7, NLML: 496.4796 \n",
      "iter  1, NLML: 557.7879 \n",
      "iter  2, NLML: 522.9618 \n",
      "iter  3, NLML: 514.9085 \n",
      "iter  4, NLML: 511.5759 \n",
      "iter  5, NLML: 509.5299 \n",
      "iter  6, NLML: 507.8913 \n",
      "iter  7, NLML: 506.4583 \n",
      "iter  1, NLML: 543.7416 \n",
      "iter  2, NLML: 515.5836 \n",
      "iter  3, NLML: 508.4030 \n",
      "iter  4, NLML: 504.2686 \n",
      "iter  5, NLML: 501.6015 \n",
      "iter  6, NLML: 499.5769 \n",
      "iter  7, NLML: 497.8488 \n",
      "iter  1, NLML: 555.4656 \n",
      "iter  2, NLML: 530.1149 \n",
      "iter  3, NLML: 523.9301 \n",
      "iter  4, NLML: 520.0078 \n",
      "iter  5, NLML: 516.9868 \n",
      "iter  6, NLML: 514.5497 \n",
      "iter  7, NLML: 512.5193 \n",
      "iter  1, NLML: 564.2761 \n",
      "iter  2, NLML: 539.6402 \n",
      "iter  3, NLML: 534.0536 \n",
      "iter  4, NLML: 530.3003 \n",
      "iter  5, NLML: 527.2424 \n",
      "iter  6, NLML: 524.6780 \n",
      "iter  7, NLML: 522.5042 \n",
      "iter  1, NLML: 587.7452 \n",
      "iter  2, NLML: 551.4435 \n",
      "iter  3, NLML: 544.9595 \n",
      "iter  4, NLML: 541.4111 \n",
      "iter  5, NLML: 538.7084 \n",
      "iter  6, NLML: 536.5262 \n",
      "iter  7, NLML: 534.7179 \n",
      "iter  1, NLML: 593.9327 \n",
      "iter  2, NLML: 557.7278 \n",
      "iter  3, NLML: 550.7313 \n",
      "iter  4, NLML: 547.0689 \n",
      "iter  5, NLML: 544.3252 \n",
      "iter  6, NLML: 542.1433 \n",
      "iter  7, NLML: 540.3558 \n",
      "iter  1, NLML: 586.6786 \n",
      "iter  2, NLML: 550.3301 \n",
      "iter  3, NLML: 544.0998 \n",
      "iter  4, NLML: 540.9968 \n",
      "iter  5, NLML: 538.3075 \n",
      "iter  6, NLML: 535.7741 \n",
      "iter  7, NLML: 533.4591 \n",
      "iter  1, NLML: 594.6187 \n",
      "iter  2, NLML: 558.3210 \n",
      "iter  3, NLML: 551.7426 \n",
      "iter  4, NLML: 548.4518 \n",
      "iter  5, NLML: 545.5877 \n",
      "iter  6, NLML: 542.9070 \n",
      "iter  7, NLML: 540.5056 \n",
      "iter  1, NLML: 593.8804 \n",
      "iter  2, NLML: 557.5110 \n",
      "iter  3, NLML: 550.6168 \n",
      "iter  4, NLML: 547.1773 \n",
      "iter  5, NLML: 544.1490 \n",
      "iter  6, NLML: 541.3452 \n",
      "iter  7, NLML: 538.9027 \n",
      "iter  1, NLML: 594.3503 \n",
      "iter  2, NLML: 553.7897 \n",
      "iter  3, NLML: 546.8309 \n",
      "iter  4, NLML: 543.2910 \n",
      "iter  5, NLML: 540.2406 \n",
      "iter  6, NLML: 537.4098 \n",
      "iter  7, NLML: 534.9472 \n",
      "iter  1, NLML: 596.1904 \n",
      "iter  2, NLML: 553.1622 \n",
      "iter  3, NLML: 545.9080 \n",
      "iter  4, NLML: 542.3230 \n",
      "iter  5, NLML: 539.4470 \n",
      "iter  6, NLML: 536.8707 \n",
      "iter  7, NLML: 534.6506 \n",
      "iter  1, NLML: 596.4658 \n",
      "iter  2, NLML: 552.9470 \n",
      "iter  3, NLML: 546.1384 \n",
      "iter  4, NLML: 543.4086 \n",
      "iter  5, NLML: 541.5281 \n",
      "iter  6, NLML: 539.9619 \n",
      "iter  7, NLML: 538.5550 \n",
      "iter  1, NLML: 599.6168 \n",
      "iter  2, NLML: 556.0695 \n",
      "iter  3, NLML: 548.9963 \n",
      "iter  4, NLML: 545.9953 \n",
      "iter  5, NLML: 543.7097 \n",
      "iter  6, NLML: 541.5443 \n",
      "iter  7, NLML: 539.3194 \n",
      "iter  1, NLML: 607.7754 \n",
      "iter  2, NLML: 564.1339 \n",
      "iter  3, NLML: 557.7540 \n",
      "iter  4, NLML: 555.2966 \n",
      "iter  5, NLML: 553.8349 \n",
      "iter  6, NLML: 552.7333 \n",
      "iter  7, NLML: 551.7743 \n",
      "iter  1, NLML: 626.8675 \n",
      "iter  2, NLML: 589.8043 \n",
      "iter  3, NLML: 583.9870 \n",
      "iter  4, NLML: 581.3064 \n",
      "iter  5, NLML: 579.4959 \n",
      "iter  6, NLML: 578.0513 \n",
      "iter  7, NLML: 576.8183 \n",
      "iter  1, NLML: 619.0769 \n",
      "iter  2, NLML: 589.1763 \n",
      "iter  3, NLML: 585.6330 \n",
      "iter  4, NLML: 583.6801 \n",
      "iter  5, NLML: 582.0153 \n",
      "iter  6, NLML: 580.4643 \n",
      "iter  7, NLML: 579.0150 \n",
      "iter  1, NLML: 618.2635 \n",
      "iter  2, NLML: 588.5689 \n",
      "iter  3, NLML: 583.9637 \n",
      "iter  4, NLML: 581.3851 \n",
      "iter  5, NLML: 579.5790 \n",
      "iter  6, NLML: 578.1182 \n",
      "iter  7, NLML: 576.8436 \n",
      "iter  1, NLML: 618.4935 \n",
      "iter  2, NLML: 588.4833 \n",
      "iter  3, NLML: 584.5070 \n",
      "iter  4, NLML: 582.1873 \n",
      "iter  5, NLML: 580.3605 \n",
      "iter  6, NLML: 578.8193 \n",
      "iter  7, NLML: 577.4933 \n",
      "iter  1, NLML: 623.2629 \n",
      "iter  2, NLML: 589.1701 \n",
      "iter  3, NLML: 584.2124 \n",
      "iter  4, NLML: 581.8809 \n",
      "iter  5, NLML: 580.2904 \n",
      "iter  6, NLML: 579.0043 \n",
      "iter  7, NLML: 577.8954 \n",
      "iter  1, NLML: 644.7495 \n",
      "iter  2, NLML: 612.1986 \n",
      "iter  3, NLML: 606.8783 \n",
      "iter  4, NLML: 604.1361 \n",
      "iter  5, NLML: 602.1998 \n",
      "iter  6, NLML: 600.7173 \n",
      "iter  7, NLML: 599.5008 \n",
      "iter  1, NLML: 652.0088 \n",
      "iter  2, NLML: 619.9502 \n",
      "iter  3, NLML: 614.4160 \n",
      "iter  4, NLML: 611.6215 \n",
      "iter  5, NLML: 609.3728 \n",
      "iter  6, NLML: 607.3096 \n",
      "iter  7, NLML: 605.4811 \n",
      "iter  1, NLML: 653.8481 \n",
      "iter  2, NLML: 620.0430 \n",
      "iter  3, NLML: 615.8283 \n",
      "iter  4, NLML: 614.1635 \n",
      "iter  5, NLML: 612.9632 \n",
      "iter  6, NLML: 611.8796 \n",
      "iter  7, NLML: 610.8597 \n",
      "iter  1, NLML: 655.2888 \n",
      "iter  2, NLML: 620.0907 \n",
      "iter  3, NLML: 615.7615 \n",
      "iter  4, NLML: 614.2271 \n",
      "iter  5, NLML: 613.2028 \n",
      "iter  6, NLML: 612.2901 \n",
      "iter  7, NLML: 611.4263 \n",
      "iter  1, NLML: 654.3590 \n",
      "iter  2, NLML: 620.0004 \n",
      "iter  3, NLML: 615.6313 \n",
      "iter  4, NLML: 614.0024 \n",
      "iter  5, NLML: 612.8229 \n",
      "iter  6, NLML: 611.7216 \n",
      "iter  7, NLML: 610.6560 \n",
      "iter  1, NLML: 683.8798 \n",
      "iter  2, NLML: 652.8932 \n",
      "iter  3, NLML: 647.0172 \n",
      "iter  4, NLML: 643.9255 \n",
      "iter  5, NLML: 641.5456 \n",
      "iter  6, NLML: 639.4752 \n",
      "iter  7, NLML: 637.6401 \n",
      "iter  1, NLML: 689.7032 \n",
      "iter  2, NLML: 656.3948 \n",
      "iter  3, NLML: 650.5031 \n",
      "iter  4, NLML: 647.4488 \n",
      "iter  5, NLML: 645.0925 \n",
      "iter  6, NLML: 643.0492 \n",
      "iter  7, NLML: 641.2422 \n",
      "iter  1, NLML: 690.4677 \n",
      "iter  2, NLML: 656.3059 \n",
      "iter  3, NLML: 650.2115 \n",
      "iter  4, NLML: 647.2498 \n",
      "iter  5, NLML: 644.9568 \n",
      "iter  6, NLML: 642.9468 \n",
      "iter  7, NLML: 641.1418 \n",
      "iter  1, NLML: 690.3457 \n",
      "iter  2, NLML: 653.3004 \n",
      "iter  3, NLML: 647.1183 \n",
      "iter  4, NLML: 644.0857 \n",
      "iter  5, NLML: 641.7057 \n",
      "iter  6, NLML: 639.5678 \n",
      "iter  7, NLML: 637.6118 \n",
      "iter  1, NLML: 692.4839 \n",
      "iter  2, NLML: 657.4993 \n",
      "iter  3, NLML: 652.7211 \n",
      "iter  4, NLML: 650.0510 \n",
      "iter  5, NLML: 647.8669 \n",
      "iter  6, NLML: 645.8745 \n",
      "iter  7, NLML: 644.0290 \n",
      "iter  1, NLML: 688.8113 \n",
      "iter  2, NLML: 653.6841 \n",
      "iter  3, NLML: 648.8270 \n",
      "iter  4, NLML: 646.0847 \n",
      "iter  5, NLML: 643.8143 \n",
      "iter  6, NLML: 641.7327 \n",
      "iter  7, NLML: 639.7995 \n",
      "iter  1, NLML: 685.0811 \n",
      "iter  2, NLML: 654.6538 \n",
      "iter  3, NLML: 649.4886 \n",
      "iter  4, NLML: 646.2224 \n",
      "iter  5, NLML: 643.5636 \n",
      "iter  6, NLML: 641.2953 \n",
      "iter  7, NLML: 639.3229 \n",
      "iter  1, NLML: 690.9737 \n",
      "iter  2, NLML: 665.3157 \n",
      "iter  3, NLML: 660.2728 \n",
      "iter  4, NLML: 656.7456 \n",
      "iter  5, NLML: 653.8025 \n",
      "iter  6, NLML: 651.3023 \n",
      "iter  7, NLML: 649.1526 \n"
     ]
    }
   ],
   "source": [
    "backtest_results[\"GPRN_delage\"], _ = sequential_backtest_market(\n",
    "    VolumeMarketHistory(returns_series), date_range,\n",
    ") do market, past_returns, ext\n",
    "\n",
    "    # println(\"backtest day \", ext[:date])\n",
    "\n",
    "    # Parameters\n",
    "    max_std = 0.003 / market_budget(market)\n",
    "    k_back = 60\n",
    "    num_samples_cov = 500\n",
    "\n",
    "    # Prep\n",
    "    numD, numA = size(past_returns)\n",
    "\n",
    "    # Forecast\n",
    "    dates_for_training = timestamp(past_returns)[end-k_back:end]\n",
    "    days_for_training = dates_for_training - minimum(dates_for_training)\n",
    "    day_for_test = ext[:date] - minimum(dates_for_training)\n",
    "    x_train_gprn = day2float.(days_for_training)\n",
    "    x_test_gprn = [day2float(day_for_test)]\n",
    "    y_train = values(past_returns[dates_for_training])\n",
    "    y_train_gprn = RowVecs((y_train .- ymean) ./ ystd)  # normalise the observations\n",
    "\n",
    "    # need to re-fit the variational parameters\n",
    "    num_iters_backtest = 7\n",
    "    opt_backtest = ADAM(0.0)  # don't change the hyperparameters\n",
    "    post, θ_opt = train(\n",
    "        x_train_gprn,\n",
    "        y_train_gprn,\n",
    "        gp_model,\n",
    "        θ_init,\n",
    "        num_iters_backtest,\n",
    "        lr_newton,\n",
    "        opt_backtest,\n",
    "        cubature,\n",
    "        hyperprior\n",
    "    )\n",
    "\n",
    "    pred = only(predict_in_data_space(post, x_test_gprn, cubature))\n",
    "    latent_predict = predict(post, x_test_gprn);\n",
    "    s_cov = sample_cov(post, latent_predict, num_samples_cov);\n",
    "\n",
    "    # un-normalise the predictions\n",
    "    r̄ = mean(pred) .* ystd .+ ymean\n",
    "    Σ = cov(pred) .* ystd^2\n",
    "    s_cov_unnorm = s_cov .* ystd^2;\n",
    "    d = MvNormal(r̄, Σ)\n",
    "\n",
    "    λ2 = (1:0.1:20)[findfirst((λ) -> all([Matisless(cov_aux, Σ * λ) for cov_aux in s_cov_unnorm[1]]), 1:0.1:20)]\n",
    "\n",
    "    # PO Formulation\n",
    "    formulation = PortfolioFormulation(MAX_SENSE,\n",
    "        ObjectiveTerm(ExpectedUtility(MomentUncertainty(d, 0.005, λ2), \n",
    "            PieceWiseUtility(\n",
    "                [1.0], [0.0]\n",
    "            ),\n",
    "            WorstCase\n",
    "        )),\n",
    "        RiskConstraint(SqrtVariance(d), LessThan(max_std)),\n",
    "    )\n",
    "\n",
    "    pointers = change_bids!(market, formulation, DEFAULT_SOLVER)\n",
    "    return pointers\n",
    "end;"
   ]
  },
  {
   "cell_type": "markdown",
   "id": "2c5e66c4",
   "metadata": {},
   "source": [
    "## Plot Backtest Results"
   ]
  },
  {
   "cell_type": "code",
   "execution_count": 44,
   "id": "2b5da6f5",
   "metadata": {},
   "outputs": [
    {
     "data": {
      "image/png": "[encoded data removed]",
      "image/svg+xml": "<?xml version=\"1.0\" encoding=\"utf-8\"?>\n<svg xmlns=\"http://www.w3.org/2000/svg\" xmlns:xlink=\"http://www.w3.org/1999/xlink\" width=\"900\" height=\"550\" viewBox=\"0 0 3600 2200\">\n<defs>\n  <clipPath id=\"clip650\">\n    <rect x=\"0\" y=\"0\" width=\"3600\" height=\"2200\"/>\n  </clipPath>\n</defs>\n<path clip-path=\"url(#clip650)\" d=\"\nM0 2200 L3600 2200 L3600 0 L0 0  Z\n  \" fill=\"#ffffff\" fill-rule=\"evenodd\" fill-opacity=\"1\"/>\n<defs>\n  <clipPath id=\"clip651\">\n    <rect x=\"720\" y=\"0\" width=\"2521\" height=\"2200\"/>\n  </clipPath>\n</defs>\n<path clip-path=\"url(#clip650)\" d=\"\nM397.717 2024.02 L2469.07 2024.02 L2469.07 118.432 L397.717 118.432  Z\n  \" fill=\"#ffffff\" fill-rule=\"evenodd\" fill-opacity=\"1\"/>\n<defs>\n  <clipPath id=\"clip652\">\n    <rect x=\"397\" y=\"118\" width=\"2072\" height=\"1907\"/>\n  </clipPath>\n</defs>\n<polyline clip-path=\"url(#clip652)\" style=\"stroke:#000000; stroke-linecap:butt; stroke-linejoin:round; stroke-width:2; stroke-opacity:0.1; fill:none\" points=\"\n  494.162,2024.02 494.162,118.432 \n  \"/>\n<polyline clip-path=\"url(#clip652)\" style=\"stroke:#000000; stroke-linecap:butt; stroke-linejoin:round; stroke-width:2; stroke-opacity:0.1; fill:none\" points=\"\n  1055.18,2024.02 1055.18,118.432 \n  \"/>\n<polyline clip-path=\"url(#clip652)\" style=\"stroke:#000000; stroke-linecap:butt; stroke-linejoin:round; stroke-width:2; stroke-opacity:0.1; fill:none\" points=\"\n  1635.11,2024.02 1635.11,118.432 \n  \"/>\n<polyline clip-path=\"url(#clip652)\" style=\"stroke:#000000; stroke-linecap:butt; stroke-linejoin:round; stroke-width:2; stroke-opacity:0.1; fill:none\" points=\"\n  2215.03,2024.02 2215.03,118.432 \n  \"/>\n<polyline clip-path=\"url(#clip650)\" style=\"stroke:#000000; stroke-linecap:butt; stroke-linejoin:round; stroke-width:4; stroke-opacity:1; fill:none\" points=\"\n  397.717,2024.02 2469.07,2024.02 \n  \"/>\n<polyline clip-path=\"url(#clip650)\" style=\"stroke:#000000; stroke-linecap:butt; stroke-linejoin:round; stroke-width:4; stroke-opacity:1; fill:none\" points=\"\n  494.162,2024.02 494.162,2005.12 \n  \"/>\n<polyline clip-path=\"url(#clip650)\" style=\"stroke:#000000; stroke-linecap:butt; stroke-linejoin:round; stroke-width:4; stroke-opacity:1; fill:none\" points=\"\n  1055.18,2024.02 1055.18,2005.12 \n  \"/>\n<polyline clip-path=\"url(#clip650)\" style=\"stroke:#000000; stroke-linecap:butt; stroke-linejoin:round; stroke-width:4; stroke-opacity:1; fill:none\" points=\"\n  1635.11,2024.02 1635.11,2005.12 \n  \"/>\n<polyline clip-path=\"url(#clip650)\" style=\"stroke:#000000; stroke-linecap:butt; stroke-linejoin:round; stroke-width:4; stroke-opacity:1; fill:none\" points=\"\n  2215.03,2024.02 2215.03,2005.12 \n  \"/>\n<path clip-path=\"url(#clip650)\" d=\"M365.956 2092.08 L382.276 2092.08 L382.276 2096.02 L360.331 2096.02 L360.331 2092.08 Q362.993 2089.33 367.577 2084.7 Q372.183 2080.05 373.364 2078.71 Q375.609 2076.18 376.489 2074.45 Q377.391 2072.69 377.391 2071 Q377.391 2068.24 375.447 2066.51 Q373.526 2064.77 370.424 2064.77 Q368.225 2064.77 365.771 2065.53 Q363.341 2066.3 360.563 2067.85 L360.563 2063.13 Q363.387 2061.99 365.841 2061.41 Q368.294 2060.83 370.331 2060.83 Q375.702 2060.83 378.896 2063.52 Q382.09 2066.21 382.09 2070.7 Q382.09 2072.83 381.28 2074.75 Q380.493 2076.64 378.387 2079.24 Q377.808 2079.91 374.706 2083.13 Q371.604 2086.32 365.956 2092.08 Z\" fill=\"#000000\" fill-rule=\"evenodd\" fill-opacity=\"1\" /><path clip-path=\"url(#clip650)\" d=\"M402.09 2064.54 Q398.479 2064.54 396.651 2068.1 Q394.845 2071.64 394.845 2078.77 Q394.845 2085.88 396.651 2089.45 Q398.479 2092.99 402.09 2092.99 Q405.725 2092.99 407.53 2089.45 Q409.359 2085.88 409.359 2078.77 Q409.359 2071.64 407.53 2068.1 Q405.725 2064.54 402.09 2064.54 M402.09 2060.83 Q407.901 2060.83 410.956 2065.44 Q414.035 2070.02 414.035 2078.77 Q414.035 2087.5 410.956 2092.11 Q407.901 2096.69 402.09 2096.69 Q396.28 2096.69 393.202 2092.11 Q390.146 2087.5 390.146 2078.77 Q390.146 2070.02 393.202 2065.44 Q396.28 2060.83 402.09 2060.83 Z\" fill=\"#000000\" fill-rule=\"evenodd\" fill-opacity=\"1\" /><path clip-path=\"url(#clip650)\" d=\"M423.062 2092.08 L430.701 2092.08 L430.701 2065.72 L422.391 2067.39 L422.391 2063.13 L430.655 2061.46 L435.331 2061.46 L435.331 2092.08 L442.97 2092.08 L442.97 2096.02 L423.062 2096.02 L423.062 2092.08 Z\" fill=\"#000000\" fill-rule=\"evenodd\" fill-opacity=\"1\" /><path clip-path=\"url(#clip650)\" d=\"M462.414 2064.54 Q458.803 2064.54 456.974 2068.1 Q455.169 2071.64 455.169 2078.77 Q455.169 2085.88 456.974 2089.45 Q458.803 2092.99 462.414 2092.99 Q466.048 2092.99 467.854 2089.45 Q469.683 2085.88 469.683 2078.77 Q469.683 2071.64 467.854 2068.1 Q466.048 2064.54 462.414 2064.54 M462.414 2060.83 Q468.224 2060.83 471.28 2065.44 Q474.359 2070.02 474.359 2078.77 Q474.359 2087.5 471.28 2092.11 Q468.224 2096.69 462.414 2096.69 Q456.604 2096.69 453.525 2092.11 Q450.47 2087.5 450.47 2078.77 Q450.47 2070.02 453.525 2065.44 Q456.604 2060.83 462.414 2060.83 Z\" fill=\"#000000\" fill-rule=\"evenodd\" fill-opacity=\"1\" /><path clip-path=\"url(#clip650)\" d=\"M479.821 2081.14 L492.298 2081.14 L492.298 2084.93 L479.821 2084.93 L479.821 2081.14 Z\" fill=\"#000000\" fill-rule=\"evenodd\" fill-opacity=\"1\" /><path clip-path=\"url(#clip650)\" d=\"M509.682 2064.54 Q506.071 2064.54 504.243 2068.1 Q502.437 2071.64 502.437 2078.77 Q502.437 2085.88 504.243 2089.45 Q506.071 2092.99 509.682 2092.99 Q513.317 2092.99 515.122 2089.45 Q516.951 2085.88 516.951 2078.77 Q516.951 2071.64 515.122 2068.1 Q513.317 2064.54 509.682 2064.54 M509.682 2060.83 Q515.493 2060.83 518.548 2065.44 Q521.627 2070.02 521.627 2078.77 Q521.627 2087.5 518.548 2092.11 Q515.493 2096.69 509.682 2096.69 Q503.872 2096.69 500.794 2092.11 Q497.738 2087.5 497.738 2078.77 Q497.738 2070.02 500.794 2065.44 Q503.872 2060.83 509.682 2060.83 Z\" fill=\"#000000\" fill-rule=\"evenodd\" fill-opacity=\"1\" /><path clip-path=\"url(#clip650)\" d=\"M533.872 2092.08 L550.191 2092.08 L550.191 2096.02 L528.247 2096.02 L528.247 2092.08 Q530.909 2089.33 535.492 2084.7 Q540.099 2080.05 541.279 2078.71 Q543.525 2076.18 544.404 2074.45 Q545.307 2072.69 545.307 2071 Q545.307 2068.24 543.363 2066.51 Q541.441 2064.77 538.34 2064.77 Q536.141 2064.77 533.687 2065.53 Q531.256 2066.3 528.479 2067.85 L528.479 2063.13 Q531.303 2061.99 533.756 2061.41 Q536.21 2060.83 538.247 2060.83 Q543.617 2060.83 546.812 2063.52 Q550.006 2066.21 550.006 2070.7 Q550.006 2072.83 549.196 2074.75 Q548.409 2076.64 546.303 2079.24 Q545.724 2079.91 542.622 2083.13 Q539.52 2086.32 533.872 2092.08 Z\" fill=\"#000000\" fill-rule=\"evenodd\" fill-opacity=\"1\" /><path clip-path=\"url(#clip650)\" d=\"M557.252 2081.14 L569.728 2081.14 L569.728 2084.93 L557.252 2084.93 L557.252 2081.14 Z\" fill=\"#000000\" fill-rule=\"evenodd\" fill-opacity=\"1\" /><path clip-path=\"url(#clip650)\" d=\"M587.113 2064.54 Q583.501 2064.54 581.673 2068.1 Q579.867 2071.64 579.867 2078.77 Q579.867 2085.88 581.673 2089.45 Q583.501 2092.99 587.113 2092.99 Q590.747 2092.99 592.552 2089.45 Q594.381 2085.88 594.381 2078.77 Q594.381 2071.64 592.552 2068.1 Q590.747 2064.54 587.113 2064.54 M587.113 2060.83 Q592.923 2060.83 595.978 2065.44 Q599.057 2070.02 599.057 2078.77 Q599.057 2087.5 595.978 2092.11 Q592.923 2096.69 587.113 2096.69 Q581.302 2096.69 578.224 2092.11 Q575.168 2087.5 575.168 2078.77 Q575.168 2070.02 578.224 2065.44 Q581.302 2060.83 587.113 2060.83 Z\" fill=\"#000000\" fill-rule=\"evenodd\" fill-opacity=\"1\" /><path clip-path=\"url(#clip650)\" d=\"M608.085 2092.08 L615.723 2092.08 L615.723 2065.72 L607.413 2067.39 L607.413 2063.13 L615.677 2061.46 L620.353 2061.46 L620.353 2092.08 L627.992 2092.08 L627.992 2096.02 L608.085 2096.02 L608.085 2092.08 Z\" fill=\"#000000\" fill-rule=\"evenodd\" fill-opacity=\"1\" /><path clip-path=\"url(#clip650)\" d=\"M926.974 2092.08 L943.293 2092.08 L943.293 2096.02 L921.349 2096.02 L921.349 2092.08 Q924.011 2089.33 928.594 2084.7 Q933.2 2080.05 934.381 2078.71 Q936.626 2076.18 937.506 2074.45 Q938.409 2072.69 938.409 2071 Q938.409 2068.24 936.464 2066.51 Q934.543 2064.77 931.441 2064.77 Q929.242 2064.77 926.788 2065.53 Q924.358 2066.3 921.58 2067.85 L921.58 2063.13 Q924.404 2061.99 926.858 2061.41 Q929.312 2060.83 931.349 2060.83 Q936.719 2060.83 939.913 2063.52 Q943.108 2066.21 943.108 2070.7 Q943.108 2072.83 942.298 2074.75 Q941.511 2076.64 939.404 2079.24 Q938.825 2079.91 935.724 2083.13 Q932.622 2086.32 926.974 2092.08 Z\" fill=\"#000000\" fill-rule=\"evenodd\" fill-opacity=\"1\" /><path clip-path=\"url(#clip650)\" d=\"M963.108 2064.54 Q959.497 2064.54 957.668 2068.1 Q955.862 2071.64 955.862 2078.77 Q955.862 2085.88 957.668 2089.45 Q959.497 2092.99 963.108 2092.99 Q966.742 2092.99 968.547 2089.45 Q970.376 2085.88 970.376 2078.77 Q970.376 2071.64 968.547 2068.1 Q966.742 2064.54 963.108 2064.54 M963.108 2060.83 Q968.918 2060.83 971.973 2065.44 Q975.052 2070.02 975.052 2078.77 Q975.052 2087.5 971.973 2092.11 Q968.918 2096.69 963.108 2096.69 Q957.297 2096.69 954.219 2092.11 Q951.163 2087.5 951.163 2078.77 Q951.163 2070.02 954.219 2065.44 Q957.297 2060.83 963.108 2060.83 Z\" fill=\"#000000\" fill-rule=\"evenodd\" fill-opacity=\"1\" /><path clip-path=\"url(#clip650)\" d=\"M984.08 2092.08 L991.719 2092.08 L991.719 2065.72 L983.408 2067.39 L983.408 2063.13 L991.672 2061.46 L996.348 2061.46 L996.348 2092.08 L1003.99 2092.08 L1003.99 2096.02 L984.08 2096.02 L984.08 2092.08 Z\" fill=\"#000000\" fill-rule=\"evenodd\" fill-opacity=\"1\" /><path clip-path=\"url(#clip650)\" d=\"M1023.43 2064.54 Q1019.82 2064.54 1017.99 2068.1 Q1016.19 2071.64 1016.19 2078.77 Q1016.19 2085.88 1017.99 2089.45 Q1019.82 2092.99 1023.43 2092.99 Q1027.07 2092.99 1028.87 2089.45 Q1030.7 2085.88 1030.7 2078.77 Q1030.7 2071.64 1028.87 2068.1 Q1027.07 2064.54 1023.43 2064.54 M1023.43 2060.83 Q1029.24 2060.83 1032.3 2065.44 Q1035.38 2070.02 1035.38 2078.77 Q1035.38 2087.5 1032.3 2092.11 Q1029.24 2096.69 1023.43 2096.69 Q1017.62 2096.69 1014.54 2092.11 Q1011.49 2087.5 1011.49 2078.77 Q1011.49 2070.02 1014.54 2065.44 Q1017.62 2060.83 1023.43 2060.83 Z\" fill=\"#000000\" fill-rule=\"evenodd\" fill-opacity=\"1\" /><path clip-path=\"url(#clip650)\" d=\"M1040.84 2081.14 L1053.32 2081.14 L1053.32 2084.93 L1040.84 2084.93 L1040.84 2081.14 Z\" fill=\"#000000\" fill-rule=\"evenodd\" fill-opacity=\"1\" /><path clip-path=\"url(#clip650)\" d=\"M1070.7 2064.54 Q1067.09 2064.54 1065.26 2068.1 Q1063.45 2071.64 1063.45 2078.77 Q1063.45 2085.88 1065.26 2089.45 Q1067.09 2092.99 1070.7 2092.99 Q1074.33 2092.99 1076.14 2089.45 Q1077.97 2085.88 1077.97 2078.77 Q1077.97 2071.64 1076.14 2068.1 Q1074.33 2064.54 1070.7 2064.54 M1070.7 2060.83 Q1076.51 2060.83 1079.57 2065.44 Q1082.64 2070.02 1082.64 2078.77 Q1082.64 2087.5 1079.57 2092.11 Q1076.51 2096.69 1070.7 2096.69 Q1064.89 2096.69 1061.81 2092.11 Q1058.76 2087.5 1058.76 2078.77 Q1058.76 2070.02 1061.81 2065.44 Q1064.89 2060.83 1070.7 2060.83 Z\" fill=\"#000000\" fill-rule=\"evenodd\" fill-opacity=\"1\" /><path clip-path=\"url(#clip650)\" d=\"M1090.91 2061.46 L1109.26 2061.46 L1109.26 2065.4 L1095.19 2065.4 L1095.19 2073.87 Q1096.21 2073.52 1097.23 2073.36 Q1098.25 2073.17 1099.26 2073.17 Q1105.05 2073.17 1108.43 2076.34 Q1111.81 2079.52 1111.81 2084.93 Q1111.81 2090.51 1108.34 2093.61 Q1104.87 2096.69 1098.55 2096.69 Q1096.37 2096.69 1094.1 2096.32 Q1091.86 2095.95 1089.45 2095.21 L1089.45 2090.51 Q1091.53 2091.64 1093.76 2092.2 Q1095.98 2092.76 1098.45 2092.76 Q1102.46 2092.76 1104.8 2090.65 Q1107.13 2088.54 1107.13 2084.93 Q1107.13 2081.32 1104.8 2079.21 Q1102.46 2077.11 1098.45 2077.11 Q1096.58 2077.11 1094.7 2077.52 Q1092.85 2077.94 1090.91 2078.82 L1090.91 2061.46 Z\" fill=\"#000000\" fill-rule=\"evenodd\" fill-opacity=\"1\" /><path clip-path=\"url(#clip650)\" d=\"M1118.27 2081.14 L1130.75 2081.14 L1130.75 2084.93 L1118.27 2084.93 L1118.27 2081.14 Z\" fill=\"#000000\" fill-rule=\"evenodd\" fill-opacity=\"1\" /><path clip-path=\"url(#clip650)\" d=\"M1148.13 2064.54 Q1144.52 2064.54 1142.69 2068.1 Q1140.88 2071.64 1140.88 2078.77 Q1140.88 2085.88 1142.69 2089.45 Q1144.52 2092.99 1148.13 2092.99 Q1151.76 2092.99 1153.57 2089.45 Q1155.4 2085.88 1155.4 2078.77 Q1155.4 2071.64 1153.57 2068.1 Q1151.76 2064.54 1148.13 2064.54 M1148.13 2060.83 Q1153.94 2060.83 1157 2065.44 Q1160.07 2070.02 1160.07 2078.77 Q1160.07 2087.5 1157 2092.11 Q1153.94 2096.69 1148.13 2096.69 Q1142.32 2096.69 1139.24 2092.11 Q1136.19 2087.5 1136.19 2078.77 Q1136.19 2070.02 1139.24 2065.44 Q1142.32 2060.83 1148.13 2060.83 Z\" fill=\"#000000\" fill-rule=\"evenodd\" fill-opacity=\"1\" /><path clip-path=\"url(#clip650)\" d=\"M1169.1 2092.08 L1176.74 2092.08 L1176.74 2065.72 L1168.43 2067.39 L1168.43 2063.13 L1176.69 2061.46 L1181.37 2061.46 L1181.37 2092.08 L1189.01 2092.08 L1189.01 2096.02 L1169.1 2096.02 L1169.1 2092.08 Z\" fill=\"#000000\" fill-rule=\"evenodd\" fill-opacity=\"1\" /><path clip-path=\"url(#clip650)\" d=\"M1506.9 2092.08 L1523.22 2092.08 L1523.22 2096.02 L1501.28 2096.02 L1501.28 2092.08 Q1503.94 2089.33 1508.52 2084.7 Q1513.13 2080.05 1514.31 2078.71 Q1516.55 2076.18 1517.43 2074.45 Q1518.34 2072.69 1518.34 2071 Q1518.34 2068.24 1516.39 2066.51 Q1514.47 2064.77 1511.37 2064.77 Q1509.17 2064.77 1506.72 2065.53 Q1504.29 2066.3 1501.51 2067.85 L1501.51 2063.13 Q1504.33 2061.99 1506.79 2061.41 Q1509.24 2060.83 1511.28 2060.83 Q1516.65 2060.83 1519.84 2063.52 Q1523.04 2066.21 1523.04 2070.7 Q1523.04 2072.83 1522.23 2074.75 Q1521.44 2076.64 1519.33 2079.24 Q1518.75 2079.91 1515.65 2083.13 Q1512.55 2086.32 1506.9 2092.08 Z\" fill=\"#000000\" fill-rule=\"evenodd\" fill-opacity=\"1\" /><path clip-path=\"url(#clip650)\" d=\"M1543.04 2064.54 Q1539.42 2064.54 1537.6 2068.1 Q1535.79 2071.64 1535.79 2078.77 Q1535.79 2085.88 1537.6 2089.45 Q1539.42 2092.99 1543.04 2092.99 Q1546.67 2092.99 1548.48 2089.45 Q1550.3 2085.88 1550.3 2078.77 Q1550.3 2071.64 1548.48 2068.1 Q1546.67 2064.54 1543.04 2064.54 M1543.04 2060.83 Q1548.85 2060.83 1551.9 2065.44 Q1554.98 2070.02 1554.98 2078.77 Q1554.98 2087.5 1551.9 2092.11 Q1548.85 2096.69 1543.04 2096.69 Q1537.23 2096.69 1534.15 2092.11 Q1531.09 2087.5 1531.09 2078.77 Q1531.09 2070.02 1534.15 2065.44 Q1537.23 2060.83 1543.04 2060.83 Z\" fill=\"#000000\" fill-rule=\"evenodd\" fill-opacity=\"1\" /><path clip-path=\"url(#clip650)\" d=\"M1564.01 2092.08 L1571.65 2092.08 L1571.65 2065.72 L1563.34 2067.39 L1563.34 2063.13 L1571.6 2061.46 L1576.28 2061.46 L1576.28 2092.08 L1583.92 2092.08 L1583.92 2096.02 L1564.01 2096.02 L1564.01 2092.08 Z\" fill=\"#000000\" fill-rule=\"evenodd\" fill-opacity=\"1\" /><path clip-path=\"url(#clip650)\" d=\"M1603.36 2064.54 Q1599.75 2064.54 1597.92 2068.1 Q1596.11 2071.64 1596.11 2078.77 Q1596.11 2085.88 1597.92 2089.45 Q1599.75 2092.99 1603.36 2092.99 Q1606.99 2092.99 1608.8 2089.45 Q1610.63 2085.88 1610.63 2078.77 Q1610.63 2071.64 1608.8 2068.1 Q1606.99 2064.54 1603.36 2064.54 M1603.36 2060.83 Q1609.17 2060.83 1612.23 2065.44 Q1615.3 2070.02 1615.3 2078.77 Q1615.3 2087.5 1612.23 2092.11 Q1609.17 2096.69 1603.36 2096.69 Q1597.55 2096.69 1594.47 2092.11 Q1591.41 2087.5 1591.41 2078.77 Q1591.41 2070.02 1594.47 2065.44 Q1597.55 2060.83 1603.36 2060.83 Z\" fill=\"#000000\" fill-rule=\"evenodd\" fill-opacity=\"1\" /><path clip-path=\"url(#clip650)\" d=\"M1620.77 2081.14 L1633.24 2081.14 L1633.24 2084.93 L1620.77 2084.93 L1620.77 2081.14 Z\" fill=\"#000000\" fill-rule=\"evenodd\" fill-opacity=\"1\" /><path clip-path=\"url(#clip650)\" d=\"M1650.63 2064.54 Q1647.02 2064.54 1645.19 2068.1 Q1643.38 2071.64 1643.38 2078.77 Q1643.38 2085.88 1645.19 2089.45 Q1647.02 2092.99 1650.63 2092.99 Q1654.26 2092.99 1656.07 2089.45 Q1657.9 2085.88 1657.9 2078.77 Q1657.9 2071.64 1656.07 2068.1 Q1654.26 2064.54 1650.63 2064.54 M1650.63 2060.83 Q1656.44 2060.83 1659.49 2065.44 Q1662.57 2070.02 1662.57 2078.77 Q1662.57 2087.5 1659.49 2092.11 Q1656.44 2096.69 1650.63 2096.69 Q1644.82 2096.69 1641.74 2092.11 Q1638.68 2087.5 1638.68 2078.77 Q1638.68 2070.02 1641.74 2065.44 Q1644.82 2060.83 1650.63 2060.83 Z\" fill=\"#000000\" fill-rule=\"evenodd\" fill-opacity=\"1\" /><path clip-path=\"url(#clip650)\" d=\"M1680.79 2079.61 Q1677.46 2079.61 1675.53 2081.39 Q1673.64 2083.17 1673.64 2086.3 Q1673.64 2089.42 1675.53 2091.21 Q1677.46 2092.99 1680.79 2092.99 Q1684.12 2092.99 1686.04 2091.21 Q1687.97 2089.4 1687.97 2086.3 Q1687.97 2083.17 1686.04 2081.39 Q1684.15 2079.61 1680.79 2079.61 M1676.11 2077.62 Q1673.1 2076.88 1671.41 2074.82 Q1669.75 2072.76 1669.75 2069.79 Q1669.75 2065.65 1672.69 2063.24 Q1675.65 2060.83 1680.79 2060.83 Q1685.95 2060.83 1688.89 2063.24 Q1691.83 2065.65 1691.83 2069.79 Q1691.83 2072.76 1690.14 2074.82 Q1688.47 2076.88 1685.49 2077.62 Q1688.87 2078.4 1690.74 2080.7 Q1692.64 2082.99 1692.64 2086.3 Q1692.64 2091.32 1689.56 2094.01 Q1686.51 2096.69 1680.79 2096.69 Q1675.07 2096.69 1671.99 2094.01 Q1668.94 2091.32 1668.94 2086.3 Q1668.94 2082.99 1670.84 2080.7 Q1672.73 2078.4 1676.11 2077.62 M1674.4 2070.23 Q1674.4 2072.92 1676.07 2074.42 Q1677.76 2075.93 1680.79 2075.93 Q1683.8 2075.93 1685.49 2074.42 Q1687.2 2072.92 1687.2 2070.23 Q1687.2 2067.55 1685.49 2066.04 Q1683.8 2064.54 1680.79 2064.54 Q1677.76 2064.54 1676.07 2066.04 Q1674.4 2067.55 1674.4 2070.23 Z\" fill=\"#000000\" fill-rule=\"evenodd\" fill-opacity=\"1\" /><path clip-path=\"url(#clip650)\" d=\"M1698.2 2081.14 L1710.67 2081.14 L1710.67 2084.93 L1698.2 2084.93 L1698.2 2081.14 Z\" fill=\"#000000\" fill-rule=\"evenodd\" fill-opacity=\"1\" /><path clip-path=\"url(#clip650)\" d=\"M1728.06 2064.54 Q1724.45 2064.54 1722.62 2068.1 Q1720.81 2071.64 1720.81 2078.77 Q1720.81 2085.88 1722.62 2089.45 Q1724.45 2092.99 1728.06 2092.99 Q1731.69 2092.99 1733.5 2089.45 Q1735.33 2085.88 1735.33 2078.77 Q1735.33 2071.64 1733.5 2068.1 Q1731.69 2064.54 1728.06 2064.54 M1728.06 2060.83 Q1733.87 2060.83 1736.92 2065.44 Q1740 2070.02 1740 2078.77 Q1740 2087.5 1736.92 2092.11 Q1733.87 2096.69 1728.06 2096.69 Q1722.25 2096.69 1719.17 2092.11 Q1716.11 2087.5 1716.11 2078.77 Q1716.11 2070.02 1719.17 2065.44 Q1722.25 2060.83 1728.06 2060.83 Z\" fill=\"#000000\" fill-rule=\"evenodd\" fill-opacity=\"1\" /><path clip-path=\"url(#clip650)\" d=\"M1749.03 2092.08 L1756.67 2092.08 L1756.67 2065.72 L1748.36 2067.39 L1748.36 2063.13 L1756.62 2061.46 L1761.3 2061.46 L1761.3 2092.08 L1768.94 2092.08 L1768.94 2096.02 L1749.03 2096.02 L1749.03 2092.08 Z\" fill=\"#000000\" fill-rule=\"evenodd\" fill-opacity=\"1\" /><path clip-path=\"url(#clip650)\" d=\"M2086.83 2092.08 L2103.15 2092.08 L2103.15 2096.02 L2081.2 2096.02 L2081.2 2092.08 Q2083.87 2089.33 2088.45 2084.7 Q2093.06 2080.05 2094.24 2078.71 Q2096.48 2076.18 2097.36 2074.45 Q2098.26 2072.69 2098.26 2071 Q2098.26 2068.24 2096.32 2066.51 Q2094.4 2064.77 2091.3 2064.77 Q2089.1 2064.77 2086.64 2065.53 Q2084.21 2066.3 2081.44 2067.85 L2081.44 2063.13 Q2084.26 2061.99 2086.71 2061.41 Q2089.17 2060.83 2091.2 2060.83 Q2096.57 2060.83 2099.77 2063.52 Q2102.96 2066.21 2102.96 2070.7 Q2102.96 2072.83 2102.15 2074.75 Q2101.37 2076.64 2099.26 2079.24 Q2098.68 2079.91 2095.58 2083.13 Q2092.48 2086.32 2086.83 2092.08 Z\" fill=\"#000000\" fill-rule=\"evenodd\" fill-opacity=\"1\" /><path clip-path=\"url(#clip650)\" d=\"M2122.96 2064.54 Q2119.35 2064.54 2117.52 2068.1 Q2115.72 2071.64 2115.72 2078.77 Q2115.72 2085.88 2117.52 2089.45 Q2119.35 2092.99 2122.96 2092.99 Q2126.6 2092.99 2128.4 2089.45 Q2130.23 2085.88 2130.23 2078.77 Q2130.23 2071.64 2128.4 2068.1 Q2126.6 2064.54 2122.96 2064.54 M2122.96 2060.83 Q2128.77 2060.83 2131.83 2065.44 Q2134.91 2070.02 2134.91 2078.77 Q2134.91 2087.5 2131.83 2092.11 Q2128.77 2096.69 2122.96 2096.69 Q2117.15 2096.69 2114.07 2092.11 Q2111.02 2087.5 2111.02 2078.77 Q2111.02 2070.02 2114.07 2065.44 Q2117.15 2060.83 2122.96 2060.83 Z\" fill=\"#000000\" fill-rule=\"evenodd\" fill-opacity=\"1\" /><path clip-path=\"url(#clip650)\" d=\"M2143.94 2092.08 L2151.57 2092.08 L2151.57 2065.72 L2143.26 2067.39 L2143.26 2063.13 L2151.53 2061.46 L2156.2 2061.46 L2156.2 2092.08 L2163.84 2092.08 L2163.84 2096.02 L2143.94 2096.02 L2143.94 2092.08 Z\" fill=\"#000000\" fill-rule=\"evenodd\" fill-opacity=\"1\" /><path clip-path=\"url(#clip650)\" d=\"M2183.29 2064.54 Q2179.68 2064.54 2177.85 2068.1 Q2176.04 2071.64 2176.04 2078.77 Q2176.04 2085.88 2177.85 2089.45 Q2179.68 2092.99 2183.29 2092.99 Q2186.92 2092.99 2188.73 2089.45 Q2190.56 2085.88 2190.56 2078.77 Q2190.56 2071.64 2188.73 2068.1 Q2186.92 2064.54 2183.29 2064.54 M2183.29 2060.83 Q2189.1 2060.83 2192.15 2065.44 Q2195.23 2070.02 2195.23 2078.77 Q2195.23 2087.5 2192.15 2092.11 Q2189.1 2096.69 2183.29 2096.69 Q2177.48 2096.69 2174.4 2092.11 Q2171.34 2087.5 2171.34 2078.77 Q2171.34 2070.02 2174.4 2065.44 Q2177.48 2060.83 2183.29 2060.83 Z\" fill=\"#000000\" fill-rule=\"evenodd\" fill-opacity=\"1\" /><path clip-path=\"url(#clip650)\" d=\"M2200.69 2081.14 L2213.17 2081.14 L2213.17 2084.93 L2200.69 2084.93 L2200.69 2081.14 Z\" fill=\"#000000\" fill-rule=\"evenodd\" fill-opacity=\"1\" /><path clip-path=\"url(#clip650)\" d=\"M2221.37 2092.08 L2229 2092.08 L2229 2065.72 L2220.69 2067.39 L2220.69 2063.13 L2228.96 2061.46 L2233.63 2061.46 L2233.63 2092.08 L2241.27 2092.08 L2241.27 2096.02 L2221.37 2096.02 L2221.37 2092.08 Z\" fill=\"#000000\" fill-rule=\"evenodd\" fill-opacity=\"1\" /><path clip-path=\"url(#clip650)\" d=\"M2251.53 2092.08 L2259.17 2092.08 L2259.17 2065.72 L2250.86 2067.39 L2250.86 2063.13 L2259.12 2061.46 L2263.8 2061.46 L2263.8 2092.08 L2271.43 2092.08 L2271.43 2096.02 L2251.53 2096.02 L2251.53 2092.08 Z\" fill=\"#000000\" fill-rule=\"evenodd\" fill-opacity=\"1\" /><path clip-path=\"url(#clip650)\" d=\"M2278.12 2081.14 L2290.6 2081.14 L2290.6 2084.93 L2278.12 2084.93 L2278.12 2081.14 Z\" fill=\"#000000\" fill-rule=\"evenodd\" fill-opacity=\"1\" /><path clip-path=\"url(#clip650)\" d=\"M2307.99 2064.54 Q2304.37 2064.54 2302.55 2068.1 Q2300.74 2071.64 2300.74 2078.77 Q2300.74 2085.88 2302.55 2089.45 Q2304.37 2092.99 2307.99 2092.99 Q2311.62 2092.99 2313.43 2089.45 Q2315.25 2085.88 2315.25 2078.77 Q2315.25 2071.64 2313.43 2068.1 Q2311.62 2064.54 2307.99 2064.54 M2307.99 2060.83 Q2313.8 2060.83 2316.85 2065.44 Q2319.93 2070.02 2319.93 2078.77 Q2319.93 2087.5 2316.85 2092.11 Q2313.8 2096.69 2307.99 2096.69 Q2302.18 2096.69 2299.1 2092.11 Q2296.04 2087.5 2296.04 2078.77 Q2296.04 2070.02 2299.1 2065.44 Q2302.18 2060.83 2307.99 2060.83 Z\" fill=\"#000000\" fill-rule=\"evenodd\" fill-opacity=\"1\" /><path clip-path=\"url(#clip650)\" d=\"M2328.96 2092.08 L2336.6 2092.08 L2336.6 2065.72 L2328.29 2067.39 L2328.29 2063.13 L2336.55 2061.46 L2341.23 2061.46 L2341.23 2092.08 L2348.87 2092.08 L2348.87 2096.02 L2328.96 2096.02 L2328.96 2092.08 Z\" fill=\"#000000\" fill-rule=\"evenodd\" fill-opacity=\"1\" /><path clip-path=\"url(#clip650)\" d=\"M1355.27 2139.36 L1395.47 2139.36 L1395.47 2144.77 L1378.6 2144.77 L1378.6 2186.88 L1372.14 2186.88 L1372.14 2144.77 L1355.27 2144.77 L1355.27 2139.36 Z\" fill=\"#000000\" fill-rule=\"evenodd\" fill-opacity=\"1\" /><path clip-path=\"url(#clip650)\" d=\"M1399.42 2151.24 L1405.27 2151.24 L1405.27 2186.88 L1399.42 2186.88 L1399.42 2151.24 M1399.42 2137.36 L1405.27 2137.36 L1405.27 2144.77 L1399.42 2144.77 L1399.42 2137.36 Z\" fill=\"#000000\" fill-rule=\"evenodd\" fill-opacity=\"1\" /><path clip-path=\"url(#clip650)\" d=\"M1445.28 2158.08 Q1447.48 2154.13 1450.53 2152.25 Q1453.59 2150.38 1457.73 2150.38 Q1463.3 2150.38 1466.32 2154.29 Q1469.34 2158.17 1469.34 2165.37 L1469.34 2186.88 L1463.45 2186.88 L1463.45 2165.56 Q1463.45 2160.43 1461.64 2157.95 Q1459.83 2155.47 1456.1 2155.47 Q1451.55 2155.47 1448.91 2158.49 Q1446.27 2161.52 1446.27 2166.74 L1446.27 2186.88 L1440.38 2186.88 L1440.38 2165.56 Q1440.38 2160.4 1438.56 2157.95 Q1436.75 2155.47 1432.96 2155.47 Q1428.48 2155.47 1425.83 2158.52 Q1423.19 2161.55 1423.19 2166.74 L1423.19 2186.88 L1417.3 2186.88 L1417.3 2151.24 L1423.19 2151.24 L1423.19 2156.77 Q1425.2 2153.5 1428 2151.94 Q1430.8 2150.38 1434.65 2150.38 Q1438.53 2150.38 1441.24 2152.35 Q1443.98 2154.32 1445.28 2158.08 Z\" fill=\"#000000\" fill-rule=\"evenodd\" fill-opacity=\"1\" /><path clip-path=\"url(#clip650)\" d=\"M1511.52 2167.6 L1511.52 2170.46 L1484.59 2170.46 Q1484.97 2176.51 1488.22 2179.69 Q1491.5 2182.84 1497.32 2182.84 Q1500.69 2182.84 1503.85 2182.01 Q1507.03 2181.19 1510.15 2179.53 L1510.15 2185.07 Q1507 2186.41 1503.69 2187.11 Q1500.38 2187.81 1496.97 2187.81 Q1488.44 2187.81 1483.44 2182.84 Q1478.48 2177.88 1478.48 2169.41 Q1478.48 2160.66 1483.19 2155.53 Q1487.93 2150.38 1495.95 2150.38 Q1503.15 2150.38 1507.31 2155.02 Q1511.52 2159.64 1511.52 2167.6 M1505.66 2165.88 Q1505.6 2161.07 1502.95 2158.21 Q1500.34 2155.34 1496.02 2155.34 Q1491.11 2155.34 1488.15 2158.11 Q1485.23 2160.88 1484.78 2165.91 L1505.66 2165.88 Z\" fill=\"#000000\" fill-rule=\"evenodd\" fill-opacity=\"1\" /><polyline clip-path=\"url(#clip652)\" style=\"stroke:#000000; stroke-linecap:butt; stroke-linejoin:round; stroke-width:2; stroke-opacity:0.1; fill:none\" points=\"\n  397.717,1655.39 2469.07,1655.39 \n  \"/>\n<polyline clip-path=\"url(#clip652)\" style=\"stroke:#000000; stroke-linecap:butt; stroke-linejoin:round; stroke-width:2; stroke-opacity:0.1; fill:none\" points=\"\n  397.717,1275.68 2469.07,1275.68 \n  \"/>\n<polyline clip-path=\"url(#clip652)\" style=\"stroke:#000000; stroke-linecap:butt; stroke-linejoin:round; stroke-width:2; stroke-opacity:0.1; fill:none\" points=\"\n  397.717,895.966 2469.07,895.966 \n  \"/>\n<polyline clip-path=\"url(#clip652)\" style=\"stroke:#000000; stroke-linecap:butt; stroke-linejoin:round; stroke-width:2; stroke-opacity:0.1; fill:none\" points=\"\n  397.717,516.253 2469.07,516.253 \n  \"/>\n<polyline clip-path=\"url(#clip652)\" style=\"stroke:#000000; stroke-linecap:butt; stroke-linejoin:round; stroke-width:2; stroke-opacity:0.1; fill:none\" points=\"\n  397.717,136.54 2469.07,136.54 \n  \"/>\n<polyline clip-path=\"url(#clip650)\" style=\"stroke:#000000; stroke-linecap:butt; stroke-linejoin:round; stroke-width:4; stroke-opacity:1; fill:none\" points=\"\n  397.717,2024.02 397.717,118.432 \n  \"/>\n<polyline clip-path=\"url(#clip650)\" style=\"stroke:#000000; stroke-linecap:butt; stroke-linejoin:round; stroke-width:4; stroke-opacity:1; fill:none\" points=\"\n  397.717,1655.39 410.124,1655.39 \n  \"/>\n<polyline clip-path=\"url(#clip650)\" style=\"stroke:#000000; stroke-linecap:butt; stroke-linejoin:round; stroke-width:4; stroke-opacity:1; fill:none\" points=\"\n  397.717,1275.68 410.124,1275.68 \n  \"/>\n<polyline clip-path=\"url(#clip650)\" style=\"stroke:#000000; stroke-linecap:butt; stroke-linejoin:round; stroke-width:4; stroke-opacity:1; fill:none\" points=\"\n  397.717,895.966 410.124,895.966 \n  \"/>\n<polyline clip-path=\"url(#clip650)\" style=\"stroke:#000000; stroke-linecap:butt; stroke-linejoin:round; stroke-width:4; stroke-opacity:1; fill:none\" points=\"\n  397.717,516.253 410.124,516.253 \n  \"/>\n<polyline clip-path=\"url(#clip650)\" style=\"stroke:#000000; stroke-linecap:butt; stroke-linejoin:round; stroke-width:4; stroke-opacity:1; fill:none\" points=\"\n  397.717,136.54 410.124,136.54 \n  \"/>\n<path clip-path=\"url(#clip650)\" d=\"M248.787 1668.74 L256.426 1668.74 L256.426 1642.37 L248.116 1644.04 L248.116 1639.78 L256.38 1638.11 L261.056 1638.11 L261.056 1668.74 L268.694 1668.74 L268.694 1672.67 L248.787 1672.67 L248.787 1668.74 Z\" fill=\"#000000\" fill-rule=\"evenodd\" fill-opacity=\"1\" /><path clip-path=\"url(#clip650)\" d=\"M278.139 1666.79 L283.023 1666.79 L283.023 1672.67 L278.139 1672.67 L278.139 1666.79 Z\" fill=\"#000000\" fill-rule=\"evenodd\" fill-opacity=\"1\" /><path clip-path=\"url(#clip650)\" d=\"M303.208 1641.19 Q299.597 1641.19 297.768 1644.76 Q295.963 1648.3 295.963 1655.43 Q295.963 1662.53 297.768 1666.1 Q299.597 1669.64 303.208 1669.64 Q306.842 1669.64 308.648 1666.1 Q310.477 1662.53 310.477 1655.43 Q310.477 1648.3 308.648 1644.76 Q306.842 1641.19 303.208 1641.19 M303.208 1637.49 Q309.018 1637.49 312.074 1642.09 Q315.152 1646.68 315.152 1655.43 Q315.152 1664.15 312.074 1668.76 Q309.018 1673.34 303.208 1673.34 Q297.398 1673.34 294.319 1668.76 Q291.264 1664.15 291.264 1655.43 Q291.264 1646.68 294.319 1642.09 Q297.398 1637.49 303.208 1637.49 Z\" fill=\"#000000\" fill-rule=\"evenodd\" fill-opacity=\"1\" /><path clip-path=\"url(#clip650)\" d=\"M327.398 1668.74 L343.717 1668.74 L343.717 1672.67 L321.773 1672.67 L321.773 1668.74 Q324.435 1665.98 329.018 1661.35 Q333.625 1656.7 334.805 1655.36 Q337.05 1652.84 337.93 1651.1 Q338.833 1649.34 338.833 1647.65 Q338.833 1644.9 336.888 1643.16 Q334.967 1641.42 331.865 1641.42 Q329.666 1641.42 327.213 1642.19 Q324.782 1642.95 322.004 1644.5 L322.004 1639.78 Q324.828 1638.65 327.282 1638.07 Q329.736 1637.49 331.773 1637.49 Q337.143 1637.49 340.337 1640.17 Q343.532 1642.86 343.532 1647.35 Q343.532 1649.48 342.722 1651.4 Q341.935 1653.3 339.828 1655.89 Q339.25 1656.56 336.148 1659.78 Q333.046 1662.97 327.398 1668.74 Z\" fill=\"#000000\" fill-rule=\"evenodd\" fill-opacity=\"1\" /><path clip-path=\"url(#clip650)\" d=\"M248.185 1289.02 L255.824 1289.02 L255.824 1262.66 L247.514 1264.33 L247.514 1260.07 L255.778 1258.4 L260.454 1258.4 L260.454 1289.02 L268.093 1289.02 L268.093 1292.96 L248.185 1292.96 L248.185 1289.02 Z\" fill=\"#000000\" fill-rule=\"evenodd\" fill-opacity=\"1\" /><path clip-path=\"url(#clip650)\" d=\"M277.537 1287.08 L282.421 1287.08 L282.421 1292.96 L277.537 1292.96 L277.537 1287.08 Z\" fill=\"#000000\" fill-rule=\"evenodd\" fill-opacity=\"1\" /><path clip-path=\"url(#clip650)\" d=\"M302.606 1261.48 Q298.995 1261.48 297.166 1265.04 Q295.361 1268.58 295.361 1275.71 Q295.361 1282.82 297.166 1286.39 Q298.995 1289.93 302.606 1289.93 Q306.24 1289.93 308.046 1286.39 Q309.875 1282.82 309.875 1275.71 Q309.875 1268.58 308.046 1265.04 Q306.24 1261.48 302.606 1261.48 M302.606 1257.77 Q308.416 1257.77 311.472 1262.38 Q314.551 1266.96 314.551 1275.71 Q314.551 1284.44 311.472 1289.05 Q308.416 1293.63 302.606 1293.63 Q296.796 1293.63 293.717 1289.05 Q290.662 1284.44 290.662 1275.71 Q290.662 1266.96 293.717 1262.38 Q296.796 1257.77 302.606 1257.77 Z\" fill=\"#000000\" fill-rule=\"evenodd\" fill-opacity=\"1\" /><path clip-path=\"url(#clip650)\" d=\"M322.814 1258.4 L341.171 1258.4 L341.171 1262.33 L327.097 1262.33 L327.097 1270.81 Q328.115 1270.46 329.134 1270.3 Q330.152 1270.11 331.171 1270.11 Q336.958 1270.11 340.337 1273.28 Q343.717 1276.46 343.717 1281.87 Q343.717 1287.45 340.245 1290.55 Q336.773 1293.63 330.453 1293.63 Q328.277 1293.63 326.009 1293.26 Q323.764 1292.89 321.356 1292.15 L321.356 1287.45 Q323.439 1288.58 325.662 1289.14 Q327.884 1289.7 330.361 1289.7 Q334.365 1289.7 336.703 1287.59 Q339.041 1285.48 339.041 1281.87 Q339.041 1278.26 336.703 1276.15 Q334.365 1274.05 330.361 1274.05 Q328.486 1274.05 326.611 1274.46 Q324.759 1274.88 322.814 1275.76 L322.814 1258.4 Z\" fill=\"#000000\" fill-rule=\"evenodd\" fill-opacity=\"1\" /><path clip-path=\"url(#clip650)\" d=\"M247.282 909.311 L254.921 909.311 L254.921 882.945 L246.611 884.612 L246.611 880.353 L254.875 878.686 L259.551 878.686 L259.551 909.311 L267.19 909.311 L267.19 913.246 L247.282 913.246 L247.282 909.311 Z\" fill=\"#000000\" fill-rule=\"evenodd\" fill-opacity=\"1\" /><path clip-path=\"url(#clip650)\" d=\"M276.634 907.367 L281.518 907.367 L281.518 913.246 L276.634 913.246 L276.634 907.367 Z\" fill=\"#000000\" fill-rule=\"evenodd\" fill-opacity=\"1\" /><path clip-path=\"url(#clip650)\" d=\"M301.703 881.765 Q298.092 881.765 296.264 885.33 Q294.458 888.871 294.458 896.001 Q294.458 903.107 296.264 906.672 Q298.092 910.214 301.703 910.214 Q305.338 910.214 307.143 906.672 Q308.972 903.107 308.972 896.001 Q308.972 888.871 307.143 885.33 Q305.338 881.765 301.703 881.765 M301.703 878.061 Q307.514 878.061 310.569 882.668 Q313.648 887.251 313.648 896.001 Q313.648 904.728 310.569 909.334 Q307.514 913.918 301.703 913.918 Q295.893 913.918 292.815 909.334 Q289.759 904.728 289.759 896.001 Q289.759 887.251 292.815 882.668 Q295.893 878.061 301.703 878.061 Z\" fill=\"#000000\" fill-rule=\"evenodd\" fill-opacity=\"1\" /><path clip-path=\"url(#clip650)\" d=\"M331.865 896.834 Q328.532 896.834 326.611 898.617 Q324.713 900.399 324.713 903.524 Q324.713 906.649 326.611 908.431 Q328.532 910.214 331.865 910.214 Q335.199 910.214 337.12 908.431 Q339.041 906.626 339.041 903.524 Q339.041 900.399 337.12 898.617 Q335.222 896.834 331.865 896.834 M327.189 894.844 Q324.18 894.103 322.49 892.043 Q320.824 889.982 320.824 887.02 Q320.824 882.876 323.764 880.469 Q326.726 878.061 331.865 878.061 Q337.027 878.061 339.967 880.469 Q342.907 882.876 342.907 887.02 Q342.907 889.982 341.217 892.043 Q339.55 894.103 336.564 894.844 Q339.944 895.631 341.819 897.922 Q343.717 900.214 343.717 903.524 Q343.717 908.547 340.638 911.232 Q337.583 913.918 331.865 913.918 Q326.148 913.918 323.069 911.232 Q320.014 908.547 320.014 903.524 Q320.014 900.214 321.912 897.922 Q323.81 895.631 327.189 894.844 M325.476 887.459 Q325.476 890.144 327.143 891.649 Q328.833 893.154 331.865 893.154 Q334.875 893.154 336.564 891.649 Q338.277 890.144 338.277 887.459 Q338.277 884.774 336.564 883.27 Q334.875 881.765 331.865 881.765 Q328.833 881.765 327.143 883.27 Q325.476 884.774 325.476 887.459 Z\" fill=\"#000000\" fill-rule=\"evenodd\" fill-opacity=\"1\" /><path clip-path=\"url(#clip650)\" d=\"M248.417 529.598 L256.056 529.598 L256.056 503.232 L247.745 504.899 L247.745 500.64 L256.009 498.973 L260.685 498.973 L260.685 529.598 L268.324 529.598 L268.324 533.533 L248.417 533.533 L248.417 529.598 Z\" fill=\"#000000\" fill-rule=\"evenodd\" fill-opacity=\"1\" /><path clip-path=\"url(#clip650)\" d=\"M277.768 527.653 L282.653 527.653 L282.653 533.533 L277.768 533.533 L277.768 527.653 Z\" fill=\"#000000\" fill-rule=\"evenodd\" fill-opacity=\"1\" /><path clip-path=\"url(#clip650)\" d=\"M293.648 529.598 L301.287 529.598 L301.287 503.232 L292.977 504.899 L292.977 500.64 L301.24 498.973 L305.916 498.973 L305.916 529.598 L313.555 529.598 L313.555 533.533 L293.648 533.533 L293.648 529.598 Z\" fill=\"#000000\" fill-rule=\"evenodd\" fill-opacity=\"1\" /><path clip-path=\"url(#clip650)\" d=\"M323.81 529.598 L331.449 529.598 L331.449 503.232 L323.139 504.899 L323.139 500.64 L331.402 498.973 L336.078 498.973 L336.078 529.598 L343.717 529.598 L343.717 533.533 L323.81 533.533 L323.81 529.598 Z\" fill=\"#000000\" fill-rule=\"evenodd\" fill-opacity=\"1\" /><path clip-path=\"url(#clip650)\" d=\"M246.704 149.884 L254.343 149.884 L254.343 123.519 L246.032 125.185 L246.032 120.926 L254.296 119.26 L258.972 119.26 L258.972 149.884 L266.611 149.884 L266.611 153.82 L246.704 153.82 L246.704 149.884 Z\" fill=\"#000000\" fill-rule=\"evenodd\" fill-opacity=\"1\" /><path clip-path=\"url(#clip650)\" d=\"M276.055 147.94 L280.94 147.94 L280.94 153.82 L276.055 153.82 L276.055 147.94 Z\" fill=\"#000000\" fill-rule=\"evenodd\" fill-opacity=\"1\" /><path clip-path=\"url(#clip650)\" d=\"M291.935 149.884 L299.574 149.884 L299.574 123.519 L291.264 125.185 L291.264 120.926 L299.528 119.26 L304.203 119.26 L304.203 149.884 L311.842 149.884 L311.842 153.82 L291.935 153.82 L291.935 149.884 Z\" fill=\"#000000\" fill-rule=\"evenodd\" fill-opacity=\"1\" /><path clip-path=\"url(#clip650)\" d=\"M334.134 123.334 L322.328 141.783 L334.134 141.783 L334.134 123.334 M332.907 119.26 L338.787 119.26 L338.787 141.783 L343.717 141.783 L343.717 145.671 L338.787 145.671 L338.787 153.82 L334.134 153.82 L334.134 145.671 L318.532 145.671 L318.532 141.158 L332.907 119.26 Z\" fill=\"#000000\" fill-rule=\"evenodd\" fill-opacity=\"1\" /><path clip-path=\"url(#clip650)\" d=\"M130.256 1180.21 L130.256 1173.71 L170.424 1163.72 L130.256 1153.76 L130.256 1146.53 L170.424 1136.54 L130.256 1126.58 L130.256 1120.05 L177.776 1131.99 L177.776 1140.07 L136.527 1150.1 L177.776 1160.22 L177.776 1168.3 L130.256 1180.21 Z\" fill=\"#000000\" fill-rule=\"evenodd\" fill-opacity=\"1\" /><path clip-path=\"url(#clip650)\" d=\"M158.488 1085.1 L161.353 1085.1 L161.353 1112.03 Q167.4 1111.65 170.583 1108.4 Q173.734 1105.12 173.734 1099.3 Q173.734 1095.92 172.907 1092.77 Q172.079 1089.59 170.424 1086.47 L175.962 1086.47 Q177.299 1089.62 177.999 1092.93 Q178.699 1096.24 178.699 1099.65 Q178.699 1108.18 173.734 1113.18 Q168.769 1118.14 160.303 1118.14 Q151.55 1118.14 146.425 1113.43 Q141.269 1108.69 141.269 1100.67 Q141.269 1093.47 145.916 1089.3 Q150.531 1085.1 158.488 1085.1 M156.77 1090.96 Q151.964 1091.02 149.099 1093.67 Q146.234 1096.28 146.234 1100.6 Q146.234 1105.51 149.003 1108.47 Q151.773 1111.39 156.801 1111.84 L156.77 1090.96 Z\" fill=\"#000000\" fill-rule=\"evenodd\" fill-opacity=\"1\" /><path clip-path=\"url(#clip650)\" d=\"M159.857 1059.29 Q159.857 1066.39 161.48 1069.13 Q163.103 1071.86 167.018 1071.86 Q170.138 1071.86 171.984 1069.83 Q173.798 1067.76 173.798 1064.22 Q173.798 1059.35 170.36 1056.43 Q166.891 1053.47 161.162 1053.47 L159.857 1053.47 L159.857 1059.29 M157.438 1047.61 L177.776 1047.61 L177.776 1053.47 L172.366 1053.47 Q175.612 1055.47 177.172 1058.46 Q178.699 1061.45 178.699 1065.78 Q178.699 1071.26 175.644 1074.5 Q172.557 1077.72 167.4 1077.72 Q161.385 1077.72 158.329 1073.71 Q155.274 1069.67 155.274 1061.68 L155.274 1053.47 L154.701 1053.47 Q150.659 1053.47 148.462 1056.14 Q146.234 1058.78 146.234 1063.59 Q146.234 1066.64 146.966 1069.54 Q147.698 1072.44 149.163 1075.11 L143.752 1075.11 Q142.51 1071.89 141.906 1068.87 Q141.269 1065.85 141.269 1062.98 Q141.269 1055.25 145.28 1051.43 Q149.29 1047.61 157.438 1047.61 Z\" fill=\"#000000\" fill-rule=\"evenodd\" fill-opacity=\"1\" /><path clip-path=\"url(#clip650)\" d=\"M128.251 1035.55 L128.251 1029.69 L177.776 1029.69 L177.776 1035.55 L128.251 1035.55 Z\" fill=\"#000000\" fill-rule=\"evenodd\" fill-opacity=\"1\" /><path clip-path=\"url(#clip650)\" d=\"M132.007 1011.64 L142.128 1011.64 L142.128 999.58 L146.68 999.58 L146.68 1011.64 L166.032 1011.64 Q170.392 1011.64 171.634 1010.47 Q172.875 1009.26 172.875 1005.6 L172.875 999.58 L177.776 999.58 L177.776 1005.6 Q177.776 1012.38 175.262 1014.95 Q172.716 1017.53 166.032 1017.53 L146.68 1017.53 L146.68 1021.83 L142.128 1021.83 L142.128 1017.53 L132.007 1017.53 L132.007 1011.64 Z\" fill=\"#000000\" fill-rule=\"evenodd\" fill-opacity=\"1\" /><path clip-path=\"url(#clip650)\" d=\"M156.26 962.245 L177.776 962.245 L177.776 968.102 L156.451 968.102 Q151.391 968.102 148.876 970.075 Q146.362 972.048 146.362 975.995 Q146.362 980.737 149.385 983.475 Q152.409 986.212 157.629 986.212 L177.776 986.212 L177.776 992.1 L128.251 992.1 L128.251 986.212 L147.667 986.212 Q144.452 984.111 142.861 981.279 Q141.269 978.414 141.269 974.69 Q141.269 968.547 145.089 965.396 Q148.876 962.245 156.26 962.245 Z\" fill=\"#000000\" fill-rule=\"evenodd\" fill-opacity=\"1\" /><path clip-path=\"url(#clip650)\" d=\"M1082.95 16.7545 L1082.95 25.383 Q1078.82 21.5346 1074.12 19.6307 Q1069.46 17.7268 1064.19 17.7268 Q1053.82 17.7268 1048.31 24.0867 Q1042.8 30.4061 1042.8 42.3968 Q1042.8 54.3469 1048.31 60.7069 Q1053.82 67.0263 1064.19 67.0263 Q1069.46 67.0263 1074.12 65.1223 Q1078.82 63.2184 1082.95 59.3701 L1082.95 67.9175 Q1078.66 70.8341 1073.83 72.2924 Q1069.05 73.7508 1063.71 73.7508 Q1049.97 73.7508 1042.08 65.3654 Q1034.18 56.9395 1034.18 42.3968 Q1034.18 27.8135 1042.08 19.4281 Q1049.97 11.0023 1063.71 11.0023 Q1069.14 11.0023 1073.92 12.4606 Q1078.74 13.8784 1082.95 16.7545 Z\" fill=\"#000000\" fill-rule=\"evenodd\" fill-opacity=\"1\" /><path clip-path=\"url(#clip650)\" d=\"M1094.49 54.671 L1094.49 27.2059 L1101.95 27.2059 L1101.95 54.3874 Q1101.95 60.8284 1104.46 64.0691 Q1106.97 67.2693 1111.99 67.2693 Q1118.03 67.2693 1121.51 63.421 Q1125.04 59.5726 1125.04 52.9291 L1125.04 27.2059 L1132.49 27.2059 L1132.49 72.576 L1125.04 72.576 L1125.04 65.6084 Q1122.32 69.7404 1118.72 71.7658 Q1115.15 73.7508 1110.41 73.7508 Q1102.6 73.7508 1098.55 68.8897 Q1094.49 64.0286 1094.49 54.671 M1113.25 26.1121 L1113.25 26.1121 Z\" fill=\"#000000\" fill-rule=\"evenodd\" fill-opacity=\"1\" /><path clip-path=\"url(#clip650)\" d=\"M1147.84 9.54393 L1155.3 9.54393 L1155.3 72.576 L1147.84 72.576 L1147.84 9.54393 Z\" fill=\"#000000\" fill-rule=\"evenodd\" fill-opacity=\"1\" /><path clip-path=\"url(#clip650)\" d=\"M1206.22 35.9153 Q1209.01 30.8922 1212.9 28.5022 Q1216.79 26.1121 1222.06 26.1121 Q1229.15 26.1121 1232.99 31.0947 Q1236.84 36.0368 1236.84 45.1919 L1236.84 72.576 L1229.35 72.576 L1229.35 45.4349 Q1229.35 38.913 1227.04 35.7533 Q1224.73 32.5936 1219.99 32.5936 Q1214.2 32.5936 1210.84 36.4419 Q1207.47 40.2903 1207.47 46.9338 L1207.47 72.576 L1199.98 72.576 L1199.98 45.4349 Q1199.98 38.8725 1197.67 35.7533 Q1195.36 32.5936 1190.54 32.5936 Q1184.83 32.5936 1181.47 36.4824 Q1178.1 40.3308 1178.1 46.9338 L1178.1 72.576 L1170.61 72.576 L1170.61 27.2059 L1178.1 27.2059 L1178.1 34.2544 Q1180.66 30.082 1184.22 28.0971 Q1187.79 26.1121 1192.69 26.1121 Q1197.63 26.1121 1201.07 28.6237 Q1204.56 31.1352 1206.22 35.9153 Z\" fill=\"#000000\" fill-rule=\"evenodd\" fill-opacity=\"1\" /><path clip-path=\"url(#clip650)\" d=\"M1250.94 54.671 L1250.94 27.2059 L1258.39 27.2059 L1258.39 54.3874 Q1258.39 60.8284 1260.91 64.0691 Q1263.42 67.2693 1268.44 67.2693 Q1274.48 67.2693 1277.96 63.421 Q1281.48 59.5726 1281.48 52.9291 L1281.48 27.2059 L1288.94 27.2059 L1288.94 72.576 L1281.48 72.576 L1281.48 65.6084 Q1278.77 69.7404 1275.16 71.7658 Q1271.6 73.7508 1266.86 73.7508 Q1259.04 73.7508 1254.99 68.8897 Q1250.94 64.0286 1250.94 54.671 M1269.7 26.1121 L1269.7 26.1121 Z\" fill=\"#000000\" fill-rule=\"evenodd\" fill-opacity=\"1\" /><path clip-path=\"url(#clip650)\" d=\"M1304.29 9.54393 L1311.74 9.54393 L1311.74 72.576 L1304.29 72.576 L1304.29 9.54393 Z\" fill=\"#000000\" fill-rule=\"evenodd\" fill-opacity=\"1\" /><path clip-path=\"url(#clip650)\" d=\"M1347.96 49.7694 Q1338.93 49.7694 1335.44 51.8354 Q1331.96 53.9013 1331.96 58.8839 Q1331.96 62.8538 1334.55 65.2034 Q1337.18 67.5124 1341.68 67.5124 Q1347.88 67.5124 1351.61 63.1374 Q1355.37 58.7219 1355.37 51.4303 L1355.37 49.7694 L1347.96 49.7694 M1362.83 46.6907 L1362.83 72.576 L1355.37 72.576 L1355.37 65.6895 Q1352.82 69.8214 1349.01 71.8063 Q1345.2 73.7508 1339.7 73.7508 Q1332.73 73.7508 1328.6 69.8619 Q1324.5 65.9325 1324.5 59.3701 Q1324.5 51.7138 1329.61 47.825 Q1334.75 43.9361 1344.92 43.9361 L1355.37 43.9361 L1355.37 43.2069 Q1355.37 38.0623 1351.97 35.2672 Q1348.61 32.4315 1342.49 32.4315 Q1338.6 32.4315 1334.92 33.3632 Q1331.23 34.295 1327.83 36.1584 L1327.83 29.2718 Q1331.92 27.692 1335.77 26.9223 Q1339.61 26.1121 1343.26 26.1121 Q1353.1 26.1121 1357.96 31.2163 Q1362.83 36.3204 1362.83 46.6907 Z\" fill=\"#000000\" fill-rule=\"evenodd\" fill-opacity=\"1\" /><path clip-path=\"url(#clip650)\" d=\"M1385.55 14.324 L1385.55 27.2059 L1400.9 27.2059 L1400.9 32.9987 L1385.55 32.9987 L1385.55 57.6282 Q1385.55 63.1779 1387.05 64.7578 Q1388.59 66.3376 1393.25 66.3376 L1400.9 66.3376 L1400.9 72.576 L1393.25 72.576 Q1384.62 72.576 1381.34 69.3758 Q1378.06 66.1351 1378.06 57.6282 L1378.06 32.9987 L1372.59 32.9987 L1372.59 27.2059 L1378.06 27.2059 L1378.06 14.324 L1385.55 14.324 Z\" fill=\"#000000\" fill-rule=\"evenodd\" fill-opacity=\"1\" /><path clip-path=\"url(#clip650)\" d=\"M1410.71 27.2059 L1418.16 27.2059 L1418.16 72.576 L1410.71 72.576 L1410.71 27.2059 M1410.71 9.54393 L1418.16 9.54393 L1418.16 18.9825 L1410.71 18.9825 L1410.71 9.54393 Z\" fill=\"#000000\" fill-rule=\"evenodd\" fill-opacity=\"1\" /><path clip-path=\"url(#clip650)\" d=\"M1428.41 27.2059 L1436.31 27.2059 L1450.49 65.2844 L1464.67 27.2059 L1472.57 27.2059 L1455.55 72.576 L1445.42 72.576 L1428.41 27.2059 Z\" fill=\"#000000\" fill-rule=\"evenodd\" fill-opacity=\"1\" /><path clip-path=\"url(#clip650)\" d=\"M1521.66 48.0275 L1521.66 51.6733 L1487.39 51.6733 Q1487.88 59.3701 1492.01 63.421 Q1496.18 67.4314 1503.59 67.4314 Q1507.89 67.4314 1511.9 66.3781 Q1515.95 65.3249 1519.92 63.2184 L1519.92 70.267 Q1515.91 71.9684 1511.7 72.8596 Q1507.48 73.7508 1503.15 73.7508 Q1492.29 73.7508 1485.93 67.4314 Q1479.61 61.1119 1479.61 50.3365 Q1479.61 39.1965 1485.61 32.6746 Q1491.64 26.1121 1501.85 26.1121 Q1511.01 26.1121 1516.31 32.0264 Q1521.66 37.9003 1521.66 48.0275 M1514.21 45.84 Q1514.13 39.7232 1510.77 36.0774 Q1507.44 32.4315 1501.93 32.4315 Q1495.7 32.4315 1491.93 35.9558 Q1488.2 39.4801 1487.63 45.8805 L1514.21 45.84 Z\" fill=\"#000000\" fill-rule=\"evenodd\" fill-opacity=\"1\" /><path clip-path=\"url(#clip650)\" d=\"M1555.2 12.096 L1563.47 12.096 L1576.19 63.2184 L1588.87 12.096 L1598.06 12.096 L1610.78 63.2184 L1623.46 12.096 L1631.77 12.096 L1616.57 72.576 L1606.29 72.576 L1593.53 20.0763 L1580.64 72.576 L1570.35 72.576 L1555.2 12.096 Z\" fill=\"#000000\" fill-rule=\"evenodd\" fill-opacity=\"1\" /><path clip-path=\"url(#clip650)\" d=\"M1676.24 48.0275 L1676.24 51.6733 L1641.97 51.6733 Q1642.46 59.3701 1646.59 63.421 Q1650.76 67.4314 1658.18 67.4314 Q1662.47 67.4314 1666.48 66.3781 Q1670.53 65.3249 1674.5 63.2184 L1674.5 70.267 Q1670.49 71.9684 1666.28 72.8596 Q1662.07 73.7508 1657.73 73.7508 Q1646.88 73.7508 1640.52 67.4314 Q1634.2 61.1119 1634.2 50.3365 Q1634.2 39.1965 1640.19 32.6746 Q1646.23 26.1121 1656.44 26.1121 Q1665.59 26.1121 1670.9 32.0264 Q1676.24 37.9003 1676.24 48.0275 M1668.79 45.84 Q1668.71 39.7232 1665.35 36.0774 Q1662.03 32.4315 1656.52 32.4315 Q1650.28 32.4315 1646.51 35.9558 Q1642.78 39.4801 1642.22 45.8805 L1668.79 45.84 Z\" fill=\"#000000\" fill-rule=\"evenodd\" fill-opacity=\"1\" /><path clip-path=\"url(#clip650)\" d=\"M1709.1 49.7694 Q1700.06 49.7694 1696.58 51.8354 Q1693.1 53.9013 1693.1 58.8839 Q1693.1 62.8538 1695.69 65.2034 Q1698.32 67.5124 1702.82 67.5124 Q1709.02 67.5124 1712.74 63.1374 Q1716.51 58.7219 1716.51 51.4303 L1716.51 49.7694 L1709.1 49.7694 M1723.96 46.6907 L1723.96 72.576 L1716.51 72.576 L1716.51 65.6895 Q1713.96 69.8214 1710.15 71.8063 Q1706.34 73.7508 1700.83 73.7508 Q1693.87 73.7508 1689.73 69.8619 Q1685.64 65.9325 1685.64 59.3701 Q1685.64 51.7138 1690.75 47.825 Q1695.89 43.9361 1706.06 43.9361 L1716.51 43.9361 L1716.51 43.2069 Q1716.51 38.0623 1713.11 35.2672 Q1709.75 32.4315 1703.63 32.4315 Q1699.74 32.4315 1696.05 33.3632 Q1692.37 34.295 1688.96 36.1584 L1688.96 29.2718 Q1693.06 27.692 1696.9 26.9223 Q1700.75 26.1121 1704.4 26.1121 Q1714.24 26.1121 1719.1 31.2163 Q1723.96 36.3204 1723.96 46.6907 Z\" fill=\"#000000\" fill-rule=\"evenodd\" fill-opacity=\"1\" /><path clip-path=\"url(#clip650)\" d=\"M1739.32 9.54393 L1746.77 9.54393 L1746.77 72.576 L1739.32 72.576 L1739.32 9.54393 Z\" fill=\"#000000\" fill-rule=\"evenodd\" fill-opacity=\"1\" /><path clip-path=\"url(#clip650)\" d=\"M1769.74 14.324 L1769.74 27.2059 L1785.09 27.2059 L1785.09 32.9987 L1769.74 32.9987 L1769.74 57.6282 Q1769.74 63.1779 1771.24 64.7578 Q1772.78 66.3376 1777.44 66.3376 L1785.09 66.3376 L1785.09 72.576 L1777.44 72.576 Q1768.81 72.576 1765.53 69.3758 Q1762.25 66.1351 1762.25 57.6282 L1762.25 32.9987 L1756.78 32.9987 L1756.78 27.2059 L1762.25 27.2059 L1762.25 14.324 L1769.74 14.324 Z\" fill=\"#000000\" fill-rule=\"evenodd\" fill-opacity=\"1\" /><path clip-path=\"url(#clip650)\" d=\"M1832.61 45.1919 L1832.61 72.576 L1825.16 72.576 L1825.16 45.4349 Q1825.16 38.994 1822.64 35.7938 Q1820.13 32.5936 1815.11 32.5936 Q1809.07 32.5936 1805.59 36.4419 Q1802.11 40.2903 1802.11 46.9338 L1802.11 72.576 L1794.61 72.576 L1794.61 9.54393 L1802.11 9.54393 L1802.11 34.2544 Q1804.78 30.163 1808.38 28.1376 Q1812.03 26.1121 1816.77 26.1121 Q1824.59 26.1121 1828.6 30.9732 Q1832.61 35.7938 1832.61 45.1919 Z\" fill=\"#000000\" fill-rule=\"evenodd\" fill-opacity=\"1\" /><polyline clip-path=\"url(#clip652)\" style=\"stroke:#009af9; stroke-linecap:butt; stroke-linejoin:round; stroke-width:4; stroke-opacity:1; fill:none\" points=\"\n  456.34,1908.54 462.644,1891.33 468.947,1727.8 475.251,1779.35 494.162,1779.35 500.465,1734.08 506.769,1715.53 513.072,1698.35 519.376,1775.05 538.287,1809.43 \n  544.59,1826.6 550.894,1774.53 557.197,1807.51 563.501,1807.51 588.715,1834.47 595.019,1778.3 601.322,1762.14 607.626,1736.2 626.537,1708.34 632.84,1711.8 \n  639.144,1752.63 645.447,1712.73 651.751,1730.01 670.661,1722.17 676.965,1666 683.269,1685.68 689.572,1692.94 695.876,1656.66 714.786,1550.88 721.09,1551.23 \n  727.394,1504.8 733.697,1470.54 740.001,1469.43 758.911,1441.03 765.215,1438.81 771.518,1421.42 777.822,1400.27 784.126,1374.76 803.036,1411.11 809.34,1391.16 \n  815.643,1378.48 821.947,1377.41 828.251,1360.31 847.161,1355.38 853.465,1355.53 859.768,1358.25 866.072,1396.84 891.286,1408.56 897.59,1409.92 903.893,1402.08 \n  910.197,1421.93 916.5,1421.81 935.411,1410.01 941.715,1406.79 948.018,1423.06 954.322,1392.83 960.625,1369.09 979.536,1416.39 985.84,1411.98 992.143,1403.57 \n  998.447,1340 1004.75,1328.04 1023.66,1343.44 1029.96,1350.2 1036.27,1445.79 1042.57,1448.56 1048.88,1395.79 1067.79,1461.92 1074.09,1405.73 1080.39,1405.73 \n  1086.7,1452.31 1093,1554.41 1111.91,1554.41 1118.21,1386.29 1124.52,1386.29 1130.82,1350.36 1137.13,1350.36 1156.04,1408.34 1162.34,1416.75 1168.64,1474.37 \n  1174.95,1520.29 1181.25,1608.85 1200.16,1608.85 1206.46,1616.96 1212.77,1611.15 1219.07,1596.31 1225.38,1596.31 1250.59,1628.81 1256.89,1662.21 1263.2,1599.1 \n  1269.5,1567.05 1288.41,1666.59 1294.71,1721.46 1301.02,1689.15 1307.32,1701.26 1313.63,1631.81 1332.54,1631.81 1338.84,1631.81 1345.14,1554.31 1351.45,1552.29 \n  1357.75,1535.23 1376.66,1519.41 1382.96,1527.07 1389.27,1565.71 1395.57,1554.33 1401.87,1603.98 1420.79,1578.51 1427.09,1621.79 1433.39,1746.78 1439.7,1769.92 \n  1446,1787.22 1471.21,1808.83 1477.52,1808.83 1483.82,1725.98 1490.12,1712.29 1509.04,1704.55 1515.34,1720.98 1521.64,1696.03 1527.95,1675.44 1534.25,1684.43 \n  1553.16,1781.2 1559.46,1753.91 1565.77,1703.19 1572.07,1737.79 1578.37,1618.62 1597.29,1618.62 1603.59,1597.02 1609.89,1589.9 1616.2,1632.37 1622.5,1651.76 \n  1641.41,1654.6 1647.71,1588.56 1654.02,1616.95 1660.32,1614.04 1666.62,1633.57 1685.54,1624.82 1691.84,1603.14 1698.14,1617.06 1704.45,1721.22 1710.75,1724.04 \n  1729.66,1736.57 1735.96,1718.85 1742.27,1662.88 1748.57,1662.88 1754.87,1648.43 1773.79,1643 1780.09,1671.99 1786.39,1753.55 1792.7,1728.62 1799,1763.56 \n  1817.91,1707.39 1824.21,1714.22 1830.52,1714.22 1836.82,1632.57 1843.12,1594.33 1868.34,1537.74 1874.64,1588.15 1880.95,1526.05 1887.25,1553.08 1906.16,1550.23 \n  1912.46,1524.98 1918.77,1573.4 1925.07,1574.47 1931.37,1568.65 1950.29,1559.82 1956.59,1508.76 1962.89,1495.67 1969.2,1505.62 1975.5,1523.66 1994.41,1453.12 \n  2000.71,1464.3 2007.02,1459.13 2013.32,1416.73 2019.62,1437.12 2038.54,1435.06 2044.84,1469.62 2051.14,1379.11 2057.45,1389.56 2063.75,1392.99 2082.66,1370.21 \n  2088.96,1354.27 2095.27,1338.51 2101.57,1321.78 2107.87,1296.83 2126.78,1283.69 2133.09,1271.79 2139.39,1315.67 2145.7,1272.09 2152,1206.13 2170.91,1173.67 \n  2177.21,1164.02 2183.52,1113.55 2189.82,1118.74 2196.12,1099.99 2215.03,1106.79 2221.34,1105.54 2227.64,1064.07 2233.95,1061.37 2240.25,1023.67 2259.16,997.773 \n  2265.46,1011.45 2271.77,1041.89 2278.07,1012.27 2284.37,1036.99 2303.28,1102.72 2309.59,1070.76 2315.89,1104.19 2322.2,1087.62 2328.5,1081.89 2347.41,1081.89 \n  2353.71,1069.64 2360.02,1097.83 2372.62,1025.63 2391.53,1034.39 2397.84,1064.84 2404.14,1099.58 2410.45,1046.67 \n  \"/>\n<polyline clip-path=\"url(#clip652)\" style=\"stroke:#e26f46; stroke-linecap:butt; stroke-linejoin:round; stroke-width:4; stroke-opacity:1; fill:none\" points=\"\n  456.34,1908.54 462.644,1899.3 468.947,1899.3 475.251,1970.09 494.162,1970.09 500.465,1919.52 506.769,1897.49 513.072,1845.39 519.376,1845.39 538.287,1845.39 \n  544.59,1860.46 550.894,1781.74 557.197,1786.29 563.501,1786.29 588.715,1786.29 595.019,1707.32 601.322,1701.39 607.626,1680.55 626.537,1680.55 632.84,1693.59 \n  639.144,1721.43 645.447,1645.62 651.751,1664.29 670.661,1664.29 676.965,1664.29 683.269,1677.06 689.572,1638.19 695.876,1599.19 714.786,1498.92 721.09,1498.92 \n  727.394,1481.74 733.697,1436.86 740.001,1434.74 758.911,1383.08 765.215,1409.72 771.518,1388.37 777.822,1290.49 784.126,1275.15 803.036,1305.5 809.34,1216 \n  815.643,1121.82 821.947,1121.82 828.251,1095.58 847.161,1085.09 853.465,1085.09 859.768,1099.36 866.072,1189.56 891.286,1203 897.59,1114.11 903.893,1114.11 \n  910.197,1160.91 916.5,1176.84 935.411,1151.6 941.715,1119.49 948.018,1119.49 954.322,1037.24 960.625,927.043 979.536,1004.56 985.84,989.874 992.143,936.65 \n  998.447,811.496 1004.75,805.712 1023.66,805.712 1029.96,795.126 1036.27,1096.3 1042.57,1097.62 1048.88,1009.08 1067.79,1121.23 1074.09,1010.4 1080.39,1010.4 \n  1086.7,1062.65 1093,1192.66 1111.91,1192.66 1118.21,1036.29 1124.52,1036.29 1130.82,1036.29 1137.13,1036.29 1156.04,1036.29 1162.34,1031.75 1168.64,1031.75 \n  1174.95,1061.53 1181.25,1061.53 1200.16,1061.53 1206.46,1059.02 1212.77,1059.02 1219.07,1059.02 1225.38,1059.02 1250.59,1077.05 1256.89,1077.05 1263.2,1071.56 \n  1269.5,1071.56 1288.41,1206.01 1294.71,1261.55 1301.02,1261.55 1307.32,1270.81 1313.63,1237.43 1332.54,1237.43 1338.84,1237.43 1345.14,1165.24 1351.45,1155.65 \n  1357.75,1145.66 1376.66,1145.66 1382.96,1145.66 1389.27,1145.66 1395.57,1165.5 1401.87,1207.19 1420.79,1207.19 1427.09,1207.19 1433.39,1435.2 1439.7,1435.2 \n  1446,1435.2 1471.21,1465.19 1477.52,1465.19 1483.82,1465.19 1490.12,1465.19 1509.04,1465.19 1515.34,1465.19 1521.64,1465.19 1527.95,1451.47 1534.25,1468.88 \n  1553.16,1580.07 1559.46,1624.79 1565.77,1563.42 1572.07,1590.95 1578.37,1460.96 1597.29,1455.41 1603.59,1435.12 1609.89,1435.12 1616.2,1457.03 1622.5,1480.69 \n  1641.41,1490.56 1647.71,1398.16 1654.02,1408.78 1660.32,1392.67 1666.62,1377.71 1685.54,1404.58 1691.84,1386.65 1698.14,1417.92 1704.45,1557.54 1710.75,1557.54 \n  1729.66,1593.1 1735.96,1592.98 1742.27,1592.98 1748.57,1592.98 1754.87,1592.98 1773.79,1591.75 1780.09,1676.6 1786.39,1676.6 1792.7,1676.6 1799,1734.94 \n  1817.91,1659.36 1824.21,1659.36 1830.52,1659.36 1836.82,1659.36 1843.12,1659.36 1868.34,1588.57 1874.64,1588.57 1880.95,1541.61 1887.25,1571.51 1906.16,1581.81 \n  1912.46,1581.81 1918.77,1581.81 1925.07,1584.65 1931.37,1611.68 1950.29,1585.87 1956.59,1496.18 1962.89,1496.18 1969.2,1519.3 1975.5,1556.88 1994.41,1433.35 \n  2000.71,1447.33 2007.02,1447.33 2013.32,1433.4 2019.62,1552.04 2038.54,1552.04 2044.84,1537.99 2051.14,1370.07 2057.45,1336.69 2063.75,1336.69 2082.66,1261.81 \n  2088.96,1233.1 2095.27,1219.72 2101.57,1218.03 2107.87,1202.86 2126.78,1172.58 2133.09,1135.58 2139.39,1135.58 2145.7,1003.28 2152,971.211 2170.91,971.211 \n  2177.21,904.221 2183.52,904.221 2189.82,896.998 2196.12,880.007 2215.03,905.388 2221.34,893.443 2227.64,795.79 2233.95,753.947 2240.25,689.895 2259.16,591.232 \n  2265.46,597.365 2271.77,643.946 2278.07,599.757 2284.37,633.992 2303.28,800.793 2309.59,654.219 2315.89,708.657 2322.2,688.912 2328.5,585.647 2347.41,585.647 \n  2353.71,557.866 2360.02,571.464 2372.62,571.464 2391.53,571.464 2397.84,625.823 2404.14,625.823 2410.45,541.507 \n  \"/>\n<polyline clip-path=\"url(#clip652)\" style=\"stroke:#3da44d; stroke-linecap:butt; stroke-linejoin:round; stroke-width:4; stroke-opacity:1; fill:none\" points=\"\n  456.34,1908.54 462.644,1899.32 468.947,1612.67 475.251,1681.81 494.162,1681.81 500.465,1632.37 506.769,1610.93 513.072,1560.09 519.376,1623.6 538.287,1623.6 \n  544.59,1638.36 550.894,1560.5 557.197,1564.97 563.501,1564.97 588.715,1564.97 595.019,1487.54 601.322,1481.7 607.626,1461.1 626.537,1461.1 632.84,1473.93 \n  639.144,1501.27 645.447,1427.11 651.751,1445.38 670.661,1445.38 676.965,1398.37 683.269,1410.77 689.572,1372.6 695.876,1334.66 714.786,1236.73 721.09,1241.23 \n  727.394,1224.29 733.697,1180.28 740.001,1178.19 758.911,1127.48 765.215,1153.8 771.518,1132.83 777.822,1037.08 784.126,1022 803.036,1051.75 809.34,964.305 \n  815.643,871.76 821.947,888.574 828.251,862.713 847.161,852.435 853.465,838.393 859.768,852.425 866.072,940.832 891.286,954.1 897.59,866.853 903.893,839.024 \n  910.197,884.899 916.5,900.416 935.411,875.558 941.715,843.976 948.018,876.381 954.322,795.795 960.625,686.857 979.536,763.311 985.84,748.854 992.143,696.598 \n  998.447,574.185 1004.75,568.481 1023.66,568.481 1029.96,558.08 1036.27,855.803 1042.57,857.1 1048.88,770.269 1067.79,880.994 1074.09,771.587 1080.39,771.587 \n  1086.7,823.084 1093,950.371 1111.91,950.371 1118.21,796.521 1124.52,796.521 1130.82,796.521 1137.13,796.521 1156.04,796.521 1162.34,792.056 1168.64,792.056 \n  1174.95,821.236 1181.25,821.236 1200.16,821.236 1206.46,818.774 1212.77,818.774 1219.07,818.774 1225.38,818.774 1250.59,836.463 1256.89,836.463 1263.2,831.041 \n  1269.5,756.114 1288.41,887.964 1294.71,941.905 1301.02,941.905 1307.32,950.929 1313.63,918.307 1332.54,918.307 1338.84,918.307 1345.14,847.897 1351.45,838.55 \n  1357.75,828.808 1376.66,822.307 1382.96,822.307 1389.27,848.798 1395.57,868.265 1401.87,909.065 1420.79,930.717 1427.09,930.717 1433.39,1153.83 1439.7,1153.83 \n  1446,1153.83 1471.21,1183.39 1477.52,1183.39 1483.82,1183.39 1490.12,1149.36 1509.04,1131.27 1515.34,1131.27 1521.64,1131.27 1527.95,1117.88 1534.25,1134.77 \n  1553.16,1243.3 1559.46,1286.81 1565.77,1227.11 1572.07,1253.95 1578.37,1127.43 1597.29,1113.32 1603.59,1093.65 1609.89,1083.75 1616.2,1105.22 1622.5,1128.13 \n  1641.41,1137.74 1647.71,1047.84 1654.02,1058.16 1660.32,1019.51 1666.62,1004.98 1685.54,1031.03 1691.84,1013.58 1698.14,1043.9 1704.45,1179.17 1710.75,1241.24 \n  1729.66,1276.08 1735.96,1275.96 1742.27,1275.96 1748.57,1275.96 1754.87,1275.96 1773.79,1274.78 1780.09,1357.65 1786.39,1357.65 1792.7,1357.65 1799,1414.32 \n  1817.91,1340.69 1824.21,1340.69 1830.52,1340.69 1836.82,1340.68 1843.12,1336.43 1868.34,1267.68 1874.64,1267.68 1880.95,1222.05 1887.25,1251.08 1906.16,1261.14 \n  1912.46,1261.14 1918.77,1261.14 1925.07,1263.92 1931.37,1290.76 1950.29,1265.69 1956.59,1178.2 1962.89,1178.2 1969.2,1200.81 1975.5,1237.4 1994.41,1116.65 \n  2000.71,1130.27 2007.02,1175.49 2013.32,1161.91 2019.62,1278.1 2038.54,1276.01 2044.84,1262.27 2051.14,1098.36 2057.45,1065.51 2063.75,1065.51 2082.66,992.091 \n  2088.96,964.064 2095.27,951.036 2101.57,949.431 2107.87,934.653 2126.78,904.953 2133.09,868.655 2139.39,954.545 2145.7,824.345 2152,792.703 2170.91,776.161 \n  2177.21,710.127 2183.52,610.976 2189.82,603.905 2196.12,587.284 2215.03,612 2221.34,600.297 2227.64,505.381 2233.95,464.352 2240.25,401.253 2259.16,304.746 \n  2265.46,310.741 2271.77,356.517 2278.07,312.936 2284.37,346.262 2303.28,510.219 2309.59,366.031 2315.89,419.381 2322.2,400.061 2328.5,299.557 2347.41,299.557 \n  2353.71,272.461 2360.02,308.056 2372.62,201.224 2391.53,201.224 2397.84,254.268 2404.14,254.268 2410.45,172.364 \n  \"/>\n<polyline clip-path=\"url(#clip652)\" style=\"stroke:#c271d2; stroke-linecap:butt; stroke-linejoin:round; stroke-width:4; stroke-opacity:1; fill:none\" points=\"\n  456.34,1908.54 462.644,1892.41 468.947,1809.22 475.251,1818.41 494.162,1899.77 500.465,1856.82 506.769,1825.44 513.072,1802.36 519.376,1887.48 538.287,1909.79 \n  544.59,1902.82 550.894,1876.04 557.197,1903.77 563.501,1864.73 588.715,1880.78 595.019,1842.73 601.322,1817.32 607.626,1816.93 626.537,1813.33 632.84,1813.45 \n  639.144,1799.97 645.447,1777.61 651.751,1781.25 670.661,1782.92 676.965,1700.47 683.269,1714.57 689.572,1665.92 695.876,1646.32 714.786,1603.39 721.09,1616.42 \n  727.394,1623.65 733.697,1607.56 740.001,1600.79 758.911,1561.26 765.215,1554.88 771.518,1542.38 777.822,1483.46 784.126,1491.72 803.036,1527.91 809.34,1480.27 \n  815.643,1481.43 821.947,1481.58 828.251,1475.02 847.161,1472.81 853.465,1460.65 859.768,1483.5 866.072,1526.47 891.286,1524.1 897.59,1532.34 903.893,1526.75 \n  910.197,1548.19 916.5,1557.84 935.411,1548.93 941.715,1556.64 948.018,1569.97 954.322,1540.95 960.625,1525.34 979.536,1568.49 985.84,1564.09 992.143,1554.11 \n  998.447,1483.1 1004.75,1436.41 1023.66,1417.01 1029.96,1429.83 1036.27,1528.46 1042.57,1524.59 1048.88,1455.03 1067.79,1539.19 1074.09,1484.91 1080.39,1572.6 \n  1086.7,1601.34 1093,1699.32 1111.91,1791.64 1118.21,1613.84 1124.52,1601.53 1130.82,1559.69 1137.13,1587.51 1156.04,1620.95 1162.34,1617.97 1168.64,1631.8 \n  1174.95,1661.95 1181.25,1742.23 1200.16,1707.13 1206.46,1673.67 1212.77,1684.98 1219.07,1693.19 1225.38,1624.11 1250.59,1599.39 1256.89,1572.22 1263.2,1551.27 \n  1269.5,1556.91 1288.41,1605.81 1294.71,1640.72 1301.02,1652.07 1307.32,1695.57 1313.63,1642.89 1332.54,1622.21 1338.84,1616.99 1345.14,1580.39 1351.45,1530.76 \n  1357.75,1501.66 1376.66,1488.1 1382.96,1511.98 1389.27,1489.2 1395.57,1506.79 1401.87,1518.9 1420.79,1533.23 1427.09,1523.16 1433.39,1599.03 1439.7,1628.49 \n  1446,1648.14 1471.21,1658.19 1477.52,1647.09 1483.82,1582.08 1490.12,1585.61 1509.04,1576.28 1515.34,1590.39 1521.64,1624 1527.95,1618.19 1534.25,1626.15 \n  1553.16,1635.85 1559.46,1663.07 1565.77,1663.07 1572.07,1654.27 1578.37,1654.27 1597.29,1654.27 1603.59,1640.75 1609.89,1656.65 1616.2,1656.65 1622.5,1663.12 \n  1641.41,1655.96 1647.71,1628.81 1654.02,1644 1660.32,1627.89 1666.62,1628.78 1685.54,1636.54 1691.84,1625.17 1698.14,1639.81 1704.45,1701.75 1710.75,1730.39 \n  1729.66,1718.08 1735.96,1706.58 1742.27,1676.45 1748.57,1676.21 1754.87,1687.53 1773.79,1698.23 1780.09,1748.79 1786.39,1794.09 1792.7,1785.21 1799,1821.03 \n  1817.91,1773.02 1824.21,1788.49 1830.52,1772.37 1836.82,1688.01 1843.12,1677.97 1868.34,1637.47 1874.64,1647.15 1880.95,1619.02 1887.25,1621.67 1906.16,1605.18 \n  1912.46,1578.57 1918.77,1588.5 1925.07,1585.27 1931.37,1598.56 1950.29,1567.77 1956.59,1525.3 1962.89,1495.83 1969.2,1512.23 1975.5,1513.66 1994.41,1442.33 \n  2000.71,1446.24 2007.02,1448.07 2013.32,1438.79 2019.62,1482.88 2038.54,1490.88 2044.84,1521.65 2051.14,1467.72 2057.45,1473.23 2063.75,1468.34 2082.66,1438.92 \n  2088.96,1443.64 2095.27,1431.29 2101.57,1404.32 2107.87,1383.39 2126.78,1301.7 2133.09,1284.95 2139.39,1339.41 2145.7,1327.38 2152,1244.65 2170.91,1194.51 \n  2177.21,1199.76 2183.52,1152.64 2189.82,1121.94 2196.12,1101.66 2215.03,1099.02 2221.34,1129.93 2227.64,1074.43 2233.95,1064.29 2240.25,1043.44 2259.16,1001.32 \n  2265.46,992.557 2271.77,1027.16 2278.07,983.437 2284.37,994.593 2303.28,1061.19 2309.59,1032.4 2315.89,1084.4 2322.2,1062.38 2328.5,1068.93 2347.41,1073.3 \n  2353.71,1051.05 2360.02,1110.48 2372.62,1037.21 2391.53,1035.57 2397.84,1062.95 2404.14,1114.47 2410.45,1042.37 \n  \"/>\n<path clip-path=\"url(#clip650)\" d=\"\nM2574.24 441.152 L3552.76 441.152 L3552.76 181.952 L2574.24 181.952  Z\n  \" fill=\"#ffffff\" fill-rule=\"evenodd\" fill-opacity=\"1\"/>\n<polyline clip-path=\"url(#clip650)\" style=\"stroke:#000000; stroke-linecap:butt; stroke-linejoin:round; stroke-width:4; stroke-opacity:1; fill:none\" points=\"\n  2574.24,441.152 3552.76,441.152 3552.76,181.952 2574.24,181.952 2574.24,441.152 \n  \"/>\n<polyline clip-path=\"url(#clip650)\" style=\"stroke:#009af9; stroke-linecap:butt; stroke-linejoin:round; stroke-width:4; stroke-opacity:1; fill:none\" points=\"\n  2609.29,233.792 2819.63,233.792 \n  \"/>\n<path clip-path=\"url(#clip650)\" d=\"M2880.24 246.141 L2880.24 236.859 L2872.6 236.859 L2872.6 233.016 L2884.87 233.016 L2884.87 247.854 Q2882.16 249.775 2878.9 250.771 Q2875.63 251.743 2871.93 251.743 Q2863.83 251.743 2859.24 247.021 Q2854.68 242.275 2854.68 233.826 Q2854.68 225.354 2859.24 220.632 Q2863.83 215.887 2871.93 215.887 Q2875.31 215.887 2878.34 216.72 Q2881.4 217.553 2883.97 219.174 L2883.97 224.151 Q2881.37 221.952 2878.46 220.84 Q2875.54 219.729 2872.32 219.729 Q2865.98 219.729 2862.79 223.271 Q2859.61 226.813 2859.61 233.826 Q2859.61 240.817 2862.79 244.359 Q2865.98 247.9 2872.32 247.9 Q2874.8 247.9 2876.74 247.484 Q2878.69 247.044 2880.24 246.141 Z\" fill=\"#000000\" fill-rule=\"evenodd\" fill-opacity=\"1\" /><path clip-path=\"url(#clip650)\" d=\"M2898.09 220.354 L2898.09 233.34 L2903.97 233.34 Q2907.23 233.34 2909.01 231.651 Q2910.8 229.961 2910.8 226.836 Q2910.8 223.734 2909.01 222.044 Q2907.23 220.354 2903.97 220.354 L2898.09 220.354 M2893.41 216.512 L2903.97 216.512 Q2909.78 216.512 2912.74 219.151 Q2915.73 221.766 2915.73 226.836 Q2915.73 231.951 2912.74 234.567 Q2909.78 237.183 2903.97 237.183 L2898.09 237.183 L2898.09 251.072 L2893.41 251.072 L2893.41 216.512 Z\" fill=\"#000000\" fill-rule=\"evenodd\" fill-opacity=\"1\" /><path clip-path=\"url(#clip650)\" d=\"M2941.51 258.942 L2941.51 262.252 L2916.88 262.252 L2916.88 258.942 L2941.51 258.942 Z\" fill=\"#000000\" fill-rule=\"evenodd\" fill-opacity=\"1\" /><path clip-path=\"url(#clip650)\" d=\"M2965.7 230.123 Q2967.3 227.252 2969.52 225.887 Q2971.74 224.521 2974.75 224.521 Q2978.8 224.521 2981 227.368 Q2983.2 230.192 2983.2 235.424 L2983.2 251.072 L2978.92 251.072 L2978.92 235.563 Q2978.92 231.836 2977.6 230.03 Q2976.28 228.225 2973.57 228.225 Q2970.26 228.225 2968.34 230.424 Q2966.42 232.623 2966.42 236.419 L2966.42 251.072 L2962.14 251.072 L2962.14 235.563 Q2962.14 231.813 2960.82 230.03 Q2959.5 228.225 2956.74 228.225 Q2953.48 228.225 2951.56 230.447 Q2949.64 232.646 2949.64 236.419 L2949.64 251.072 L2945.36 251.072 L2945.36 225.146 L2949.64 225.146 L2949.64 229.174 Q2951.1 226.789 2953.13 225.655 Q2955.17 224.521 2957.97 224.521 Q2960.79 224.521 2962.76 225.956 Q2964.75 227.391 2965.7 230.123 Z\" fill=\"#000000\" fill-rule=\"evenodd\" fill-opacity=\"1\" /><path clip-path=\"url(#clip650)\" d=\"M3003.48 238.039 Q2998.32 238.039 2996.33 239.22 Q2994.34 240.4 2994.34 243.248 Q2994.34 245.516 2995.82 246.859 Q2997.32 248.178 2999.89 248.178 Q3003.43 248.178 3005.56 245.678 Q3007.72 243.155 3007.72 238.988 L3007.72 238.039 L3003.48 238.039 M3011.98 236.28 L3011.98 251.072 L3007.72 251.072 L3007.72 247.137 Q3006.26 249.498 3004.08 250.632 Q3001.91 251.743 2998.76 251.743 Q2994.78 251.743 2992.42 249.521 Q2990.08 247.275 2990.08 243.525 Q2990.08 239.15 2992.99 236.928 Q2995.93 234.706 3001.74 234.706 L3007.72 234.706 L3007.72 234.289 Q3007.72 231.35 3005.77 229.752 Q3003.85 228.132 3000.35 228.132 Q2998.13 228.132 2996.03 228.664 Q2993.92 229.197 2991.98 230.262 L2991.98 226.326 Q2994.31 225.424 2996.51 224.984 Q2998.71 224.521 3000.79 224.521 Q3006.42 224.521 3009.2 227.438 Q3011.98 230.354 3011.98 236.28 Z\" fill=\"#000000\" fill-rule=\"evenodd\" fill-opacity=\"1\" /><path clip-path=\"url(#clip650)\" d=\"M3035.77 229.127 Q3035.05 228.711 3034.2 228.526 Q3033.36 228.317 3032.35 228.317 Q3028.73 228.317 3026.79 230.678 Q3024.87 233.016 3024.87 237.414 L3024.87 251.072 L3020.59 251.072 L3020.59 225.146 L3024.87 225.146 L3024.87 229.174 Q3026.21 226.813 3028.36 225.678 Q3030.52 224.521 3033.6 224.521 Q3034.04 224.521 3034.57 224.59 Q3035.1 224.637 3035.75 224.752 L3035.77 229.127 Z\" fill=\"#000000\" fill-rule=\"evenodd\" fill-opacity=\"1\" /><path clip-path=\"url(#clip650)\" d=\"M3040.08 215.053 L3044.36 215.053 L3044.36 236.326 L3057.07 225.146 L3062.51 225.146 L3048.76 237.275 L3063.09 251.072 L3057.53 251.072 L3044.36 238.41 L3044.36 251.072 L3040.08 251.072 L3040.08 215.053 Z\" fill=\"#000000\" fill-rule=\"evenodd\" fill-opacity=\"1\" /><path clip-path=\"url(#clip650)\" d=\"M3076.05 228.132 Q3072.62 228.132 3070.63 230.817 Q3068.64 233.479 3068.64 238.132 Q3068.64 242.785 3070.61 245.47 Q3072.6 248.132 3076.05 248.132 Q3079.45 248.132 3081.44 245.447 Q3083.43 242.762 3083.43 238.132 Q3083.43 233.526 3081.44 230.84 Q3079.45 228.132 3076.05 228.132 M3076.05 224.521 Q3081.6 224.521 3084.78 228.132 Q3087.95 231.743 3087.95 238.132 Q3087.95 244.498 3084.78 248.132 Q3081.6 251.743 3076.05 251.743 Q3070.47 251.743 3067.3 248.132 Q3064.15 244.498 3064.15 238.132 Q3064.15 231.743 3067.3 228.132 Q3070.47 224.521 3076.05 224.521 Z\" fill=\"#000000\" fill-rule=\"evenodd\" fill-opacity=\"1\" /><path clip-path=\"url(#clip650)\" d=\"M3092.53 225.146 L3096.79 225.146 L3102.11 245.377 L3107.41 225.146 L3112.44 225.146 L3117.76 245.377 L3123.06 225.146 L3127.32 225.146 L3120.54 251.072 L3115.52 251.072 L3109.94 229.822 L3104.34 251.072 L3099.31 251.072 L3092.53 225.146 Z\" fill=\"#000000\" fill-rule=\"evenodd\" fill-opacity=\"1\" /><path clip-path=\"url(#clip650)\" d=\"M3133.78 225.146 L3138.04 225.146 L3138.04 251.072 L3133.78 251.072 L3133.78 225.146 M3133.78 215.053 L3138.04 215.053 L3138.04 220.447 L3133.78 220.447 L3133.78 215.053 Z\" fill=\"#000000\" fill-rule=\"evenodd\" fill-opacity=\"1\" /><path clip-path=\"url(#clip650)\" d=\"M3151.16 217.785 L3151.16 225.146 L3159.94 225.146 L3159.94 228.456 L3151.16 228.456 L3151.16 242.53 Q3151.16 245.701 3152.02 246.604 Q3152.9 247.507 3155.56 247.507 L3159.94 247.507 L3159.94 251.072 L3155.56 251.072 Q3150.63 251.072 3148.76 249.243 Q3146.88 247.391 3146.88 242.53 L3146.88 228.456 L3143.76 228.456 L3143.76 225.146 L3146.88 225.146 L3146.88 217.785 L3151.16 217.785 Z\" fill=\"#000000\" fill-rule=\"evenodd\" fill-opacity=\"1\" /><path clip-path=\"url(#clip650)\" d=\"M3163.69 225.146 L3183.92 225.146 L3183.92 229.035 L3167.9 247.669 L3183.92 247.669 L3183.92 251.072 L3163.11 251.072 L3163.11 247.183 L3179.13 228.549 L3163.69 228.549 L3163.69 225.146 Z\" fill=\"#000000\" fill-rule=\"evenodd\" fill-opacity=\"1\" /><path clip-path=\"url(#clip650)\" d=\"M3210.12 258.942 L3210.12 262.252 L3185.49 262.252 L3185.49 258.942 L3210.12 258.942 Z\" fill=\"#000000\" fill-rule=\"evenodd\" fill-opacity=\"1\" /><path clip-path=\"url(#clip650)\" d=\"M3214.13 215.053 L3218.39 215.053 L3218.39 251.072 L3214.13 251.072 L3214.13 215.053 Z\" fill=\"#000000\" fill-rule=\"evenodd\" fill-opacity=\"1\" /><path clip-path=\"url(#clip650)\" d=\"M3227.3 225.146 L3231.56 225.146 L3231.56 251.072 L3227.3 251.072 L3227.3 225.146 M3227.3 215.053 L3231.56 215.053 L3231.56 220.447 L3227.3 220.447 L3227.3 215.053 Z\" fill=\"#000000\" fill-rule=\"evenodd\" fill-opacity=\"1\" /><path clip-path=\"url(#clip650)\" d=\"M3260.65 230.123 Q3262.25 227.252 3264.47 225.887 Q3266.7 224.521 3269.71 224.521 Q3273.76 224.521 3275.96 227.368 Q3278.15 230.192 3278.15 235.424 L3278.15 251.072 L3273.87 251.072 L3273.87 235.563 Q3273.87 231.836 3272.55 230.03 Q3271.23 228.225 3268.52 228.225 Q3265.21 228.225 3263.29 230.424 Q3261.37 232.623 3261.37 236.419 L3261.37 251.072 L3257.09 251.072 L3257.09 235.563 Q3257.09 231.813 3255.77 230.03 Q3254.45 228.225 3251.7 228.225 Q3248.43 228.225 3246.51 230.447 Q3244.59 232.646 3244.59 236.419 L3244.59 251.072 L3240.31 251.072 L3240.31 225.146 L3244.59 225.146 L3244.59 229.174 Q3246.05 226.789 3248.09 225.655 Q3250.12 224.521 3252.92 224.521 Q3255.75 224.521 3257.71 225.956 Q3259.71 227.391 3260.65 230.123 Z\" fill=\"#000000\" fill-rule=\"evenodd\" fill-opacity=\"1\" /><path clip-path=\"url(#clip650)\" d=\"M3286.65 225.146 L3290.91 225.146 L3290.91 251.072 L3286.65 251.072 L3286.65 225.146 M3286.65 215.053 L3290.91 215.053 L3290.91 220.447 L3286.65 220.447 L3286.65 215.053 Z\" fill=\"#000000\" fill-rule=\"evenodd\" fill-opacity=\"1\" /><path clip-path=\"url(#clip650)\" d=\"M3304.03 217.785 L3304.03 225.146 L3312.81 225.146 L3312.81 228.456 L3304.03 228.456 L3304.03 242.53 Q3304.03 245.701 3304.89 246.604 Q3305.77 247.507 3308.43 247.507 L3312.81 247.507 L3312.81 251.072 L3308.43 251.072 Q3303.5 251.072 3301.63 249.243 Q3299.75 247.391 3299.75 242.53 L3299.75 228.456 L3296.63 228.456 L3296.63 225.146 L3299.75 225.146 L3299.75 217.785 L3304.03 217.785 Z\" fill=\"#000000\" fill-rule=\"evenodd\" fill-opacity=\"1\" /><path clip-path=\"url(#clip650)\" d=\"M3338.11 258.942 L3338.11 262.252 L3313.48 262.252 L3313.48 258.942 L3338.11 258.942 Z\" fill=\"#000000\" fill-rule=\"evenodd\" fill-opacity=\"1\" /><path clip-path=\"url(#clip650)\" d=\"M3339.06 225.146 L3343.57 225.146 L3351.67 246.905 L3359.77 225.146 L3364.29 225.146 L3354.57 251.072 L3348.78 251.072 L3339.06 225.146 Z\" fill=\"#000000\" fill-rule=\"evenodd\" fill-opacity=\"1\" /><path clip-path=\"url(#clip650)\" d=\"M3381.95 238.039 Q3376.79 238.039 3374.8 239.22 Q3372.81 240.4 3372.81 243.248 Q3372.81 245.516 3374.29 246.859 Q3375.79 248.178 3378.36 248.178 Q3381.9 248.178 3384.03 245.678 Q3386.19 243.155 3386.19 238.988 L3386.19 238.039 L3381.95 238.039 M3390.45 236.28 L3390.45 251.072 L3386.19 251.072 L3386.19 247.137 Q3384.73 249.498 3382.55 250.632 Q3380.38 251.743 3377.23 251.743 Q3373.25 251.743 3370.89 249.521 Q3368.55 247.275 3368.55 243.525 Q3368.55 239.15 3371.46 236.928 Q3374.4 234.706 3380.21 234.706 L3386.19 234.706 L3386.19 234.289 Q3386.19 231.35 3384.24 229.752 Q3382.32 228.132 3378.83 228.132 Q3376.6 228.132 3374.5 228.664 Q3372.39 229.197 3370.45 230.262 L3370.45 226.326 Q3372.78 225.424 3374.98 224.984 Q3377.18 224.521 3379.26 224.521 Q3384.89 224.521 3387.67 227.438 Q3390.45 230.354 3390.45 236.28 Z\" fill=\"#000000\" fill-rule=\"evenodd\" fill-opacity=\"1\" /><path clip-path=\"url(#clip650)\" d=\"M3414.24 229.127 Q3413.52 228.711 3412.67 228.526 Q3411.83 228.317 3410.82 228.317 Q3407.2 228.317 3405.26 230.678 Q3403.34 233.016 3403.34 237.414 L3403.34 251.072 L3399.06 251.072 L3399.06 225.146 L3403.34 225.146 L3403.34 229.174 Q3404.68 226.813 3406.83 225.678 Q3408.99 224.521 3412.07 224.521 Q3412.51 224.521 3413.04 224.59 Q3413.57 224.637 3414.22 224.752 L3414.24 229.127 Z\" fill=\"#000000\" fill-rule=\"evenodd\" fill-opacity=\"1\" /><polyline clip-path=\"url(#clip650)\" style=\"stroke:#e26f46; stroke-linecap:butt; stroke-linejoin:round; stroke-width:4; stroke-opacity:1; fill:none\" points=\"\n  2609.29,285.632 2819.63,285.632 \n  \"/>\n<path clip-path=\"url(#clip650)\" d=\"M2880.24 297.981 L2880.24 288.699 L2872.6 288.699 L2872.6 284.856 L2884.87 284.856 L2884.87 299.694 Q2882.16 301.615 2878.9 302.611 Q2875.63 303.583 2871.93 303.583 Q2863.83 303.583 2859.24 298.861 Q2854.68 294.115 2854.68 285.666 Q2854.68 277.194 2859.24 272.472 Q2863.83 267.727 2871.93 267.727 Q2875.31 267.727 2878.34 268.56 Q2881.4 269.393 2883.97 271.014 L2883.97 275.991 Q2881.37 273.792 2878.46 272.68 Q2875.54 271.569 2872.32 271.569 Q2865.98 271.569 2862.79 275.111 Q2859.61 278.653 2859.61 285.666 Q2859.61 292.657 2862.79 296.199 Q2865.98 299.74 2872.32 299.74 Q2874.8 299.74 2876.74 299.324 Q2878.69 298.884 2880.24 297.981 Z\" fill=\"#000000\" fill-rule=\"evenodd\" fill-opacity=\"1\" /><path clip-path=\"url(#clip650)\" d=\"M2898.09 272.194 L2898.09 285.18 L2903.97 285.18 Q2907.23 285.18 2909.01 283.491 Q2910.8 281.801 2910.8 278.676 Q2910.8 275.574 2909.01 273.884 Q2907.23 272.194 2903.97 272.194 L2898.09 272.194 M2893.41 268.352 L2903.97 268.352 Q2909.78 268.352 2912.74 270.991 Q2915.73 273.606 2915.73 278.676 Q2915.73 283.791 2912.74 286.407 Q2909.78 289.023 2903.97 289.023 L2898.09 289.023 L2898.09 302.912 L2893.41 302.912 L2893.41 268.352 Z\" fill=\"#000000\" fill-rule=\"evenodd\" fill-opacity=\"1\" /><path clip-path=\"url(#clip650)\" d=\"M2938.39 286.708 Q2939.89 287.217 2941.3 288.884 Q2942.74 290.551 2944.17 293.467 L2948.92 302.912 L2943.9 302.912 L2939.48 294.046 Q2937.76 290.574 2936.14 289.44 Q2934.55 288.305 2931.77 288.305 L2926.67 288.305 L2926.67 302.912 L2922 302.912 L2922 268.352 L2932.55 268.352 Q2938.48 268.352 2941.4 270.829 Q2944.31 273.305 2944.31 278.305 Q2944.31 281.569 2942.79 283.722 Q2941.28 285.875 2938.39 286.708 M2926.67 272.194 L2926.67 284.463 L2932.55 284.463 Q2935.93 284.463 2937.65 282.912 Q2939.38 281.338 2939.38 278.305 Q2939.38 275.273 2937.65 273.745 Q2935.93 272.194 2932.55 272.194 L2926.67 272.194 Z\" fill=\"#000000\" fill-rule=\"evenodd\" fill-opacity=\"1\" /><path clip-path=\"url(#clip650)\" d=\"M2954.94 268.352 L2961.23 268.352 L2976.56 297.264 L2976.56 268.352 L2981.1 268.352 L2981.1 302.912 L2974.8 302.912 L2959.48 274 L2959.48 302.912 L2954.94 302.912 L2954.94 268.352 Z\" fill=\"#000000\" fill-rule=\"evenodd\" fill-opacity=\"1\" /><path clip-path=\"url(#clip650)\" d=\"M3009.91 310.782 L3009.91 314.092 L2985.29 314.092 L2985.29 310.782 L3009.91 310.782 Z\" fill=\"#000000\" fill-rule=\"evenodd\" fill-opacity=\"1\" /><path clip-path=\"url(#clip650)\" d=\"M3030.98 280.921 L3030.98 266.893 L3035.24 266.893 L3035.24 302.912 L3030.98 302.912 L3030.98 299.023 Q3029.64 301.338 3027.58 302.472 Q3025.54 303.583 3022.67 303.583 Q3017.97 303.583 3015.01 299.833 Q3012.07 296.083 3012.07 289.972 Q3012.07 283.861 3015.01 280.111 Q3017.97 276.361 3022.67 276.361 Q3025.54 276.361 3027.58 277.495 Q3029.64 278.606 3030.98 280.921 M3016.47 289.972 Q3016.47 294.671 3018.39 297.356 Q3020.33 300.018 3023.71 300.018 Q3027.09 300.018 3029.04 297.356 Q3030.98 294.671 3030.98 289.972 Q3030.98 285.273 3029.04 282.611 Q3027.09 279.926 3023.71 279.926 Q3020.33 279.926 3018.39 282.611 Q3016.47 285.273 3016.47 289.972 Z\" fill=\"#000000\" fill-rule=\"evenodd\" fill-opacity=\"1\" /><path clip-path=\"url(#clip650)\" d=\"M3066.19 288.884 L3066.19 290.967 L3046.6 290.967 Q3046.88 295.365 3049.24 297.68 Q3051.63 299.972 3055.86 299.972 Q3058.32 299.972 3060.61 299.37 Q3062.92 298.768 3065.19 297.565 L3065.19 301.592 Q3062.9 302.564 3060.49 303.074 Q3058.09 303.583 3055.61 303.583 Q3049.41 303.583 3045.77 299.972 Q3042.16 296.361 3042.16 290.203 Q3042.16 283.838 3045.59 280.111 Q3049.04 276.361 3054.87 276.361 Q3060.1 276.361 3063.13 279.741 Q3066.19 283.097 3066.19 288.884 M3061.93 287.634 Q3061.88 284.139 3059.96 282.055 Q3058.06 279.972 3054.91 279.972 Q3051.35 279.972 3049.2 281.986 Q3047.07 284 3046.74 287.657 L3061.93 287.634 Z\" fill=\"#000000\" fill-rule=\"evenodd\" fill-opacity=\"1\" /><path clip-path=\"url(#clip650)\" d=\"M3073.18 266.893 L3077.44 266.893 L3077.44 302.912 L3073.18 302.912 L3073.18 266.893 Z\" fill=\"#000000\" fill-rule=\"evenodd\" fill-opacity=\"1\" /><path clip-path=\"url(#clip650)\" d=\"M3098.13 289.879 Q3092.97 289.879 3090.98 291.06 Q3088.99 292.24 3088.99 295.088 Q3088.99 297.356 3090.47 298.699 Q3091.97 300.018 3094.54 300.018 Q3098.09 300.018 3100.22 297.518 Q3102.37 294.995 3102.37 290.828 L3102.37 289.879 L3098.13 289.879 M3106.63 288.12 L3106.63 302.912 L3102.37 302.912 L3102.37 298.977 Q3100.91 301.338 3098.73 302.472 Q3096.56 303.583 3093.41 303.583 Q3089.43 303.583 3087.07 301.361 Q3084.73 299.115 3084.73 295.365 Q3084.73 290.99 3087.65 288.768 Q3090.59 286.546 3096.4 286.546 L3102.37 286.546 L3102.37 286.129 Q3102.37 283.19 3100.42 281.592 Q3098.5 279.972 3095.01 279.972 Q3092.78 279.972 3090.68 280.504 Q3088.57 281.037 3086.63 282.102 L3086.63 278.166 Q3088.97 277.264 3091.16 276.824 Q3093.36 276.361 3095.45 276.361 Q3101.07 276.361 3103.85 279.278 Q3106.63 282.194 3106.63 288.12 Z\" fill=\"#000000\" fill-rule=\"evenodd\" fill-opacity=\"1\" /><path clip-path=\"url(#clip650)\" d=\"M3132.46 289.648 Q3132.46 285.018 3130.54 282.472 Q3128.64 279.926 3125.19 279.926 Q3121.77 279.926 3119.84 282.472 Q3117.95 285.018 3117.95 289.648 Q3117.95 294.254 3119.84 296.801 Q3121.77 299.347 3125.19 299.347 Q3128.64 299.347 3130.54 296.801 Q3132.46 294.254 3132.46 289.648 M3136.72 299.694 Q3136.72 306.314 3133.78 309.532 Q3130.84 312.773 3124.78 312.773 Q3122.53 312.773 3120.54 312.426 Q3118.55 312.101 3116.67 311.407 L3116.67 307.264 Q3118.55 308.282 3120.38 308.768 Q3122.21 309.254 3124.1 309.254 Q3128.29 309.254 3130.38 307.055 Q3132.46 304.879 3132.46 300.458 L3132.46 298.352 Q3131.14 300.643 3129.08 301.777 Q3127.02 302.912 3124.15 302.912 Q3119.38 302.912 3116.47 299.277 Q3113.55 295.643 3113.55 289.648 Q3113.55 283.629 3116.47 279.995 Q3119.38 276.361 3124.15 276.361 Q3127.02 276.361 3129.08 277.495 Q3131.14 278.629 3132.46 280.921 L3132.46 276.986 L3136.72 276.986 L3136.72 299.694 Z\" fill=\"#000000\" fill-rule=\"evenodd\" fill-opacity=\"1\" /><path clip-path=\"url(#clip650)\" d=\"M3167.67 288.884 L3167.67 290.967 L3148.09 290.967 Q3148.36 295.365 3150.72 297.68 Q3153.11 299.972 3157.34 299.972 Q3159.8 299.972 3162.09 299.37 Q3164.4 298.768 3166.67 297.565 L3166.67 301.592 Q3164.38 302.564 3161.97 303.074 Q3159.57 303.583 3157.09 303.583 Q3150.89 303.583 3147.25 299.972 Q3143.64 296.361 3143.64 290.203 Q3143.64 283.838 3147.07 280.111 Q3150.52 276.361 3156.35 276.361 Q3161.58 276.361 3164.61 279.741 Q3167.67 283.097 3167.67 288.884 M3163.41 287.634 Q3163.36 284.139 3161.44 282.055 Q3159.54 279.972 3156.4 279.972 Q3152.83 279.972 3150.68 281.986 Q3148.55 284 3148.22 287.657 L3163.41 287.634 Z\" fill=\"#000000\" fill-rule=\"evenodd\" fill-opacity=\"1\" /><polyline clip-path=\"url(#clip650)\" style=\"stroke:#3da44d; stroke-linecap:butt; stroke-linejoin:round; stroke-width:4; stroke-opacity:1; fill:none\" points=\"\n  2609.29,337.472 2819.63,337.472 \n  \"/>\n<path clip-path=\"url(#clip650)\" d=\"M2880.24 349.821 L2880.24 340.539 L2872.6 340.539 L2872.6 336.696 L2884.87 336.696 L2884.87 351.534 Q2882.16 353.455 2878.9 354.451 Q2875.63 355.423 2871.93 355.423 Q2863.83 355.423 2859.24 350.701 Q2854.68 345.955 2854.68 337.506 Q2854.68 329.034 2859.24 324.312 Q2863.83 319.567 2871.93 319.567 Q2875.31 319.567 2878.34 320.4 Q2881.4 321.233 2883.97 322.854 L2883.97 327.831 Q2881.37 325.632 2878.46 324.52 Q2875.54 323.409 2872.32 323.409 Q2865.98 323.409 2862.79 326.951 Q2859.61 330.493 2859.61 337.506 Q2859.61 344.497 2862.79 348.039 Q2865.98 351.58 2872.32 351.58 Q2874.8 351.58 2876.74 351.164 Q2878.69 350.724 2880.24 349.821 Z\" fill=\"#000000\" fill-rule=\"evenodd\" fill-opacity=\"1\" /><path clip-path=\"url(#clip650)\" d=\"M2898.09 324.034 L2898.09 337.02 L2903.97 337.02 Q2907.23 337.02 2909.01 335.331 Q2910.8 333.641 2910.8 330.516 Q2910.8 327.414 2909.01 325.724 Q2907.23 324.034 2903.97 324.034 L2898.09 324.034 M2893.41 320.192 L2903.97 320.192 Q2909.78 320.192 2912.74 322.831 Q2915.73 325.446 2915.73 330.516 Q2915.73 335.631 2912.74 338.247 Q2909.78 340.863 2903.97 340.863 L2898.09 340.863 L2898.09 354.752 L2893.41 354.752 L2893.41 320.192 Z\" fill=\"#000000\" fill-rule=\"evenodd\" fill-opacity=\"1\" /><path clip-path=\"url(#clip650)\" d=\"M2938.39 338.548 Q2939.89 339.057 2941.3 340.724 Q2942.74 342.391 2944.17 345.307 L2948.92 354.752 L2943.9 354.752 L2939.48 345.886 Q2937.76 342.414 2936.14 341.28 Q2934.55 340.145 2931.77 340.145 L2926.67 340.145 L2926.67 354.752 L2922 354.752 L2922 320.192 L2932.55 320.192 Q2938.48 320.192 2941.4 322.669 Q2944.31 325.145 2944.31 330.145 Q2944.31 333.409 2942.79 335.562 Q2941.28 337.715 2938.39 338.548 M2926.67 324.034 L2926.67 336.303 L2932.55 336.303 Q2935.93 336.303 2937.65 334.752 Q2939.38 333.178 2939.38 330.145 Q2939.38 327.113 2937.65 325.585 Q2935.93 324.034 2932.55 324.034 L2926.67 324.034 Z\" fill=\"#000000\" fill-rule=\"evenodd\" fill-opacity=\"1\" /><path clip-path=\"url(#clip650)\" d=\"M2954.94 320.192 L2961.23 320.192 L2976.56 349.104 L2976.56 320.192 L2981.1 320.192 L2981.1 354.752 L2974.8 354.752 L2959.48 325.84 L2959.48 354.752 L2954.94 354.752 L2954.94 320.192 Z\" fill=\"#000000\" fill-rule=\"evenodd\" fill-opacity=\"1\" /><path clip-path=\"url(#clip650)\" d=\"M3009.91 362.622 L3009.91 365.932 L2985.29 365.932 L2985.29 362.622 L3009.91 362.622 Z\" fill=\"#000000\" fill-rule=\"evenodd\" fill-opacity=\"1\" /><path clip-path=\"url(#clip650)\" d=\"M3034.1 333.803 Q3035.7 330.932 3037.92 329.567 Q3040.15 328.201 3043.16 328.201 Q3047.21 328.201 3049.41 331.048 Q3051.6 333.872 3051.6 339.104 L3051.6 354.752 L3047.32 354.752 L3047.32 339.243 Q3047.32 335.516 3046 333.71 Q3044.68 331.905 3041.97 331.905 Q3038.66 331.905 3036.74 334.104 Q3034.82 336.303 3034.82 340.099 L3034.82 354.752 L3030.54 354.752 L3030.54 339.243 Q3030.54 335.493 3029.22 333.71 Q3027.9 331.905 3025.15 331.905 Q3021.88 331.905 3019.96 334.127 Q3018.04 336.326 3018.04 340.099 L3018.04 354.752 L3013.76 354.752 L3013.76 328.826 L3018.04 328.826 L3018.04 332.854 Q3019.5 330.469 3021.54 329.335 Q3023.57 328.201 3026.37 328.201 Q3029.2 328.201 3031.16 329.636 Q3033.16 331.071 3034.1 333.803 Z\" fill=\"#000000\" fill-rule=\"evenodd\" fill-opacity=\"1\" /><path clip-path=\"url(#clip650)\" d=\"M3071.88 341.719 Q3066.72 341.719 3064.73 342.9 Q3062.74 344.08 3062.74 346.928 Q3062.74 349.196 3064.22 350.539 Q3065.72 351.858 3068.29 351.858 Q3071.84 351.858 3073.97 349.358 Q3076.12 346.835 3076.12 342.668 L3076.12 341.719 L3071.88 341.719 M3080.38 339.96 L3080.38 354.752 L3076.12 354.752 L3076.12 350.817 Q3074.66 353.178 3072.48 354.312 Q3070.31 355.423 3067.16 355.423 Q3063.18 355.423 3060.82 353.201 Q3058.48 350.955 3058.48 347.205 Q3058.48 342.83 3061.4 340.608 Q3064.34 338.386 3070.15 338.386 L3076.12 338.386 L3076.12 337.969 Q3076.12 335.03 3074.17 333.432 Q3072.25 331.812 3068.76 331.812 Q3066.54 331.812 3064.43 332.344 Q3062.32 332.877 3060.38 333.942 L3060.38 330.006 Q3062.72 329.104 3064.91 328.664 Q3067.11 328.201 3069.2 328.201 Q3074.82 328.201 3077.6 331.118 Q3080.38 334.034 3080.38 339.96 Z\" fill=\"#000000\" fill-rule=\"evenodd\" fill-opacity=\"1\" /><path clip-path=\"url(#clip650)\" d=\"M3104.17 332.807 Q3103.46 332.391 3102.6 332.206 Q3101.77 331.997 3100.75 331.997 Q3097.14 331.997 3095.19 334.358 Q3093.27 336.696 3093.27 341.094 L3093.27 354.752 L3088.99 354.752 L3088.99 328.826 L3093.27 328.826 L3093.27 332.854 Q3094.61 330.493 3096.77 329.358 Q3098.92 328.201 3102 328.201 Q3102.44 328.201 3102.97 328.27 Q3103.5 328.317 3104.15 328.432 L3104.17 332.807 Z\" fill=\"#000000\" fill-rule=\"evenodd\" fill-opacity=\"1\" /><path clip-path=\"url(#clip650)\" d=\"M3108.48 318.733 L3112.76 318.733 L3112.76 340.006 L3125.47 328.826 L3130.91 328.826 L3117.16 340.955 L3131.49 354.752 L3125.93 354.752 L3112.76 342.09 L3112.76 354.752 L3108.48 354.752 L3108.48 318.733 Z\" fill=\"#000000\" fill-rule=\"evenodd\" fill-opacity=\"1\" /><path clip-path=\"url(#clip650)\" d=\"M3144.45 331.812 Q3141.03 331.812 3139.03 334.497 Q3137.04 337.159 3137.04 341.812 Q3137.04 346.465 3139.01 349.15 Q3141 351.812 3144.45 351.812 Q3147.85 351.812 3149.84 349.127 Q3151.84 346.442 3151.84 341.812 Q3151.84 337.206 3149.84 334.52 Q3147.85 331.812 3144.45 331.812 M3144.45 328.201 Q3150.01 328.201 3153.18 331.812 Q3156.35 335.423 3156.35 341.812 Q3156.35 348.178 3153.18 351.812 Q3150.01 355.423 3144.45 355.423 Q3138.87 355.423 3135.7 351.812 Q3132.55 348.178 3132.55 341.812 Q3132.55 335.423 3135.7 331.812 Q3138.87 328.201 3144.45 328.201 Z\" fill=\"#000000\" fill-rule=\"evenodd\" fill-opacity=\"1\" /><path clip-path=\"url(#clip650)\" d=\"M3160.93 328.826 L3165.19 328.826 L3170.52 349.057 L3175.82 328.826 L3180.84 328.826 L3186.16 349.057 L3191.46 328.826 L3195.72 328.826 L3188.94 354.752 L3183.92 354.752 L3178.34 333.502 L3172.74 354.752 L3167.72 354.752 L3160.93 328.826 Z\" fill=\"#000000\" fill-rule=\"evenodd\" fill-opacity=\"1\" /><path clip-path=\"url(#clip650)\" d=\"M3202.18 328.826 L3206.44 328.826 L3206.44 354.752 L3202.18 354.752 L3202.18 328.826 M3202.18 318.733 L3206.44 318.733 L3206.44 324.127 L3202.18 324.127 L3202.18 318.733 Z\" fill=\"#000000\" fill-rule=\"evenodd\" fill-opacity=\"1\" /><path clip-path=\"url(#clip650)\" d=\"M3219.57 321.465 L3219.57 328.826 L3228.34 328.826 L3228.34 332.136 L3219.57 332.136 L3219.57 346.21 Q3219.57 349.381 3220.42 350.284 Q3221.3 351.187 3223.96 351.187 L3228.34 351.187 L3228.34 354.752 L3223.96 354.752 Q3219.03 354.752 3217.16 352.923 Q3215.28 351.071 3215.28 346.21 L3215.28 332.136 L3212.16 332.136 L3212.16 328.826 L3215.28 328.826 L3215.28 321.465 L3219.57 321.465 Z\" fill=\"#000000\" fill-rule=\"evenodd\" fill-opacity=\"1\" /><path clip-path=\"url(#clip650)\" d=\"M3232.09 328.826 L3252.32 328.826 L3252.32 332.715 L3236.3 351.349 L3252.32 351.349 L3252.32 354.752 L3231.51 354.752 L3231.51 350.863 L3247.53 332.229 L3232.09 332.229 L3232.09 328.826 Z\" fill=\"#000000\" fill-rule=\"evenodd\" fill-opacity=\"1\" /><path clip-path=\"url(#clip650)\" d=\"M3278.52 362.622 L3278.52 365.932 L3253.9 365.932 L3253.9 362.622 L3278.52 362.622 Z\" fill=\"#000000\" fill-rule=\"evenodd\" fill-opacity=\"1\" /><path clip-path=\"url(#clip650)\" d=\"M3282.53 318.733 L3286.79 318.733 L3286.79 354.752 L3282.53 354.752 L3282.53 318.733 Z\" fill=\"#000000\" fill-rule=\"evenodd\" fill-opacity=\"1\" /><path clip-path=\"url(#clip650)\" d=\"M3295.7 328.826 L3299.96 328.826 L3299.96 354.752 L3295.7 354.752 L3295.7 328.826 M3295.7 318.733 L3299.96 318.733 L3299.96 324.127 L3295.7 324.127 L3295.7 318.733 Z\" fill=\"#000000\" fill-rule=\"evenodd\" fill-opacity=\"1\" /><path clip-path=\"url(#clip650)\" d=\"M3329.06 333.803 Q3330.65 330.932 3332.88 329.567 Q3335.1 328.201 3338.11 328.201 Q3342.16 328.201 3344.36 331.048 Q3346.56 333.872 3346.56 339.104 L3346.56 354.752 L3342.27 354.752 L3342.27 339.243 Q3342.27 335.516 3340.95 333.71 Q3339.64 331.905 3336.93 331.905 Q3333.62 331.905 3331.7 334.104 Q3329.77 336.303 3329.77 340.099 L3329.77 354.752 L3325.49 354.752 L3325.49 339.243 Q3325.49 335.493 3324.17 333.71 Q3322.85 331.905 3320.1 331.905 Q3316.83 331.905 3314.91 334.127 Q3312.99 336.326 3312.99 340.099 L3312.99 354.752 L3308.71 354.752 L3308.71 328.826 L3312.99 328.826 L3312.99 332.854 Q3314.45 330.469 3316.49 329.335 Q3318.52 328.201 3321.33 328.201 Q3324.15 328.201 3326.12 329.636 Q3328.11 331.071 3329.06 333.803 Z\" fill=\"#000000\" fill-rule=\"evenodd\" fill-opacity=\"1\" /><path clip-path=\"url(#clip650)\" d=\"M3355.05 328.826 L3359.31 328.826 L3359.31 354.752 L3355.05 354.752 L3355.05 328.826 M3355.05 318.733 L3359.31 318.733 L3359.31 324.127 L3355.05 324.127 L3355.05 318.733 Z\" fill=\"#000000\" fill-rule=\"evenodd\" fill-opacity=\"1\" /><path clip-path=\"url(#clip650)\" d=\"M3372.44 321.465 L3372.44 328.826 L3381.21 328.826 L3381.21 332.136 L3372.44 332.136 L3372.44 346.21 Q3372.44 349.381 3373.29 350.284 Q3374.17 351.187 3376.83 351.187 L3381.21 351.187 L3381.21 354.752 L3376.83 354.752 Q3371.9 354.752 3370.03 352.923 Q3368.15 351.071 3368.15 346.21 L3368.15 332.136 L3365.03 332.136 L3365.03 328.826 L3368.15 328.826 L3368.15 321.465 L3372.44 321.465 Z\" fill=\"#000000\" fill-rule=\"evenodd\" fill-opacity=\"1\" /><path clip-path=\"url(#clip650)\" d=\"M3406.51 362.622 L3406.51 365.932 L3381.88 365.932 L3381.88 362.622 L3406.51 362.622 Z\" fill=\"#000000\" fill-rule=\"evenodd\" fill-opacity=\"1\" /><path clip-path=\"url(#clip650)\" d=\"M3407.46 328.826 L3411.97 328.826 L3420.07 350.585 L3428.18 328.826 L3432.69 328.826 L3422.97 354.752 L3417.18 354.752 L3407.46 328.826 Z\" fill=\"#000000\" fill-rule=\"evenodd\" fill-opacity=\"1\" /><path clip-path=\"url(#clip650)\" d=\"M3450.35 341.719 Q3445.19 341.719 3443.2 342.9 Q3441.21 344.08 3441.21 346.928 Q3441.21 349.196 3442.69 350.539 Q3444.2 351.858 3446.76 351.858 Q3450.31 351.858 3452.44 349.358 Q3454.59 346.835 3454.59 342.668 L3454.59 341.719 L3450.35 341.719 M3458.85 339.96 L3458.85 354.752 L3454.59 354.752 L3454.59 350.817 Q3453.13 353.178 3450.95 354.312 Q3448.78 355.423 3445.63 355.423 Q3441.65 355.423 3439.29 353.201 Q3436.95 350.955 3436.95 347.205 Q3436.95 342.83 3439.87 340.608 Q3442.81 338.386 3448.62 338.386 L3454.59 338.386 L3454.59 337.969 Q3454.59 335.03 3452.64 333.432 Q3450.72 331.812 3447.23 331.812 Q3445.01 331.812 3442.9 332.344 Q3440.79 332.877 3438.85 333.942 L3438.85 330.006 Q3441.19 329.104 3443.38 328.664 Q3445.58 328.201 3447.67 328.201 Q3453.29 328.201 3456.07 331.118 Q3458.85 334.034 3458.85 339.96 Z\" fill=\"#000000\" fill-rule=\"evenodd\" fill-opacity=\"1\" /><path clip-path=\"url(#clip650)\" d=\"M3482.64 332.807 Q3481.93 332.391 3481.07 332.206 Q3480.24 331.997 3479.22 331.997 Q3475.61 331.997 3473.66 334.358 Q3471.74 336.696 3471.74 341.094 L3471.74 354.752 L3467.46 354.752 L3467.46 328.826 L3471.74 328.826 L3471.74 332.854 Q3473.08 330.493 3475.24 329.358 Q3477.39 328.201 3480.47 328.201 Q3480.91 328.201 3481.44 328.27 Q3481.97 328.317 3482.62 328.432 L3482.64 332.807 Z\" fill=\"#000000\" fill-rule=\"evenodd\" fill-opacity=\"1\" /><polyline clip-path=\"url(#clip650)\" style=\"stroke:#c271d2; stroke-linecap:butt; stroke-linejoin:round; stroke-width:4; stroke-opacity:1; fill:none\" points=\"\n  2609.29,389.312 2819.63,389.312 \n  \"/>\n<path clip-path=\"url(#clip650)\" d=\"M2854.68 372.032 L2876.54 372.032 L2876.54 375.967 L2859.36 375.967 L2859.36 386.198 L2875.82 386.198 L2875.82 390.133 L2859.36 390.133 L2859.36 402.657 L2876.95 402.657 L2876.95 406.592 L2854.68 406.592 L2854.68 372.032 Z\" fill=\"#000000\" fill-rule=\"evenodd\" fill-opacity=\"1\" /><path clip-path=\"url(#clip650)\" d=\"M2889.31 375.874 L2889.31 388.86 L2895.19 388.86 Q2898.46 388.86 2900.24 387.171 Q2902.02 385.481 2902.02 382.356 Q2902.02 379.254 2900.24 377.564 Q2898.46 375.874 2895.19 375.874 L2889.31 375.874 M2884.64 372.032 L2895.19 372.032 Q2901 372.032 2903.97 374.671 Q2906.95 377.286 2906.95 382.356 Q2906.95 387.471 2903.97 390.087 Q2901 392.703 2895.19 392.703 L2889.31 392.703 L2889.31 406.592 L2884.64 406.592 L2884.64 372.032 Z\" fill=\"#000000\" fill-rule=\"evenodd\" fill-opacity=\"1\" /><path clip-path=\"url(#clip650)\" d=\"M2932.74 414.462 L2932.74 417.772 L2908.11 417.772 L2908.11 414.462 L2932.74 414.462 Z\" fill=\"#000000\" fill-rule=\"evenodd\" fill-opacity=\"1\" /><path clip-path=\"url(#clip650)\" d=\"M2956.93 385.643 Q2958.53 382.772 2960.75 381.407 Q2962.97 380.041 2965.98 380.041 Q2970.03 380.041 2972.23 382.888 Q2974.43 385.712 2974.43 390.944 L2974.43 406.592 L2970.15 406.592 L2970.15 391.083 Q2970.15 387.356 2968.83 385.55 Q2967.51 383.745 2964.8 383.745 Q2961.49 383.745 2959.57 385.944 Q2957.65 388.143 2957.65 391.939 L2957.65 406.592 L2953.36 406.592 L2953.36 391.083 Q2953.36 387.333 2952.04 385.55 Q2950.73 383.745 2947.97 383.745 Q2944.71 383.745 2942.79 385.967 Q2940.86 388.166 2940.86 391.939 L2940.86 406.592 L2936.58 406.592 L2936.58 380.666 L2940.86 380.666 L2940.86 384.694 Q2942.32 382.309 2944.36 381.175 Q2946.4 380.041 2949.2 380.041 Q2952.02 380.041 2953.99 381.476 Q2955.98 382.911 2956.93 385.643 Z\" fill=\"#000000\" fill-rule=\"evenodd\" fill-opacity=\"1\" /><path clip-path=\"url(#clip650)\" d=\"M2994.71 393.559 Q2989.54 393.559 2987.55 394.74 Q2985.56 395.92 2985.56 398.768 Q2985.56 401.036 2987.04 402.379 Q2988.55 403.698 2991.12 403.698 Q2994.66 403.698 2996.79 401.198 Q2998.94 398.675 2998.94 394.508 L2998.94 393.559 L2994.71 393.559 M3003.2 391.8 L3003.2 406.592 L2998.94 406.592 L2998.94 402.657 Q2997.48 405.018 2995.31 406.152 Q2993.13 407.263 2989.98 407.263 Q2986 407.263 2983.64 405.041 Q2981.3 402.795 2981.3 399.045 Q2981.3 394.67 2984.22 392.448 Q2987.16 390.226 2992.97 390.226 L2998.94 390.226 L2998.94 389.809 Q2998.94 386.87 2997 385.272 Q2995.08 383.652 2991.58 383.652 Q2989.36 383.652 2987.25 384.184 Q2985.15 384.717 2983.2 385.782 L2983.2 381.846 Q2985.54 380.944 2987.74 380.504 Q2989.94 380.041 2992.02 380.041 Q2997.65 380.041 3000.42 382.958 Q3003.2 385.874 3003.2 391.8 Z\" fill=\"#000000\" fill-rule=\"evenodd\" fill-opacity=\"1\" /><path clip-path=\"url(#clip650)\" d=\"M3027 384.647 Q3026.28 384.231 3025.42 384.046 Q3024.59 383.837 3023.57 383.837 Q3019.96 383.837 3018.02 386.198 Q3016.1 388.536 3016.1 392.934 L3016.1 406.592 L3011.81 406.592 L3011.81 380.666 L3016.1 380.666 L3016.1 384.694 Q3017.44 382.333 3019.59 381.198 Q3021.74 380.041 3024.82 380.041 Q3025.26 380.041 3025.79 380.11 Q3026.33 380.157 3026.98 380.272 L3027 384.647 Z\" fill=\"#000000\" fill-rule=\"evenodd\" fill-opacity=\"1\" /><path clip-path=\"url(#clip650)\" d=\"M3031.3 370.573 L3035.59 370.573 L3035.59 391.846 L3048.29 380.666 L3053.73 380.666 L3039.98 392.795 L3054.31 406.592 L3048.76 406.592 L3035.59 393.93 L3035.59 406.592 L3031.3 406.592 L3031.3 370.573 Z\" fill=\"#000000\" fill-rule=\"evenodd\" fill-opacity=\"1\" /><path clip-path=\"url(#clip650)\" d=\"M3067.28 383.652 Q3063.85 383.652 3061.86 386.337 Q3059.87 388.999 3059.87 393.652 Q3059.87 398.305 3061.84 400.99 Q3063.83 403.652 3067.28 403.652 Q3070.68 403.652 3072.67 400.967 Q3074.66 398.282 3074.66 393.652 Q3074.66 389.046 3072.67 386.36 Q3070.68 383.652 3067.28 383.652 M3067.28 380.041 Q3072.83 380.041 3076 383.652 Q3079.17 387.263 3079.17 393.652 Q3079.17 400.018 3076 403.652 Q3072.83 407.263 3067.28 407.263 Q3061.7 407.263 3058.53 403.652 Q3055.38 400.018 3055.38 393.652 Q3055.38 387.263 3058.53 383.652 Q3061.7 380.041 3067.28 380.041 Z\" fill=\"#000000\" fill-rule=\"evenodd\" fill-opacity=\"1\" /><path clip-path=\"url(#clip650)\" d=\"M3083.76 380.666 L3088.02 380.666 L3093.34 400.897 L3098.64 380.666 L3103.66 380.666 L3108.99 400.897 L3114.29 380.666 L3118.55 380.666 L3111.77 406.592 L3106.74 406.592 L3101.16 385.342 L3095.56 406.592 L3090.54 406.592 L3083.76 380.666 Z\" fill=\"#000000\" fill-rule=\"evenodd\" fill-opacity=\"1\" /><path clip-path=\"url(#clip650)\" d=\"M3125.01 380.666 L3129.27 380.666 L3129.27 406.592 L3125.01 406.592 L3125.01 380.666 M3125.01 370.573 L3129.27 370.573 L3129.27 375.967 L3125.01 375.967 L3125.01 370.573 Z\" fill=\"#000000\" fill-rule=\"evenodd\" fill-opacity=\"1\" /><path clip-path=\"url(#clip650)\" d=\"M3142.39 373.305 L3142.39 380.666 L3151.16 380.666 L3151.16 383.976 L3142.39 383.976 L3142.39 398.05 Q3142.39 401.221 3143.25 402.124 Q3144.13 403.027 3146.79 403.027 L3151.16 403.027 L3151.16 406.592 L3146.79 406.592 Q3141.86 406.592 3139.98 404.763 Q3138.11 402.911 3138.11 398.05 L3138.11 383.976 L3134.98 383.976 L3134.98 380.666 L3138.11 380.666 L3138.11 373.305 L3142.39 373.305 Z\" fill=\"#000000\" fill-rule=\"evenodd\" fill-opacity=\"1\" /><path clip-path=\"url(#clip650)\" d=\"M3154.91 380.666 L3175.15 380.666 L3175.15 384.555 L3159.13 403.189 L3175.15 403.189 L3175.15 406.592 L3154.34 406.592 L3154.34 402.703 L3170.35 384.069 L3154.91 384.069 L3154.91 380.666 Z\" fill=\"#000000\" fill-rule=\"evenodd\" fill-opacity=\"1\" /><path clip-path=\"url(#clip650)\" d=\"M3201.35 414.462 L3201.35 417.772 L3176.72 417.772 L3176.72 414.462 L3201.35 414.462 Z\" fill=\"#000000\" fill-rule=\"evenodd\" fill-opacity=\"1\" /><path clip-path=\"url(#clip650)\" d=\"M3205.35 370.573 L3209.61 370.573 L3209.61 406.592 L3205.35 406.592 L3205.35 370.573 Z\" fill=\"#000000\" fill-rule=\"evenodd\" fill-opacity=\"1\" /><path clip-path=\"url(#clip650)\" d=\"M3218.52 380.666 L3222.78 380.666 L3222.78 406.592 L3218.52 406.592 L3218.52 380.666 M3218.52 370.573 L3222.78 370.573 L3222.78 375.967 L3218.52 375.967 L3218.52 370.573 Z\" fill=\"#000000\" fill-rule=\"evenodd\" fill-opacity=\"1\" /><path clip-path=\"url(#clip650)\" d=\"M3251.88 385.643 Q3253.48 382.772 3255.7 381.407 Q3257.92 380.041 3260.93 380.041 Q3264.98 380.041 3267.18 382.888 Q3269.38 385.712 3269.38 390.944 L3269.38 406.592 L3265.1 406.592 L3265.1 391.083 Q3265.1 387.356 3263.78 385.55 Q3262.46 383.745 3259.75 383.745 Q3256.44 383.745 3254.52 385.944 Q3252.6 388.143 3252.6 391.939 L3252.6 406.592 L3248.32 406.592 L3248.32 391.083 Q3248.32 387.333 3247 385.55 Q3245.68 383.745 3242.92 383.745 Q3239.66 383.745 3237.74 385.967 Q3235.82 388.166 3235.82 391.939 L3235.82 406.592 L3231.53 406.592 L3231.53 380.666 L3235.82 380.666 L3235.82 384.694 Q3237.27 382.309 3239.31 381.175 Q3241.35 380.041 3244.15 380.041 Q3246.97 380.041 3248.94 381.476 Q3250.93 382.911 3251.88 385.643 Z\" fill=\"#000000\" fill-rule=\"evenodd\" fill-opacity=\"1\" /><path clip-path=\"url(#clip650)\" d=\"M3277.88 380.666 L3282.14 380.666 L3282.14 406.592 L3277.88 406.592 L3277.88 380.666 M3277.88 370.573 L3282.14 370.573 L3282.14 375.967 L3277.88 375.967 L3277.88 370.573 Z\" fill=\"#000000\" fill-rule=\"evenodd\" fill-opacity=\"1\" /><path clip-path=\"url(#clip650)\" d=\"M3295.26 373.305 L3295.26 380.666 L3304.03 380.666 L3304.03 383.976 L3295.26 383.976 L3295.26 398.05 Q3295.26 401.221 3296.12 402.124 Q3297 403.027 3299.66 403.027 L3304.03 403.027 L3304.03 406.592 L3299.66 406.592 Q3294.73 406.592 3292.85 404.763 Q3290.98 402.911 3290.98 398.05 L3290.98 383.976 L3287.85 383.976 L3287.85 380.666 L3290.98 380.666 L3290.98 373.305 L3295.26 373.305 Z\" fill=\"#000000\" fill-rule=\"evenodd\" fill-opacity=\"1\" /><path clip-path=\"url(#clip650)\" d=\"M3329.33 414.462 L3329.33 417.772 L3304.71 417.772 L3304.71 414.462 L3329.33 414.462 Z\" fill=\"#000000\" fill-rule=\"evenodd\" fill-opacity=\"1\" /><path clip-path=\"url(#clip650)\" d=\"M3330.28 380.666 L3334.8 380.666 L3342.9 402.425 L3351 380.666 L3355.51 380.666 L3345.79 406.592 L3340.01 406.592 L3330.28 380.666 Z\" fill=\"#000000\" fill-rule=\"evenodd\" fill-opacity=\"1\" /><path clip-path=\"url(#clip650)\" d=\"M3373.18 393.559 Q3368.01 393.559 3366.02 394.74 Q3364.03 395.92 3364.03 398.768 Q3364.03 401.036 3365.51 402.379 Q3367.02 403.698 3369.59 403.698 Q3373.13 403.698 3375.26 401.198 Q3377.41 398.675 3377.41 394.508 L3377.41 393.559 L3373.18 393.559 M3381.67 391.8 L3381.67 406.592 L3377.41 406.592 L3377.41 402.657 Q3375.95 405.018 3373.78 406.152 Q3371.6 407.263 3368.45 407.263 Q3364.47 407.263 3362.11 405.041 Q3359.77 402.795 3359.77 399.045 Q3359.77 394.67 3362.69 392.448 Q3365.63 390.226 3371.44 390.226 L3377.41 390.226 L3377.41 389.809 Q3377.41 386.87 3375.47 385.272 Q3373.55 383.652 3370.05 383.652 Q3367.83 383.652 3365.72 384.184 Q3363.62 384.717 3361.67 385.782 L3361.67 381.846 Q3364.01 380.944 3366.21 380.504 Q3368.41 380.041 3370.49 380.041 Q3376.12 380.041 3378.89 382.958 Q3381.67 385.874 3381.67 391.8 Z\" fill=\"#000000\" fill-rule=\"evenodd\" fill-opacity=\"1\" /><path clip-path=\"url(#clip650)\" d=\"M3405.47 384.647 Q3404.75 384.231 3403.89 384.046 Q3403.06 383.837 3402.04 383.837 Q3398.43 383.837 3396.49 386.198 Q3394.57 388.536 3394.57 392.934 L3394.57 406.592 L3390.28 406.592 L3390.28 380.666 L3394.57 380.666 L3394.57 384.694 Q3395.91 382.333 3398.06 381.198 Q3400.21 380.041 3403.29 380.041 Q3403.73 380.041 3404.26 380.11 Q3404.8 380.157 3405.45 380.272 L3405.47 384.647 Z\" fill=\"#000000\" fill-rule=\"evenodd\" fill-opacity=\"1\" /></svg>\n",
      "text/html": [
       "<?xml version=\"1.0\" encoding=\"utf-8\"?>\n",
       "<svg xmlns=\"http://www.w3.org/2000/svg\" xmlns:xlink=\"http://www.w3.org/1999/xlink\" width=\"900\" height=\"550\" viewBox=\"0 0 3600 2200\">\n",
       "<defs>\n",
       "  <clipPath id=\"clip700\">\n",
       "    <rect x=\"0\" y=\"0\" width=\"3600\" height=\"2200\"/>\n",
       "  </clipPath>\n",
       "</defs>\n",
       "<path clip-path=\"url(#clip700)\" d=\"\n",
       "M0 2200 L3600 2200 L3600 0 L0 0  Z\n",
       "  \" fill=\"#ffffff\" fill-rule=\"evenodd\" fill-opacity=\"1\"/>\n",
       "<defs>\n",
       "  <clipPath id=\"clip701\">\n",
       "    <rect x=\"720\" y=\"0\" width=\"2521\" height=\"2200\"/>\n",
       "  </clipPath>\n",
       "</defs>\n",
       "<path clip-path=\"url(#clip700)\" d=\"\n",
       "M397.717 2024.02 L2469.07 2024.02 L2469.07 118.432 L397.717 118.432  Z\n",
       "  \" fill=\"#ffffff\" fill-rule=\"evenodd\" fill-opacity=\"1\"/>\n",
       "<defs>\n",
       "  <clipPath id=\"clip702\">\n",
       "    <rect x=\"397\" y=\"118\" width=\"2072\" height=\"1907\"/>\n",
       "  </clipPath>\n",
       "</defs>\n",
       "<polyline clip-path=\"url(#clip702)\" style=\"stroke:#000000; stroke-linecap:butt; stroke-linejoin:round; stroke-width:2; stroke-opacity:0.1; fill:none\" points=\"\n",
       "  494.162,2024.02 494.162,118.432 \n",
       "  \"/>\n",
       "<polyline clip-path=\"url(#clip702)\" style=\"stroke:#000000; stroke-linecap:butt; stroke-linejoin:round; stroke-width:2; stroke-opacity:0.1; fill:none\" points=\"\n",
       "  1055.18,2024.02 1055.18,118.432 \n",
       "  \"/>\n",
       "<polyline clip-path=\"url(#clip702)\" style=\"stroke:#000000; stroke-linecap:butt; stroke-linejoin:round; stroke-width:2; stroke-opacity:0.1; fill:none\" points=\"\n",
       "  1635.11,2024.02 1635.11,118.432 \n",
       "  \"/>\n",
       "<polyline clip-path=\"url(#clip702)\" style=\"stroke:#000000; stroke-linecap:butt; stroke-linejoin:round; stroke-width:2; stroke-opacity:0.1; fill:none\" points=\"\n",
       "  2215.03,2024.02 2215.03,118.432 \n",
       "  \"/>\n",
       "<polyline clip-path=\"url(#clip700)\" style=\"stroke:#000000; stroke-linecap:butt; stroke-linejoin:round; stroke-width:4; stroke-opacity:1; fill:none\" points=\"\n",
       "  397.717,2024.02 2469.07,2024.02 \n",
       "  \"/>\n",
       "<polyline clip-path=\"url(#clip700)\" style=\"stroke:#000000; stroke-linecap:butt; stroke-linejoin:round; stroke-width:4; stroke-opacity:1; fill:none\" points=\"\n",
       "  494.162,2024.02 494.162,2005.12 \n",
       "  \"/>\n",
       "<polyline clip-path=\"url(#clip700)\" style=\"stroke:#000000; stroke-linecap:butt; stroke-linejoin:round; stroke-width:4; stroke-opacity:1; fill:none\" points=\"\n",
       "  1055.18,2024.02 1055.18,2005.12 \n",
       "  \"/>\n",
       "<polyline clip-path=\"url(#clip700)\" style=\"stroke:#000000; stroke-linecap:butt; stroke-linejoin:round; stroke-width:4; stroke-opacity:1; fill:none\" points=\"\n",
       "  1635.11,2024.02 1635.11,2005.12 \n",
       "  \"/>\n",
       "<polyline clip-path=\"url(#clip700)\" style=\"stroke:#000000; stroke-linecap:butt; stroke-linejoin:round; stroke-width:4; stroke-opacity:1; fill:none\" points=\"\n",
       "  2215.03,2024.02 2215.03,2005.12 \n",
       "  \"/>\n",
       "<path clip-path=\"url(#clip700)\" d=\"M365.956 2092.08 L382.276 2092.08 L382.276 2096.02 L360.331 2096.02 L360.331 2092.08 Q362.993 2089.33 367.577 2084.7 Q372.183 2080.05 373.364 2078.71 Q375.609 2076.18 376.489 2074.45 Q377.391 2072.69 377.391 2071 Q377.391 2068.24 375.447 2066.51 Q373.526 2064.77 370.424 2064.77 Q368.225 2064.77 365.771 2065.53 Q363.341 2066.3 360.563 2067.85 L360.563 2063.13 Q363.387 2061.99 365.841 2061.41 Q368.294 2060.83 370.331 2060.83 Q375.702 2060.83 378.896 2063.52 Q382.09 2066.21 382.09 2070.7 Q382.09 2072.83 381.28 2074.75 Q380.493 2076.64 378.387 2079.24 Q377.808 2079.91 374.706 2083.13 Q371.604 2086.32 365.956 2092.08 Z\" fill=\"#000000\" fill-rule=\"evenodd\" fill-opacity=\"1\" /><path clip-path=\"url(#clip700)\" d=\"M402.09 2064.54 Q398.479 2064.54 396.651 2068.1 Q394.845 2071.64 394.845 2078.77 Q394.845 2085.88 396.651 2089.45 Q398.479 2092.99 402.09 2092.99 Q405.725 2092.99 407.53 2089.45 Q409.359 2085.88 409.359 2078.77 Q409.359 2071.64 407.53 2068.1 Q405.725 2064.54 402.09 2064.54 M402.09 2060.83 Q407.901 2060.83 410.956 2065.44 Q414.035 2070.02 414.035 2078.77 Q414.035 2087.5 410.956 2092.11 Q407.901 2096.69 402.09 2096.69 Q396.28 2096.69 393.202 2092.11 Q390.146 2087.5 390.146 2078.77 Q390.146 2070.02 393.202 2065.44 Q396.28 2060.83 402.09 2060.83 Z\" fill=\"#000000\" fill-rule=\"evenodd\" fill-opacity=\"1\" /><path clip-path=\"url(#clip700)\" d=\"M423.062 2092.08 L430.701 2092.08 L430.701 2065.72 L422.391 2067.39 L422.391 2063.13 L430.655 2061.46 L435.331 2061.46 L435.331 2092.08 L442.97 2092.08 L442.97 2096.02 L423.062 2096.02 L423.062 2092.08 Z\" fill=\"#000000\" fill-rule=\"evenodd\" fill-opacity=\"1\" /><path clip-path=\"url(#clip700)\" d=\"M462.414 2064.54 Q458.803 2064.54 456.974 2068.1 Q455.169 2071.64 455.169 2078.77 Q455.169 2085.88 456.974 2089.45 Q458.803 2092.99 462.414 2092.99 Q466.048 2092.99 467.854 2089.45 Q469.683 2085.88 469.683 2078.77 Q469.683 2071.64 467.854 2068.1 Q466.048 2064.54 462.414 2064.54 M462.414 2060.83 Q468.224 2060.83 471.28 2065.44 Q474.359 2070.02 474.359 2078.77 Q474.359 2087.5 471.28 2092.11 Q468.224 2096.69 462.414 2096.69 Q456.604 2096.69 453.525 2092.11 Q450.47 2087.5 450.47 2078.77 Q450.47 2070.02 453.525 2065.44 Q456.604 2060.83 462.414 2060.83 Z\" fill=\"#000000\" fill-rule=\"evenodd\" fill-opacity=\"1\" /><path clip-path=\"url(#clip700)\" d=\"M479.821 2081.14 L492.298 2081.14 L492.298 2084.93 L479.821 2084.93 L479.821 2081.14 Z\" fill=\"#000000\" fill-rule=\"evenodd\" fill-opacity=\"1\" /><path clip-path=\"url(#clip700)\" d=\"M509.682 2064.54 Q506.071 2064.54 504.243 2068.1 Q502.437 2071.64 502.437 2078.77 Q502.437 2085.88 504.243 2089.45 Q506.071 2092.99 509.682 2092.99 Q513.317 2092.99 515.122 2089.45 Q516.951 2085.88 516.951 2078.77 Q516.951 2071.64 515.122 2068.1 Q513.317 2064.54 509.682 2064.54 M509.682 2060.83 Q515.493 2060.83 518.548 2065.44 Q521.627 2070.02 521.627 2078.77 Q521.627 2087.5 518.548 2092.11 Q515.493 2096.69 509.682 2096.69 Q503.872 2096.69 500.794 2092.11 Q497.738 2087.5 497.738 2078.77 Q497.738 2070.02 500.794 2065.44 Q503.872 2060.83 509.682 2060.83 Z\" fill=\"#000000\" fill-rule=\"evenodd\" fill-opacity=\"1\" /><path clip-path=\"url(#clip700)\" d=\"M533.872 2092.08 L550.191 2092.08 L550.191 2096.02 L528.247 2096.02 L528.247 2092.08 Q530.909 2089.33 535.492 2084.7 Q540.099 2080.05 541.279 2078.71 Q543.525 2076.18 544.404 2074.45 Q545.307 2072.69 545.307 2071 Q545.307 2068.24 543.363 2066.51 Q541.441 2064.77 538.34 2064.77 Q536.141 2064.77 533.687 2065.53 Q531.256 2066.3 528.479 2067.85 L528.479 2063.13 Q531.303 2061.99 533.756 2061.41 Q536.21 2060.83 538.247 2060.83 Q543.617 2060.83 546.812 2063.52 Q550.006 2066.21 550.006 2070.7 Q550.006 2072.83 549.196 2074.75 Q548.409 2076.64 546.303 2079.24 Q545.724 2079.91 542.622 2083.13 Q539.52 2086.32 533.872 2092.08 Z\" fill=\"#000000\" fill-rule=\"evenodd\" fill-opacity=\"1\" /><path clip-path=\"url(#clip700)\" d=\"M557.252 2081.14 L569.728 2081.14 L569.728 2084.93 L557.252 2084.93 L557.252 2081.14 Z\" fill=\"#000000\" fill-rule=\"evenodd\" fill-opacity=\"1\" /><path clip-path=\"url(#clip700)\" d=\"M587.113 2064.54 Q583.501 2064.54 581.673 2068.1 Q579.867 2071.64 579.867 2078.77 Q579.867 2085.88 581.673 2089.45 Q583.501 2092.99 587.113 2092.99 Q590.747 2092.99 592.552 2089.45 Q594.381 2085.88 594.381 2078.77 Q594.381 2071.64 592.552 2068.1 Q590.747 2064.54 587.113 2064.54 M587.113 2060.83 Q592.923 2060.83 595.978 2065.44 Q599.057 2070.02 599.057 2078.77 Q599.057 2087.5 595.978 2092.11 Q592.923 2096.69 587.113 2096.69 Q581.302 2096.69 578.224 2092.11 Q575.168 2087.5 575.168 2078.77 Q575.168 2070.02 578.224 2065.44 Q581.302 2060.83 587.113 2060.83 Z\" fill=\"#000000\" fill-rule=\"evenodd\" fill-opacity=\"1\" /><path clip-path=\"url(#clip700)\" d=\"M608.085 2092.08 L615.723 2092.08 L615.723 2065.72 L607.413 2067.39 L607.413 2063.13 L615.677 2061.46 L620.353 2061.46 L620.353 2092.08 L627.992 2092.08 L627.992 2096.02 L608.085 2096.02 L608.085 2092.08 Z\" fill=\"#000000\" fill-rule=\"evenodd\" fill-opacity=\"1\" /><path clip-path=\"url(#clip700)\" d=\"M926.974 2092.08 L943.293 2092.08 L943.293 2096.02 L921.349 2096.02 L921.349 2092.08 Q924.011 2089.33 928.594 2084.7 Q933.2 2080.05 934.381 2078.71 Q936.626 2076.18 937.506 2074.45 Q938.409 2072.69 938.409 2071 Q938.409 2068.24 936.464 2066.51 Q934.543 2064.77 931.441 2064.77 Q929.242 2064.77 926.788 2065.53 Q924.358 2066.3 921.58 2067.85 L921.58 2063.13 Q924.404 2061.99 926.858 2061.41 Q929.312 2060.83 931.349 2060.83 Q936.719 2060.83 939.913 2063.52 Q943.108 2066.21 943.108 2070.7 Q943.108 2072.83 942.298 2074.75 Q941.511 2076.64 939.404 2079.24 Q938.825 2079.91 935.724 2083.13 Q932.622 2086.32 926.974 2092.08 Z\" fill=\"#000000\" fill-rule=\"evenodd\" fill-opacity=\"1\" /><path clip-path=\"url(#clip700)\" d=\"M963.108 2064.54 Q959.497 2064.54 957.668 2068.1 Q955.862 2071.64 955.862 2078.77 Q955.862 2085.88 957.668 2089.45 Q959.497 2092.99 963.108 2092.99 Q966.742 2092.99 968.547 2089.45 Q970.376 2085.88 970.376 2078.77 Q970.376 2071.64 968.547 2068.1 Q966.742 2064.54 963.108 2064.54 M963.108 2060.83 Q968.918 2060.83 971.973 2065.44 Q975.052 2070.02 975.052 2078.77 Q975.052 2087.5 971.973 2092.11 Q968.918 2096.69 963.108 2096.69 Q957.297 2096.69 954.219 2092.11 Q951.163 2087.5 951.163 2078.77 Q951.163 2070.02 954.219 2065.44 Q957.297 2060.83 963.108 2060.83 Z\" fill=\"#000000\" fill-rule=\"evenodd\" fill-opacity=\"1\" /><path clip-path=\"url(#clip700)\" d=\"M984.08 2092.08 L991.719 2092.08 L991.719 2065.72 L983.408 2067.39 L983.408 2063.13 L991.672 2061.46 L996.348 2061.46 L996.348 2092.08 L1003.99 2092.08 L1003.99 2096.02 L984.08 2096.02 L984.08 2092.08 Z\" fill=\"#000000\" fill-rule=\"evenodd\" fill-opacity=\"1\" /><path clip-path=\"url(#clip700)\" d=\"M1023.43 2064.54 Q1019.82 2064.54 1017.99 2068.1 Q1016.19 2071.64 1016.19 2078.77 Q1016.19 2085.88 1017.99 2089.45 Q1019.82 2092.99 1023.43 2092.99 Q1027.07 2092.99 1028.87 2089.45 Q1030.7 2085.88 1030.7 2078.77 Q1030.7 2071.64 1028.87 2068.1 Q1027.07 2064.54 1023.43 2064.54 M1023.43 2060.83 Q1029.24 2060.83 1032.3 2065.44 Q1035.38 2070.02 1035.38 2078.77 Q1035.38 2087.5 1032.3 2092.11 Q1029.24 2096.69 1023.43 2096.69 Q1017.62 2096.69 1014.54 2092.11 Q1011.49 2087.5 1011.49 2078.77 Q1011.49 2070.02 1014.54 2065.44 Q1017.62 2060.83 1023.43 2060.83 Z\" fill=\"#000000\" fill-rule=\"evenodd\" fill-opacity=\"1\" /><path clip-path=\"url(#clip700)\" d=\"M1040.84 2081.14 L1053.32 2081.14 L1053.32 2084.93 L1040.84 2084.93 L1040.84 2081.14 Z\" fill=\"#000000\" fill-rule=\"evenodd\" fill-opacity=\"1\" /><path clip-path=\"url(#clip700)\" d=\"M1070.7 2064.54 Q1067.09 2064.54 1065.26 2068.1 Q1063.45 2071.64 1063.45 2078.77 Q1063.45 2085.88 1065.26 2089.45 Q1067.09 2092.99 1070.7 2092.99 Q1074.33 2092.99 1076.14 2089.45 Q1077.97 2085.88 1077.97 2078.77 Q1077.97 2071.64 1076.14 2068.1 Q1074.33 2064.54 1070.7 2064.54 M1070.7 2060.83 Q1076.51 2060.83 1079.57 2065.44 Q1082.64 2070.02 1082.64 2078.77 Q1082.64 2087.5 1079.57 2092.11 Q1076.51 2096.69 1070.7 2096.69 Q1064.89 2096.69 1061.81 2092.11 Q1058.76 2087.5 1058.76 2078.77 Q1058.76 2070.02 1061.81 2065.44 Q1064.89 2060.83 1070.7 2060.83 Z\" fill=\"#000000\" fill-rule=\"evenodd\" fill-opacity=\"1\" /><path clip-path=\"url(#clip700)\" d=\"M1090.91 2061.46 L1109.26 2061.46 L1109.26 2065.4 L1095.19 2065.4 L1095.19 2073.87 Q1096.21 2073.52 1097.23 2073.36 Q1098.25 2073.17 1099.26 2073.17 Q1105.05 2073.17 1108.43 2076.34 Q1111.81 2079.52 1111.81 2084.93 Q1111.81 2090.51 1108.34 2093.61 Q1104.87 2096.69 1098.55 2096.69 Q1096.37 2096.69 1094.1 2096.32 Q1091.86 2095.95 1089.45 2095.21 L1089.45 2090.51 Q1091.53 2091.64 1093.76 2092.2 Q1095.98 2092.76 1098.45 2092.76 Q1102.46 2092.76 1104.8 2090.65 Q1107.13 2088.54 1107.13 2084.93 Q1107.13 2081.32 1104.8 2079.21 Q1102.46 2077.11 1098.45 2077.11 Q1096.58 2077.11 1094.7 2077.52 Q1092.85 2077.94 1090.91 2078.82 L1090.91 2061.46 Z\" fill=\"#000000\" fill-rule=\"evenodd\" fill-opacity=\"1\" /><path clip-path=\"url(#clip700)\" d=\"M1118.27 2081.14 L1130.75 2081.14 L1130.75 2084.93 L1118.27 2084.93 L1118.27 2081.14 Z\" fill=\"#000000\" fill-rule=\"evenodd\" fill-opacity=\"1\" /><path clip-path=\"url(#clip700)\" d=\"M1148.13 2064.54 Q1144.52 2064.54 1142.69 2068.1 Q1140.88 2071.64 1140.88 2078.77 Q1140.88 2085.88 1142.69 2089.45 Q1144.52 2092.99 1148.13 2092.99 Q1151.76 2092.99 1153.57 2089.45 Q1155.4 2085.88 1155.4 2078.77 Q1155.4 2071.64 1153.57 2068.1 Q1151.76 2064.54 1148.13 2064.54 M1148.13 2060.83 Q1153.94 2060.83 1157 2065.44 Q1160.07 2070.02 1160.07 2078.77 Q1160.07 2087.5 1157 2092.11 Q1153.94 2096.69 1148.13 2096.69 Q1142.32 2096.69 1139.24 2092.11 Q1136.19 2087.5 1136.19 2078.77 Q1136.19 2070.02 1139.24 2065.44 Q1142.32 2060.83 1148.13 2060.83 Z\" fill=\"#000000\" fill-rule=\"evenodd\" fill-opacity=\"1\" /><path clip-path=\"url(#clip700)\" d=\"M1169.1 2092.08 L1176.74 2092.08 L1176.74 2065.72 L1168.43 2067.39 L1168.43 2063.13 L1176.69 2061.46 L1181.37 2061.46 L1181.37 2092.08 L1189.01 2092.08 L1189.01 2096.02 L1169.1 2096.02 L1169.1 2092.08 Z\" fill=\"#000000\" fill-rule=\"evenodd\" fill-opacity=\"1\" /><path clip-path=\"url(#clip700)\" d=\"M1506.9 2092.08 L1523.22 2092.08 L1523.22 2096.02 L1501.28 2096.02 L1501.28 2092.08 Q1503.94 2089.33 1508.52 2084.7 Q1513.13 2080.05 1514.31 2078.71 Q1516.55 2076.18 1517.43 2074.45 Q1518.34 2072.69 1518.34 2071 Q1518.34 2068.24 1516.39 2066.51 Q1514.47 2064.77 1511.37 2064.77 Q1509.17 2064.77 1506.72 2065.53 Q1504.29 2066.3 1501.51 2067.85 L1501.51 2063.13 Q1504.33 2061.99 1506.79 2061.41 Q1509.24 2060.83 1511.28 2060.83 Q1516.65 2060.83 1519.84 2063.52 Q1523.04 2066.21 1523.04 2070.7 Q1523.04 2072.83 1522.23 2074.75 Q1521.44 2076.64 1519.33 2079.24 Q1518.75 2079.91 1515.65 2083.13 Q1512.55 2086.32 1506.9 2092.08 Z\" fill=\"#000000\" fill-rule=\"evenodd\" fill-opacity=\"1\" /><path clip-path=\"url(#clip700)\" d=\"M1543.04 2064.54 Q1539.42 2064.54 1537.6 2068.1 Q1535.79 2071.64 1535.79 2078.77 Q1535.79 2085.88 1537.6 2089.45 Q1539.42 2092.99 1543.04 2092.99 Q1546.67 2092.99 1548.48 2089.45 Q1550.3 2085.88 1550.3 2078.77 Q1550.3 2071.64 1548.48 2068.1 Q1546.67 2064.54 1543.04 2064.54 M1543.04 2060.83 Q1548.85 2060.83 1551.9 2065.44 Q1554.98 2070.02 1554.98 2078.77 Q1554.98 2087.5 1551.9 2092.11 Q1548.85 2096.69 1543.04 2096.69 Q1537.23 2096.69 1534.15 2092.11 Q1531.09 2087.5 1531.09 2078.77 Q1531.09 2070.02 1534.15 2065.44 Q1537.23 2060.83 1543.04 2060.83 Z\" fill=\"#000000\" fill-rule=\"evenodd\" fill-opacity=\"1\" /><path clip-path=\"url(#clip700)\" d=\"M1564.01 2092.08 L1571.65 2092.08 L1571.65 2065.72 L1563.34 2067.39 L1563.34 2063.13 L1571.6 2061.46 L1576.28 2061.46 L1576.28 2092.08 L1583.92 2092.08 L1583.92 2096.02 L1564.01 2096.02 L1564.01 2092.08 Z\" fill=\"#000000\" fill-rule=\"evenodd\" fill-opacity=\"1\" /><path clip-path=\"url(#clip700)\" d=\"M1603.36 2064.54 Q1599.75 2064.54 1597.92 2068.1 Q1596.11 2071.64 1596.11 2078.77 Q1596.11 2085.88 1597.92 2089.45 Q1599.75 2092.99 1603.36 2092.99 Q1606.99 2092.99 1608.8 2089.45 Q1610.63 2085.88 1610.63 2078.77 Q1610.63 2071.64 1608.8 2068.1 Q1606.99 2064.54 1603.36 2064.54 M1603.36 2060.83 Q1609.17 2060.83 1612.23 2065.44 Q1615.3 2070.02 1615.3 2078.77 Q1615.3 2087.5 1612.23 2092.11 Q1609.17 2096.69 1603.36 2096.69 Q1597.55 2096.69 1594.47 2092.11 Q1591.41 2087.5 1591.41 2078.77 Q1591.41 2070.02 1594.47 2065.44 Q1597.55 2060.83 1603.36 2060.83 Z\" fill=\"#000000\" fill-rule=\"evenodd\" fill-opacity=\"1\" /><path clip-path=\"url(#clip700)\" d=\"M1620.77 2081.14 L1633.24 2081.14 L1633.24 2084.93 L1620.77 2084.93 L1620.77 2081.14 Z\" fill=\"#000000\" fill-rule=\"evenodd\" fill-opacity=\"1\" /><path clip-path=\"url(#clip700)\" d=\"M1650.63 2064.54 Q1647.02 2064.54 1645.19 2068.1 Q1643.38 2071.64 1643.38 2078.77 Q1643.38 2085.88 1645.19 2089.45 Q1647.02 2092.99 1650.63 2092.99 Q1654.26 2092.99 1656.07 2089.45 Q1657.9 2085.88 1657.9 2078.77 Q1657.9 2071.64 1656.07 2068.1 Q1654.26 2064.54 1650.63 2064.54 M1650.63 2060.83 Q1656.44 2060.83 1659.49 2065.44 Q1662.57 2070.02 1662.57 2078.77 Q1662.57 2087.5 1659.49 2092.11 Q1656.44 2096.69 1650.63 2096.69 Q1644.82 2096.69 1641.74 2092.11 Q1638.68 2087.5 1638.68 2078.77 Q1638.68 2070.02 1641.74 2065.44 Q1644.82 2060.83 1650.63 2060.83 Z\" fill=\"#000000\" fill-rule=\"evenodd\" fill-opacity=\"1\" /><path clip-path=\"url(#clip700)\" d=\"M1680.79 2079.61 Q1677.46 2079.61 1675.53 2081.39 Q1673.64 2083.17 1673.64 2086.3 Q1673.64 2089.42 1675.53 2091.21 Q1677.46 2092.99 1680.79 2092.99 Q1684.12 2092.99 1686.04 2091.21 Q1687.97 2089.4 1687.97 2086.3 Q1687.97 2083.17 1686.04 2081.39 Q1684.15 2079.61 1680.79 2079.61 M1676.11 2077.62 Q1673.1 2076.88 1671.41 2074.82 Q1669.75 2072.76 1669.75 2069.79 Q1669.75 2065.65 1672.69 2063.24 Q1675.65 2060.83 1680.79 2060.83 Q1685.95 2060.83 1688.89 2063.24 Q1691.83 2065.65 1691.83 2069.79 Q1691.83 2072.76 1690.14 2074.82 Q1688.47 2076.88 1685.49 2077.62 Q1688.87 2078.4 1690.74 2080.7 Q1692.64 2082.99 1692.64 2086.3 Q1692.64 2091.32 1689.56 2094.01 Q1686.51 2096.69 1680.79 2096.69 Q1675.07 2096.69 1671.99 2094.01 Q1668.94 2091.32 1668.94 2086.3 Q1668.94 2082.99 1670.84 2080.7 Q1672.73 2078.4 1676.11 2077.62 M1674.4 2070.23 Q1674.4 2072.92 1676.07 2074.42 Q1677.76 2075.93 1680.79 2075.93 Q1683.8 2075.93 1685.49 2074.42 Q1687.2 2072.92 1687.2 2070.23 Q1687.2 2067.55 1685.49 2066.04 Q1683.8 2064.54 1680.79 2064.54 Q1677.76 2064.54 1676.07 2066.04 Q1674.4 2067.55 1674.4 2070.23 Z\" fill=\"#000000\" fill-rule=\"evenodd\" fill-opacity=\"1\" /><path clip-path=\"url(#clip700)\" d=\"M1698.2 2081.14 L1710.67 2081.14 L1710.67 2084.93 L1698.2 2084.93 L1698.2 2081.14 Z\" fill=\"#000000\" fill-rule=\"evenodd\" fill-opacity=\"1\" /><path clip-path=\"url(#clip700)\" d=\"M1728.06 2064.54 Q1724.45 2064.54 1722.62 2068.1 Q1720.81 2071.64 1720.81 2078.77 Q1720.81 2085.88 1722.62 2089.45 Q1724.45 2092.99 1728.06 2092.99 Q1731.69 2092.99 1733.5 2089.45 Q1735.33 2085.88 1735.33 2078.77 Q1735.33 2071.64 1733.5 2068.1 Q1731.69 2064.54 1728.06 2064.54 M1728.06 2060.83 Q1733.87 2060.83 1736.92 2065.44 Q1740 2070.02 1740 2078.77 Q1740 2087.5 1736.92 2092.11 Q1733.87 2096.69 1728.06 2096.69 Q1722.25 2096.69 1719.17 2092.11 Q1716.11 2087.5 1716.11 2078.77 Q1716.11 2070.02 1719.17 2065.44 Q1722.25 2060.83 1728.06 2060.83 Z\" fill=\"#000000\" fill-rule=\"evenodd\" fill-opacity=\"1\" /><path clip-path=\"url(#clip700)\" d=\"M1749.03 2092.08 L1756.67 2092.08 L1756.67 2065.72 L1748.36 2067.39 L1748.36 2063.13 L1756.62 2061.46 L1761.3 2061.46 L1761.3 2092.08 L1768.94 2092.08 L1768.94 2096.02 L1749.03 2096.02 L1749.03 2092.08 Z\" fill=\"#000000\" fill-rule=\"evenodd\" fill-opacity=\"1\" /><path clip-path=\"url(#clip700)\" d=\"M2086.83 2092.08 L2103.15 2092.08 L2103.15 2096.02 L2081.2 2096.02 L2081.2 2092.08 Q2083.87 2089.33 2088.45 2084.7 Q2093.06 2080.05 2094.24 2078.71 Q2096.48 2076.18 2097.36 2074.45 Q2098.26 2072.69 2098.26 2071 Q2098.26 2068.24 2096.32 2066.51 Q2094.4 2064.77 2091.3 2064.77 Q2089.1 2064.77 2086.64 2065.53 Q2084.21 2066.3 2081.44 2067.85 L2081.44 2063.13 Q2084.26 2061.99 2086.71 2061.41 Q2089.17 2060.83 2091.2 2060.83 Q2096.57 2060.83 2099.77 2063.52 Q2102.96 2066.21 2102.96 2070.7 Q2102.96 2072.83 2102.15 2074.75 Q2101.37 2076.64 2099.26 2079.24 Q2098.68 2079.91 2095.58 2083.13 Q2092.48 2086.32 2086.83 2092.08 Z\" fill=\"#000000\" fill-rule=\"evenodd\" fill-opacity=\"1\" /><path clip-path=\"url(#clip700)\" d=\"M2122.96 2064.54 Q2119.35 2064.54 2117.52 2068.1 Q2115.72 2071.64 2115.72 2078.77 Q2115.72 2085.88 2117.52 2089.45 Q2119.35 2092.99 2122.96 2092.99 Q2126.6 2092.99 2128.4 2089.45 Q2130.23 2085.88 2130.23 2078.77 Q2130.23 2071.64 2128.4 2068.1 Q2126.6 2064.54 2122.96 2064.54 M2122.96 2060.83 Q2128.77 2060.83 2131.83 2065.44 Q2134.91 2070.02 2134.91 2078.77 Q2134.91 2087.5 2131.83 2092.11 Q2128.77 2096.69 2122.96 2096.69 Q2117.15 2096.69 2114.07 2092.11 Q2111.02 2087.5 2111.02 2078.77 Q2111.02 2070.02 2114.07 2065.44 Q2117.15 2060.83 2122.96 2060.83 Z\" fill=\"#000000\" fill-rule=\"evenodd\" fill-opacity=\"1\" /><path clip-path=\"url(#clip700)\" d=\"M2143.94 2092.08 L2151.57 2092.08 L2151.57 2065.72 L2143.26 2067.39 L2143.26 2063.13 L2151.53 2061.46 L2156.2 2061.46 L2156.2 2092.08 L2163.84 2092.08 L2163.84 2096.02 L2143.94 2096.02 L2143.94 2092.08 Z\" fill=\"#000000\" fill-rule=\"evenodd\" fill-opacity=\"1\" /><path clip-path=\"url(#clip700)\" d=\"M2183.29 2064.54 Q2179.68 2064.54 2177.85 2068.1 Q2176.04 2071.64 2176.04 2078.77 Q2176.04 2085.88 2177.85 2089.45 Q2179.68 2092.99 2183.29 2092.99 Q2186.92 2092.99 2188.73 2089.45 Q2190.56 2085.88 2190.56 2078.77 Q2190.56 2071.64 2188.73 2068.1 Q2186.92 2064.54 2183.29 2064.54 M2183.29 2060.83 Q2189.1 2060.83 2192.15 2065.44 Q2195.23 2070.02 2195.23 2078.77 Q2195.23 2087.5 2192.15 2092.11 Q2189.1 2096.69 2183.29 2096.69 Q2177.48 2096.69 2174.4 2092.11 Q2171.34 2087.5 2171.34 2078.77 Q2171.34 2070.02 2174.4 2065.44 Q2177.48 2060.83 2183.29 2060.83 Z\" fill=\"#000000\" fill-rule=\"evenodd\" fill-opacity=\"1\" /><path clip-path=\"url(#clip700)\" d=\"M2200.69 2081.14 L2213.17 2081.14 L2213.17 2084.93 L2200.69 2084.93 L2200.69 2081.14 Z\" fill=\"#000000\" fill-rule=\"evenodd\" fill-opacity=\"1\" /><path clip-path=\"url(#clip700)\" d=\"M2221.37 2092.08 L2229 2092.08 L2229 2065.72 L2220.69 2067.39 L2220.69 2063.13 L2228.96 2061.46 L2233.63 2061.46 L2233.63 2092.08 L2241.27 2092.08 L2241.27 2096.02 L2221.37 2096.02 L2221.37 2092.08 Z\" fill=\"#000000\" fill-rule=\"evenodd\" fill-opacity=\"1\" /><path clip-path=\"url(#clip700)\" d=\"M2251.53 2092.08 L2259.17 2092.08 L2259.17 2065.72 L2250.86 2067.39 L2250.86 2063.13 L2259.12 2061.46 L2263.8 2061.46 L2263.8 2092.08 L2271.43 2092.08 L2271.43 2096.02 L2251.53 2096.02 L2251.53 2092.08 Z\" fill=\"#000000\" fill-rule=\"evenodd\" fill-opacity=\"1\" /><path clip-path=\"url(#clip700)\" d=\"M2278.12 2081.14 L2290.6 2081.14 L2290.6 2084.93 L2278.12 2084.93 L2278.12 2081.14 Z\" fill=\"#000000\" fill-rule=\"evenodd\" fill-opacity=\"1\" /><path clip-path=\"url(#clip700)\" d=\"M2307.99 2064.54 Q2304.37 2064.54 2302.55 2068.1 Q2300.74 2071.64 2300.74 2078.77 Q2300.74 2085.88 2302.55 2089.45 Q2304.37 2092.99 2307.99 2092.99 Q2311.62 2092.99 2313.43 2089.45 Q2315.25 2085.88 2315.25 2078.77 Q2315.25 2071.64 2313.43 2068.1 Q2311.62 2064.54 2307.99 2064.54 M2307.99 2060.83 Q2313.8 2060.83 2316.85 2065.44 Q2319.93 2070.02 2319.93 2078.77 Q2319.93 2087.5 2316.85 2092.11 Q2313.8 2096.69 2307.99 2096.69 Q2302.18 2096.69 2299.1 2092.11 Q2296.04 2087.5 2296.04 2078.77 Q2296.04 2070.02 2299.1 2065.44 Q2302.18 2060.83 2307.99 2060.83 Z\" fill=\"#000000\" fill-rule=\"evenodd\" fill-opacity=\"1\" /><path clip-path=\"url(#clip700)\" d=\"M2328.96 2092.08 L2336.6 2092.08 L2336.6 2065.72 L2328.29 2067.39 L2328.29 2063.13 L2336.55 2061.46 L2341.23 2061.46 L2341.23 2092.08 L2348.87 2092.08 L2348.87 2096.02 L2328.96 2096.02 L2328.96 2092.08 Z\" fill=\"#000000\" fill-rule=\"evenodd\" fill-opacity=\"1\" /><path clip-path=\"url(#clip700)\" d=\"M1355.27 2139.36 L1395.47 2139.36 L1395.47 2144.77 L1378.6 2144.77 L1378.6 2186.88 L1372.14 2186.88 L1372.14 2144.77 L1355.27 2144.77 L1355.27 2139.36 Z\" fill=\"#000000\" fill-rule=\"evenodd\" fill-opacity=\"1\" /><path clip-path=\"url(#clip700)\" d=\"M1399.42 2151.24 L1405.27 2151.24 L1405.27 2186.88 L1399.42 2186.88 L1399.42 2151.24 M1399.42 2137.36 L1405.27 2137.36 L1405.27 2144.77 L1399.42 2144.77 L1399.42 2137.36 Z\" fill=\"#000000\" fill-rule=\"evenodd\" fill-opacity=\"1\" /><path clip-path=\"url(#clip700)\" d=\"M1445.28 2158.08 Q1447.48 2154.13 1450.53 2152.25 Q1453.59 2150.38 1457.73 2150.38 Q1463.3 2150.38 1466.32 2154.29 Q1469.34 2158.17 1469.34 2165.37 L1469.34 2186.88 L1463.45 2186.88 L1463.45 2165.56 Q1463.45 2160.43 1461.64 2157.95 Q1459.83 2155.47 1456.1 2155.47 Q1451.55 2155.47 1448.91 2158.49 Q1446.27 2161.52 1446.27 2166.74 L1446.27 2186.88 L1440.38 2186.88 L1440.38 2165.56 Q1440.38 2160.4 1438.56 2157.95 Q1436.75 2155.47 1432.96 2155.47 Q1428.48 2155.47 1425.83 2158.52 Q1423.19 2161.55 1423.19 2166.74 L1423.19 2186.88 L1417.3 2186.88 L1417.3 2151.24 L1423.19 2151.24 L1423.19 2156.77 Q1425.2 2153.5 1428 2151.94 Q1430.8 2150.38 1434.65 2150.38 Q1438.53 2150.38 1441.24 2152.35 Q1443.98 2154.32 1445.28 2158.08 Z\" fill=\"#000000\" fill-rule=\"evenodd\" fill-opacity=\"1\" /><path clip-path=\"url(#clip700)\" d=\"M1511.52 2167.6 L1511.52 2170.46 L1484.59 2170.46 Q1484.97 2176.51 1488.22 2179.69 Q1491.5 2182.84 1497.32 2182.84 Q1500.69 2182.84 1503.85 2182.01 Q1507.03 2181.19 1510.15 2179.53 L1510.15 2185.07 Q1507 2186.41 1503.69 2187.11 Q1500.38 2187.81 1496.97 2187.81 Q1488.44 2187.81 1483.44 2182.84 Q1478.48 2177.88 1478.48 2169.41 Q1478.48 2160.66 1483.19 2155.53 Q1487.93 2150.38 1495.95 2150.38 Q1503.15 2150.38 1507.31 2155.02 Q1511.52 2159.64 1511.52 2167.6 M1505.66 2165.88 Q1505.6 2161.07 1502.95 2158.21 Q1500.34 2155.34 1496.02 2155.34 Q1491.11 2155.34 1488.15 2158.11 Q1485.23 2160.88 1484.78 2165.91 L1505.66 2165.88 Z\" fill=\"#000000\" fill-rule=\"evenodd\" fill-opacity=\"1\" /><polyline clip-path=\"url(#clip702)\" style=\"stroke:#000000; stroke-linecap:butt; stroke-linejoin:round; stroke-width:2; stroke-opacity:0.1; fill:none\" points=\"\n",
       "  397.717,1655.39 2469.07,1655.39 \n",
       "  \"/>\n",
       "<polyline clip-path=\"url(#clip702)\" style=\"stroke:#000000; stroke-linecap:butt; stroke-linejoin:round; stroke-width:2; stroke-opacity:0.1; fill:none\" points=\"\n",
       "  397.717,1275.68 2469.07,1275.68 \n",
       "  \"/>\n",
       "<polyline clip-path=\"url(#clip702)\" style=\"stroke:#000000; stroke-linecap:butt; stroke-linejoin:round; stroke-width:2; stroke-opacity:0.1; fill:none\" points=\"\n",
       "  397.717,895.966 2469.07,895.966 \n",
       "  \"/>\n",
       "<polyline clip-path=\"url(#clip702)\" style=\"stroke:#000000; stroke-linecap:butt; stroke-linejoin:round; stroke-width:2; stroke-opacity:0.1; fill:none\" points=\"\n",
       "  397.717,516.253 2469.07,516.253 \n",
       "  \"/>\n",
       "<polyline clip-path=\"url(#clip702)\" style=\"stroke:#000000; stroke-linecap:butt; stroke-linejoin:round; stroke-width:2; stroke-opacity:0.1; fill:none\" points=\"\n",
       "  397.717,136.54 2469.07,136.54 \n",
       "  \"/>\n",
       "<polyline clip-path=\"url(#clip700)\" style=\"stroke:#000000; stroke-linecap:butt; stroke-linejoin:round; stroke-width:4; stroke-opacity:1; fill:none\" points=\"\n",
       "  397.717,2024.02 397.717,118.432 \n",
       "  \"/>\n",
       "<polyline clip-path=\"url(#clip700)\" style=\"stroke:#000000; stroke-linecap:butt; stroke-linejoin:round; stroke-width:4; stroke-opacity:1; fill:none\" points=\"\n",
       "  397.717,1655.39 410.124,1655.39 \n",
       "  \"/>\n",
       "<polyline clip-path=\"url(#clip700)\" style=\"stroke:#000000; stroke-linecap:butt; stroke-linejoin:round; stroke-width:4; stroke-opacity:1; fill:none\" points=\"\n",
       "  397.717,1275.68 410.124,1275.68 \n",
       "  \"/>\n",
       "<polyline clip-path=\"url(#clip700)\" style=\"stroke:#000000; stroke-linecap:butt; stroke-linejoin:round; stroke-width:4; stroke-opacity:1; fill:none\" points=\"\n",
       "  397.717,895.966 410.124,895.966 \n",
       "  \"/>\n",
       "<polyline clip-path=\"url(#clip700)\" style=\"stroke:#000000; stroke-linecap:butt; stroke-linejoin:round; stroke-width:4; stroke-opacity:1; fill:none\" points=\"\n",
       "  397.717,516.253 410.124,516.253 \n",
       "  \"/>\n",
       "<polyline clip-path=\"url(#clip700)\" style=\"stroke:#000000; stroke-linecap:butt; stroke-linejoin:round; stroke-width:4; stroke-opacity:1; fill:none\" points=\"\n",
       "  397.717,136.54 410.124,136.54 \n",
       "  \"/>\n",
       "<path clip-path=\"url(#clip700)\" d=\"M248.787 1668.74 L256.426 1668.74 L256.426 1642.37 L248.116 1644.04 L248.116 1639.78 L256.38 1638.11 L261.056 1638.11 L261.056 1668.74 L268.694 1668.74 L268.694 1672.67 L248.787 1672.67 L248.787 1668.74 Z\" fill=\"#000000\" fill-rule=\"evenodd\" fill-opacity=\"1\" /><path clip-path=\"url(#clip700)\" d=\"M278.139 1666.79 L283.023 1666.79 L283.023 1672.67 L278.139 1672.67 L278.139 1666.79 Z\" fill=\"#000000\" fill-rule=\"evenodd\" fill-opacity=\"1\" /><path clip-path=\"url(#clip700)\" d=\"M303.208 1641.19 Q299.597 1641.19 297.768 1644.76 Q295.963 1648.3 295.963 1655.43 Q295.963 1662.53 297.768 1666.1 Q299.597 1669.64 303.208 1669.64 Q306.842 1669.64 308.648 1666.1 Q310.477 1662.53 310.477 1655.43 Q310.477 1648.3 308.648 1644.76 Q306.842 1641.19 303.208 1641.19 M303.208 1637.49 Q309.018 1637.49 312.074 1642.09 Q315.152 1646.68 315.152 1655.43 Q315.152 1664.15 312.074 1668.76 Q309.018 1673.34 303.208 1673.34 Q297.398 1673.34 294.319 1668.76 Q291.264 1664.15 291.264 1655.43 Q291.264 1646.68 294.319 1642.09 Q297.398 1637.49 303.208 1637.49 Z\" fill=\"#000000\" fill-rule=\"evenodd\" fill-opacity=\"1\" /><path clip-path=\"url(#clip700)\" d=\"M327.398 1668.74 L343.717 1668.74 L343.717 1672.67 L321.773 1672.67 L321.773 1668.74 Q324.435 1665.98 329.018 1661.35 Q333.625 1656.7 334.805 1655.36 Q337.05 1652.84 337.93 1651.1 Q338.833 1649.34 338.833 1647.65 Q338.833 1644.9 336.888 1643.16 Q334.967 1641.42 331.865 1641.42 Q329.666 1641.42 327.213 1642.19 Q324.782 1642.95 322.004 1644.5 L322.004 1639.78 Q324.828 1638.65 327.282 1638.07 Q329.736 1637.49 331.773 1637.49 Q337.143 1637.49 340.337 1640.17 Q343.532 1642.86 343.532 1647.35 Q343.532 1649.48 342.722 1651.4 Q341.935 1653.3 339.828 1655.89 Q339.25 1656.56 336.148 1659.78 Q333.046 1662.97 327.398 1668.74 Z\" fill=\"#000000\" fill-rule=\"evenodd\" fill-opacity=\"1\" /><path clip-path=\"url(#clip700)\" d=\"M248.185 1289.02 L255.824 1289.02 L255.824 1262.66 L247.514 1264.33 L247.514 1260.07 L255.778 1258.4 L260.454 1258.4 L260.454 1289.02 L268.093 1289.02 L268.093 1292.96 L248.185 1292.96 L248.185 1289.02 Z\" fill=\"#000000\" fill-rule=\"evenodd\" fill-opacity=\"1\" /><path clip-path=\"url(#clip700)\" d=\"M277.537 1287.08 L282.421 1287.08 L282.421 1292.96 L277.537 1292.96 L277.537 1287.08 Z\" fill=\"#000000\" fill-rule=\"evenodd\" fill-opacity=\"1\" /><path clip-path=\"url(#clip700)\" d=\"M302.606 1261.48 Q298.995 1261.48 297.166 1265.04 Q295.361 1268.58 295.361 1275.71 Q295.361 1282.82 297.166 1286.39 Q298.995 1289.93 302.606 1289.93 Q306.24 1289.93 308.046 1286.39 Q309.875 1282.82 309.875 1275.71 Q309.875 1268.58 308.046 1265.04 Q306.24 1261.48 302.606 1261.48 M302.606 1257.77 Q308.416 1257.77 311.472 1262.38 Q314.551 1266.96 314.551 1275.71 Q314.551 1284.44 311.472 1289.05 Q308.416 1293.63 302.606 1293.63 Q296.796 1293.63 293.717 1289.05 Q290.662 1284.44 290.662 1275.71 Q290.662 1266.96 293.717 1262.38 Q296.796 1257.77 302.606 1257.77 Z\" fill=\"#000000\" fill-rule=\"evenodd\" fill-opacity=\"1\" /><path clip-path=\"url(#clip700)\" d=\"M322.814 1258.4 L341.171 1258.4 L341.171 1262.33 L327.097 1262.33 L327.097 1270.81 Q328.115 1270.46 329.134 1270.3 Q330.152 1270.11 331.171 1270.11 Q336.958 1270.11 340.337 1273.28 Q343.717 1276.46 343.717 1281.87 Q343.717 1287.45 340.245 1290.55 Q336.773 1293.63 330.453 1293.63 Q328.277 1293.63 326.009 1293.26 Q323.764 1292.89 321.356 1292.15 L321.356 1287.45 Q323.439 1288.58 325.662 1289.14 Q327.884 1289.7 330.361 1289.7 Q334.365 1289.7 336.703 1287.59 Q339.041 1285.48 339.041 1281.87 Q339.041 1278.26 336.703 1276.15 Q334.365 1274.05 330.361 1274.05 Q328.486 1274.05 326.611 1274.46 Q324.759 1274.88 322.814 1275.76 L322.814 1258.4 Z\" fill=\"#000000\" fill-rule=\"evenodd\" fill-opacity=\"1\" /><path clip-path=\"url(#clip700)\" d=\"M247.282 909.311 L254.921 909.311 L254.921 882.945 L246.611 884.612 L246.611 880.353 L254.875 878.686 L259.551 878.686 L259.551 909.311 L267.19 909.311 L267.19 913.246 L247.282 913.246 L247.282 909.311 Z\" fill=\"#000000\" fill-rule=\"evenodd\" fill-opacity=\"1\" /><path clip-path=\"url(#clip700)\" d=\"M276.634 907.367 L281.518 907.367 L281.518 913.246 L276.634 913.246 L276.634 907.367 Z\" fill=\"#000000\" fill-rule=\"evenodd\" fill-opacity=\"1\" /><path clip-path=\"url(#clip700)\" d=\"M301.703 881.765 Q298.092 881.765 296.264 885.33 Q294.458 888.871 294.458 896.001 Q294.458 903.107 296.264 906.672 Q298.092 910.214 301.703 910.214 Q305.338 910.214 307.143 906.672 Q308.972 903.107 308.972 896.001 Q308.972 888.871 307.143 885.33 Q305.338 881.765 301.703 881.765 M301.703 878.061 Q307.514 878.061 310.569 882.668 Q313.648 887.251 313.648 896.001 Q313.648 904.728 310.569 909.334 Q307.514 913.918 301.703 913.918 Q295.893 913.918 292.815 909.334 Q289.759 904.728 289.759 896.001 Q289.759 887.251 292.815 882.668 Q295.893 878.061 301.703 878.061 Z\" fill=\"#000000\" fill-rule=\"evenodd\" fill-opacity=\"1\" /><path clip-path=\"url(#clip700)\" d=\"M331.865 896.834 Q328.532 896.834 326.611 898.617 Q324.713 900.399 324.713 903.524 Q324.713 906.649 326.611 908.431 Q328.532 910.214 331.865 910.214 Q335.199 910.214 337.12 908.431 Q339.041 906.626 339.041 903.524 Q339.041 900.399 337.12 898.617 Q335.222 896.834 331.865 896.834 M327.189 894.844 Q324.18 894.103 322.49 892.043 Q320.824 889.982 320.824 887.02 Q320.824 882.876 323.764 880.469 Q326.726 878.061 331.865 878.061 Q337.027 878.061 339.967 880.469 Q342.907 882.876 342.907 887.02 Q342.907 889.982 341.217 892.043 Q339.55 894.103 336.564 894.844 Q339.944 895.631 341.819 897.922 Q343.717 900.214 343.717 903.524 Q343.717 908.547 340.638 911.232 Q337.583 913.918 331.865 913.918 Q326.148 913.918 323.069 911.232 Q320.014 908.547 320.014 903.524 Q320.014 900.214 321.912 897.922 Q323.81 895.631 327.189 894.844 M325.476 887.459 Q325.476 890.144 327.143 891.649 Q328.833 893.154 331.865 893.154 Q334.875 893.154 336.564 891.649 Q338.277 890.144 338.277 887.459 Q338.277 884.774 336.564 883.27 Q334.875 881.765 331.865 881.765 Q328.833 881.765 327.143 883.27 Q325.476 884.774 325.476 887.459 Z\" fill=\"#000000\" fill-rule=\"evenodd\" fill-opacity=\"1\" /><path clip-path=\"url(#clip700)\" d=\"M248.417 529.598 L256.056 529.598 L256.056 503.232 L247.745 504.899 L247.745 500.64 L256.009 498.973 L260.685 498.973 L260.685 529.598 L268.324 529.598 L268.324 533.533 L248.417 533.533 L248.417 529.598 Z\" fill=\"#000000\" fill-rule=\"evenodd\" fill-opacity=\"1\" /><path clip-path=\"url(#clip700)\" d=\"M277.768 527.653 L282.653 527.653 L282.653 533.533 L277.768 533.533 L277.768 527.653 Z\" fill=\"#000000\" fill-rule=\"evenodd\" fill-opacity=\"1\" /><path clip-path=\"url(#clip700)\" d=\"M293.648 529.598 L301.287 529.598 L301.287 503.232 L292.977 504.899 L292.977 500.64 L301.24 498.973 L305.916 498.973 L305.916 529.598 L313.555 529.598 L313.555 533.533 L293.648 533.533 L293.648 529.598 Z\" fill=\"#000000\" fill-rule=\"evenodd\" fill-opacity=\"1\" /><path clip-path=\"url(#clip700)\" d=\"M323.81 529.598 L331.449 529.598 L331.449 503.232 L323.139 504.899 L323.139 500.64 L331.402 498.973 L336.078 498.973 L336.078 529.598 L343.717 529.598 L343.717 533.533 L323.81 533.533 L323.81 529.598 Z\" fill=\"#000000\" fill-rule=\"evenodd\" fill-opacity=\"1\" /><path clip-path=\"url(#clip700)\" d=\"M246.704 149.884 L254.343 149.884 L254.343 123.519 L246.032 125.185 L246.032 120.926 L254.296 119.26 L258.972 119.26 L258.972 149.884 L266.611 149.884 L266.611 153.82 L246.704 153.82 L246.704 149.884 Z\" fill=\"#000000\" fill-rule=\"evenodd\" fill-opacity=\"1\" /><path clip-path=\"url(#clip700)\" d=\"M276.055 147.94 L280.94 147.94 L280.94 153.82 L276.055 153.82 L276.055 147.94 Z\" fill=\"#000000\" fill-rule=\"evenodd\" fill-opacity=\"1\" /><path clip-path=\"url(#clip700)\" d=\"M291.935 149.884 L299.574 149.884 L299.574 123.519 L291.264 125.185 L291.264 120.926 L299.528 119.26 L304.203 119.26 L304.203 149.884 L311.842 149.884 L311.842 153.82 L291.935 153.82 L291.935 149.884 Z\" fill=\"#000000\" fill-rule=\"evenodd\" fill-opacity=\"1\" /><path clip-path=\"url(#clip700)\" d=\"M334.134 123.334 L322.328 141.783 L334.134 141.783 L334.134 123.334 M332.907 119.26 L338.787 119.26 L338.787 141.783 L343.717 141.783 L343.717 145.671 L338.787 145.671 L338.787 153.82 L334.134 153.82 L334.134 145.671 L318.532 145.671 L318.532 141.158 L332.907 119.26 Z\" fill=\"#000000\" fill-rule=\"evenodd\" fill-opacity=\"1\" /><path clip-path=\"url(#clip700)\" d=\"M130.256 1180.21 L130.256 1173.71 L170.424 1163.72 L130.256 1153.76 L130.256 1146.53 L170.424 1136.54 L130.256 1126.58 L130.256 1120.05 L177.776 1131.99 L177.776 1140.07 L136.527 1150.1 L177.776 1160.22 L177.776 1168.3 L130.256 1180.21 Z\" fill=\"#000000\" fill-rule=\"evenodd\" fill-opacity=\"1\" /><path clip-path=\"url(#clip700)\" d=\"M158.488 1085.1 L161.353 1085.1 L161.353 1112.03 Q167.4 1111.65 170.583 1108.4 Q173.734 1105.12 173.734 1099.3 Q173.734 1095.92 172.907 1092.77 Q172.079 1089.59 170.424 1086.47 L175.962 1086.47 Q177.299 1089.62 177.999 1092.93 Q178.699 1096.24 178.699 1099.65 Q178.699 1108.18 173.734 1113.18 Q168.769 1118.14 160.303 1118.14 Q151.55 1118.14 146.425 1113.43 Q141.269 1108.69 141.269 1100.67 Q141.269 1093.47 145.916 1089.3 Q150.531 1085.1 158.488 1085.1 M156.77 1090.96 Q151.964 1091.02 149.099 1093.67 Q146.234 1096.28 146.234 1100.6 Q146.234 1105.51 149.003 1108.47 Q151.773 1111.39 156.801 1111.84 L156.77 1090.96 Z\" fill=\"#000000\" fill-rule=\"evenodd\" fill-opacity=\"1\" /><path clip-path=\"url(#clip700)\" d=\"M159.857 1059.29 Q159.857 1066.39 161.48 1069.13 Q163.103 1071.86 167.018 1071.86 Q170.138 1071.86 171.984 1069.83 Q173.798 1067.76 173.798 1064.22 Q173.798 1059.35 170.36 1056.43 Q166.891 1053.47 161.162 1053.47 L159.857 1053.47 L159.857 1059.29 M157.438 1047.61 L177.776 1047.61 L177.776 1053.47 L172.366 1053.47 Q175.612 1055.47 177.172 1058.46 Q178.699 1061.45 178.699 1065.78 Q178.699 1071.26 175.644 1074.5 Q172.557 1077.72 167.4 1077.72 Q161.385 1077.72 158.329 1073.71 Q155.274 1069.67 155.274 1061.68 L155.274 1053.47 L154.701 1053.47 Q150.659 1053.47 148.462 1056.14 Q146.234 1058.78 146.234 1063.59 Q146.234 1066.64 146.966 1069.54 Q147.698 1072.44 149.163 1075.11 L143.752 1075.11 Q142.51 1071.89 141.906 1068.87 Q141.269 1065.85 141.269 1062.98 Q141.269 1055.25 145.28 1051.43 Q149.29 1047.61 157.438 1047.61 Z\" fill=\"#000000\" fill-rule=\"evenodd\" fill-opacity=\"1\" /><path clip-path=\"url(#clip700)\" d=\"M128.251 1035.55 L128.251 1029.69 L177.776 1029.69 L177.776 1035.55 L128.251 1035.55 Z\" fill=\"#000000\" fill-rule=\"evenodd\" fill-opacity=\"1\" /><path clip-path=\"url(#clip700)\" d=\"M132.007 1011.64 L142.128 1011.64 L142.128 999.58 L146.68 999.58 L146.68 1011.64 L166.032 1011.64 Q170.392 1011.64 171.634 1010.47 Q172.875 1009.26 172.875 1005.6 L172.875 999.58 L177.776 999.58 L177.776 1005.6 Q177.776 1012.38 175.262 1014.95 Q172.716 1017.53 166.032 1017.53 L146.68 1017.53 L146.68 1021.83 L142.128 1021.83 L142.128 1017.53 L132.007 1017.53 L132.007 1011.64 Z\" fill=\"#000000\" fill-rule=\"evenodd\" fill-opacity=\"1\" /><path clip-path=\"url(#clip700)\" d=\"M156.26 962.245 L177.776 962.245 L177.776 968.102 L156.451 968.102 Q151.391 968.102 148.876 970.075 Q146.362 972.048 146.362 975.995 Q146.362 980.737 149.385 983.475 Q152.409 986.212 157.629 986.212 L177.776 986.212 L177.776 992.1 L128.251 992.1 L128.251 986.212 L147.667 986.212 Q144.452 984.111 142.861 981.279 Q141.269 978.414 141.269 974.69 Q141.269 968.547 145.089 965.396 Q148.876 962.245 156.26 962.245 Z\" fill=\"#000000\" fill-rule=\"evenodd\" fill-opacity=\"1\" /><path clip-path=\"url(#clip700)\" d=\"M1082.95 16.7545 L1082.95 25.383 Q1078.82 21.5346 1074.12 19.6307 Q1069.46 17.7268 1064.19 17.7268 Q1053.82 17.7268 1048.31 24.0867 Q1042.8 30.4061 1042.8 42.3968 Q1042.8 54.3469 1048.31 60.7069 Q1053.82 67.0263 1064.19 67.0263 Q1069.46 67.0263 1074.12 65.1223 Q1078.82 63.2184 1082.95 59.3701 L1082.95 67.9175 Q1078.66 70.8341 1073.83 72.2924 Q1069.05 73.7508 1063.71 73.7508 Q1049.97 73.7508 1042.08 65.3654 Q1034.18 56.9395 1034.18 42.3968 Q1034.18 27.8135 1042.08 19.4281 Q1049.97 11.0023 1063.71 11.0023 Q1069.14 11.0023 1073.92 12.4606 Q1078.74 13.8784 1082.95 16.7545 Z\" fill=\"#000000\" fill-rule=\"evenodd\" fill-opacity=\"1\" /><path clip-path=\"url(#clip700)\" d=\"M1094.49 54.671 L1094.49 27.2059 L1101.95 27.2059 L1101.95 54.3874 Q1101.95 60.8284 1104.46 64.0691 Q1106.97 67.2693 1111.99 67.2693 Q1118.03 67.2693 1121.51 63.421 Q1125.04 59.5726 1125.04 52.9291 L1125.04 27.2059 L1132.49 27.2059 L1132.49 72.576 L1125.04 72.576 L1125.04 65.6084 Q1122.32 69.7404 1118.72 71.7658 Q1115.15 73.7508 1110.41 73.7508 Q1102.6 73.7508 1098.55 68.8897 Q1094.49 64.0286 1094.49 54.671 M1113.25 26.1121 L1113.25 26.1121 Z\" fill=\"#000000\" fill-rule=\"evenodd\" fill-opacity=\"1\" /><path clip-path=\"url(#clip700)\" d=\"M1147.84 9.54393 L1155.3 9.54393 L1155.3 72.576 L1147.84 72.576 L1147.84 9.54393 Z\" fill=\"#000000\" fill-rule=\"evenodd\" fill-opacity=\"1\" /><path clip-path=\"url(#clip700)\" d=\"M1206.22 35.9153 Q1209.01 30.8922 1212.9 28.5022 Q1216.79 26.1121 1222.06 26.1121 Q1229.15 26.1121 1232.99 31.0947 Q1236.84 36.0368 1236.84 45.1919 L1236.84 72.576 L1229.35 72.576 L1229.35 45.4349 Q1229.35 38.913 1227.04 35.7533 Q1224.73 32.5936 1219.99 32.5936 Q1214.2 32.5936 1210.84 36.4419 Q1207.47 40.2903 1207.47 46.9338 L1207.47 72.576 L1199.98 72.576 L1199.98 45.4349 Q1199.98 38.8725 1197.67 35.7533 Q1195.36 32.5936 1190.54 32.5936 Q1184.83 32.5936 1181.47 36.4824 Q1178.1 40.3308 1178.1 46.9338 L1178.1 72.576 L1170.61 72.576 L1170.61 27.2059 L1178.1 27.2059 L1178.1 34.2544 Q1180.66 30.082 1184.22 28.0971 Q1187.79 26.1121 1192.69 26.1121 Q1197.63 26.1121 1201.07 28.6237 Q1204.56 31.1352 1206.22 35.9153 Z\" fill=\"#000000\" fill-rule=\"evenodd\" fill-opacity=\"1\" /><path clip-path=\"url(#clip700)\" d=\"M1250.94 54.671 L1250.94 27.2059 L1258.39 27.2059 L1258.39 54.3874 Q1258.39 60.8284 1260.91 64.0691 Q1263.42 67.2693 1268.44 67.2693 Q1274.48 67.2693 1277.96 63.421 Q1281.48 59.5726 1281.48 52.9291 L1281.48 27.2059 L1288.94 27.2059 L1288.94 72.576 L1281.48 72.576 L1281.48 65.6084 Q1278.77 69.7404 1275.16 71.7658 Q1271.6 73.7508 1266.86 73.7508 Q1259.04 73.7508 1254.99 68.8897 Q1250.94 64.0286 1250.94 54.671 M1269.7 26.1121 L1269.7 26.1121 Z\" fill=\"#000000\" fill-rule=\"evenodd\" fill-opacity=\"1\" /><path clip-path=\"url(#clip700)\" d=\"M1304.29 9.54393 L1311.74 9.54393 L1311.74 72.576 L1304.29 72.576 L1304.29 9.54393 Z\" fill=\"#000000\" fill-rule=\"evenodd\" fill-opacity=\"1\" /><path clip-path=\"url(#clip700)\" d=\"M1347.96 49.7694 Q1338.93 49.7694 1335.44 51.8354 Q1331.96 53.9013 1331.96 58.8839 Q1331.96 62.8538 1334.55 65.2034 Q1337.18 67.5124 1341.68 67.5124 Q1347.88 67.5124 1351.61 63.1374 Q1355.37 58.7219 1355.37 51.4303 L1355.37 49.7694 L1347.96 49.7694 M1362.83 46.6907 L1362.83 72.576 L1355.37 72.576 L1355.37 65.6895 Q1352.82 69.8214 1349.01 71.8063 Q1345.2 73.7508 1339.7 73.7508 Q1332.73 73.7508 1328.6 69.8619 Q1324.5 65.9325 1324.5 59.3701 Q1324.5 51.7138 1329.61 47.825 Q1334.75 43.9361 1344.92 43.9361 L1355.37 43.9361 L1355.37 43.2069 Q1355.37 38.0623 1351.97 35.2672 Q1348.61 32.4315 1342.49 32.4315 Q1338.6 32.4315 1334.92 33.3632 Q1331.23 34.295 1327.83 36.1584 L1327.83 29.2718 Q1331.92 27.692 1335.77 26.9223 Q1339.61 26.1121 1343.26 26.1121 Q1353.1 26.1121 1357.96 31.2163 Q1362.83 36.3204 1362.83 46.6907 Z\" fill=\"#000000\" fill-rule=\"evenodd\" fill-opacity=\"1\" /><path clip-path=\"url(#clip700)\" d=\"M1385.55 14.324 L1385.55 27.2059 L1400.9 27.2059 L1400.9 32.9987 L1385.55 32.9987 L1385.55 57.6282 Q1385.55 63.1779 1387.05 64.7578 Q1388.59 66.3376 1393.25 66.3376 L1400.9 66.3376 L1400.9 72.576 L1393.25 72.576 Q1384.62 72.576 1381.34 69.3758 Q1378.06 66.1351 1378.06 57.6282 L1378.06 32.9987 L1372.59 32.9987 L1372.59 27.2059 L1378.06 27.2059 L1378.06 14.324 L1385.55 14.324 Z\" fill=\"#000000\" fill-rule=\"evenodd\" fill-opacity=\"1\" /><path clip-path=\"url(#clip700)\" d=\"M1410.71 27.2059 L1418.16 27.2059 L1418.16 72.576 L1410.71 72.576 L1410.71 27.2059 M1410.71 9.54393 L1418.16 9.54393 L1418.16 18.9825 L1410.71 18.9825 L1410.71 9.54393 Z\" fill=\"#000000\" fill-rule=\"evenodd\" fill-opacity=\"1\" /><path clip-path=\"url(#clip700)\" d=\"M1428.41 27.2059 L1436.31 27.2059 L1450.49 65.2844 L1464.67 27.2059 L1472.57 27.2059 L1455.55 72.576 L1445.42 72.576 L1428.41 27.2059 Z\" fill=\"#000000\" fill-rule=\"evenodd\" fill-opacity=\"1\" /><path clip-path=\"url(#clip700)\" d=\"M1521.66 48.0275 L1521.66 51.6733 L1487.39 51.6733 Q1487.88 59.3701 1492.01 63.421 Q1496.18 67.4314 1503.59 67.4314 Q1507.89 67.4314 1511.9 66.3781 Q1515.95 65.3249 1519.92 63.2184 L1519.92 70.267 Q1515.91 71.9684 1511.7 72.8596 Q1507.48 73.7508 1503.15 73.7508 Q1492.29 73.7508 1485.93 67.4314 Q1479.61 61.1119 1479.61 50.3365 Q1479.61 39.1965 1485.61 32.6746 Q1491.64 26.1121 1501.85 26.1121 Q1511.01 26.1121 1516.31 32.0264 Q1521.66 37.9003 1521.66 48.0275 M1514.21 45.84 Q1514.13 39.7232 1510.77 36.0774 Q1507.44 32.4315 1501.93 32.4315 Q1495.7 32.4315 1491.93 35.9558 Q1488.2 39.4801 1487.63 45.8805 L1514.21 45.84 Z\" fill=\"#000000\" fill-rule=\"evenodd\" fill-opacity=\"1\" /><path clip-path=\"url(#clip700)\" d=\"M1555.2 12.096 L1563.47 12.096 L1576.19 63.2184 L1588.87 12.096 L1598.06 12.096 L1610.78 63.2184 L1623.46 12.096 L1631.77 12.096 L1616.57 72.576 L1606.29 72.576 L1593.53 20.0763 L1580.64 72.576 L1570.35 72.576 L1555.2 12.096 Z\" fill=\"#000000\" fill-rule=\"evenodd\" fill-opacity=\"1\" /><path clip-path=\"url(#clip700)\" d=\"M1676.24 48.0275 L1676.24 51.6733 L1641.97 51.6733 Q1642.46 59.3701 1646.59 63.421 Q1650.76 67.4314 1658.18 67.4314 Q1662.47 67.4314 1666.48 66.3781 Q1670.53 65.3249 1674.5 63.2184 L1674.5 70.267 Q1670.49 71.9684 1666.28 72.8596 Q1662.07 73.7508 1657.73 73.7508 Q1646.88 73.7508 1640.52 67.4314 Q1634.2 61.1119 1634.2 50.3365 Q1634.2 39.1965 1640.19 32.6746 Q1646.23 26.1121 1656.44 26.1121 Q1665.59 26.1121 1670.9 32.0264 Q1676.24 37.9003 1676.24 48.0275 M1668.79 45.84 Q1668.71 39.7232 1665.35 36.0774 Q1662.03 32.4315 1656.52 32.4315 Q1650.28 32.4315 1646.51 35.9558 Q1642.78 39.4801 1642.22 45.8805 L1668.79 45.84 Z\" fill=\"#000000\" fill-rule=\"evenodd\" fill-opacity=\"1\" /><path clip-path=\"url(#clip700)\" d=\"M1709.1 49.7694 Q1700.06 49.7694 1696.58 51.8354 Q1693.1 53.9013 1693.1 58.8839 Q1693.1 62.8538 1695.69 65.2034 Q1698.32 67.5124 1702.82 67.5124 Q1709.02 67.5124 1712.74 63.1374 Q1716.51 58.7219 1716.51 51.4303 L1716.51 49.7694 L1709.1 49.7694 M1723.96 46.6907 L1723.96 72.576 L1716.51 72.576 L1716.51 65.6895 Q1713.96 69.8214 1710.15 71.8063 Q1706.34 73.7508 1700.83 73.7508 Q1693.87 73.7508 1689.73 69.8619 Q1685.64 65.9325 1685.64 59.3701 Q1685.64 51.7138 1690.75 47.825 Q1695.89 43.9361 1706.06 43.9361 L1716.51 43.9361 L1716.51 43.2069 Q1716.51 38.0623 1713.11 35.2672 Q1709.75 32.4315 1703.63 32.4315 Q1699.74 32.4315 1696.05 33.3632 Q1692.37 34.295 1688.96 36.1584 L1688.96 29.2718 Q1693.06 27.692 1696.9 26.9223 Q1700.75 26.1121 1704.4 26.1121 Q1714.24 26.1121 1719.1 31.2163 Q1723.96 36.3204 1723.96 46.6907 Z\" fill=\"#000000\" fill-rule=\"evenodd\" fill-opacity=\"1\" /><path clip-path=\"url(#clip700)\" d=\"M1739.32 9.54393 L1746.77 9.54393 L1746.77 72.576 L1739.32 72.576 L1739.32 9.54393 Z\" fill=\"#000000\" fill-rule=\"evenodd\" fill-opacity=\"1\" /><path clip-path=\"url(#clip700)\" d=\"M1769.74 14.324 L1769.74 27.2059 L1785.09 27.2059 L1785.09 32.9987 L1769.74 32.9987 L1769.74 57.6282 Q1769.74 63.1779 1771.24 64.7578 Q1772.78 66.3376 1777.44 66.3376 L1785.09 66.3376 L1785.09 72.576 L1777.44 72.576 Q1768.81 72.576 1765.53 69.3758 Q1762.25 66.1351 1762.25 57.6282 L1762.25 32.9987 L1756.78 32.9987 L1756.78 27.2059 L1762.25 27.2059 L1762.25 14.324 L1769.74 14.324 Z\" fill=\"#000000\" fill-rule=\"evenodd\" fill-opacity=\"1\" /><path clip-path=\"url(#clip700)\" d=\"M1832.61 45.1919 L1832.61 72.576 L1825.16 72.576 L1825.16 45.4349 Q1825.16 38.994 1822.64 35.7938 Q1820.13 32.5936 1815.11 32.5936 Q1809.07 32.5936 1805.59 36.4419 Q1802.11 40.2903 1802.11 46.9338 L1802.11 72.576 L1794.61 72.576 L1794.61 9.54393 L1802.11 9.54393 L1802.11 34.2544 Q1804.78 30.163 1808.38 28.1376 Q1812.03 26.1121 1816.77 26.1121 Q1824.59 26.1121 1828.6 30.9732 Q1832.61 35.7938 1832.61 45.1919 Z\" fill=\"#000000\" fill-rule=\"evenodd\" fill-opacity=\"1\" /><polyline clip-path=\"url(#clip702)\" style=\"stroke:#009af9; stroke-linecap:butt; stroke-linejoin:round; stroke-width:4; stroke-opacity:1; fill:none\" points=\"\n",
       "  456.34,1908.54 462.644,1891.33 468.947,1727.8 475.251,1779.35 494.162,1779.35 500.465,1734.08 506.769,1715.53 513.072,1698.35 519.376,1775.05 538.287,1809.43 \n",
       "  544.59,1826.6 550.894,1774.53 557.197,1807.51 563.501,1807.51 588.715,1834.47 595.019,1778.3 601.322,1762.14 607.626,1736.2 626.537,1708.34 632.84,1711.8 \n",
       "  639.144,1752.63 645.447,1712.73 651.751,1730.01 670.661,1722.17 676.965,1666 683.269,1685.68 689.572,1692.94 695.876,1656.66 714.786,1550.88 721.09,1551.23 \n",
       "  727.394,1504.8 733.697,1470.54 740.001,1469.43 758.911,1441.03 765.215,1438.81 771.518,1421.42 777.822,1400.27 784.126,1374.76 803.036,1411.11 809.34,1391.16 \n",
       "  815.643,1378.48 821.947,1377.41 828.251,1360.31 847.161,1355.38 853.465,1355.53 859.768,1358.25 866.072,1396.84 891.286,1408.56 897.59,1409.92 903.893,1402.08 \n",
       "  910.197,1421.93 916.5,1421.81 935.411,1410.01 941.715,1406.79 948.018,1423.06 954.322,1392.83 960.625,1369.09 979.536,1416.39 985.84,1411.98 992.143,1403.57 \n",
       "  998.447,1340 1004.75,1328.04 1023.66,1343.44 1029.96,1350.2 1036.27,1445.79 1042.57,1448.56 1048.88,1395.79 1067.79,1461.92 1074.09,1405.73 1080.39,1405.73 \n",
       "  1086.7,1452.31 1093,1554.41 1111.91,1554.41 1118.21,1386.29 1124.52,1386.29 1130.82,1350.36 1137.13,1350.36 1156.04,1408.34 1162.34,1416.75 1168.64,1474.37 \n",
       "  1174.95,1520.29 1181.25,1608.85 1200.16,1608.85 1206.46,1616.96 1212.77,1611.15 1219.07,1596.31 1225.38,1596.31 1250.59,1628.81 1256.89,1662.21 1263.2,1599.1 \n",
       "  1269.5,1567.05 1288.41,1666.59 1294.71,1721.46 1301.02,1689.15 1307.32,1701.26 1313.63,1631.81 1332.54,1631.81 1338.84,1631.81 1345.14,1554.31 1351.45,1552.29 \n",
       "  1357.75,1535.23 1376.66,1519.41 1382.96,1527.07 1389.27,1565.71 1395.57,1554.33 1401.87,1603.98 1420.79,1578.51 1427.09,1621.79 1433.39,1746.78 1439.7,1769.92 \n",
       "  1446,1787.22 1471.21,1808.83 1477.52,1808.83 1483.82,1725.98 1490.12,1712.29 1509.04,1704.55 1515.34,1720.98 1521.64,1696.03 1527.95,1675.44 1534.25,1684.43 \n",
       "  1553.16,1781.2 1559.46,1753.91 1565.77,1703.19 1572.07,1737.79 1578.37,1618.62 1597.29,1618.62 1603.59,1597.02 1609.89,1589.9 1616.2,1632.37 1622.5,1651.76 \n",
       "  1641.41,1654.6 1647.71,1588.56 1654.02,1616.95 1660.32,1614.04 1666.62,1633.57 1685.54,1624.82 1691.84,1603.14 1698.14,1617.06 1704.45,1721.22 1710.75,1724.04 \n",
       "  1729.66,1736.57 1735.96,1718.85 1742.27,1662.88 1748.57,1662.88 1754.87,1648.43 1773.79,1643 1780.09,1671.99 1786.39,1753.55 1792.7,1728.62 1799,1763.56 \n",
       "  1817.91,1707.39 1824.21,1714.22 1830.52,1714.22 1836.82,1632.57 1843.12,1594.33 1868.34,1537.74 1874.64,1588.15 1880.95,1526.05 1887.25,1553.08 1906.16,1550.23 \n",
       "  1912.46,1524.98 1918.77,1573.4 1925.07,1574.47 1931.37,1568.65 1950.29,1559.82 1956.59,1508.76 1962.89,1495.67 1969.2,1505.62 1975.5,1523.66 1994.41,1453.12 \n",
       "  2000.71,1464.3 2007.02,1459.13 2013.32,1416.73 2019.62,1437.12 2038.54,1435.06 2044.84,1469.62 2051.14,1379.11 2057.45,1389.56 2063.75,1392.99 2082.66,1370.21 \n",
       "  2088.96,1354.27 2095.27,1338.51 2101.57,1321.78 2107.87,1296.83 2126.78,1283.69 2133.09,1271.79 2139.39,1315.67 2145.7,1272.09 2152,1206.13 2170.91,1173.67 \n",
       "  2177.21,1164.02 2183.52,1113.55 2189.82,1118.74 2196.12,1099.99 2215.03,1106.79 2221.34,1105.54 2227.64,1064.07 2233.95,1061.37 2240.25,1023.67 2259.16,997.773 \n",
       "  2265.46,1011.45 2271.77,1041.89 2278.07,1012.27 2284.37,1036.99 2303.28,1102.72 2309.59,1070.76 2315.89,1104.19 2322.2,1087.62 2328.5,1081.89 2347.41,1081.89 \n",
       "  2353.71,1069.64 2360.02,1097.83 2372.62,1025.63 2391.53,1034.39 2397.84,1064.84 2404.14,1099.58 2410.45,1046.67 \n",
       "  \"/>\n",
       "<polyline clip-path=\"url(#clip702)\" style=\"stroke:#e26f46; stroke-linecap:butt; stroke-linejoin:round; stroke-width:4; stroke-opacity:1; fill:none\" points=\"\n",
       "  456.34,1908.54 462.644,1899.3 468.947,1899.3 475.251,1970.09 494.162,1970.09 500.465,1919.52 506.769,1897.49 513.072,1845.39 519.376,1845.39 538.287,1845.39 \n",
       "  544.59,1860.46 550.894,1781.74 557.197,1786.29 563.501,1786.29 588.715,1786.29 595.019,1707.32 601.322,1701.39 607.626,1680.55 626.537,1680.55 632.84,1693.59 \n",
       "  639.144,1721.43 645.447,1645.62 651.751,1664.29 670.661,1664.29 676.965,1664.29 683.269,1677.06 689.572,1638.19 695.876,1599.19 714.786,1498.92 721.09,1498.92 \n",
       "  727.394,1481.74 733.697,1436.86 740.001,1434.74 758.911,1383.08 765.215,1409.72 771.518,1388.37 777.822,1290.49 784.126,1275.15 803.036,1305.5 809.34,1216 \n",
       "  815.643,1121.82 821.947,1121.82 828.251,1095.58 847.161,1085.09 853.465,1085.09 859.768,1099.36 866.072,1189.56 891.286,1203 897.59,1114.11 903.893,1114.11 \n",
       "  910.197,1160.91 916.5,1176.84 935.411,1151.6 941.715,1119.49 948.018,1119.49 954.322,1037.24 960.625,927.043 979.536,1004.56 985.84,989.874 992.143,936.65 \n",
       "  998.447,811.496 1004.75,805.712 1023.66,805.712 1029.96,795.126 1036.27,1096.3 1042.57,1097.62 1048.88,1009.08 1067.79,1121.23 1074.09,1010.4 1080.39,1010.4 \n",
       "  1086.7,1062.65 1093,1192.66 1111.91,1192.66 1118.21,1036.29 1124.52,1036.29 1130.82,1036.29 1137.13,1036.29 1156.04,1036.29 1162.34,1031.75 1168.64,1031.75 \n",
       "  1174.95,1061.53 1181.25,1061.53 1200.16,1061.53 1206.46,1059.02 1212.77,1059.02 1219.07,1059.02 1225.38,1059.02 1250.59,1077.05 1256.89,1077.05 1263.2,1071.56 \n",
       "  1269.5,1071.56 1288.41,1206.01 1294.71,1261.55 1301.02,1261.55 1307.32,1270.81 1313.63,1237.43 1332.54,1237.43 1338.84,1237.43 1345.14,1165.24 1351.45,1155.65 \n",
       "  1357.75,1145.66 1376.66,1145.66 1382.96,1145.66 1389.27,1145.66 1395.57,1165.5 1401.87,1207.19 1420.79,1207.19 1427.09,1207.19 1433.39,1435.2 1439.7,1435.2 \n",
       "  1446,1435.2 1471.21,1465.19 1477.52,1465.19 1483.82,1465.19 1490.12,1465.19 1509.04,1465.19 1515.34,1465.19 1521.64,1465.19 1527.95,1451.47 1534.25,1468.88 \n",
       "  1553.16,1580.07 1559.46,1624.79 1565.77,1563.42 1572.07,1590.95 1578.37,1460.96 1597.29,1455.41 1603.59,1435.12 1609.89,1435.12 1616.2,1457.03 1622.5,1480.69 \n",
       "  1641.41,1490.56 1647.71,1398.16 1654.02,1408.78 1660.32,1392.67 1666.62,1377.71 1685.54,1404.58 1691.84,1386.65 1698.14,1417.92 1704.45,1557.54 1710.75,1557.54 \n",
       "  1729.66,1593.1 1735.96,1592.98 1742.27,1592.98 1748.57,1592.98 1754.87,1592.98 1773.79,1591.75 1780.09,1676.6 1786.39,1676.6 1792.7,1676.6 1799,1734.94 \n",
       "  1817.91,1659.36 1824.21,1659.36 1830.52,1659.36 1836.82,1659.36 1843.12,1659.36 1868.34,1588.57 1874.64,1588.57 1880.95,1541.61 1887.25,1571.51 1906.16,1581.81 \n",
       "  1912.46,1581.81 1918.77,1581.81 1925.07,1584.65 1931.37,1611.68 1950.29,1585.87 1956.59,1496.18 1962.89,1496.18 1969.2,1519.3 1975.5,1556.88 1994.41,1433.35 \n",
       "  2000.71,1447.33 2007.02,1447.33 2013.32,1433.4 2019.62,1552.04 2038.54,1552.04 2044.84,1537.99 2051.14,1370.07 2057.45,1336.69 2063.75,1336.69 2082.66,1261.81 \n",
       "  2088.96,1233.1 2095.27,1219.72 2101.57,1218.03 2107.87,1202.86 2126.78,1172.58 2133.09,1135.58 2139.39,1135.58 2145.7,1003.28 2152,971.211 2170.91,971.211 \n",
       "  2177.21,904.221 2183.52,904.221 2189.82,896.998 2196.12,880.007 2215.03,905.388 2221.34,893.443 2227.64,795.79 2233.95,753.947 2240.25,689.895 2259.16,591.232 \n",
       "  2265.46,597.365 2271.77,643.946 2278.07,599.757 2284.37,633.992 2303.28,800.793 2309.59,654.219 2315.89,708.657 2322.2,688.912 2328.5,585.647 2347.41,585.647 \n",
       "  2353.71,557.866 2360.02,571.464 2372.62,571.464 2391.53,571.464 2397.84,625.823 2404.14,625.823 2410.45,541.507 \n",
       "  \"/>\n",
       "<polyline clip-path=\"url(#clip702)\" style=\"stroke:#3da44d; stroke-linecap:butt; stroke-linejoin:round; stroke-width:4; stroke-opacity:1; fill:none\" points=\"\n",
       "  456.34,1908.54 462.644,1899.32 468.947,1612.67 475.251,1681.81 494.162,1681.81 500.465,1632.37 506.769,1610.93 513.072,1560.09 519.376,1623.6 538.287,1623.6 \n",
       "  544.59,1638.36 550.894,1560.5 557.197,1564.97 563.501,1564.97 588.715,1564.97 595.019,1487.54 601.322,1481.7 607.626,1461.1 626.537,1461.1 632.84,1473.93 \n",
       "  639.144,1501.27 645.447,1427.11 651.751,1445.38 670.661,1445.38 676.965,1398.37 683.269,1410.77 689.572,1372.6 695.876,1334.66 714.786,1236.73 721.09,1241.23 \n",
       "  727.394,1224.29 733.697,1180.28 740.001,1178.19 758.911,1127.48 765.215,1153.8 771.518,1132.83 777.822,1037.08 784.126,1022 803.036,1051.75 809.34,964.305 \n",
       "  815.643,871.76 821.947,888.574 828.251,862.713 847.161,852.435 853.465,838.393 859.768,852.425 866.072,940.832 891.286,954.1 897.59,866.853 903.893,839.024 \n",
       "  910.197,884.899 916.5,900.416 935.411,875.558 941.715,843.976 948.018,876.381 954.322,795.795 960.625,686.857 979.536,763.311 985.84,748.854 992.143,696.598 \n",
       "  998.447,574.185 1004.75,568.481 1023.66,568.481 1029.96,558.08 1036.27,855.803 1042.57,857.1 1048.88,770.269 1067.79,880.994 1074.09,771.587 1080.39,771.587 \n",
       "  1086.7,823.084 1093,950.371 1111.91,950.371 1118.21,796.521 1124.52,796.521 1130.82,796.521 1137.13,796.521 1156.04,796.521 1162.34,792.056 1168.64,792.056 \n",
       "  1174.95,821.236 1181.25,821.236 1200.16,821.236 1206.46,818.774 1212.77,818.774 1219.07,818.774 1225.38,818.774 1250.59,836.463 1256.89,836.463 1263.2,831.041 \n",
       "  1269.5,756.114 1288.41,887.964 1294.71,941.905 1301.02,941.905 1307.32,950.929 1313.63,918.307 1332.54,918.307 1338.84,918.307 1345.14,847.897 1351.45,838.55 \n",
       "  1357.75,828.808 1376.66,822.307 1382.96,822.307 1389.27,848.798 1395.57,868.265 1401.87,909.065 1420.79,930.717 1427.09,930.717 1433.39,1153.83 1439.7,1153.83 \n",
       "  1446,1153.83 1471.21,1183.39 1477.52,1183.39 1483.82,1183.39 1490.12,1149.36 1509.04,1131.27 1515.34,1131.27 1521.64,1131.27 1527.95,1117.88 1534.25,1134.77 \n",
       "  1553.16,1243.3 1559.46,1286.81 1565.77,1227.11 1572.07,1253.95 1578.37,1127.43 1597.29,1113.32 1603.59,1093.65 1609.89,1083.75 1616.2,1105.22 1622.5,1128.13 \n",
       "  1641.41,1137.74 1647.71,1047.84 1654.02,1058.16 1660.32,1019.51 1666.62,1004.98 1685.54,1031.03 1691.84,1013.58 1698.14,1043.9 1704.45,1179.17 1710.75,1241.24 \n",
       "  1729.66,1276.08 1735.96,1275.96 1742.27,1275.96 1748.57,1275.96 1754.87,1275.96 1773.79,1274.78 1780.09,1357.65 1786.39,1357.65 1792.7,1357.65 1799,1414.32 \n",
       "  1817.91,1340.69 1824.21,1340.69 1830.52,1340.69 1836.82,1340.68 1843.12,1336.43 1868.34,1267.68 1874.64,1267.68 1880.95,1222.05 1887.25,1251.08 1906.16,1261.14 \n",
       "  1912.46,1261.14 1918.77,1261.14 1925.07,1263.92 1931.37,1290.76 1950.29,1265.69 1956.59,1178.2 1962.89,1178.2 1969.2,1200.81 1975.5,1237.4 1994.41,1116.65 \n",
       "  2000.71,1130.27 2007.02,1175.49 2013.32,1161.91 2019.62,1278.1 2038.54,1276.01 2044.84,1262.27 2051.14,1098.36 2057.45,1065.51 2063.75,1065.51 2082.66,992.091 \n",
       "  2088.96,964.064 2095.27,951.036 2101.57,949.431 2107.87,934.653 2126.78,904.953 2133.09,868.655 2139.39,954.545 2145.7,824.345 2152,792.703 2170.91,776.161 \n",
       "  2177.21,710.127 2183.52,610.976 2189.82,603.905 2196.12,587.284 2215.03,612 2221.34,600.297 2227.64,505.381 2233.95,464.352 2240.25,401.253 2259.16,304.746 \n",
       "  2265.46,310.741 2271.77,356.517 2278.07,312.936 2284.37,346.262 2303.28,510.219 2309.59,366.031 2315.89,419.381 2322.2,400.061 2328.5,299.557 2347.41,299.557 \n",
       "  2353.71,272.461 2360.02,308.056 2372.62,201.224 2391.53,201.224 2397.84,254.268 2404.14,254.268 2410.45,172.364 \n",
       "  \"/>\n",
       "<polyline clip-path=\"url(#clip702)\" style=\"stroke:#c271d2; stroke-linecap:butt; stroke-linejoin:round; stroke-width:4; stroke-opacity:1; fill:none\" points=\"\n",
       "  456.34,1908.54 462.644,1892.41 468.947,1809.22 475.251,1818.41 494.162,1899.77 500.465,1856.82 506.769,1825.44 513.072,1802.36 519.376,1887.48 538.287,1909.79 \n",
       "  544.59,1902.82 550.894,1876.04 557.197,1903.77 563.501,1864.73 588.715,1880.78 595.019,1842.73 601.322,1817.32 607.626,1816.93 626.537,1813.33 632.84,1813.45 \n",
       "  639.144,1799.97 645.447,1777.61 651.751,1781.25 670.661,1782.92 676.965,1700.47 683.269,1714.57 689.572,1665.92 695.876,1646.32 714.786,1603.39 721.09,1616.42 \n",
       "  727.394,1623.65 733.697,1607.56 740.001,1600.79 758.911,1561.26 765.215,1554.88 771.518,1542.38 777.822,1483.46 784.126,1491.72 803.036,1527.91 809.34,1480.27 \n",
       "  815.643,1481.43 821.947,1481.58 828.251,1475.02 847.161,1472.81 853.465,1460.65 859.768,1483.5 866.072,1526.47 891.286,1524.1 897.59,1532.34 903.893,1526.75 \n",
       "  910.197,1548.19 916.5,1557.84 935.411,1548.93 941.715,1556.64 948.018,1569.97 954.322,1540.95 960.625,1525.34 979.536,1568.49 985.84,1564.09 992.143,1554.11 \n",
       "  998.447,1483.1 1004.75,1436.41 1023.66,1417.01 1029.96,1429.83 1036.27,1528.46 1042.57,1524.59 1048.88,1455.03 1067.79,1539.19 1074.09,1484.91 1080.39,1572.6 \n",
       "  1086.7,1601.34 1093,1699.32 1111.91,1791.64 1118.21,1613.84 1124.52,1601.53 1130.82,1559.69 1137.13,1587.51 1156.04,1620.95 1162.34,1617.97 1168.64,1631.8 \n",
       "  1174.95,1661.95 1181.25,1742.23 1200.16,1707.13 1206.46,1673.67 1212.77,1684.98 1219.07,1693.19 1225.38,1624.11 1250.59,1599.39 1256.89,1572.22 1263.2,1551.27 \n",
       "  1269.5,1556.91 1288.41,1605.81 1294.71,1640.72 1301.02,1652.07 1307.32,1695.57 1313.63,1642.89 1332.54,1622.21 1338.84,1616.99 1345.14,1580.39 1351.45,1530.76 \n",
       "  1357.75,1501.66 1376.66,1488.1 1382.96,1511.98 1389.27,1489.2 1395.57,1506.79 1401.87,1518.9 1420.79,1533.23 1427.09,1523.16 1433.39,1599.03 1439.7,1628.49 \n",
       "  1446,1648.14 1471.21,1658.19 1477.52,1647.09 1483.82,1582.08 1490.12,1585.61 1509.04,1576.28 1515.34,1590.39 1521.64,1624 1527.95,1618.19 1534.25,1626.15 \n",
       "  1553.16,1635.85 1559.46,1663.07 1565.77,1663.07 1572.07,1654.27 1578.37,1654.27 1597.29,1654.27 1603.59,1640.75 1609.89,1656.65 1616.2,1656.65 1622.5,1663.12 \n",
       "  1641.41,1655.96 1647.71,1628.81 1654.02,1644 1660.32,1627.89 1666.62,1628.78 1685.54,1636.54 1691.84,1625.17 1698.14,1639.81 1704.45,1701.75 1710.75,1730.39 \n",
       "  1729.66,1718.08 1735.96,1706.58 1742.27,1676.45 1748.57,1676.21 1754.87,1687.53 1773.79,1698.23 1780.09,1748.79 1786.39,1794.09 1792.7,1785.21 1799,1821.03 \n",
       "  1817.91,1773.02 1824.21,1788.49 1830.52,1772.37 1836.82,1688.01 1843.12,1677.97 1868.34,1637.47 1874.64,1647.15 1880.95,1619.02 1887.25,1621.67 1906.16,1605.18 \n",
       "  1912.46,1578.57 1918.77,1588.5 1925.07,1585.27 1931.37,1598.56 1950.29,1567.77 1956.59,1525.3 1962.89,1495.83 1969.2,1512.23 1975.5,1513.66 1994.41,1442.33 \n",
       "  2000.71,1446.24 2007.02,1448.07 2013.32,1438.79 2019.62,1482.88 2038.54,1490.88 2044.84,1521.65 2051.14,1467.72 2057.45,1473.23 2063.75,1468.34 2082.66,1438.92 \n",
       "  2088.96,1443.64 2095.27,1431.29 2101.57,1404.32 2107.87,1383.39 2126.78,1301.7 2133.09,1284.95 2139.39,1339.41 2145.7,1327.38 2152,1244.65 2170.91,1194.51 \n",
       "  2177.21,1199.76 2183.52,1152.64 2189.82,1121.94 2196.12,1101.66 2215.03,1099.02 2221.34,1129.93 2227.64,1074.43 2233.95,1064.29 2240.25,1043.44 2259.16,1001.32 \n",
       "  2265.46,992.557 2271.77,1027.16 2278.07,983.437 2284.37,994.593 2303.28,1061.19 2309.59,1032.4 2315.89,1084.4 2322.2,1062.38 2328.5,1068.93 2347.41,1073.3 \n",
       "  2353.71,1051.05 2360.02,1110.48 2372.62,1037.21 2391.53,1035.57 2397.84,1062.95 2404.14,1114.47 2410.45,1042.37 \n",
       "  \"/>\n",
       "<path clip-path=\"url(#clip700)\" d=\"\n",
       "M2574.24 441.152 L3552.76 441.152 L3552.76 181.952 L2574.24 181.952  Z\n",
       "  \" fill=\"#ffffff\" fill-rule=\"evenodd\" fill-opacity=\"1\"/>\n",
       "<polyline clip-path=\"url(#clip700)\" style=\"stroke:#000000; stroke-linecap:butt; stroke-linejoin:round; stroke-width:4; stroke-opacity:1; fill:none\" points=\"\n",
       "  2574.24,441.152 3552.76,441.152 3552.76,181.952 2574.24,181.952 2574.24,441.152 \n",
       "  \"/>\n",
       "<polyline clip-path=\"url(#clip700)\" style=\"stroke:#009af9; stroke-linecap:butt; stroke-linejoin:round; stroke-width:4; stroke-opacity:1; fill:none\" points=\"\n",
       "  2609.29,233.792 2819.63,233.792 \n",
       "  \"/>\n",
       "<path clip-path=\"url(#clip700)\" d=\"M2880.24 246.141 L2880.24 236.859 L2872.6 236.859 L2872.6 233.016 L2884.87 233.016 L2884.87 247.854 Q2882.16 249.775 2878.9 250.771 Q2875.63 251.743 2871.93 251.743 Q2863.83 251.743 2859.24 247.021 Q2854.68 242.275 2854.68 233.826 Q2854.68 225.354 2859.24 220.632 Q2863.83 215.887 2871.93 215.887 Q2875.31 215.887 2878.34 216.72 Q2881.4 217.553 2883.97 219.174 L2883.97 224.151 Q2881.37 221.952 2878.46 220.84 Q2875.54 219.729 2872.32 219.729 Q2865.98 219.729 2862.79 223.271 Q2859.61 226.813 2859.61 233.826 Q2859.61 240.817 2862.79 244.359 Q2865.98 247.9 2872.32 247.9 Q2874.8 247.9 2876.74 247.484 Q2878.69 247.044 2880.24 246.141 Z\" fill=\"#000000\" fill-rule=\"evenodd\" fill-opacity=\"1\" /><path clip-path=\"url(#clip700)\" d=\"M2898.09 220.354 L2898.09 233.34 L2903.97 233.34 Q2907.23 233.34 2909.01 231.651 Q2910.8 229.961 2910.8 226.836 Q2910.8 223.734 2909.01 222.044 Q2907.23 220.354 2903.97 220.354 L2898.09 220.354 M2893.41 216.512 L2903.97 216.512 Q2909.78 216.512 2912.74 219.151 Q2915.73 221.766 2915.73 226.836 Q2915.73 231.951 2912.74 234.567 Q2909.78 237.183 2903.97 237.183 L2898.09 237.183 L2898.09 251.072 L2893.41 251.072 L2893.41 216.512 Z\" fill=\"#000000\" fill-rule=\"evenodd\" fill-opacity=\"1\" /><path clip-path=\"url(#clip700)\" d=\"M2941.51 258.942 L2941.51 262.252 L2916.88 262.252 L2916.88 258.942 L2941.51 258.942 Z\" fill=\"#000000\" fill-rule=\"evenodd\" fill-opacity=\"1\" /><path clip-path=\"url(#clip700)\" d=\"M2965.7 230.123 Q2967.3 227.252 2969.52 225.887 Q2971.74 224.521 2974.75 224.521 Q2978.8 224.521 2981 227.368 Q2983.2 230.192 2983.2 235.424 L2983.2 251.072 L2978.92 251.072 L2978.92 235.563 Q2978.92 231.836 2977.6 230.03 Q2976.28 228.225 2973.57 228.225 Q2970.26 228.225 2968.34 230.424 Q2966.42 232.623 2966.42 236.419 L2966.42 251.072 L2962.14 251.072 L2962.14 235.563 Q2962.14 231.813 2960.82 230.03 Q2959.5 228.225 2956.74 228.225 Q2953.48 228.225 2951.56 230.447 Q2949.64 232.646 2949.64 236.419 L2949.64 251.072 L2945.36 251.072 L2945.36 225.146 L2949.64 225.146 L2949.64 229.174 Q2951.1 226.789 2953.13 225.655 Q2955.17 224.521 2957.97 224.521 Q2960.79 224.521 2962.76 225.956 Q2964.75 227.391 2965.7 230.123 Z\" fill=\"#000000\" fill-rule=\"evenodd\" fill-opacity=\"1\" /><path clip-path=\"url(#clip700)\" d=\"M3003.48 238.039 Q2998.32 238.039 2996.33 239.22 Q2994.34 240.4 2994.34 243.248 Q2994.34 245.516 2995.82 246.859 Q2997.32 248.178 2999.89 248.178 Q3003.43 248.178 3005.56 245.678 Q3007.72 243.155 3007.72 238.988 L3007.72 238.039 L3003.48 238.039 M3011.98 236.28 L3011.98 251.072 L3007.72 251.072 L3007.72 247.137 Q3006.26 249.498 3004.08 250.632 Q3001.91 251.743 2998.76 251.743 Q2994.78 251.743 2992.42 249.521 Q2990.08 247.275 2990.08 243.525 Q2990.08 239.15 2992.99 236.928 Q2995.93 234.706 3001.74 234.706 L3007.72 234.706 L3007.72 234.289 Q3007.72 231.35 3005.77 229.752 Q3003.85 228.132 3000.35 228.132 Q2998.13 228.132 2996.03 228.664 Q2993.92 229.197 2991.98 230.262 L2991.98 226.326 Q2994.31 225.424 2996.51 224.984 Q2998.71 224.521 3000.79 224.521 Q3006.42 224.521 3009.2 227.438 Q3011.98 230.354 3011.98 236.28 Z\" fill=\"#000000\" fill-rule=\"evenodd\" fill-opacity=\"1\" /><path clip-path=\"url(#clip700)\" d=\"M3035.77 229.127 Q3035.05 228.711 3034.2 228.526 Q3033.36 228.317 3032.35 228.317 Q3028.73 228.317 3026.79 230.678 Q3024.87 233.016 3024.87 237.414 L3024.87 251.072 L3020.59 251.072 L3020.59 225.146 L3024.87 225.146 L3024.87 229.174 Q3026.21 226.813 3028.36 225.678 Q3030.52 224.521 3033.6 224.521 Q3034.04 224.521 3034.57 224.59 Q3035.1 224.637 3035.75 224.752 L3035.77 229.127 Z\" fill=\"#000000\" fill-rule=\"evenodd\" fill-opacity=\"1\" /><path clip-path=\"url(#clip700)\" d=\"M3040.08 215.053 L3044.36 215.053 L3044.36 236.326 L3057.07 225.146 L3062.51 225.146 L3048.76 237.275 L3063.09 251.072 L3057.53 251.072 L3044.36 238.41 L3044.36 251.072 L3040.08 251.072 L3040.08 215.053 Z\" fill=\"#000000\" fill-rule=\"evenodd\" fill-opacity=\"1\" /><path clip-path=\"url(#clip700)\" d=\"M3076.05 228.132 Q3072.62 228.132 3070.63 230.817 Q3068.64 233.479 3068.64 238.132 Q3068.64 242.785 3070.61 245.47 Q3072.6 248.132 3076.05 248.132 Q3079.45 248.132 3081.44 245.447 Q3083.43 242.762 3083.43 238.132 Q3083.43 233.526 3081.44 230.84 Q3079.45 228.132 3076.05 228.132 M3076.05 224.521 Q3081.6 224.521 3084.78 228.132 Q3087.95 231.743 3087.95 238.132 Q3087.95 244.498 3084.78 248.132 Q3081.6 251.743 3076.05 251.743 Q3070.47 251.743 3067.3 248.132 Q3064.15 244.498 3064.15 238.132 Q3064.15 231.743 3067.3 228.132 Q3070.47 224.521 3076.05 224.521 Z\" fill=\"#000000\" fill-rule=\"evenodd\" fill-opacity=\"1\" /><path clip-path=\"url(#clip700)\" d=\"M3092.53 225.146 L3096.79 225.146 L3102.11 245.377 L3107.41 225.146 L3112.44 225.146 L3117.76 245.377 L3123.06 225.146 L3127.32 225.146 L3120.54 251.072 L3115.52 251.072 L3109.94 229.822 L3104.34 251.072 L3099.31 251.072 L3092.53 225.146 Z\" fill=\"#000000\" fill-rule=\"evenodd\" fill-opacity=\"1\" /><path clip-path=\"url(#clip700)\" d=\"M3133.78 225.146 L3138.04 225.146 L3138.04 251.072 L3133.78 251.072 L3133.78 225.146 M3133.78 215.053 L3138.04 215.053 L3138.04 220.447 L3133.78 220.447 L3133.78 215.053 Z\" fill=\"#000000\" fill-rule=\"evenodd\" fill-opacity=\"1\" /><path clip-path=\"url(#clip700)\" d=\"M3151.16 217.785 L3151.16 225.146 L3159.94 225.146 L3159.94 228.456 L3151.16 228.456 L3151.16 242.53 Q3151.16 245.701 3152.02 246.604 Q3152.9 247.507 3155.56 247.507 L3159.94 247.507 L3159.94 251.072 L3155.56 251.072 Q3150.63 251.072 3148.76 249.243 Q3146.88 247.391 3146.88 242.53 L3146.88 228.456 L3143.76 228.456 L3143.76 225.146 L3146.88 225.146 L3146.88 217.785 L3151.16 217.785 Z\" fill=\"#000000\" fill-rule=\"evenodd\" fill-opacity=\"1\" /><path clip-path=\"url(#clip700)\" d=\"M3163.69 225.146 L3183.92 225.146 L3183.92 229.035 L3167.9 247.669 L3183.92 247.669 L3183.92 251.072 L3163.11 251.072 L3163.11 247.183 L3179.13 228.549 L3163.69 228.549 L3163.69 225.146 Z\" fill=\"#000000\" fill-rule=\"evenodd\" fill-opacity=\"1\" /><path clip-path=\"url(#clip700)\" d=\"M3210.12 258.942 L3210.12 262.252 L3185.49 262.252 L3185.49 258.942 L3210.12 258.942 Z\" fill=\"#000000\" fill-rule=\"evenodd\" fill-opacity=\"1\" /><path clip-path=\"url(#clip700)\" d=\"M3214.13 215.053 L3218.39 215.053 L3218.39 251.072 L3214.13 251.072 L3214.13 215.053 Z\" fill=\"#000000\" fill-rule=\"evenodd\" fill-opacity=\"1\" /><path clip-path=\"url(#clip700)\" d=\"M3227.3 225.146 L3231.56 225.146 L3231.56 251.072 L3227.3 251.072 L3227.3 225.146 M3227.3 215.053 L3231.56 215.053 L3231.56 220.447 L3227.3 220.447 L3227.3 215.053 Z\" fill=\"#000000\" fill-rule=\"evenodd\" fill-opacity=\"1\" /><path clip-path=\"url(#clip700)\" d=\"M3260.65 230.123 Q3262.25 227.252 3264.47 225.887 Q3266.7 224.521 3269.71 224.521 Q3273.76 224.521 3275.96 227.368 Q3278.15 230.192 3278.15 235.424 L3278.15 251.072 L3273.87 251.072 L3273.87 235.563 Q3273.87 231.836 3272.55 230.03 Q3271.23 228.225 3268.52 228.225 Q3265.21 228.225 3263.29 230.424 Q3261.37 232.623 3261.37 236.419 L3261.37 251.072 L3257.09 251.072 L3257.09 235.563 Q3257.09 231.813 3255.77 230.03 Q3254.45 228.225 3251.7 228.225 Q3248.43 228.225 3246.51 230.447 Q3244.59 232.646 3244.59 236.419 L3244.59 251.072 L3240.31 251.072 L3240.31 225.146 L3244.59 225.146 L3244.59 229.174 Q3246.05 226.789 3248.09 225.655 Q3250.12 224.521 3252.92 224.521 Q3255.75 224.521 3257.71 225.956 Q3259.71 227.391 3260.65 230.123 Z\" fill=\"#000000\" fill-rule=\"evenodd\" fill-opacity=\"1\" /><path clip-path=\"url(#clip700)\" d=\"M3286.65 225.146 L3290.91 225.146 L3290.91 251.072 L3286.65 251.072 L3286.65 225.146 M3286.65 215.053 L3290.91 215.053 L3290.91 220.447 L3286.65 220.447 L3286.65 215.053 Z\" fill=\"#000000\" fill-rule=\"evenodd\" fill-opacity=\"1\" /><path clip-path=\"url(#clip700)\" d=\"M3304.03 217.785 L3304.03 225.146 L3312.81 225.146 L3312.81 228.456 L3304.03 228.456 L3304.03 242.53 Q3304.03 245.701 3304.89 246.604 Q3305.77 247.507 3308.43 247.507 L3312.81 247.507 L3312.81 251.072 L3308.43 251.072 Q3303.5 251.072 3301.63 249.243 Q3299.75 247.391 3299.75 242.53 L3299.75 228.456 L3296.63 228.456 L3296.63 225.146 L3299.75 225.146 L3299.75 217.785 L3304.03 217.785 Z\" fill=\"#000000\" fill-rule=\"evenodd\" fill-opacity=\"1\" /><path clip-path=\"url(#clip700)\" d=\"M3338.11 258.942 L3338.11 262.252 L3313.48 262.252 L3313.48 258.942 L3338.11 258.942 Z\" fill=\"#000000\" fill-rule=\"evenodd\" fill-opacity=\"1\" /><path clip-path=\"url(#clip700)\" d=\"M3339.06 225.146 L3343.57 225.146 L3351.67 246.905 L3359.77 225.146 L3364.29 225.146 L3354.57 251.072 L3348.78 251.072 L3339.06 225.146 Z\" fill=\"#000000\" fill-rule=\"evenodd\" fill-opacity=\"1\" /><path clip-path=\"url(#clip700)\" d=\"M3381.95 238.039 Q3376.79 238.039 3374.8 239.22 Q3372.81 240.4 3372.81 243.248 Q3372.81 245.516 3374.29 246.859 Q3375.79 248.178 3378.36 248.178 Q3381.9 248.178 3384.03 245.678 Q3386.19 243.155 3386.19 238.988 L3386.19 238.039 L3381.95 238.039 M3390.45 236.28 L3390.45 251.072 L3386.19 251.072 L3386.19 247.137 Q3384.73 249.498 3382.55 250.632 Q3380.38 251.743 3377.23 251.743 Q3373.25 251.743 3370.89 249.521 Q3368.55 247.275 3368.55 243.525 Q3368.55 239.15 3371.46 236.928 Q3374.4 234.706 3380.21 234.706 L3386.19 234.706 L3386.19 234.289 Q3386.19 231.35 3384.24 229.752 Q3382.32 228.132 3378.83 228.132 Q3376.6 228.132 3374.5 228.664 Q3372.39 229.197 3370.45 230.262 L3370.45 226.326 Q3372.78 225.424 3374.98 224.984 Q3377.18 224.521 3379.26 224.521 Q3384.89 224.521 3387.67 227.438 Q3390.45 230.354 3390.45 236.28 Z\" fill=\"#000000\" fill-rule=\"evenodd\" fill-opacity=\"1\" /><path clip-path=\"url(#clip700)\" d=\"M3414.24 229.127 Q3413.52 228.711 3412.67 228.526 Q3411.83 228.317 3410.82 228.317 Q3407.2 228.317 3405.26 230.678 Q3403.34 233.016 3403.34 237.414 L3403.34 251.072 L3399.06 251.072 L3399.06 225.146 L3403.34 225.146 L3403.34 229.174 Q3404.68 226.813 3406.83 225.678 Q3408.99 224.521 3412.07 224.521 Q3412.51 224.521 3413.04 224.59 Q3413.57 224.637 3414.22 224.752 L3414.24 229.127 Z\" fill=\"#000000\" fill-rule=\"evenodd\" fill-opacity=\"1\" /><polyline clip-path=\"url(#clip700)\" style=\"stroke:#e26f46; stroke-linecap:butt; stroke-linejoin:round; stroke-width:4; stroke-opacity:1; fill:none\" points=\"\n",
       "  2609.29,285.632 2819.63,285.632 \n",
       "  \"/>\n",
       "<path clip-path=\"url(#clip700)\" d=\"M2880.24 297.981 L2880.24 288.699 L2872.6 288.699 L2872.6 284.856 L2884.87 284.856 L2884.87 299.694 Q2882.16 301.615 2878.9 302.611 Q2875.63 303.583 2871.93 303.583 Q2863.83 303.583 2859.24 298.861 Q2854.68 294.115 2854.68 285.666 Q2854.68 277.194 2859.24 272.472 Q2863.83 267.727 2871.93 267.727 Q2875.31 267.727 2878.34 268.56 Q2881.4 269.393 2883.97 271.014 L2883.97 275.991 Q2881.37 273.792 2878.46 272.68 Q2875.54 271.569 2872.32 271.569 Q2865.98 271.569 2862.79 275.111 Q2859.61 278.653 2859.61 285.666 Q2859.61 292.657 2862.79 296.199 Q2865.98 299.74 2872.32 299.74 Q2874.8 299.74 2876.74 299.324 Q2878.69 298.884 2880.24 297.981 Z\" fill=\"#000000\" fill-rule=\"evenodd\" fill-opacity=\"1\" /><path clip-path=\"url(#clip700)\" d=\"M2898.09 272.194 L2898.09 285.18 L2903.97 285.18 Q2907.23 285.18 2909.01 283.491 Q2910.8 281.801 2910.8 278.676 Q2910.8 275.574 2909.01 273.884 Q2907.23 272.194 2903.97 272.194 L2898.09 272.194 M2893.41 268.352 L2903.97 268.352 Q2909.78 268.352 2912.74 270.991 Q2915.73 273.606 2915.73 278.676 Q2915.73 283.791 2912.74 286.407 Q2909.78 289.023 2903.97 289.023 L2898.09 289.023 L2898.09 302.912 L2893.41 302.912 L2893.41 268.352 Z\" fill=\"#000000\" fill-rule=\"evenodd\" fill-opacity=\"1\" /><path clip-path=\"url(#clip700)\" d=\"M2938.39 286.708 Q2939.89 287.217 2941.3 288.884 Q2942.74 290.551 2944.17 293.467 L2948.92 302.912 L2943.9 302.912 L2939.48 294.046 Q2937.76 290.574 2936.14 289.44 Q2934.55 288.305 2931.77 288.305 L2926.67 288.305 L2926.67 302.912 L2922 302.912 L2922 268.352 L2932.55 268.352 Q2938.48 268.352 2941.4 270.829 Q2944.31 273.305 2944.31 278.305 Q2944.31 281.569 2942.79 283.722 Q2941.28 285.875 2938.39 286.708 M2926.67 272.194 L2926.67 284.463 L2932.55 284.463 Q2935.93 284.463 2937.65 282.912 Q2939.38 281.338 2939.38 278.305 Q2939.38 275.273 2937.65 273.745 Q2935.93 272.194 2932.55 272.194 L2926.67 272.194 Z\" fill=\"#000000\" fill-rule=\"evenodd\" fill-opacity=\"1\" /><path clip-path=\"url(#clip700)\" d=\"M2954.94 268.352 L2961.23 268.352 L2976.56 297.264 L2976.56 268.352 L2981.1 268.352 L2981.1 302.912 L2974.8 302.912 L2959.48 274 L2959.48 302.912 L2954.94 302.912 L2954.94 268.352 Z\" fill=\"#000000\" fill-rule=\"evenodd\" fill-opacity=\"1\" /><path clip-path=\"url(#clip700)\" d=\"M3009.91 310.782 L3009.91 314.092 L2985.29 314.092 L2985.29 310.782 L3009.91 310.782 Z\" fill=\"#000000\" fill-rule=\"evenodd\" fill-opacity=\"1\" /><path clip-path=\"url(#clip700)\" d=\"M3030.98 280.921 L3030.98 266.893 L3035.24 266.893 L3035.24 302.912 L3030.98 302.912 L3030.98 299.023 Q3029.64 301.338 3027.58 302.472 Q3025.54 303.583 3022.67 303.583 Q3017.97 303.583 3015.01 299.833 Q3012.07 296.083 3012.07 289.972 Q3012.07 283.861 3015.01 280.111 Q3017.97 276.361 3022.67 276.361 Q3025.54 276.361 3027.58 277.495 Q3029.64 278.606 3030.98 280.921 M3016.47 289.972 Q3016.47 294.671 3018.39 297.356 Q3020.33 300.018 3023.71 300.018 Q3027.09 300.018 3029.04 297.356 Q3030.98 294.671 3030.98 289.972 Q3030.98 285.273 3029.04 282.611 Q3027.09 279.926 3023.71 279.926 Q3020.33 279.926 3018.39 282.611 Q3016.47 285.273 3016.47 289.972 Z\" fill=\"#000000\" fill-rule=\"evenodd\" fill-opacity=\"1\" /><path clip-path=\"url(#clip700)\" d=\"M3066.19 288.884 L3066.19 290.967 L3046.6 290.967 Q3046.88 295.365 3049.24 297.68 Q3051.63 299.972 3055.86 299.972 Q3058.32 299.972 3060.61 299.37 Q3062.92 298.768 3065.19 297.565 L3065.19 301.592 Q3062.9 302.564 3060.49 303.074 Q3058.09 303.583 3055.61 303.583 Q3049.41 303.583 3045.77 299.972 Q3042.16 296.361 3042.16 290.203 Q3042.16 283.838 3045.59 280.111 Q3049.04 276.361 3054.87 276.361 Q3060.1 276.361 3063.13 279.741 Q3066.19 283.097 3066.19 288.884 M3061.93 287.634 Q3061.88 284.139 3059.96 282.055 Q3058.06 279.972 3054.91 279.972 Q3051.35 279.972 3049.2 281.986 Q3047.07 284 3046.74 287.657 L3061.93 287.634 Z\" fill=\"#000000\" fill-rule=\"evenodd\" fill-opacity=\"1\" /><path clip-path=\"url(#clip700)\" d=\"M3073.18 266.893 L3077.44 266.893 L3077.44 302.912 L3073.18 302.912 L3073.18 266.893 Z\" fill=\"#000000\" fill-rule=\"evenodd\" fill-opacity=\"1\" /><path clip-path=\"url(#clip700)\" d=\"M3098.13 289.879 Q3092.97 289.879 3090.98 291.06 Q3088.99 292.24 3088.99 295.088 Q3088.99 297.356 3090.47 298.699 Q3091.97 300.018 3094.54 300.018 Q3098.09 300.018 3100.22 297.518 Q3102.37 294.995 3102.37 290.828 L3102.37 289.879 L3098.13 289.879 M3106.63 288.12 L3106.63 302.912 L3102.37 302.912 L3102.37 298.977 Q3100.91 301.338 3098.73 302.472 Q3096.56 303.583 3093.41 303.583 Q3089.43 303.583 3087.07 301.361 Q3084.73 299.115 3084.73 295.365 Q3084.73 290.99 3087.65 288.768 Q3090.59 286.546 3096.4 286.546 L3102.37 286.546 L3102.37 286.129 Q3102.37 283.19 3100.42 281.592 Q3098.5 279.972 3095.01 279.972 Q3092.78 279.972 3090.68 280.504 Q3088.57 281.037 3086.63 282.102 L3086.63 278.166 Q3088.97 277.264 3091.16 276.824 Q3093.36 276.361 3095.45 276.361 Q3101.07 276.361 3103.85 279.278 Q3106.63 282.194 3106.63 288.12 Z\" fill=\"#000000\" fill-rule=\"evenodd\" fill-opacity=\"1\" /><path clip-path=\"url(#clip700)\" d=\"M3132.46 289.648 Q3132.46 285.018 3130.54 282.472 Q3128.64 279.926 3125.19 279.926 Q3121.77 279.926 3119.84 282.472 Q3117.95 285.018 3117.95 289.648 Q3117.95 294.254 3119.84 296.801 Q3121.77 299.347 3125.19 299.347 Q3128.64 299.347 3130.54 296.801 Q3132.46 294.254 3132.46 289.648 M3136.72 299.694 Q3136.72 306.314 3133.78 309.532 Q3130.84 312.773 3124.78 312.773 Q3122.53 312.773 3120.54 312.426 Q3118.55 312.101 3116.67 311.407 L3116.67 307.264 Q3118.55 308.282 3120.38 308.768 Q3122.21 309.254 3124.1 309.254 Q3128.29 309.254 3130.38 307.055 Q3132.46 304.879 3132.46 300.458 L3132.46 298.352 Q3131.14 300.643 3129.08 301.777 Q3127.02 302.912 3124.15 302.912 Q3119.38 302.912 3116.47 299.277 Q3113.55 295.643 3113.55 289.648 Q3113.55 283.629 3116.47 279.995 Q3119.38 276.361 3124.15 276.361 Q3127.02 276.361 3129.08 277.495 Q3131.14 278.629 3132.46 280.921 L3132.46 276.986 L3136.72 276.986 L3136.72 299.694 Z\" fill=\"#000000\" fill-rule=\"evenodd\" fill-opacity=\"1\" /><path clip-path=\"url(#clip700)\" d=\"M3167.67 288.884 L3167.67 290.967 L3148.09 290.967 Q3148.36 295.365 3150.72 297.68 Q3153.11 299.972 3157.34 299.972 Q3159.8 299.972 3162.09 299.37 Q3164.4 298.768 3166.67 297.565 L3166.67 301.592 Q3164.38 302.564 3161.97 303.074 Q3159.57 303.583 3157.09 303.583 Q3150.89 303.583 3147.25 299.972 Q3143.64 296.361 3143.64 290.203 Q3143.64 283.838 3147.07 280.111 Q3150.52 276.361 3156.35 276.361 Q3161.58 276.361 3164.61 279.741 Q3167.67 283.097 3167.67 288.884 M3163.41 287.634 Q3163.36 284.139 3161.44 282.055 Q3159.54 279.972 3156.4 279.972 Q3152.83 279.972 3150.68 281.986 Q3148.55 284 3148.22 287.657 L3163.41 287.634 Z\" fill=\"#000000\" fill-rule=\"evenodd\" fill-opacity=\"1\" /><polyline clip-path=\"url(#clip700)\" style=\"stroke:#3da44d; stroke-linecap:butt; stroke-linejoin:round; stroke-width:4; stroke-opacity:1; fill:none\" points=\"\n",
       "  2609.29,337.472 2819.63,337.472 \n",
       "  \"/>\n",
       "<path clip-path=\"url(#clip700)\" d=\"M2880.24 349.821 L2880.24 340.539 L2872.6 340.539 L2872.6 336.696 L2884.87 336.696 L2884.87 351.534 Q2882.16 353.455 2878.9 354.451 Q2875.63 355.423 2871.93 355.423 Q2863.83 355.423 2859.24 350.701 Q2854.68 345.955 2854.68 337.506 Q2854.68 329.034 2859.24 324.312 Q2863.83 319.567 2871.93 319.567 Q2875.31 319.567 2878.34 320.4 Q2881.4 321.233 2883.97 322.854 L2883.97 327.831 Q2881.37 325.632 2878.46 324.52 Q2875.54 323.409 2872.32 323.409 Q2865.98 323.409 2862.79 326.951 Q2859.61 330.493 2859.61 337.506 Q2859.61 344.497 2862.79 348.039 Q2865.98 351.58 2872.32 351.58 Q2874.8 351.58 2876.74 351.164 Q2878.69 350.724 2880.24 349.821 Z\" fill=\"#000000\" fill-rule=\"evenodd\" fill-opacity=\"1\" /><path clip-path=\"url(#clip700)\" d=\"M2898.09 324.034 L2898.09 337.02 L2903.97 337.02 Q2907.23 337.02 2909.01 335.331 Q2910.8 333.641 2910.8 330.516 Q2910.8 327.414 2909.01 325.724 Q2907.23 324.034 2903.97 324.034 L2898.09 324.034 M2893.41 320.192 L2903.97 320.192 Q2909.78 320.192 2912.74 322.831 Q2915.73 325.446 2915.73 330.516 Q2915.73 335.631 2912.74 338.247 Q2909.78 340.863 2903.97 340.863 L2898.09 340.863 L2898.09 354.752 L2893.41 354.752 L2893.41 320.192 Z\" fill=\"#000000\" fill-rule=\"evenodd\" fill-opacity=\"1\" /><path clip-path=\"url(#clip700)\" d=\"M2938.39 338.548 Q2939.89 339.057 2941.3 340.724 Q2942.74 342.391 2944.17 345.307 L2948.92 354.752 L2943.9 354.752 L2939.48 345.886 Q2937.76 342.414 2936.14 341.28 Q2934.55 340.145 2931.77 340.145 L2926.67 340.145 L2926.67 354.752 L2922 354.752 L2922 320.192 L2932.55 320.192 Q2938.48 320.192 2941.4 322.669 Q2944.31 325.145 2944.31 330.145 Q2944.31 333.409 2942.79 335.562 Q2941.28 337.715 2938.39 338.548 M2926.67 324.034 L2926.67 336.303 L2932.55 336.303 Q2935.93 336.303 2937.65 334.752 Q2939.38 333.178 2939.38 330.145 Q2939.38 327.113 2937.65 325.585 Q2935.93 324.034 2932.55 324.034 L2926.67 324.034 Z\" fill=\"#000000\" fill-rule=\"evenodd\" fill-opacity=\"1\" /><path clip-path=\"url(#clip700)\" d=\"M2954.94 320.192 L2961.23 320.192 L2976.56 349.104 L2976.56 320.192 L2981.1 320.192 L2981.1 354.752 L2974.8 354.752 L2959.48 325.84 L2959.48 354.752 L2954.94 354.752 L2954.94 320.192 Z\" fill=\"#000000\" fill-rule=\"evenodd\" fill-opacity=\"1\" /><path clip-path=\"url(#clip700)\" d=\"M3009.91 362.622 L3009.91 365.932 L2985.29 365.932 L2985.29 362.622 L3009.91 362.622 Z\" fill=\"#000000\" fill-rule=\"evenodd\" fill-opacity=\"1\" /><path clip-path=\"url(#clip700)\" d=\"M3034.1 333.803 Q3035.7 330.932 3037.92 329.567 Q3040.15 328.201 3043.16 328.201 Q3047.21 328.201 3049.41 331.048 Q3051.6 333.872 3051.6 339.104 L3051.6 354.752 L3047.32 354.752 L3047.32 339.243 Q3047.32 335.516 3046 333.71 Q3044.68 331.905 3041.97 331.905 Q3038.66 331.905 3036.74 334.104 Q3034.82 336.303 3034.82 340.099 L3034.82 354.752 L3030.54 354.752 L3030.54 339.243 Q3030.54 335.493 3029.22 333.71 Q3027.9 331.905 3025.15 331.905 Q3021.88 331.905 3019.96 334.127 Q3018.04 336.326 3018.04 340.099 L3018.04 354.752 L3013.76 354.752 L3013.76 328.826 L3018.04 328.826 L3018.04 332.854 Q3019.5 330.469 3021.54 329.335 Q3023.57 328.201 3026.37 328.201 Q3029.2 328.201 3031.16 329.636 Q3033.16 331.071 3034.1 333.803 Z\" fill=\"#000000\" fill-rule=\"evenodd\" fill-opacity=\"1\" /><path clip-path=\"url(#clip700)\" d=\"M3071.88 341.719 Q3066.72 341.719 3064.73 342.9 Q3062.74 344.08 3062.74 346.928 Q3062.74 349.196 3064.22 350.539 Q3065.72 351.858 3068.29 351.858 Q3071.84 351.858 3073.97 349.358 Q3076.12 346.835 3076.12 342.668 L3076.12 341.719 L3071.88 341.719 M3080.38 339.96 L3080.38 354.752 L3076.12 354.752 L3076.12 350.817 Q3074.66 353.178 3072.48 354.312 Q3070.31 355.423 3067.16 355.423 Q3063.18 355.423 3060.82 353.201 Q3058.48 350.955 3058.48 347.205 Q3058.48 342.83 3061.4 340.608 Q3064.34 338.386 3070.15 338.386 L3076.12 338.386 L3076.12 337.969 Q3076.12 335.03 3074.17 333.432 Q3072.25 331.812 3068.76 331.812 Q3066.54 331.812 3064.43 332.344 Q3062.32 332.877 3060.38 333.942 L3060.38 330.006 Q3062.72 329.104 3064.91 328.664 Q3067.11 328.201 3069.2 328.201 Q3074.82 328.201 3077.6 331.118 Q3080.38 334.034 3080.38 339.96 Z\" fill=\"#000000\" fill-rule=\"evenodd\" fill-opacity=\"1\" /><path clip-path=\"url(#clip700)\" d=\"M3104.17 332.807 Q3103.46 332.391 3102.6 332.206 Q3101.77 331.997 3100.75 331.997 Q3097.14 331.997 3095.19 334.358 Q3093.27 336.696 3093.27 341.094 L3093.27 354.752 L3088.99 354.752 L3088.99 328.826 L3093.27 328.826 L3093.27 332.854 Q3094.61 330.493 3096.77 329.358 Q3098.92 328.201 3102 328.201 Q3102.44 328.201 3102.97 328.27 Q3103.5 328.317 3104.15 328.432 L3104.17 332.807 Z\" fill=\"#000000\" fill-rule=\"evenodd\" fill-opacity=\"1\" /><path clip-path=\"url(#clip700)\" d=\"M3108.48 318.733 L3112.76 318.733 L3112.76 340.006 L3125.47 328.826 L3130.91 328.826 L3117.16 340.955 L3131.49 354.752 L3125.93 354.752 L3112.76 342.09 L3112.76 354.752 L3108.48 354.752 L3108.48 318.733 Z\" fill=\"#000000\" fill-rule=\"evenodd\" fill-opacity=\"1\" /><path clip-path=\"url(#clip700)\" d=\"M3144.45 331.812 Q3141.03 331.812 3139.03 334.497 Q3137.04 337.159 3137.04 341.812 Q3137.04 346.465 3139.01 349.15 Q3141 351.812 3144.45 351.812 Q3147.85 351.812 3149.84 349.127 Q3151.84 346.442 3151.84 341.812 Q3151.84 337.206 3149.84 334.52 Q3147.85 331.812 3144.45 331.812 M3144.45 328.201 Q3150.01 328.201 3153.18 331.812 Q3156.35 335.423 3156.35 341.812 Q3156.35 348.178 3153.18 351.812 Q3150.01 355.423 3144.45 355.423 Q3138.87 355.423 3135.7 351.812 Q3132.55 348.178 3132.55 341.812 Q3132.55 335.423 3135.7 331.812 Q3138.87 328.201 3144.45 328.201 Z\" fill=\"#000000\" fill-rule=\"evenodd\" fill-opacity=\"1\" /><path clip-path=\"url(#clip700)\" d=\"M3160.93 328.826 L3165.19 328.826 L3170.52 349.057 L3175.82 328.826 L3180.84 328.826 L3186.16 349.057 L3191.46 328.826 L3195.72 328.826 L3188.94 354.752 L3183.92 354.752 L3178.34 333.502 L3172.74 354.752 L3167.72 354.752 L3160.93 328.826 Z\" fill=\"#000000\" fill-rule=\"evenodd\" fill-opacity=\"1\" /><path clip-path=\"url(#clip700)\" d=\"M3202.18 328.826 L3206.44 328.826 L3206.44 354.752 L3202.18 354.752 L3202.18 328.826 M3202.18 318.733 L3206.44 318.733 L3206.44 324.127 L3202.18 324.127 L3202.18 318.733 Z\" fill=\"#000000\" fill-rule=\"evenodd\" fill-opacity=\"1\" /><path clip-path=\"url(#clip700)\" d=\"M3219.57 321.465 L3219.57 328.826 L3228.34 328.826 L3228.34 332.136 L3219.57 332.136 L3219.57 346.21 Q3219.57 349.381 3220.42 350.284 Q3221.3 351.187 3223.96 351.187 L3228.34 351.187 L3228.34 354.752 L3223.96 354.752 Q3219.03 354.752 3217.16 352.923 Q3215.28 351.071 3215.28 346.21 L3215.28 332.136 L3212.16 332.136 L3212.16 328.826 L3215.28 328.826 L3215.28 321.465 L3219.57 321.465 Z\" fill=\"#000000\" fill-rule=\"evenodd\" fill-opacity=\"1\" /><path clip-path=\"url(#clip700)\" d=\"M3232.09 328.826 L3252.32 328.826 L3252.32 332.715 L3236.3 351.349 L3252.32 351.349 L3252.32 354.752 L3231.51 354.752 L3231.51 350.863 L3247.53 332.229 L3232.09 332.229 L3232.09 328.826 Z\" fill=\"#000000\" fill-rule=\"evenodd\" fill-opacity=\"1\" /><path clip-path=\"url(#clip700)\" d=\"M3278.52 362.622 L3278.52 365.932 L3253.9 365.932 L3253.9 362.622 L3278.52 362.622 Z\" fill=\"#000000\" fill-rule=\"evenodd\" fill-opacity=\"1\" /><path clip-path=\"url(#clip700)\" d=\"M3282.53 318.733 L3286.79 318.733 L3286.79 354.752 L3282.53 354.752 L3282.53 318.733 Z\" fill=\"#000000\" fill-rule=\"evenodd\" fill-opacity=\"1\" /><path clip-path=\"url(#clip700)\" d=\"M3295.7 328.826 L3299.96 328.826 L3299.96 354.752 L3295.7 354.752 L3295.7 328.826 M3295.7 318.733 L3299.96 318.733 L3299.96 324.127 L3295.7 324.127 L3295.7 318.733 Z\" fill=\"#000000\" fill-rule=\"evenodd\" fill-opacity=\"1\" /><path clip-path=\"url(#clip700)\" d=\"M3329.06 333.803 Q3330.65 330.932 3332.88 329.567 Q3335.1 328.201 3338.11 328.201 Q3342.16 328.201 3344.36 331.048 Q3346.56 333.872 3346.56 339.104 L3346.56 354.752 L3342.27 354.752 L3342.27 339.243 Q3342.27 335.516 3340.95 333.71 Q3339.64 331.905 3336.93 331.905 Q3333.62 331.905 3331.7 334.104 Q3329.77 336.303 3329.77 340.099 L3329.77 354.752 L3325.49 354.752 L3325.49 339.243 Q3325.49 335.493 3324.17 333.71 Q3322.85 331.905 3320.1 331.905 Q3316.83 331.905 3314.91 334.127 Q3312.99 336.326 3312.99 340.099 L3312.99 354.752 L3308.71 354.752 L3308.71 328.826 L3312.99 328.826 L3312.99 332.854 Q3314.45 330.469 3316.49 329.335 Q3318.52 328.201 3321.33 328.201 Q3324.15 328.201 3326.12 329.636 Q3328.11 331.071 3329.06 333.803 Z\" fill=\"#000000\" fill-rule=\"evenodd\" fill-opacity=\"1\" /><path clip-path=\"url(#clip700)\" d=\"M3355.05 328.826 L3359.31 328.826 L3359.31 354.752 L3355.05 354.752 L3355.05 328.826 M3355.05 318.733 L3359.31 318.733 L3359.31 324.127 L3355.05 324.127 L3355.05 318.733 Z\" fill=\"#000000\" fill-rule=\"evenodd\" fill-opacity=\"1\" /><path clip-path=\"url(#clip700)\" d=\"M3372.44 321.465 L3372.44 328.826 L3381.21 328.826 L3381.21 332.136 L3372.44 332.136 L3372.44 346.21 Q3372.44 349.381 3373.29 350.284 Q3374.17 351.187 3376.83 351.187 L3381.21 351.187 L3381.21 354.752 L3376.83 354.752 Q3371.9 354.752 3370.03 352.923 Q3368.15 351.071 3368.15 346.21 L3368.15 332.136 L3365.03 332.136 L3365.03 328.826 L3368.15 328.826 L3368.15 321.465 L3372.44 321.465 Z\" fill=\"#000000\" fill-rule=\"evenodd\" fill-opacity=\"1\" /><path clip-path=\"url(#clip700)\" d=\"M3406.51 362.622 L3406.51 365.932 L3381.88 365.932 L3381.88 362.622 L3406.51 362.622 Z\" fill=\"#000000\" fill-rule=\"evenodd\" fill-opacity=\"1\" /><path clip-path=\"url(#clip700)\" d=\"M3407.46 328.826 L3411.97 328.826 L3420.07 350.585 L3428.18 328.826 L3432.69 328.826 L3422.97 354.752 L3417.18 354.752 L3407.46 328.826 Z\" fill=\"#000000\" fill-rule=\"evenodd\" fill-opacity=\"1\" /><path clip-path=\"url(#clip700)\" d=\"M3450.35 341.719 Q3445.19 341.719 3443.2 342.9 Q3441.21 344.08 3441.21 346.928 Q3441.21 349.196 3442.69 350.539 Q3444.2 351.858 3446.76 351.858 Q3450.31 351.858 3452.44 349.358 Q3454.59 346.835 3454.59 342.668 L3454.59 341.719 L3450.35 341.719 M3458.85 339.96 L3458.85 354.752 L3454.59 354.752 L3454.59 350.817 Q3453.13 353.178 3450.95 354.312 Q3448.78 355.423 3445.63 355.423 Q3441.65 355.423 3439.29 353.201 Q3436.95 350.955 3436.95 347.205 Q3436.95 342.83 3439.87 340.608 Q3442.81 338.386 3448.62 338.386 L3454.59 338.386 L3454.59 337.969 Q3454.59 335.03 3452.64 333.432 Q3450.72 331.812 3447.23 331.812 Q3445.01 331.812 3442.9 332.344 Q3440.79 332.877 3438.85 333.942 L3438.85 330.006 Q3441.19 329.104 3443.38 328.664 Q3445.58 328.201 3447.67 328.201 Q3453.29 328.201 3456.07 331.118 Q3458.85 334.034 3458.85 339.96 Z\" fill=\"#000000\" fill-rule=\"evenodd\" fill-opacity=\"1\" /><path clip-path=\"url(#clip700)\" d=\"M3482.64 332.807 Q3481.93 332.391 3481.07 332.206 Q3480.24 331.997 3479.22 331.997 Q3475.61 331.997 3473.66 334.358 Q3471.74 336.696 3471.74 341.094 L3471.74 354.752 L3467.46 354.752 L3467.46 328.826 L3471.74 328.826 L3471.74 332.854 Q3473.08 330.493 3475.24 329.358 Q3477.39 328.201 3480.47 328.201 Q3480.91 328.201 3481.44 328.27 Q3481.97 328.317 3482.62 328.432 L3482.64 332.807 Z\" fill=\"#000000\" fill-rule=\"evenodd\" fill-opacity=\"1\" /><polyline clip-path=\"url(#clip700)\" style=\"stroke:#c271d2; stroke-linecap:butt; stroke-linejoin:round; stroke-width:4; stroke-opacity:1; fill:none\" points=\"\n",
       "  2609.29,389.312 2819.63,389.312 \n",
       "  \"/>\n",
       "<path clip-path=\"url(#clip700)\" d=\"M2854.68 372.032 L2876.54 372.032 L2876.54 375.967 L2859.36 375.967 L2859.36 386.198 L2875.82 386.198 L2875.82 390.133 L2859.36 390.133 L2859.36 402.657 L2876.95 402.657 L2876.95 406.592 L2854.68 406.592 L2854.68 372.032 Z\" fill=\"#000000\" fill-rule=\"evenodd\" fill-opacity=\"1\" /><path clip-path=\"url(#clip700)\" d=\"M2889.31 375.874 L2889.31 388.86 L2895.19 388.86 Q2898.46 388.86 2900.24 387.171 Q2902.02 385.481 2902.02 382.356 Q2902.02 379.254 2900.24 377.564 Q2898.46 375.874 2895.19 375.874 L2889.31 375.874 M2884.64 372.032 L2895.19 372.032 Q2901 372.032 2903.97 374.671 Q2906.95 377.286 2906.95 382.356 Q2906.95 387.471 2903.97 390.087 Q2901 392.703 2895.19 392.703 L2889.31 392.703 L2889.31 406.592 L2884.64 406.592 L2884.64 372.032 Z\" fill=\"#000000\" fill-rule=\"evenodd\" fill-opacity=\"1\" /><path clip-path=\"url(#clip700)\" d=\"M2932.74 414.462 L2932.74 417.772 L2908.11 417.772 L2908.11 414.462 L2932.74 414.462 Z\" fill=\"#000000\" fill-rule=\"evenodd\" fill-opacity=\"1\" /><path clip-path=\"url(#clip700)\" d=\"M2956.93 385.643 Q2958.53 382.772 2960.75 381.407 Q2962.97 380.041 2965.98 380.041 Q2970.03 380.041 2972.23 382.888 Q2974.43 385.712 2974.43 390.944 L2974.43 406.592 L2970.15 406.592 L2970.15 391.083 Q2970.15 387.356 2968.83 385.55 Q2967.51 383.745 2964.8 383.745 Q2961.49 383.745 2959.57 385.944 Q2957.65 388.143 2957.65 391.939 L2957.65 406.592 L2953.36 406.592 L2953.36 391.083 Q2953.36 387.333 2952.04 385.55 Q2950.73 383.745 2947.97 383.745 Q2944.71 383.745 2942.79 385.967 Q2940.86 388.166 2940.86 391.939 L2940.86 406.592 L2936.58 406.592 L2936.58 380.666 L2940.86 380.666 L2940.86 384.694 Q2942.32 382.309 2944.36 381.175 Q2946.4 380.041 2949.2 380.041 Q2952.02 380.041 2953.99 381.476 Q2955.98 382.911 2956.93 385.643 Z\" fill=\"#000000\" fill-rule=\"evenodd\" fill-opacity=\"1\" /><path clip-path=\"url(#clip700)\" d=\"M2994.71 393.559 Q2989.54 393.559 2987.55 394.74 Q2985.56 395.92 2985.56 398.768 Q2985.56 401.036 2987.04 402.379 Q2988.55 403.698 2991.12 403.698 Q2994.66 403.698 2996.79 401.198 Q2998.94 398.675 2998.94 394.508 L2998.94 393.559 L2994.71 393.559 M3003.2 391.8 L3003.2 406.592 L2998.94 406.592 L2998.94 402.657 Q2997.48 405.018 2995.31 406.152 Q2993.13 407.263 2989.98 407.263 Q2986 407.263 2983.64 405.041 Q2981.3 402.795 2981.3 399.045 Q2981.3 394.67 2984.22 392.448 Q2987.16 390.226 2992.97 390.226 L2998.94 390.226 L2998.94 389.809 Q2998.94 386.87 2997 385.272 Q2995.08 383.652 2991.58 383.652 Q2989.36 383.652 2987.25 384.184 Q2985.15 384.717 2983.2 385.782 L2983.2 381.846 Q2985.54 380.944 2987.74 380.504 Q2989.94 380.041 2992.02 380.041 Q2997.65 380.041 3000.42 382.958 Q3003.2 385.874 3003.2 391.8 Z\" fill=\"#000000\" fill-rule=\"evenodd\" fill-opacity=\"1\" /><path clip-path=\"url(#clip700)\" d=\"M3027 384.647 Q3026.28 384.231 3025.42 384.046 Q3024.59 383.837 3023.57 383.837 Q3019.96 383.837 3018.02 386.198 Q3016.1 388.536 3016.1 392.934 L3016.1 406.592 L3011.81 406.592 L3011.81 380.666 L3016.1 380.666 L3016.1 384.694 Q3017.44 382.333 3019.59 381.198 Q3021.74 380.041 3024.82 380.041 Q3025.26 380.041 3025.79 380.11 Q3026.33 380.157 3026.98 380.272 L3027 384.647 Z\" fill=\"#000000\" fill-rule=\"evenodd\" fill-opacity=\"1\" /><path clip-path=\"url(#clip700)\" d=\"M3031.3 370.573 L3035.59 370.573 L3035.59 391.846 L3048.29 380.666 L3053.73 380.666 L3039.98 392.795 L3054.31 406.592 L3048.76 406.592 L3035.59 393.93 L3035.59 406.592 L3031.3 406.592 L3031.3 370.573 Z\" fill=\"#000000\" fill-rule=\"evenodd\" fill-opacity=\"1\" /><path clip-path=\"url(#clip700)\" d=\"M3067.28 383.652 Q3063.85 383.652 3061.86 386.337 Q3059.87 388.999 3059.87 393.652 Q3059.87 398.305 3061.84 400.99 Q3063.83 403.652 3067.28 403.652 Q3070.68 403.652 3072.67 400.967 Q3074.66 398.282 3074.66 393.652 Q3074.66 389.046 3072.67 386.36 Q3070.68 383.652 3067.28 383.652 M3067.28 380.041 Q3072.83 380.041 3076 383.652 Q3079.17 387.263 3079.17 393.652 Q3079.17 400.018 3076 403.652 Q3072.83 407.263 3067.28 407.263 Q3061.7 407.263 3058.53 403.652 Q3055.38 400.018 3055.38 393.652 Q3055.38 387.263 3058.53 383.652 Q3061.7 380.041 3067.28 380.041 Z\" fill=\"#000000\" fill-rule=\"evenodd\" fill-opacity=\"1\" /><path clip-path=\"url(#clip700)\" d=\"M3083.76 380.666 L3088.02 380.666 L3093.34 400.897 L3098.64 380.666 L3103.66 380.666 L3108.99 400.897 L3114.29 380.666 L3118.55 380.666 L3111.77 406.592 L3106.74 406.592 L3101.16 385.342 L3095.56 406.592 L3090.54 406.592 L3083.76 380.666 Z\" fill=\"#000000\" fill-rule=\"evenodd\" fill-opacity=\"1\" /><path clip-path=\"url(#clip700)\" d=\"M3125.01 380.666 L3129.27 380.666 L3129.27 406.592 L3125.01 406.592 L3125.01 380.666 M3125.01 370.573 L3129.27 370.573 L3129.27 375.967 L3125.01 375.967 L3125.01 370.573 Z\" fill=\"#000000\" fill-rule=\"evenodd\" fill-opacity=\"1\" /><path clip-path=\"url(#clip700)\" d=\"M3142.39 373.305 L3142.39 380.666 L3151.16 380.666 L3151.16 383.976 L3142.39 383.976 L3142.39 398.05 Q3142.39 401.221 3143.25 402.124 Q3144.13 403.027 3146.79 403.027 L3151.16 403.027 L3151.16 406.592 L3146.79 406.592 Q3141.86 406.592 3139.98 404.763 Q3138.11 402.911 3138.11 398.05 L3138.11 383.976 L3134.98 383.976 L3134.98 380.666 L3138.11 380.666 L3138.11 373.305 L3142.39 373.305 Z\" fill=\"#000000\" fill-rule=\"evenodd\" fill-opacity=\"1\" /><path clip-path=\"url(#clip700)\" d=\"M3154.91 380.666 L3175.15 380.666 L3175.15 384.555 L3159.13 403.189 L3175.15 403.189 L3175.15 406.592 L3154.34 406.592 L3154.34 402.703 L3170.35 384.069 L3154.91 384.069 L3154.91 380.666 Z\" fill=\"#000000\" fill-rule=\"evenodd\" fill-opacity=\"1\" /><path clip-path=\"url(#clip700)\" d=\"M3201.35 414.462 L3201.35 417.772 L3176.72 417.772 L3176.72 414.462 L3201.35 414.462 Z\" fill=\"#000000\" fill-rule=\"evenodd\" fill-opacity=\"1\" /><path clip-path=\"url(#clip700)\" d=\"M3205.35 370.573 L3209.61 370.573 L3209.61 406.592 L3205.35 406.592 L3205.35 370.573 Z\" fill=\"#000000\" fill-rule=\"evenodd\" fill-opacity=\"1\" /><path clip-path=\"url(#clip700)\" d=\"M3218.52 380.666 L3222.78 380.666 L3222.78 406.592 L3218.52 406.592 L3218.52 380.666 M3218.52 370.573 L3222.78 370.573 L3222.78 375.967 L3218.52 375.967 L3218.52 370.573 Z\" fill=\"#000000\" fill-rule=\"evenodd\" fill-opacity=\"1\" /><path clip-path=\"url(#clip700)\" d=\"M3251.88 385.643 Q3253.48 382.772 3255.7 381.407 Q3257.92 380.041 3260.93 380.041 Q3264.98 380.041 3267.18 382.888 Q3269.38 385.712 3269.38 390.944 L3269.38 406.592 L3265.1 406.592 L3265.1 391.083 Q3265.1 387.356 3263.78 385.55 Q3262.46 383.745 3259.75 383.745 Q3256.44 383.745 3254.52 385.944 Q3252.6 388.143 3252.6 391.939 L3252.6 406.592 L3248.32 406.592 L3248.32 391.083 Q3248.32 387.333 3247 385.55 Q3245.68 383.745 3242.92 383.745 Q3239.66 383.745 3237.74 385.967 Q3235.82 388.166 3235.82 391.939 L3235.82 406.592 L3231.53 406.592 L3231.53 380.666 L3235.82 380.666 L3235.82 384.694 Q3237.27 382.309 3239.31 381.175 Q3241.35 380.041 3244.15 380.041 Q3246.97 380.041 3248.94 381.476 Q3250.93 382.911 3251.88 385.643 Z\" fill=\"#000000\" fill-rule=\"evenodd\" fill-opacity=\"1\" /><path clip-path=\"url(#clip700)\" d=\"M3277.88 380.666 L3282.14 380.666 L3282.14 406.592 L3277.88 406.592 L3277.88 380.666 M3277.88 370.573 L3282.14 370.573 L3282.14 375.967 L3277.88 375.967 L3277.88 370.573 Z\" fill=\"#000000\" fill-rule=\"evenodd\" fill-opacity=\"1\" /><path clip-path=\"url(#clip700)\" d=\"M3295.26 373.305 L3295.26 380.666 L3304.03 380.666 L3304.03 383.976 L3295.26 383.976 L3295.26 398.05 Q3295.26 401.221 3296.12 402.124 Q3297 403.027 3299.66 403.027 L3304.03 403.027 L3304.03 406.592 L3299.66 406.592 Q3294.73 406.592 3292.85 404.763 Q3290.98 402.911 3290.98 398.05 L3290.98 383.976 L3287.85 383.976 L3287.85 380.666 L3290.98 380.666 L3290.98 373.305 L3295.26 373.305 Z\" fill=\"#000000\" fill-rule=\"evenodd\" fill-opacity=\"1\" /><path clip-path=\"url(#clip700)\" d=\"M3329.33 414.462 L3329.33 417.772 L3304.71 417.772 L3304.71 414.462 L3329.33 414.462 Z\" fill=\"#000000\" fill-rule=\"evenodd\" fill-opacity=\"1\" /><path clip-path=\"url(#clip700)\" d=\"M3330.28 380.666 L3334.8 380.666 L3342.9 402.425 L3351 380.666 L3355.51 380.666 L3345.79 406.592 L3340.01 406.592 L3330.28 380.666 Z\" fill=\"#000000\" fill-rule=\"evenodd\" fill-opacity=\"1\" /><path clip-path=\"url(#clip700)\" d=\"M3373.18 393.559 Q3368.01 393.559 3366.02 394.74 Q3364.03 395.92 3364.03 398.768 Q3364.03 401.036 3365.51 402.379 Q3367.02 403.698 3369.59 403.698 Q3373.13 403.698 3375.26 401.198 Q3377.41 398.675 3377.41 394.508 L3377.41 393.559 L3373.18 393.559 M3381.67 391.8 L3381.67 406.592 L3377.41 406.592 L3377.41 402.657 Q3375.95 405.018 3373.78 406.152 Q3371.6 407.263 3368.45 407.263 Q3364.47 407.263 3362.11 405.041 Q3359.77 402.795 3359.77 399.045 Q3359.77 394.67 3362.69 392.448 Q3365.63 390.226 3371.44 390.226 L3377.41 390.226 L3377.41 389.809 Q3377.41 386.87 3375.47 385.272 Q3373.55 383.652 3370.05 383.652 Q3367.83 383.652 3365.72 384.184 Q3363.62 384.717 3361.67 385.782 L3361.67 381.846 Q3364.01 380.944 3366.21 380.504 Q3368.41 380.041 3370.49 380.041 Q3376.12 380.041 3378.89 382.958 Q3381.67 385.874 3381.67 391.8 Z\" fill=\"#000000\" fill-rule=\"evenodd\" fill-opacity=\"1\" /><path clip-path=\"url(#clip700)\" d=\"M3405.47 384.647 Q3404.75 384.231 3403.89 384.046 Q3403.06 383.837 3402.04 383.837 Q3398.43 383.837 3396.49 386.198 Q3394.57 388.536 3394.57 392.934 L3394.57 406.592 L3390.28 406.592 L3390.28 380.666 L3394.57 380.666 L3394.57 384.694 Q3395.91 382.333 3398.06 381.198 Q3400.21 380.041 3403.29 380.041 Q3403.73 380.041 3404.26 380.11 Q3404.8 380.157 3405.45 380.272 L3405.47 384.647 Z\" fill=\"#000000\" fill-rule=\"evenodd\" fill-opacity=\"1\" /></svg>\n"
      ]
     },
     "metadata": {},
     "output_type": "display_data"
    }
   ],
   "source": [
    "plt = plot(;title=\"Culmulative Wealth\",\n",
    "    xlabel=\"Time\",\n",
    "    ylabel=\"Wealth\",\n",
    "    legend=:outertopright,\n",
    "    left_margin=10mm,\n",
    "    size=(900, 550)\n",
    ");\n",
    "for (strategy_name, recorders) in backtest_results\n",
    "    plot!(plt,\n",
    "        axes(get_records(recorders[:wealth]), 1), get_records(recorders[:wealth]).data;\n",
    "        label=strategy_name,\n",
    "    )\n",
    "end\n",
    "plt"
   ]
  },
  {
   "cell_type": "code",
   "execution_count": null,
   "id": "1855d04e",
   "metadata": {},
   "outputs": [],
   "source": []
  }
 ],
 "metadata": {
  "kernelspec": {
   "display_name": "Julia 1.7.1",
   "language": "julia",
   "name": "julia-1.7"
  },
  "language_info": {
   "file_extension": ".jl",
   "mimetype": "application/julia",
   "name": "julia",
   "version": "1.7.1"
  }
 },
 "nbformat": 4,
 "nbformat_minor": 5
}
